{
 "cells": [
  {
   "cell_type": "markdown",
   "metadata": {
    "application/vnd.databricks.v1+cell": {
     "cellMetadata": {},
     "inputWidgets": {},
     "nuid": "e005826d-64b6-4477-b178-c813e0b2d55c",
     "showTitle": false,
     "title": ""
    }
   },
   "source": [
    "# Data collection\n",
    "Gather public SPP Weis data from https://marketplace.spp.org/groups/operational-data-weis"
   ]
  },
  {
   "cell_type": "code",
   "execution_count": null,
   "metadata": {
    "application/vnd.databricks.v1+cell": {
     "cellMetadata": {},
     "inputWidgets": {},
     "nuid": "df5551bb-0a53-4444-bf14-944fffd5c483",
     "showTitle": false,
     "title": ""
    }
   },
   "outputs": [],
   "source": [
    "import os\n",
    "import pandas as pd\n",
    "import duckdb\n",
    "\n",
    "import requests\n",
    "from io import StringIO\n",
    "\n",
    "import ibis\n",
    "import ibis.selectors as s\n",
    "ibis.options.interactive = True\n",
    "\n",
    "# logging\n",
    "import logging"
   ]
  },
  {
   "cell_type": "code",
   "execution_count": null,
   "metadata": {
    "application/vnd.databricks.v1+cell": {
     "cellMetadata": {},
     "inputWidgets": {},
     "nuid": "ce89d405-764e-4aed-9a64-194fab501d24",
     "showTitle": false,
     "title": ""
    }
   },
   "outputs": [],
   "source": [
    "# define log\n",
    "logging.basicConfig(level=logging.INFO)\n",
    "log = logging.getLogger(__name__)\n"
   ]
  },
  {
   "cell_type": "code",
   "execution_count": null,
   "metadata": {
    "application/vnd.databricks.v1+cell": {
     "cellMetadata": {},
     "inputWidgets": {},
     "nuid": "803efb49-e9f0-462b-bc79-bbfebe9b96ef",
     "showTitle": false,
     "title": ""
    }
   },
   "outputs": [],
   "source": [
    "os.chdir('../..')"
   ]
  },
  {
   "cell_type": "code",
   "execution_count": null,
   "metadata": {
    "application/vnd.databricks.v1+cell": {
     "cellMetadata": {},
     "inputWidgets": {},
     "nuid": "b01e41f9-e369-48fb-b9c0-117bf57955e6",
     "showTitle": false,
     "title": ""
    }
   },
   "outputs": [],
   "source": [
    "import src.data_collection as dc"
   ]
  },
  {
   "cell_type": "code",
   "execution_count": null,
   "metadata": {
    "application/vnd.databricks.v1+cell": {
     "cellMetadata": {},
     "inputWidgets": {},
     "nuid": "30ea8b44-669a-4ec7-819e-b5c6edec1006",
     "showTitle": false,
     "title": ""
    }
   },
   "outputs": [],
   "source": []
  },
  {
   "cell_type": "markdown",
   "metadata": {
    "application/vnd.databricks.v1+cell": {
     "cellMetadata": {},
     "inputWidgets": {},
     "nuid": "263d6ae4-9d93-440c-8e89-b45658ce9c87",
     "showTitle": false,
     "title": ""
    }
   },
   "source": [
    "## Mid Term Load Forecast\n",
    "\n",
    "![_](../../imgs/mtlf.PNG)"
   ]
  },
  {
   "cell_type": "markdown",
   "metadata": {
    "application/vnd.databricks.v1+cell": {
     "cellMetadata": {},
     "inputWidgets": {},
     "nuid": "5a399aa2-e000-47c9-887e-100383c75dd8",
     "showTitle": false,
     "title": ""
    }
   },
   "source": [
    "HOUR = {0000, ..., 2300}\n",
    "DAY = {01, ..., 31}"
   ]
  },
  {
   "cell_type": "code",
   "execution_count": null,
   "metadata": {
    "application/vnd.databricks.v1+cell": {
     "cellMetadata": {},
     "inputWidgets": {},
     "nuid": "efec6e81-a9b9-4720-beff-5c82e53bc414",
     "showTitle": false,
     "title": ""
    }
   },
   "outputs": [],
   "source": [
    "# weis time are in central time\n",
    "pd.to_datetime(\"4/1/2023 07:00:00\").tz_localize(\"America/Chicago\")"
   ]
  },
  {
   "cell_type": "code",
   "execution_count": null,
   "metadata": {
    "application/vnd.databricks.v1+cell": {
     "cellMetadata": {},
     "inputWidgets": {},
     "nuid": "1bc60024-a6f6-46c8-8fe7-91b6f35b2846",
     "showTitle": false,
     "title": ""
    }
   },
   "outputs": [],
   "source": [
    "dc.get_time_components('4/1/2023 07:30')"
   ]
  },
  {
   "cell_type": "code",
   "execution_count": null,
   "metadata": {
    "application/vnd.databricks.v1+cell": {
     "cellMetadata": {},
     "inputWidgets": {},
     "nuid": "1bd615d9-632e-4cde-95a5-4b0b050e4a8a",
     "showTitle": false,
     "title": ""
    }
   },
   "outputs": [],
   "source": [
    "dc.get_time_components('4/1/2023 07:30', five_min_ceil=True)"
   ]
  },
  {
   "cell_type": "code",
   "execution_count": null,
   "metadata": {
    "application/vnd.databricks.v1+cell": {
     "cellMetadata": {},
     "inputWidgets": {},
     "nuid": "f09fdc2c-0f6d-43e9-84fc-7add78ec377e",
     "showTitle": false,
     "title": ""
    }
   },
   "outputs": [],
   "source": [
    "tc = dc.get_time_components(five_min_ceil=True)\n",
    "tc"
   ]
  },
  {
   "cell_type": "code",
   "execution_count": null,
   "metadata": {
    "application/vnd.databricks.v1+cell": {
     "cellMetadata": {},
     "inputWidgets": {},
     "nuid": "3e8b92cf-d394-4a7c-83b7-c2054e7b82f7",
     "showTitle": false,
     "title": ""
    }
   },
   "outputs": [],
   "source": [
    "tc = dc.get_time_components(five_min_ceil=False)\n",
    "tc"
   ]
  },
  {
   "cell_type": "code",
   "execution_count": null,
   "metadata": {
    "application/vnd.databricks.v1+cell": {
     "cellMetadata": {},
     "inputWidgets": {},
     "nuid": "ae06f65c-c152-4b64-8afd-ece11b969bf6",
     "showTitle": false,
     "title": ""
    }
   },
   "outputs": [],
   "source": [
    "tc = dc.get_time_components('6/7/2023 08:00:00')"
   ]
  },
  {
   "cell_type": "code",
   "execution_count": null,
   "metadata": {
    "application/vnd.databricks.v1+cell": {
     "cellMetadata": {},
     "inputWidgets": {},
     "nuid": "c35614ec-4136-4de0-bbc2-03737f289422",
     "showTitle": false,
     "title": ""
    }
   },
   "outputs": [],
   "source": [
    "mtlf_url = dc.get_hourly_mtlf_url(tc)\n",
    "mtlf_url"
   ]
  },
  {
   "cell_type": "code",
   "execution_count": null,
   "metadata": {
    "application/vnd.databricks.v1+cell": {
     "cellMetadata": {},
     "inputWidgets": {},
     "nuid": "f9dc9dc5-e1bc-484a-8b73-87a4b61545bb",
     "showTitle": false,
     "title": ""
    }
   },
   "outputs": [],
   "source": [
    "# test error handling\n",
    "df = dc.get_csv_from_url(mtlf_url+'bad_url')\n",
    "df"
   ]
  },
  {
   "cell_type": "code",
   "execution_count": null,
   "metadata": {
    "application/vnd.databricks.v1+cell": {
     "cellMetadata": {},
     "inputWidgets": {},
     "nuid": "113ac96e-30dd-4ee8-9e77-4798e555257e",
     "showTitle": false,
     "title": ""
    }
   },
   "outputs": [],
   "source": [
    "# test error handling\n",
    "df = dc.get_csv_from_url('a'+mtlf_url)\n",
    "df"
   ]
  },
  {
   "cell_type": "code",
   "execution_count": null,
   "metadata": {
    "application/vnd.databricks.v1+cell": {
     "cellMetadata": {},
     "inputWidgets": {},
     "nuid": "cb1dcf50-27e1-4940-b601-3cff559fbeef",
     "showTitle": false,
     "title": ""
    }
   },
   "outputs": [],
   "source": [
    "# test success\n",
    "df = dc.get_csv_from_url(mtlf_url)\n",
    "df"
   ]
  },
  {
   "cell_type": "code",
   "execution_count": null,
   "metadata": {
    "application/vnd.databricks.v1+cell": {
     "cellMetadata": {},
     "inputWidgets": {},
     "nuid": "2e76d0e8-2b09-4bb5-b763-ab3f496597cd",
     "showTitle": false,
     "title": ""
    }
   },
   "outputs": [],
   "source": [
    "# test getting and processing\n",
    "dc.get_process_mtlf(tc)"
   ]
  },
  {
   "cell_type": "code",
   "execution_count": null,
   "metadata": {
    "application/vnd.databricks.v1+cell": {
     "cellMetadata": {},
     "inputWidgets": {},
     "nuid": "a32069d2-e897-4f1e-b7e4-4fad43d39854",
     "showTitle": false,
     "title": ""
    }
   },
   "outputs": [],
   "source": [
    "# test getting data from a range of timestamps\n",
    "end_ts = (\n",
    "    pd.Timestamp.utcnow().tz_convert(\"America/Chicago\").tz_localize(None) - \n",
    "    pd.Timedelta('2D')\n",
    ").tz_localize(None)\n",
    "\n",
    "range_df = dc.get_range_data_mtlf(end_ts=end_ts,  n_periods=3)\n",
    "\n",
    "range_df"
   ]
  },
  {
   "cell_type": "code",
   "execution_count": null,
   "metadata": {},
   "outputs": [],
   "source": [
    "range_df.info()"
   ]
  },
  {
   "cell_type": "code",
   "execution_count": null,
   "metadata": {},
   "outputs": [],
   "source": [
    "range_df.to_parquet('data/mtlf.parquet')"
   ]
  },
  {
   "cell_type": "code",
   "execution_count": null,
   "metadata": {},
   "outputs": [],
   "source": [
    "end_ts = pd.Timestamp.utcnow().tz_convert(\"America/Chicago\").tz_localize(None)\n",
    "new_range_df = dc.get_range_data_mtlf(end_ts=end_ts,  n_periods=3)\n",
    "new_range_df.to_parquet('data/mtlf_temp.parquet')"
   ]
  },
  {
   "cell_type": "code",
   "execution_count": null,
   "metadata": {},
   "outputs": [],
   "source": []
  },
  {
   "cell_type": "code",
   "execution_count": null,
   "metadata": {},
   "outputs": [],
   "source": [
    "con = ibis.duckdb.connect(\"data/spp.ddb\")\n",
    "if 'mtlf' in con.list_tables():\n",
    "    con.drop_table('mtlf')"
   ]
  },
  {
   "cell_type": "code",
   "execution_count": null,
   "metadata": {},
   "outputs": [],
   "source": [
    "dc.upsert_mtlf(range_df)"
   ]
  },
  {
   "cell_type": "code",
   "execution_count": null,
   "metadata": {},
   "outputs": [],
   "source": [
    "dc.upsert_mtlf(new_range_df)"
   ]
  },
  {
   "cell_type": "code",
   "execution_count": null,
   "metadata": {},
   "outputs": [],
   "source": [
    "dc.upsert_mtlf(new_range_df)"
   ]
  },
  {
   "cell_type": "code",
   "execution_count": null,
   "metadata": {},
   "outputs": [],
   "source": []
  },
  {
   "cell_type": "code",
   "execution_count": null,
   "metadata": {},
   "outputs": [],
   "source": [
    "# reconnect to drop temp tables\n",
    "con = ibis.duckdb.connect(\"data/spp.ddb\")\n",
    "con.list_tables()"
   ]
  },
  {
   "cell_type": "code",
   "execution_count": null,
   "metadata": {},
   "outputs": [],
   "source": []
  },
  {
   "cell_type": "code",
   "execution_count": null,
   "metadata": {
    "application/vnd.databricks.v1+cell": {
     "cellMetadata": {},
     "inputWidgets": {},
     "nuid": "a1bc3ace-c159-4cf4-a437-2321ce3f0fa0",
     "showTitle": false,
     "title": ""
    }
   },
   "outputs": [],
   "source": [
    "# test collecting and upserting\n",
    "# this function does it all and can easily \n",
    "# be used in an automated job\n",
    "dc.collect_upsert_mtlf(n_periods=20)"
   ]
  },
  {
   "cell_type": "code",
   "execution_count": null,
   "metadata": {
    "application/vnd.databricks.v1+cell": {
     "cellMetadata": {},
     "inputWidgets": {},
     "nuid": "8f354330-507f-4d4d-9679-bc728ae4c03c",
     "showTitle": false,
     "title": ""
    }
   },
   "outputs": [],
   "source": [
    "con.table('mtlf').to_pandas().sort_values('GMTIntervalEnd')"
   ]
  },
  {
   "cell_type": "code",
   "execution_count": null,
   "metadata": {},
   "outputs": [],
   "source": []
  },
  {
   "cell_type": "markdown",
   "metadata": {
    "application/vnd.databricks.v1+cell": {
     "cellMetadata": {},
     "inputWidgets": {},
     "nuid": "55aeda8d-3802-406e-a73a-897fcf98b287",
     "showTitle": false,
     "title": ""
    }
   },
   "source": [
    "## Mid Term Resource Forecast\n",
    "\n",
    "![_](../../imgs/mtrf.PNG)"
   ]
  },
  {
   "cell_type": "code",
   "execution_count": null,
   "metadata": {
    "application/vnd.databricks.v1+cell": {
     "cellMetadata": {},
     "inputWidgets": {},
     "nuid": "b4146578-fa96-43f0-bd62-e5093350fd95",
     "showTitle": false,
     "title": ""
    }
   },
   "outputs": [],
   "source": [
    "tc = dc.get_time_components('6/7/2023 08:00:00')\n",
    "tc"
   ]
  },
  {
   "cell_type": "code",
   "execution_count": null,
   "metadata": {
    "application/vnd.databricks.v1+cell": {
     "cellMetadata": {},
     "inputWidgets": {},
     "nuid": "f6cc66db-a133-4083-8852-f37216dbc8af",
     "showTitle": false,
     "title": ""
    }
   },
   "outputs": [],
   "source": [
    "mtrf_url = dc.get_hourly_mtrf_url(tc)\n",
    "mtrf_url"
   ]
  },
  {
   "cell_type": "code",
   "execution_count": null,
   "metadata": {
    "application/vnd.databricks.v1+cell": {
     "cellMetadata": {},
     "inputWidgets": {},
     "nuid": "f6ab4724-44ab-4cb1-9433-c69fb974157c",
     "showTitle": false,
     "title": ""
    }
   },
   "outputs": [],
   "source": [
    "df = dc.get_csv_from_url(mtrf_url)\n",
    "df"
   ]
  },
  {
   "cell_type": "code",
   "execution_count": null,
   "metadata": {
    "application/vnd.databricks.v1+cell": {
     "cellMetadata": {},
     "inputWidgets": {},
     "nuid": "4bb106fc-99b1-40d7-a190-df0ad2add995",
     "showTitle": false,
     "title": ""
    }
   },
   "outputs": [],
   "source": [
    "# single file\n",
    "tc = dc.get_time_components('6/7/2023 08:00:00')\n",
    "dc.get_process_mtrf(tc)"
   ]
  },
  {
   "cell_type": "code",
   "execution_count": null,
   "metadata": {
    "application/vnd.databricks.v1+cell": {
     "cellMetadata": {},
     "inputWidgets": {},
     "nuid": "061e1247-8b40-48dc-9f51-dcd5c23298c8",
     "showTitle": false,
     "title": ""
    }
   },
   "outputs": [],
   "source": [
    "# test getting data from a range of timestamps\n",
    "end_ts = pd.Timestamp.utcnow().tz_convert(\"America/Chicago\").tz_localize(None)\n",
    "range_df = dc.get_range_data_mtrf(end_ts=end_ts,  n_periods=3)\n",
    "\n",
    "range_df"
   ]
  },
  {
   "cell_type": "code",
   "execution_count": null,
   "metadata": {
    "application/vnd.databricks.v1+cell": {
     "cellMetadata": {},
     "inputWidgets": {},
     "nuid": "da7a49a1-9b88-4deb-8a79-146576c7fd3d",
     "showTitle": false,
     "title": ""
    }
   },
   "outputs": [],
   "source": [
    "# test collecting and upserting\n",
    "# this function does it all and can easily \n",
    "# be used in an automated job\n",
    "dc.collect_upsert_mtrf(n_periods=20)"
   ]
  },
  {
   "cell_type": "code",
   "execution_count": null,
   "metadata": {
    "application/vnd.databricks.v1+cell": {
     "cellMetadata": {},
     "inputWidgets": {},
     "nuid": "59334633-bf5e-420c-aecb-795f76bf8fad",
     "showTitle": false,
     "title": ""
    }
   },
   "outputs": [],
   "source": []
  },
  {
   "cell_type": "markdown",
   "metadata": {
    "application/vnd.databricks.v1+cell": {
     "cellMetadata": {},
     "inputWidgets": {},
     "nuid": "117128de-18a0-4cb8-8a5d-751949b6bac5",
     "showTitle": false,
     "title": ""
    }
   },
   "source": [
    "## LMP settlement location prices\n",
    "\n",
    "![_](../../imgs/lmp_settlement_location.PNG)"
   ]
  },
  {
   "cell_type": "code",
   "execution_count": null,
   "metadata": {
    "application/vnd.databricks.v1+cell": {
     "cellMetadata": {},
     "inputWidgets": {},
     "nuid": "ee47c7c3-efec-4186-83d9-a155bd17fe85",
     "showTitle": false,
     "title": ""
    }
   },
   "outputs": [],
   "source": [
    "time_str = str(pd.Timestamp.now())\n",
    "time_str"
   ]
  },
  {
   "cell_type": "code",
   "execution_count": null,
   "metadata": {
    "application/vnd.databricks.v1+cell": {
     "cellMetadata": {},
     "inputWidgets": {},
     "nuid": "36246ab2-9eed-4985-ba7d-4d55a391a378",
     "showTitle": false,
     "title": ""
    }
   },
   "outputs": [],
   "source": [
    "dc.get_time_components(time_str)"
   ]
  },
  {
   "cell_type": "code",
   "execution_count": null,
   "metadata": {
    "application/vnd.databricks.v1+cell": {
     "cellMetadata": {},
     "inputWidgets": {},
     "nuid": "d12bb799-e27c-448c-907a-46ac356bf11b",
     "showTitle": false,
     "title": ""
    }
   },
   "outputs": [],
   "source": [
    "time_str_list = [str(dt) for dt in pd.date_range(end=pd.Timestamp.now(), periods=8, freq='H')]\n",
    "time_str_list"
   ]
  },
  {
   "cell_type": "code",
   "execution_count": null,
   "metadata": {
    "application/vnd.databricks.v1+cell": {
     "cellMetadata": {},
     "inputWidgets": {},
     "nuid": "b56da7cf-c4b0-41d2-b793-4743e4f51546",
     "showTitle": false,
     "title": ""
    }
   },
   "outputs": [],
   "source": [
    "tc = dc.get_time_components('6/8/2023 08:21:00', five_min_ceil=True)\n",
    "tc"
   ]
  },
  {
   "cell_type": "code",
   "execution_count": null,
   "metadata": {
    "application/vnd.databricks.v1+cell": {
     "cellMetadata": {},
     "inputWidgets": {},
     "nuid": "9297da5a-19a8-4a22-9041-c95c4aaee341",
     "showTitle": false,
     "title": ""
    }
   },
   "outputs": [],
   "source": [
    "lmp_url = dc.get_5min_lmp_url(tc)\n",
    "lmp_url"
   ]
  },
  {
   "cell_type": "code",
   "execution_count": null,
   "metadata": {
    "application/vnd.databricks.v1+cell": {
     "cellMetadata": {},
     "inputWidgets": {},
     "nuid": "4b3151c7-2bca-44e9-ac4c-5acce7abed06",
     "showTitle": false,
     "title": ""
    }
   },
   "outputs": [],
   "source": [
    "lmp = dc.get_csv_from_url(lmp_url)\n",
    "lmp"
   ]
  },
  {
   "cell_type": "code",
   "execution_count": null,
   "metadata": {
    "application/vnd.databricks.v1+cell": {
     "cellMetadata": {},
     "inputWidgets": {},
     "nuid": "3da82cda-2a20-42f1-812d-b55c01f112e4",
     "showTitle": false,
     "title": ""
    }
   },
   "outputs": [],
   "source": [
    "# single file\n",
    "# tc = dc.get_time_components('6/7/2023 08:00:00')\n",
    "# dc.get_process_5min_lmp(tc)"
   ]
  },
  {
   "cell_type": "code",
   "execution_count": null,
   "metadata": {
    "application/vnd.databricks.v1+cell": {
     "cellMetadata": {},
     "inputWidgets": {},
     "nuid": "aa2f8080-80f2-4e09-88b0-95237f0b8447",
     "showTitle": false,
     "title": ""
    }
   },
   "outputs": [],
   "source": [
    "tc = dc.get_time_components('6/8/2023 08:21:00', five_min_ceil=True)\n",
    "tc"
   ]
  },
  {
   "cell_type": "code",
   "execution_count": null,
   "metadata": {
    "application/vnd.databricks.v1+cell": {
     "cellMetadata": {},
     "inputWidgets": {},
     "nuid": "fd2cf360-b3bd-4c1d-a10b-172f25eb9300",
     "showTitle": false,
     "title": ""
    }
   },
   "outputs": [],
   "source": [
    "df_lmp = dc.get_process_5min_lmp(tc)\n",
    "df_lmp"
   ]
  },
  {
   "cell_type": "code",
   "execution_count": null,
   "metadata": {
    "application/vnd.databricks.v1+cell": {
     "cellMetadata": {},
     "inputWidgets": {},
     "nuid": "3f7bd90a-ca00-4318-8dac-e048613123f0",
     "showTitle": false,
     "title": ""
    }
   },
   "outputs": [],
   "source": [
    "# multiple interval files\n",
    "end_ts = pd.Timestamp.now()# + pd.Timedelta('1H')\n",
    "end_ts"
   ]
  },
  {
   "cell_type": "code",
   "execution_count": null,
   "metadata": {
    "application/vnd.databricks.v1+cell": {
     "cellMetadata": {},
     "inputWidgets": {},
     "nuid": "248ebd3d-6e6b-4a11-85bd-2c2fa41c9b52",
     "showTitle": false,
     "title": ""
    }
   },
   "outputs": [],
   "source": [
    "df_lmp = dc.get_range_data_interval_5min_lmps(end_ts, n_periods=8)"
   ]
  },
  {
   "cell_type": "code",
   "execution_count": null,
   "metadata": {
    "application/vnd.databricks.v1+cell": {
     "cellMetadata": {},
     "inputWidgets": {},
     "nuid": "57b417a7-a634-405f-8cbb-4396c272d4fe",
     "showTitle": false,
     "title": ""
    }
   },
   "outputs": [],
   "source": [
    "df_lmp"
   ]
  },
  {
   "cell_type": "code",
   "execution_count": null,
   "metadata": {
    "application/vnd.databricks.v1+cell": {
     "cellMetadata": {},
     "inputWidgets": {},
     "nuid": "fa1eac06-e687-4720-833f-941c1ab84fb3",
     "showTitle": false,
     "title": ""
    }
   },
   "outputs": [],
   "source": [
    "group_cols = [\n",
    "        'Interval_HE', 'GMTIntervalEnd_HE', 'timestamp_mst_HE',\n",
    "        'Settlement_Location_Name', 'PNODE_Name'\n",
    "    ]\n",
    "value_cols = ['LMP', 'MLC', 'MCC', 'MEC']\n",
    "\n",
    "(\n",
    "    df_lmp[group_cols + value_cols]\n",
    "    .groupby(group_cols)\n",
    "    .mean()\n",
    "    .reset_index()\n",
    ")"
   ]
  },
  {
   "cell_type": "markdown",
   "metadata": {
    "application/vnd.databricks.v1+cell": {
     "cellMetadata": {},
     "inputWidgets": {},
     "nuid": "cb5ef5e2-6be3-4d19-8577-b81a398791f6",
     "showTitle": false,
     "title": ""
    }
   },
   "source": [
    "### Test LMP daily file"
   ]
  },
  {
   "cell_type": "code",
   "execution_count": null,
   "metadata": {
    "application/vnd.databricks.v1+cell": {
     "cellMetadata": {},
     "inputWidgets": {},
     "nuid": "e2e47a1f-68cc-4d47-bb56-ddd73f208650",
     "showTitle": false,
     "title": ""
    }
   },
   "outputs": [],
   "source": [
    "tc = dc.get_time_components('6/1/2024 23:00:00', five_min_ceil=True)\n",
    "tc"
   ]
  },
  {
   "cell_type": "code",
   "execution_count": null,
   "metadata": {
    "application/vnd.databricks.v1+cell": {
     "cellMetadata": {},
     "inputWidgets": {},
     "nuid": "66578c24-7261-46f3-8937-0281610d048c",
     "showTitle": false,
     "title": ""
    }
   },
   "outputs": [],
   "source": [
    "df_lmp = dc.get_process_daily_lmp(tc)"
   ]
  },
  {
   "cell_type": "code",
   "execution_count": null,
   "metadata": {
    "application/vnd.databricks.v1+cell": {
     "cellMetadata": {},
     "inputWidgets": {},
     "nuid": "152cbab5-5b10-448b-8144-2bcd31a24921",
     "showTitle": false,
     "title": ""
    }
   },
   "outputs": [],
   "source": [
    "df_lmp"
   ]
  },
  {
   "cell_type": "code",
   "execution_count": null,
   "metadata": {},
   "outputs": [],
   "source": [
    "df_lmp.info()"
   ]
  },
  {
   "cell_type": "code",
   "execution_count": null,
   "metadata": {
    "application/vnd.databricks.v1+cell": {
     "cellMetadata": {},
     "inputWidgets": {},
     "nuid": "393f8591-2591-4765-b81c-16628144017a",
     "showTitle": false,
     "title": ""
    }
   },
   "outputs": [],
   "source": [
    "# multiple daily files\n",
    "end_ts = pd.Timestamp('6/2/2024 00:00:00')# + pd.Timedelta('1H')\n",
    "end_ts"
   ]
  },
  {
   "cell_type": "code",
   "execution_count": null,
   "metadata": {
    "application/vnd.databricks.v1+cell": {
     "cellMetadata": {},
     "inputWidgets": {},
     "nuid": "8b9247e1-034a-4037-892b-4a0b8403bc18",
     "showTitle": false,
     "title": ""
    }
   },
   "outputs": [],
   "source": [
    "df_lmp = dc.get_range_data_interval_daily_lmps(end_ts, n_periods=7)\n",
    "df_lmp"
   ]
  },
  {
   "cell_type": "code",
   "execution_count": null,
   "metadata": {},
   "outputs": [],
   "source": [
    "# con.drop_table('test_lmp')"
   ]
  },
  {
   "cell_type": "code",
   "execution_count": null,
   "metadata": {
    "application/vnd.databricks.v1+cell": {
     "cellMetadata": {},
     "inputWidgets": {},
     "nuid": "9f88eb8b-5af5-4c4e-ac53-86742f833b37",
     "showTitle": false,
     "title": ""
    }
   },
   "outputs": [],
   "source": [
    "# con.create_table('test_lmp', df_lmp)"
   ]
  },
  {
   "cell_type": "code",
   "execution_count": null,
   "metadata": {
    "application/vnd.databricks.v1+cell": {
     "cellMetadata": {},
     "inputWidgets": {},
     "nuid": "facfe237-6936-4852-8d17-228c4e7fb3f1",
     "showTitle": false,
     "title": ""
    }
   },
   "outputs": [],
   "source": [
    "end_ts = pd.Timestamp('6/1/2024 23:00:00')# + pd.Timedelta('1H')\n",
    "end_ts"
   ]
  },
  {
   "cell_type": "code",
   "execution_count": null,
   "metadata": {
    "application/vnd.databricks.v1+cell": {
     "cellMetadata": {},
     "inputWidgets": {},
     "nuid": "ee55eaf6-1a00-4577-b48f-24176e4b5263",
     "showTitle": false,
     "title": ""
    }
   },
   "outputs": [],
   "source": [
    "# test interval file\n",
    "dc.collect_upsert_lmp(daily_file=False, end_ts=end_ts)"
   ]
  },
  {
   "cell_type": "code",
   "execution_count": null,
   "metadata": {},
   "outputs": [],
   "source": [
    "# test interval file\n",
    "dc.collect_upsert_lmp(daily_file=True, end_ts=end_ts)"
   ]
  },
  {
   "cell_type": "code",
   "execution_count": null,
   "metadata": {},
   "outputs": [],
   "source": [
    "con.list_tables()"
   ]
  },
  {
   "cell_type": "code",
   "execution_count": null,
   "metadata": {},
   "outputs": [],
   "source": [
    "con.table('lmp')"
   ]
  },
  {
   "cell_type": "code",
   "execution_count": null,
   "metadata": {},
   "outputs": [],
   "source": [
    "# con.drop_table('mtrf')"
   ]
  },
  {
   "cell_type": "code",
   "execution_count": null,
   "metadata": {
    "application/vnd.databricks.v1+cell": {
     "cellMetadata": {},
     "inputWidgets": {},
     "nuid": "731d75c0-dd65-4643-bca7-cf0115907942",
     "showTitle": false,
     "title": ""
    }
   },
   "outputs": [],
   "source": []
  },
  {
   "cell_type": "markdown",
   "metadata": {},
   "source": [
    "## Generation capacity by fuel type"
   ]
  },
  {
   "cell_type": "code",
   "execution_count": null,
   "metadata": {},
   "outputs": [],
   "source": []
  },
  {
   "cell_type": "code",
   "execution_count": null,
   "metadata": {},
   "outputs": [],
   "source": [
    "tc = dc.get_time_components('11/8/2024 23:00:00')\n",
    "tc"
   ]
  },
  {
   "cell_type": "code",
   "execution_count": null,
   "metadata": {},
   "outputs": [],
   "source": [
    "get_gen_cap_url(tc)"
   ]
  },
  {
   "cell_type": "code",
   "execution_count": null,
   "metadata": {},
   "outputs": [],
   "source": [
    "def get_process_gen_cap(tc: dict) -> pd.DataFrame:\n",
    "    \"\"\"\n",
    "    Function to get and process MTLF data.\n",
    "    Args:\n",
    "        tc: dict - dictionary returned from get_time_components()\n",
    "    Returns:\n",
    "        pd.DataFrame with processed data for file corresponding to\n",
    "            url created from tc\n",
    "    \"\"\"\n",
    "    gen_cap_url = get_gen_cap_url(tc)\n",
    "    log.debug(f'gen_cap_url: {gen_cap_url}')\n",
    "\n",
    "    df = dc.get_csv_from_url(gen_cap_url)\n",
    "\n",
    "    if df.shape[0] > 0:\n",
    "        dc.format_df_colnames(df)\n",
    "        df['GMT_TIME'] = pd.to_datetime(df['GMT_TIME'], format='ISO8601')\n",
    "        df.rename(columns={'GMT_TIME': 'GMTIntervalEnd'}, inplace=True)\n",
    "        df['timestamp_mst'] = (\n",
    "            df.GMTIntervalEnd\n",
    "            .dt.tz_convert('MST')\n",
    "            .dt.tz_localize(None)\n",
    "        )\n",
    "\n",
    "    return df"
   ]
  },
  {
   "cell_type": "code",
   "execution_count": null,
   "metadata": {},
   "outputs": [],
   "source": [
    "df_gen_cap = dc.get_process_gen_cap(tc)#.info()"
   ]
  },
  {
   "cell_type": "code",
   "execution_count": null,
   "metadata": {},
   "outputs": [],
   "source": [
    "df_gen_cap.info()"
   ]
  },
  {
   "cell_type": "code",
   "execution_count": null,
   "metadata": {},
   "outputs": [],
   "source": [
    "# multiple daily files\n",
    "end_ts = pd.Timestamp('6/2/2024 00:00:00')# + pd.Timedelta('1H')\n",
    "end_ts"
   ]
  },
  {
   "cell_type": "code",
   "execution_count": null,
   "metadata": {},
   "outputs": [],
   "source": [
    "df_gen_cap = dc.get_range_data_gen_cap(end_ts=end_ts,  n_periods=3)"
   ]
  },
  {
   "cell_type": "code",
   "execution_count": null,
   "metadata": {},
   "outputs": [],
   "source": [
    "df_gen_cap.head(2)"
   ]
  },
  {
   "cell_type": "code",
   "execution_count": null,
   "metadata": {},
   "outputs": [],
   "source": [
    "def upsert_gen_cap(\n",
    "        gen_cap_upsert: pd.DataFrame,\n",
    "        backfill: bool=False,\n",
    ") -> None:\n",
    "    \"\"\"\n",
    "    Function to upsert new/backfilled generation capacity data into duckdb database.\n",
    "    Args:\n",
    "        gen_cap_upsert: pd.DataFrame - dataframe to upsert to MTRF table in database.\n",
    "        backfill: bool = False - if true removes rows with missing values before\n",
    "            upsert.  This removes rows where average actual is missing because\n",
    "            the time period is forecasted and prevents overwriting actual values\n",
    "            with forecasted values.\n",
    "    Returns:\n",
    "        None - new data is upserted to table\n",
    "    \"\"\"\n",
    "    # remove missing values if backfilling\n",
    "    if backfill:\n",
    "        gen_cap_upsert.dropna(axis=0, how='any', inplace=True)\n",
    "    # remove any duplicated primary keys\n",
    "    gen_cap_upsert = gen_cap_upsert[~gen_cap_upsert.GMTIntervalEnd_HE.duplicated()]\n",
    "    update_count = len(gen_cap_upsert)\n",
    "    # NOTE: the df col order must match the order in the table\n",
    "    ordered_cols = [\n",
    "        'GMTIntervalEnd_HE', 'timestamp_mst',\n",
    "        'Coal_Market', 'Coal_Self', 'Hydro', \n",
    "        'Natural_Gas', 'Nuclear', 'Solar', 'Wind',\n",
    "    ]\n",
    "    gen_cap_upsert = gen_cap_upsert[ordered_cols]\n",
    "    log.info(f'gen_cap_upsert.timestamp_mst_HE.min(): {gen_cap_upsert.timestamp_mst_HE.min()}')\n",
    "    log.info(f'gen_cap_upsert.timestamp_mst_HE.max(): {gen_cap_upsert.timestamp_mst_HE.max()}')\n",
    "\n",
    "    # upsert with duckdb\n",
    "    with duckdb.connect('~/spp_weis_price_forecast/data/spp.ddb') as con_ddb:\n",
    "        create_gen_cap = '''\n",
    "        CREATE TABLE IF NOT EXISTS gen_cap (\n",
    "             GMTIntervalEnd_HE TIMESTAMP PRIMARY KEY,\n",
    "             timestamp_mst_HE TIMESTAMP,\n",
    "             Coal_Market DOUBLE, \n",
    "             Coal_Self DOUBLE,\n",
    "             Hydro DOUBLE,\n",
    "             Natural_Gas DOUBLE,\n",
    "             Nuclear DOUBLE,\n",
    "             Solar DOUBLE,\n",
    "             Wind DOUBLE\n",
    "             );\n",
    "        '''\n",
    "        con_ddb.sql(create_gen_cap)\n",
    "\n",
    "        res = con_ddb.sql('select count(*) from gen_cap')\n",
    "        start_count = res.fetchall()[0][0]\n",
    "        log.info(f'starting count: {start_count:,}')\n",
    "\n",
    "        gen_cap_insert_update = '''\n",
    "        INSERT INTO gen_cap\n",
    "            SELECT * FROM gen_cap_upsert\n",
    "            ON CONFLICT DO UPDATE SET Coal_Market = EXCLUDED.Coal_Market, \n",
    "            Coal_Self = EXCLUDED.Coal_Self,\n",
    "            Hydro = EXCLUDED.Hydro,\n",
    "            Natural_Gas = EXCLUDED.Natural_Gas,\n",
    "            Nuclear = EXCLUDED.Nuclear,\n",
    "            Solar = EXCLUDED.Solar,\n",
    "            Wind = EXCLUDED.Wind;\n",
    "        '''\n",
    "\n",
    "        con_ddb.sql(gen_cap_insert_update)\n",
    "\n",
    "        res = con_ddb.sql('select count(*) from gen_cap')\n",
    "        end_count = res.fetchall()[0][0]\n",
    "        insert_count = end_count - start_count\n",
    "        rows_updated = update_count - insert_count\n",
    "        log.info(\n",
    "            f'ROWS INSERTED: {insert_count:,} ROWS UPDATED: {rows_updated :,} TOTAL: {end_count:,}')"
   ]
  },
  {
   "cell_type": "code",
   "execution_count": null,
   "metadata": {},
   "outputs": [],
   "source": []
  },
  {
   "cell_type": "code",
   "execution_count": null,
   "metadata": {},
   "outputs": [],
   "source": []
  }
 ],
 "metadata": {
  "application/vnd.databricks.v1+notebook": {
   "dashboards": [],
   "language": "python",
   "notebookMetadata": {},
   "notebookName": "data_collection_testing",
   "widgets": {}
  },
  "kernelspec": {
   "display_name": "spp_weis",
   "language": "python",
   "name": "spp_weis"
  },
  "language_info": {
   "codemirror_mode": {
    "name": "ipython",
    "version": 3
   },
   "file_extension": ".py",
   "mimetype": "text/x-python",
   "name": "python",
   "nbconvert_exporter": "python",
   "pygments_lexer": "ipython3",
   "version": "3.11.10"
  }
 },
 "nbformat": 4,
 "nbformat_minor": 4
}
