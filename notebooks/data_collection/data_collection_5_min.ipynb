{
 "cells": [
  {
   "cell_type": "markdown",
   "metadata": {
    "application/vnd.databricks.v1+cell": {
     "cellMetadata": {},
     "inputWidgets": {},
     "nuid": "09dd35de-6040-4ec1-8d1a-6a727f5149c4",
     "showTitle": false,
     "title": ""
    }
   },
   "source": [
    "# Data collection 5 minute intervals\n",
    "\n",
    "Gather public SPP Weis data from https://marketplace.spp.org/groups/operational-data-weis"
   ]
  },
  {
   "cell_type": "code",
   "execution_count": 1,
   "metadata": {
    "application/vnd.databricks.v1+cell": {
     "cellMetadata": {},
     "inputWidgets": {},
     "nuid": "c27fb2fe-a89a-4d64-a02e-217fc5dcdad5",
     "showTitle": false,
     "title": ""
    }
   },
   "outputs": [],
   "source": [
    "import os\n",
    "import pandas as pd\n",
    "import duckdb\n",
    "\n",
    "import requests\n",
    "from io import StringIO\n",
    "\n",
    "import ibis\n",
    "import ibis.selectors as s\n",
    "ibis.options.interactive = True\n",
    "\n",
    "# logging\n",
    "import logging"
   ]
  },
  {
   "cell_type": "code",
   "execution_count": 2,
   "metadata": {
    "application/vnd.databricks.v1+cell": {
     "cellMetadata": {},
     "inputWidgets": {},
     "nuid": "37dfb982-9c8b-4ace-a151-3701543d3e6e",
     "showTitle": false,
     "title": ""
    }
   },
   "outputs": [],
   "source": [
    "# define log\n",
    "logging.basicConfig(level=logging.INFO)\n",
    "log = logging.getLogger(__name__)\n"
   ]
  },
  {
   "cell_type": "code",
   "execution_count": 3,
   "metadata": {
    "application/vnd.databricks.v1+cell": {
     "cellMetadata": {},
     "inputWidgets": {},
     "nuid": "a3d38220-2582-41a4-8273-5db6301690e9",
     "showTitle": false,
     "title": ""
    }
   },
   "outputs": [],
   "source": [
    "os.chdir('../..')"
   ]
  },
  {
   "cell_type": "code",
   "execution_count": 4,
   "metadata": {
    "application/vnd.databricks.v1+cell": {
     "cellMetadata": {},
     "inputWidgets": {},
     "nuid": "a0096c31-ed02-49a5-9187-10014deeafe3",
     "showTitle": false,
     "title": ""
    }
   },
   "outputs": [
    {
     "name": "stderr",
     "output_type": "stream",
     "text": [
      "INFO:src.data_collection:number of cores available: 4\n",
      "INFO:src.data_collection:N_JOBS: 3\n"
     ]
    }
   ],
   "source": [
    "import src.data_collection as dc"
   ]
  },
  {
   "cell_type": "code",
   "execution_count": null,
   "metadata": {
    "application/vnd.databricks.v1+cell": {
     "cellMetadata": {},
     "inputWidgets": {},
     "nuid": "8cde8fd6-318b-4123-9e17-50e7e88cf774",
     "showTitle": false,
     "title": ""
    }
   },
   "outputs": [],
   "source": []
  },
  {
   "cell_type": "markdown",
   "metadata": {
    "application/vnd.databricks.v1+cell": {
     "cellMetadata": {},
     "inputWidgets": {},
     "nuid": "04d6ab02-c397-4d9a-8b7d-2e0430a6d2ac",
     "showTitle": false,
     "title": ""
    }
   },
   "source": [
    "## LMP settlement location prices\n",
    "\n",
    "![_](../../imgs/lmp_settlement_location.PNG)"
   ]
  },
  {
   "cell_type": "markdown",
   "metadata": {
    "application/vnd.databricks.v1+cell": {
     "cellMetadata": {},
     "inputWidgets": {},
     "nuid": "dcfe248b-6c03-40ae-bf62-cfacb2b629a6",
     "showTitle": false,
     "title": ""
    }
   },
   "source": [
    "## LMP upsert"
   ]
  },
  {
   "cell_type": "markdown",
   "metadata": {
    "application/vnd.databricks.v1+cell": {
     "cellMetadata": {},
     "inputWidgets": {},
     "nuid": "6801106a-6ed0-487e-aea3-f7e272483460",
     "showTitle": false,
     "title": ""
    }
   },
   "source": [
    "### 5 minute LMP interval files"
   ]
  },
  {
   "cell_type": "code",
   "execution_count": 5,
   "metadata": {
    "application/vnd.databricks.v1+cell": {
     "cellMetadata": {},
     "inputWidgets": {},
     "nuid": "cb2e115b-c99d-4247-8434-9717b7bad72b",
     "showTitle": false,
     "title": ""
    }
   },
   "outputs": [
    {
     "name": "stderr",
     "output_type": "stream",
     "text": [
      "INFO:src.data_collection:end_ts: 2024-09-24 21:21:10.496970\n",
      "INFO:src.data_collection:n_periods: 288\n",
      "  0%|          | 0/288 [00:00<?, ?it/s]INFO:src.data_collection:number of cores available: 4\n",
      "INFO:src.data_collection:N_JOBS: 3\n",
      "INFO:src.data_collection:number of cores available: 4\n",
      "INFO:src.data_collection:N_JOBS: 3\n",
      "INFO:src.data_collection:number of cores available: 4\n",
      "INFO:src.data_collection:N_JOBS: 3\n",
      " 10%|█         | 30/288 [00:05<00:44,  5.82it/s]ERROR:src.data_collection:ERROR READING URL: https://marketplace.spp.org/file-browser-api/download/lmp-by-settlement-location-weis?path=%2F2024%2F09%2FBy_Interval%2F24%2FWEIS-RTBM-LMP-SL-202409240000.csv\n",
      "ERROR:src.data_collection:\n",
      "100%|██████████| 288/288 [00:42<00:00,  6.78it/s]\n",
      "INFO:src.data_collection:ROWS INSERTED: 8,200 ROWS UPDATED: 0\n"
     ]
    },
    {
     "name": "stdout",
     "output_type": "stream",
     "text": [
      "<class 'pandas.core.frame.DataFrame'>\n",
      "RangeIndex: 8200 entries, 0 to 8199\n",
      "Data columns (total 9 columns):\n",
      " #   Column                    Non-Null Count  Dtype         \n",
      "---  ------                    --------------  -----         \n",
      " 0   Interval_HE               8200 non-null   datetime64[ns]\n",
      " 1   GMTIntervalEnd_HE         8200 non-null   datetime64[ns]\n",
      " 2   timestamp_mst_HE          8200 non-null   datetime64[ns]\n",
      " 3   Settlement_Location_Name  8200 non-null   object        \n",
      " 4   PNODE_Name                8200 non-null   object        \n",
      " 5   LMP                       8200 non-null   float64       \n",
      " 6   MLC                       8200 non-null   float64       \n",
      " 7   MCC                       8200 non-null   float64       \n",
      " 8   MEC                       8200 non-null   float64       \n",
      "dtypes: datetime64[ns](3), float64(4), object(2)\n",
      "memory usage: 576.7+ KB\n"
     ]
    }
   ],
   "source": [
    "n_periods=12*24 # 12 intervals per hour * 1 day lookback\n",
    "dc.collect_upsert_lmp(n_periods=n_periods, daily_file=False)"
   ]
  },
  {
   "cell_type": "code",
   "execution_count": null,
   "metadata": {
    "application/vnd.databricks.v1+cell": {
     "cellMetadata": {},
     "inputWidgets": {},
     "nuid": "67bdf606-fa53-4f5b-84b6-60596a4d752a",
     "showTitle": false,
     "title": ""
    }
   },
   "outputs": [],
   "source": []
  }
 ],
 "metadata": {
  "application/vnd.databricks.v1+notebook": {
   "dashboards": [],
   "language": "python",
   "notebookMetadata": {},
   "notebookName": "data_collection_5_min",
   "widgets": {}
  },
  "kernelspec": {
   "display_name": "Python 3",
   "language": "python",
   "name": "python3"
  },
  "language_info": {
   "codemirror_mode": {
    "name": "ipython",
    "version": 3
   },
   "file_extension": ".py",
   "mimetype": "text/x-python",
   "name": "python",
   "nbconvert_exporter": "python",
   "pygments_lexer": "ipython3",
   "version": "3.11.9"
  }
 },
 "nbformat": 4,
 "nbformat_minor": 4
}
