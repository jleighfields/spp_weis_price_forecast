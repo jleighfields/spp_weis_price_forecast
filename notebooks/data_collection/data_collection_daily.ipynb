{
 "cells": [
  {
   "cell_type": "markdown",
   "metadata": {
    "application/vnd.databricks.v1+cell": {
     "cellMetadata": {},
     "inputWidgets": {},
     "nuid": "3bfa77bf-8137-4b3a-af0b-b7b7dd22c168",
     "showTitle": false,
     "title": ""
    }
   },
   "source": [
    "# Data collection daily files\n",
    "Gather public SPP Weis data from https://marketplace.spp.org/groups/operational-data-weis"
   ]
  },
  {
   "cell_type": "code",
   "execution_count": 1,
   "metadata": {
    "application/vnd.databricks.v1+cell": {
     "cellMetadata": {},
     "inputWidgets": {},
     "nuid": "699184e8-4f79-480a-b54f-f82557365757",
     "showTitle": false,
     "title": ""
    }
   },
   "outputs": [],
   "source": [
    "import os\n",
    "import pandas as pd\n",
    "import duckdb\n",
    "\n",
    "import requests\n",
    "from io import StringIO\n",
    "\n",
    "import ibis\n",
    "import ibis.selectors as s\n",
    "ibis.options.interactive = True\n",
    "\n",
    "# logging\n",
    "import logging"
   ]
  },
  {
   "cell_type": "code",
   "execution_count": 2,
   "metadata": {
    "application/vnd.databricks.v1+cell": {
     "cellMetadata": {},
     "inputWidgets": {},
     "nuid": "bc00d6b3-3932-4a13-b02d-0b980584fe7f",
     "showTitle": false,
     "title": ""
    }
   },
   "outputs": [],
   "source": [
    "# define log\n",
    "logging.basicConfig(level=logging.INFO)\n",
    "log = logging.getLogger(__name__)\n"
   ]
  },
  {
   "cell_type": "code",
   "execution_count": 3,
   "metadata": {
    "application/vnd.databricks.v1+cell": {
     "cellMetadata": {},
     "inputWidgets": {},
     "nuid": "62b85c6a-f805-41ab-93c9-586b15e83772",
     "showTitle": false,
     "title": ""
    }
   },
   "outputs": [],
   "source": [
    "os.chdir('../..')"
   ]
  },
  {
   "cell_type": "code",
   "execution_count": 4,
   "metadata": {
    "application/vnd.databricks.v1+cell": {
     "cellMetadata": {},
     "inputWidgets": {},
     "nuid": "d719bbaf-ceef-4795-9de2-d3b5640f2170",
     "showTitle": false,
     "title": ""
    }
   },
   "outputs": [
    {
     "name": "stderr",
     "output_type": "stream",
     "text": [
      "INFO:src.data_collection:number of cores available: 4\n",
      "INFO:src.data_collection:N_JOBS: 3\n"
     ]
    }
   ],
   "source": [
    "import src.data_collection as dc"
   ]
  },
  {
   "cell_type": "code",
   "execution_count": null,
   "metadata": {
    "application/vnd.databricks.v1+cell": {
     "cellMetadata": {},
     "inputWidgets": {},
     "nuid": "7250e261-fcdd-4e35-9594-733e5e3f32c0",
     "showTitle": false,
     "title": ""
    }
   },
   "outputs": [],
   "source": []
  },
  {
   "cell_type": "markdown",
   "metadata": {
    "application/vnd.databricks.v1+cell": {
     "cellMetadata": {},
     "inputWidgets": {},
     "nuid": "a1fb30e8-c53e-4a84-b864-3408cd5e233e",
     "showTitle": false,
     "title": ""
    }
   },
   "source": [
    "## LMP settlement location prices\n",
    "\n",
    "![_](../../imgs/lmp_settlement_location.PNG)"
   ]
  },
  {
   "cell_type": "markdown",
   "metadata": {
    "application/vnd.databricks.v1+cell": {
     "cellMetadata": {},
     "inputWidgets": {},
     "nuid": "ca7ec799-5837-4c59-be9a-9d9500dff78e",
     "showTitle": false,
     "title": ""
    }
   },
   "source": [
    "## LMP upsert"
   ]
  },
  {
   "cell_type": "markdown",
   "metadata": {
    "application/vnd.databricks.v1+cell": {
     "cellMetadata": {},
     "inputWidgets": {},
     "nuid": "5e014362-b1a0-4d83-9f8a-396b770f2f35",
     "showTitle": false,
     "title": ""
    }
   },
   "source": [
    "### LMP daily file"
   ]
  },
  {
   "cell_type": "code",
   "execution_count": 5,
   "metadata": {
    "application/vnd.databricks.v1+cell": {
     "cellMetadata": {},
     "inputWidgets": {},
     "nuid": "ff816bda-80b4-4db6-b8f9-15206353fa85",
     "showTitle": false,
     "title": ""
    }
   },
   "outputs": [
    {
     "name": "stderr",
     "output_type": "stream",
     "text": [
      "INFO:src.data_collection:end_ts: 2024-09-24 22:11:09.650278\n",
      "INFO:src.data_collection:n_periods: 7\n",
      "  0%|          | 0/7 [00:00<?, ?it/s]INFO:src.data_collection:number of cores available: 4\n",
      "INFO:src.data_collection:N_JOBS: 3\n",
      "INFO:src.data_collection:number of cores available: 4\n",
      "INFO:src.data_collection:N_JOBS: 3\n",
      "INFO:src.data_collection:number of cores available: 4\n",
      "INFO:src.data_collection:N_JOBS: 3\n",
      "ERROR:src.data_collection:ERROR READING URL: https://marketplace.spp.org/file-browser-api/download/lmp-by-settlement-location-weis?path=%2F2024%2F09%2FBy_Day%2FWEIS-RTBM-LMP-DAILY-SL-20240920.csv\n",
      "ERROR:src.data_collection:\n",
      " 14%|█▍        | 1/7 [00:00<00:05,  1.01it/s]ERROR:src.data_collection:ERROR READING URL: https://marketplace.spp.org/file-browser-api/download/lmp-by-settlement-location-weis?path=%2F2024%2F09%2FBy_Day%2FWEIS-RTBM-LMP-DAILY-SL-20240921.csv\n",
      "ERROR:src.data_collection:\n",
      " 29%|██▊       | 2/7 [00:01<00:03,  1.35it/s]ERROR:src.data_collection:ERROR READING URL: https://marketplace.spp.org/file-browser-api/download/lmp-by-settlement-location-weis?path=%2F2024%2F09%2FBy_Day%2FWEIS-RTBM-LMP-DAILY-SL-20240922.csv\n",
      "ERROR:src.data_collection:\n",
      " 43%|████▎     | 3/7 [00:01<00:02,  1.58it/s]ERROR:src.data_collection:ERROR READING URL: https://marketplace.spp.org/file-browser-api/download/lmp-by-settlement-location-weis?path=%2F2024%2F09%2FBy_Day%2FWEIS-RTBM-LMP-DAILY-SL-20240923.csv\n",
      "ERROR:src.data_collection:\n",
      " 57%|█████▋    | 4/7 [00:02<00:01,  1.73it/s]ERROR:src.data_collection:ERROR READING URL: https://marketplace.spp.org/file-browser-api/download/lmp-by-settlement-location-weis?path=%2F2024%2F09%2FBy_Day%2FWEIS-RTBM-LMP-DAILY-SL-20240924.csv\n",
      "ERROR:src.data_collection:\n",
      "100%|██████████| 7/7 [00:07<00:00,  1.11s/it]\n",
      "INFO:src.data_collection:ROWS INSERTED: 0 ROWS UPDATED: 15,744\n"
     ]
    },
    {
     "name": "stdout",
     "output_type": "stream",
     "text": [
      "<class 'pandas.core.frame.DataFrame'>\n",
      "RangeIndex: 15744 entries, 0 to 15743\n",
      "Data columns (total 9 columns):\n",
      " #   Column                    Non-Null Count  Dtype         \n",
      "---  ------                    --------------  -----         \n",
      " 0   Interval_HE               15744 non-null  datetime64[ns]\n",
      " 1   GMTIntervalEnd_HE         15744 non-null  datetime64[ns]\n",
      " 2   timestamp_mst_HE          15744 non-null  datetime64[ns]\n",
      " 3   Settlement_Location_Name  15744 non-null  object        \n",
      " 4   PNODE_Name                15744 non-null  object        \n",
      " 5   LMP                       15744 non-null  float64       \n",
      " 6   MLC                       15744 non-null  float64       \n",
      " 7   MCC                       15744 non-null  float64       \n",
      " 8   MEC                       15744 non-null  float64       \n",
      "dtypes: datetime64[ns](3), float64(4), object(2)\n",
      "memory usage: 1.1+ MB\n"
     ]
    }
   ],
   "source": [
    "# lookback 7 days to cover holidays and long weekends when data doesn't get updated\n",
    "dc.collect_upsert_lmp(n_periods=7, daily_file=True)"
   ]
  },
  {
   "cell_type": "code",
   "execution_count": 6,
   "metadata": {
    "application/vnd.databricks.v1+cell": {
     "cellMetadata": {},
     "inputWidgets": {},
     "nuid": "329cde3b-6f3e-4e8a-9da6-f6fa92a022c7",
     "showTitle": false,
     "title": ""
    }
   },
   "outputs": [],
   "source": [
    "## to load specific day\n",
    "# end_ts = pd.Timestamp('6/3/2023')\n",
    "# dc.collect_upsert_lmp(end_ts=end_ts, n_periods=1, daily_file=True)"
   ]
  },
  {
   "cell_type": "code",
   "execution_count": null,
   "metadata": {
    "application/vnd.databricks.v1+cell": {
     "cellMetadata": {},
     "inputWidgets": {},
     "nuid": "1685305b-82d4-490a-9b0a-1ccda8800135",
     "showTitle": false,
     "title": ""
    }
   },
   "outputs": [],
   "source": []
  }
 ],
 "metadata": {
  "application/vnd.databricks.v1+notebook": {
   "dashboards": [],
   "language": "python",
   "notebookMetadata": {},
   "notebookName": "data_collection_daily",
   "widgets": {}
  },
  "kernelspec": {
   "display_name": "Python 3",
   "language": "python",
   "name": "python3"
  },
  "language_info": {
   "codemirror_mode": {
    "name": "ipython",
    "version": 3
   },
   "file_extension": ".py",
   "mimetype": "text/x-python",
   "name": "python",
   "nbconvert_exporter": "python",
   "pygments_lexer": "ipython3",
   "version": "3.11.9"
  }
 },
 "nbformat": 4,
 "nbformat_minor": 4
}
