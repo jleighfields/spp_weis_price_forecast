{
 "cells": [
  {
   "cell_type": "markdown",
   "metadata": {
    "application/vnd.databricks.v1+cell": {
     "cellMetadata": {},
     "inputWidgets": {},
     "nuid": "91a67ac5-89a9-4b80-84e4-be3225fc9636",
     "showTitle": false,
     "title": ""
    }
   },
   "source": [
    "# Data collection\n",
    "Gather public SPP Weis data from https://marketplace.spp.org/groups/operational-data-weis"
   ]
  },
  {
   "cell_type": "code",
   "execution_count": 1,
   "metadata": {
    "application/vnd.databricks.v1+cell": {
     "cellMetadata": {},
     "inputWidgets": {},
     "nuid": "c37f0523-4d36-4ab9-9ff6-182c15f7e49c",
     "showTitle": false,
     "title": ""
    }
   },
   "outputs": [],
   "source": [
    "import os\n",
    "import pandas as pd\n",
    "import duckdb\n",
    "\n",
    "import requests\n",
    "from io import StringIO\n",
    "\n",
    "import ibis\n",
    "import ibis.selectors as s\n",
    "ibis.options.interactive = True\n",
    "\n",
    "# logging\n",
    "import logging"
   ]
  },
  {
   "cell_type": "code",
   "execution_count": 2,
   "metadata": {
    "application/vnd.databricks.v1+cell": {
     "cellMetadata": {},
     "inputWidgets": {},
     "nuid": "f5a53f34-1665-45f1-802c-4277b373d8d7",
     "showTitle": false,
     "title": ""
    }
   },
   "outputs": [],
   "source": [
    "# define log\n",
    "logging.basicConfig(level=logging.INFO)\n",
    "log = logging.getLogger(__name__)\n"
   ]
  },
  {
   "cell_type": "code",
   "execution_count": 3,
   "metadata": {
    "application/vnd.databricks.v1+cell": {
     "cellMetadata": {},
     "inputWidgets": {},
     "nuid": "de6a1932-d626-4d93-b6c9-4aa8d4fd2946",
     "showTitle": false,
     "title": ""
    }
   },
   "outputs": [],
   "source": [
    "os.chdir('../..')"
   ]
  },
  {
   "cell_type": "code",
   "execution_count": 4,
   "metadata": {
    "application/vnd.databricks.v1+cell": {
     "cellMetadata": {},
     "inputWidgets": {},
     "nuid": "644749ae-40cb-4b9c-9797-7c940551e823",
     "showTitle": false,
     "title": ""
    }
   },
   "outputs": [
    {
     "name": "stderr",
     "output_type": "stream",
     "text": [
      "INFO:src.data_collection:number of cores available: 12\n",
      "INFO:src.data_collection:N_JOBS: 10\n"
     ]
    }
   ],
   "source": [
    "import src.data_collection as dc"
   ]
  },
  {
   "cell_type": "code",
   "execution_count": null,
   "metadata": {
    "application/vnd.databricks.v1+cell": {
     "cellMetadata": {},
     "inputWidgets": {},
     "nuid": "6da19ebe-6b6a-4999-8081-b2649fafa880",
     "showTitle": false,
     "title": ""
    }
   },
   "outputs": [],
   "source": []
  },
  {
   "cell_type": "markdown",
   "metadata": {},
   "source": [
    "## Set up backfill parameters"
   ]
  },
  {
   "cell_type": "code",
   "execution_count": 5,
   "metadata": {},
   "outputs": [
    {
     "data": {
      "text/plain": [
       "[Timestamp('2023-06-01 00:00:00'),\n",
       " Timestamp('2023-07-01 00:00:00'),\n",
       " Timestamp('2023-07-31 00:00:00'),\n",
       " Timestamp('2023-08-30 00:00:00'),\n",
       " Timestamp('2023-09-29 00:00:00')]"
      ]
     },
     "execution_count": 5,
     "metadata": {},
     "output_type": "execute_result"
    }
   ],
   "source": [
    "start_date = '2023-06-01'\n",
    "end_date = '2024-09-02'\n",
    "num_day_step = 30\n",
    "day_list = pd.date_range(start = start_date, end=end_date, freq=f'{num_day_step }d')\n",
    "day_list = [pd.Timestamp(d) for d in day_list]\n",
    "day_list[:5]"
   ]
  },
  {
   "cell_type": "code",
   "execution_count": null,
   "metadata": {},
   "outputs": [],
   "source": []
  },
  {
   "cell_type": "markdown",
   "metadata": {
    "application/vnd.databricks.v1+cell": {
     "cellMetadata": {},
     "inputWidgets": {},
     "nuid": "33183310-ac93-482d-94cd-20d4d9f41ed6",
     "showTitle": false,
     "title": ""
    }
   },
   "source": [
    "## Mid Term Load Forecast\n",
    "\n",
    "![_](../../imgs/mtlf.PNG)"
   ]
  },
  {
   "cell_type": "markdown",
   "metadata": {
    "application/vnd.databricks.v1+cell": {
     "cellMetadata": {},
     "inputWidgets": {},
     "nuid": "c690ab59-c3c1-4366-aa4b-11ff9a094a5b",
     "showTitle": false,
     "title": ""
    }
   },
   "source": [
    "HOUR = {0000, ..., 2300}\n",
    "DAY = {01, ..., 31}"
   ]
  },
  {
   "cell_type": "code",
   "execution_count": 6,
   "metadata": {
    "application/vnd.databricks.v1+cell": {
     "cellMetadata": {},
     "inputWidgets": {},
     "nuid": "2050796a-b805-4747-a70b-1a6d8f658f48",
     "showTitle": false,
     "title": ""
    }
   },
   "outputs": [
    {
     "name": "stderr",
     "output_type": "stream",
     "text": [
      "INFO:src.data_collection:end_ts: 2023-06-01 00:00:00\n",
      "INFO:src.data_collection:n_periods: 721\n",
      "  0%|                                                                                                                                     | 0/721 [00:00<?, ?it/s]INFO:src.data_collection:number of cores available: 12\n",
      "INFO:src.data_collection:N_JOBS: 10\n",
      "INFO:src.data_collection:number of cores available: 12\n",
      "INFO:src.data_collection:N_JOBS: 10\n",
      "INFO:src.data_collection:number of cores available: 12\n",
      "INFO:src.data_collection:N_JOBS: 10\n",
      "INFO:src.data_collection:number of cores available: 12\n",
      "INFO:src.data_collection:N_JOBS: 10\n",
      "INFO:src.data_collection:number of cores available: 12\n",
      "INFO:src.data_collection:N_JOBS: 10\n",
      "INFO:src.data_collection:number of cores available: 12\n",
      "INFO:src.data_collection:N_JOBS: 10\n",
      "INFO:src.data_collection:number of cores available: 12\n",
      "INFO:src.data_collection:N_JOBS: 10\n",
      "INFO:src.data_collection:number of cores available: 12\n",
      "INFO:src.data_collection:N_JOBS: 10\n",
      "INFO:src.data_collection:number of cores available: 12\n",
      "INFO:src.data_collection:N_JOBS: 10\n",
      "INFO:src.data_collection:number of cores available: 12\n",
      "INFO:src.data_collection:N_JOBS: 10\n",
      " 10%|████████████                                                                                                                | 70/721 [00:06<01:01, 10.51it/s]ERROR:src.data_collection:ERROR READING URL: https://marketplace.spp.org/file-browser-api/download/systemwide-hourly-load-forecast-mtlf-vs-actual-weis?path=%2F2023%2F05%2F04%2FWEIS-OP-MTLF-202305042200.csv\n",
      "ERROR:src.data_collection:\n",
      " 96%|█████████████████████████████████████████████████████████████████████████████████████████████████████████████████████▌     | 689/721 [00:48<00:02, 14.20it/s]ERROR:src.data_collection:ERROR READING URL: https://marketplace.spp.org/file-browser-api/download/systemwide-hourly-load-forecast-mtlf-vs-actual-weis?path=%2F2023%2F05%2F30%2FWEIS-OP-MTLF-202305301900.csv\n",
      "ERROR:src.data_collection:\n",
      " 96%|█████████████████████████████████████████████████████████████████████████████████████████████████████████████████████▋     | 690/721 [00:48<00:02, 14.22it/s]ERROR:src.data_collection:ERROR READING URL: https://marketplace.spp.org/file-browser-api/download/systemwide-hourly-load-forecast-mtlf-vs-actual-weis?path=%2F2023%2F05%2F30%2FWEIS-OP-MTLF-202305301800.csv\n",
      "ERROR:src.data_collection:\n",
      "100%|███████████████████████████████████████████████████████████████████████████████████████████████████████████████████████████| 721/721 [00:50<00:00, 14.29it/s]\n",
      "INFO:src.data_collection:ROWS INSERTED: 744 ROWS UPDATED: 0\n",
      "INFO:src.data_collection:end_ts: 2023-07-01 00:00:00\n",
      "INFO:src.data_collection:n_periods: 721\n"
     ]
    },
    {
     "name": "stdout",
     "output_type": "stream",
     "text": [
      "<class 'pandas.core.frame.DataFrame'>\n",
      "RangeIndex: 913 entries, 0 to 912\n",
      "Data columns (total 5 columns):\n",
      " #   Column           Non-Null Count  Dtype         \n",
      "---  ------           --------------  -----         \n",
      " 0   Interval         913 non-null    datetime64[ns]\n",
      " 1   GMTIntervalEnd   913 non-null    datetime64[ns]\n",
      " 2   MTLF             913 non-null    int64         \n",
      " 3   Averaged_Actual  744 non-null    float64       \n",
      " 4   timestamp_mst    913 non-null    datetime64[ns]\n",
      "dtypes: datetime64[ns](3), float64(1), int64(1)\n",
      "memory usage: 35.8 KB\n"
     ]
    },
    {
     "name": "stderr",
     "output_type": "stream",
     "text": [
      " 11%|█████████████▊                                                                                                              | 80/721 [00:05<00:45, 14.17it/s]ERROR:src.data_collection:ERROR READING URL: https://marketplace.spp.org/file-browser-api/download/systemwide-hourly-load-forecast-mtlf-vs-actual-weis?path=%2F2023%2F06%2F04%2FWEIS-OP-MTLF-202306040900.csv\n",
      "ERROR:src.data_collection:\n",
      " 18%|██████████████████████▎                                                                                                    | 131/721 [00:09<00:43, 13.71it/s]ERROR:src.data_collection:ERROR READING URL: https://marketplace.spp.org/file-browser-api/download/systemwide-hourly-load-forecast-mtlf-vs-actual-weis?path=%2F2023%2F06%2F06%2FWEIS-OP-MTLF-202306061900.csv\n",
      "ERROR:src.data_collection:\n",
      " 18%|██████████████████████▋                                                                                                    | 133/721 [00:09<00:42, 13.77it/s]ERROR:src.data_collection:ERROR READING URL: https://marketplace.spp.org/file-browser-api/download/systemwide-hourly-load-forecast-mtlf-vs-actual-weis?path=%2F2023%2F06%2F06%2FWEIS-OP-MTLF-202306061800.csv\n",
      "ERROR:src.data_collection:\n",
      "100%|███████████████████████████████████████████████████████████████████████████████████████████████████████████████████████████| 721/721 [00:53<00:00, 13.52it/s]\n",
      "INFO:src.data_collection:ROWS INSERTED: 720 ROWS UPDATED: 26\n",
      "INFO:src.data_collection:end_ts: 2023-07-31 00:00:00\n",
      "INFO:src.data_collection:n_periods: 721\n"
     ]
    },
    {
     "name": "stdout",
     "output_type": "stream",
     "text": [
      "<class 'pandas.core.frame.DataFrame'>\n",
      "RangeIndex: 913 entries, 0 to 912\n",
      "Data columns (total 5 columns):\n",
      " #   Column           Non-Null Count  Dtype         \n",
      "---  ------           --------------  -----         \n",
      " 0   Interval         913 non-null    datetime64[ns]\n",
      " 1   GMTIntervalEnd   913 non-null    datetime64[ns]\n",
      " 2   MTLF             913 non-null    int64         \n",
      " 3   Averaged_Actual  746 non-null    float64       \n",
      " 4   timestamp_mst    913 non-null    datetime64[ns]\n",
      "dtypes: datetime64[ns](3), float64(1), int64(1)\n",
      "memory usage: 35.8 KB\n"
     ]
    },
    {
     "name": "stderr",
     "output_type": "stream",
     "text": [
      " 43%|████████████████████████████████████████████████████▎                                                                      | 307/721 [00:21<00:28, 14.29it/s]ERROR:src.data_collection:ERROR READING URL: https://marketplace.spp.org/file-browser-api/download/systemwide-hourly-load-forecast-mtlf-vs-actual-weis?path=%2F2023%2F07%2F13%2FWEIS-OP-MTLF-202307131900.csv\n",
      "ERROR:src.data_collection:\n",
      " 43%|████████████████████████████████████████████████████▌                                                                      | 308/721 [00:21<00:29, 14.17it/s]ERROR:src.data_collection:ERROR READING URL: https://marketplace.spp.org/file-browser-api/download/systemwide-hourly-load-forecast-mtlf-vs-actual-weis?path=%2F2023%2F07%2F13%2FWEIS-OP-MTLF-202307132000.csv\n",
      "ERROR:src.data_collection:\n",
      " 43%|████████████████████████████████████████████████████▋                                                                      | 309/721 [00:21<00:29, 14.19it/s]ERROR:src.data_collection:ERROR READING URL: https://marketplace.spp.org/file-browser-api/download/systemwide-hourly-load-forecast-mtlf-vs-actual-weis?path=%2F2023%2F07%2F13%2FWEIS-OP-MTLF-202307132200.csv\n",
      "ERROR:src.data_collection:\n",
      "ERROR:src.data_collection:ERROR READING URL: https://marketplace.spp.org/file-browser-api/download/systemwide-hourly-load-forecast-mtlf-vs-actual-weis?path=%2F2023%2F07%2F13%2FWEIS-OP-MTLF-202307132100.csv\n",
      "ERROR:src.data_collection:\n",
      " 65%|████████████████████████████████████████████████████████████████████████████████▌                                          | 472/721 [00:33<00:17, 14.21it/s]ERROR:src.data_collection:ERROR READING URL: https://marketplace.spp.org/file-browser-api/download/systemwide-hourly-load-forecast-mtlf-vs-actual-weis?path=%2F2023%2F07%2F20%2FWEIS-OP-MTLF-202307201800.csv\n",
      "ERROR:src.data_collection:\n",
      " 66%|█████████████████████████████████████████████████████████████████████████████████                                          | 475/721 [00:33<00:17, 14.28it/s]ERROR:src.data_collection:ERROR READING URL: https://marketplace.spp.org/file-browser-api/download/systemwide-hourly-load-forecast-mtlf-vs-actual-weis?path=%2F2023%2F07%2F20%2FWEIS-OP-MTLF-202307201900.csv\n",
      "ERROR:src.data_collection:\n",
      "100%|███████████████████████████████████████████████████████████████████████████████████████████████████████████████████████████| 721/721 [00:51<00:00, 14.12it/s]\n",
      "INFO:src.data_collection:ROWS INSERTED: 720 ROWS UPDATED: 26\n",
      "INFO:src.data_collection:end_ts: 2023-08-30 00:00:00\n",
      "INFO:src.data_collection:n_periods: 721\n"
     ]
    },
    {
     "name": "stdout",
     "output_type": "stream",
     "text": [
      "<class 'pandas.core.frame.DataFrame'>\n",
      "RangeIndex: 913 entries, 0 to 912\n",
      "Data columns (total 5 columns):\n",
      " #   Column           Non-Null Count  Dtype         \n",
      "---  ------           --------------  -----         \n",
      " 0   Interval         913 non-null    datetime64[ns]\n",
      " 1   GMTIntervalEnd   913 non-null    datetime64[ns]\n",
      " 2   MTLF             913 non-null    int64         \n",
      " 3   Averaged_Actual  746 non-null    float64       \n",
      " 4   timestamp_mst    913 non-null    datetime64[ns]\n",
      "dtypes: datetime64[ns](3), float64(1), int64(1)\n",
      "memory usage: 35.8 KB\n"
     ]
    },
    {
     "name": "stderr",
     "output_type": "stream",
     "text": [
      " 99%|█████████████████████████████████████████████████████████████████████████████████████████████████████████████████████████▉ | 715/721 [00:51<00:00, 13.80it/s]ERROR:src.data_collection:ERROR READING URL: https://marketplace.spp.org/file-browser-api/download/systemwide-hourly-load-forecast-mtlf-vs-actual-weis?path=%2F2023%2F08%2F29%2FWEIS-OP-MTLF-202308292000.csv\n",
      "ERROR:src.data_collection:\n",
      " 99%|██████████████████████████████████████████████████████████████████████████████████████████████████████████████████████████▏| 716/721 [00:51<00:00, 13.81it/s]ERROR:src.data_collection:ERROR READING URL: https://marketplace.spp.org/file-browser-api/download/systemwide-hourly-load-forecast-mtlf-vs-actual-weis?path=%2F2023%2F08%2F29%2FWEIS-OP-MTLF-202308291900.csv\n",
      "ERROR:src.data_collection:\n",
      " 99%|██████████████████████████████████████████████████████████████████████████████████████████████████████████████████████████▎| 717/721 [00:51<00:00, 13.83it/s]ERROR:src.data_collection:ERROR READING URL: https://marketplace.spp.org/file-browser-api/download/systemwide-hourly-load-forecast-mtlf-vs-actual-weis?path=%2F2023%2F08%2F29%2FWEIS-OP-MTLF-202308292100.csv\n",
      "ERROR:src.data_collection:\n",
      "100%|███████████████████████████████████████████████████████████████████████████████████████████████████████████████████████████| 721/721 [00:52<00:00, 13.77it/s]\n",
      "INFO:src.data_collection:ROWS INSERTED: 720 ROWS UPDATED: 26\n",
      "INFO:src.data_collection:end_ts: 2023-09-29 00:00:00\n",
      "INFO:src.data_collection:n_periods: 721\n"
     ]
    },
    {
     "name": "stdout",
     "output_type": "stream",
     "text": [
      "<class 'pandas.core.frame.DataFrame'>\n",
      "RangeIndex: 913 entries, 0 to 912\n",
      "Data columns (total 5 columns):\n",
      " #   Column           Non-Null Count  Dtype         \n",
      "---  ------           --------------  -----         \n",
      " 0   Interval         913 non-null    datetime64[ns]\n",
      " 1   GMTIntervalEnd   913 non-null    datetime64[ns]\n",
      " 2   MTLF             913 non-null    int64         \n",
      " 3   Averaged_Actual  746 non-null    float64       \n",
      " 4   timestamp_mst    913 non-null    datetime64[ns]\n",
      "dtypes: datetime64[ns](3), float64(1), int64(1)\n",
      "memory usage: 35.8 KB\n"
     ]
    },
    {
     "name": "stderr",
     "output_type": "stream",
     "text": [
      " 29%|███████████████████████████████████▉                                                                                       | 211/721 [00:14<00:35, 14.48it/s]ERROR:src.data_collection:ERROR READING URL: https://marketplace.spp.org/file-browser-api/download/systemwide-hourly-load-forecast-mtlf-vs-actual-weis?path=%2F2023%2F09%2F07%2FWEIS-OP-MTLF-202309072000.csv\n",
      "ERROR:src.data_collection:\n",
      " 53%|████████████████████████████████████████████████████████████████▊                                                          | 380/721 [00:26<00:24, 14.09it/s]ERROR:src.data_collection:ERROR READING URL: https://marketplace.spp.org/file-browser-api/download/systemwide-hourly-load-forecast-mtlf-vs-actual-weis?path=%2F2023%2F09%2F14%2FWEIS-OP-MTLF-202309142000.csv\n",
      "ERROR:src.data_collection:\n",
      " 99%|█████████████████████████████████████████████████████████████████████████████████████████████████████████████████████████▋ | 713/721 [00:49<00:00, 14.31it/s]ERROR:src.data_collection:ERROR READING URL: https://marketplace.spp.org/file-browser-api/download/systemwide-hourly-load-forecast-mtlf-vs-actual-weis?path=%2F2023%2F09%2F28%2FWEIS-OP-MTLF-202309281800.csv\n",
      "ERROR:src.data_collection:\n",
      " 99%|█████████████████████████████████████████████████████████████████████████████████████████████████████████████████████████▊ | 714/721 [00:49<00:00, 14.33it/s]ERROR:src.data_collection:ERROR READING URL: https://marketplace.spp.org/file-browser-api/download/systemwide-hourly-load-forecast-mtlf-vs-actual-weis?path=%2F2023%2F09%2F28%2FWEIS-OP-MTLF-202309281900.csv\n",
      "ERROR:src.data_collection:\n",
      "100%|███████████████████████████████████████████████████████████████████████████████████████████████████████████████████████████| 721/721 [00:52<00:00, 13.76it/s]\n",
      "INFO:src.data_collection:ROWS INSERTED: 720 ROWS UPDATED: 26\n",
      "INFO:src.data_collection:end_ts: 2023-10-29 00:00:00\n",
      "INFO:src.data_collection:n_periods: 721\n"
     ]
    },
    {
     "name": "stdout",
     "output_type": "stream",
     "text": [
      "<class 'pandas.core.frame.DataFrame'>\n",
      "RangeIndex: 913 entries, 0 to 912\n",
      "Data columns (total 5 columns):\n",
      " #   Column           Non-Null Count  Dtype         \n",
      "---  ------           --------------  -----         \n",
      " 0   Interval         913 non-null    datetime64[ns]\n",
      " 1   GMTIntervalEnd   913 non-null    datetime64[ns]\n",
      " 2   MTLF             913 non-null    int64         \n",
      " 3   Averaged_Actual  746 non-null    float64       \n",
      " 4   timestamp_mst    913 non-null    datetime64[ns]\n",
      "dtypes: datetime64[ns](3), float64(1), int64(1)\n",
      "memory usage: 35.8 KB\n"
     ]
    },
    {
     "name": "stderr",
     "output_type": "stream",
     "text": [
      "100%|███████████████████████████████████████████████████████████████████████████████████████████████████████████████████████████| 721/721 [00:50<00:00, 14.28it/s]\n",
      "INFO:src.data_collection:ROWS INSERTED: 720 ROWS UPDATED: 26\n",
      "INFO:src.data_collection:end_ts: 2023-11-28 00:00:00\n",
      "INFO:src.data_collection:n_periods: 721\n",
      "ERROR:src.data_collection:error parsing: 2023-11-05 01:00:00\n"
     ]
    },
    {
     "name": "stdout",
     "output_type": "stream",
     "text": [
      "<class 'pandas.core.frame.DataFrame'>\n",
      "RangeIndex: 913 entries, 0 to 912\n",
      "Data columns (total 5 columns):\n",
      " #   Column           Non-Null Count  Dtype         \n",
      "---  ------           --------------  -----         \n",
      " 0   Interval         913 non-null    datetime64[ns]\n",
      " 1   GMTIntervalEnd   913 non-null    datetime64[ns]\n",
      " 2   MTLF             913 non-null    int64         \n",
      " 3   Averaged_Actual  746 non-null    float64       \n",
      " 4   timestamp_mst    913 non-null    datetime64[ns]\n",
      "dtypes: datetime64[ns](3), float64(1), int64(1)\n",
      "memory usage: 35.8 KB\n"
     ]
    },
    {
     "name": "stderr",
     "output_type": "stream",
     "text": [
      " 79%|████████████████████████████████████████████████████████████████████████████████████████████████▊                          | 567/720 [00:41<00:11, 13.68it/s]ERROR:src.data_collection:ERROR READING URL: https://marketplace.spp.org/file-browser-api/download/systemwide-hourly-load-forecast-mtlf-vs-actual-weis?path=%2F2023%2F11%2F21%2FWEIS-OP-MTLF-202311211800.csv\n",
      "ERROR:src.data_collection:\n",
      "100%|███████████████████████████████████████████████████████████████████████████████████████████████████████████████████████████| 720/720 [00:53<00:00, 13.57it/s]\n",
      "INFO:src.data_collection:ROWS INSERTED: 721 ROWS UPDATED: 26\n",
      "INFO:src.data_collection:end_ts: 2023-12-28 00:00:00\n",
      "INFO:src.data_collection:n_periods: 721\n"
     ]
    },
    {
     "name": "stdout",
     "output_type": "stream",
     "text": [
      "<class 'pandas.core.frame.DataFrame'>\n",
      "RangeIndex: 914 entries, 0 to 913\n",
      "Data columns (total 5 columns):\n",
      " #   Column           Non-Null Count  Dtype         \n",
      "---  ------           --------------  -----         \n",
      " 0   Interval         914 non-null    datetime64[ns]\n",
      " 1   GMTIntervalEnd   914 non-null    datetime64[ns]\n",
      " 2   MTLF             914 non-null    int64         \n",
      " 3   Averaged_Actual  747 non-null    float64       \n",
      " 4   timestamp_mst    914 non-null    datetime64[ns]\n",
      "dtypes: datetime64[ns](3), float64(1), int64(1)\n",
      "memory usage: 35.8 KB\n"
     ]
    },
    {
     "name": "stderr",
     "output_type": "stream",
     "text": [
      "  2%|██▉                                                                                                                         | 17/721 [00:01<01:05, 10.81it/s]ERROR:src.data_collection:ERROR READING URL: https://marketplace.spp.org/file-browser-api/download/systemwide-hourly-load-forecast-mtlf-vs-actual-weis?path=%2F2023%2F11%2F28%2FWEIS-OP-MTLF-202311281900.csv\n",
      "ERROR:src.data_collection:\n",
      "  3%|███▍                                                                                                                        | 20/721 [00:01<00:57, 12.21it/s]ERROR:src.data_collection:ERROR READING URL: https://marketplace.spp.org/file-browser-api/download/systemwide-hourly-load-forecast-mtlf-vs-actual-weis?path=%2F2023%2F11%2F28%2FWEIS-OP-MTLF-202311282200.csv\n",
      "ERROR:src.data_collection:\n",
      "ERROR:src.data_collection:ERROR READING URL: https://marketplace.spp.org/file-browser-api/download/systemwide-hourly-load-forecast-mtlf-vs-actual-weis?path=%2F2023%2F11%2F28%2FWEIS-OP-MTLF-202311282100.csv\n",
      "  3%|███▊                                                                                                                        | 22/721 [00:02<01:04, 10.92it/s]ERROR:src.data_collection:\n",
      "ERROR:src.data_collection:ERROR READING URL: https://marketplace.spp.org/file-browser-api/download/systemwide-hourly-load-forecast-mtlf-vs-actual-weis?path=%2F2023%2F11%2F28%2FWEIS-OP-MTLF-202311282000.csv\n",
      "ERROR:src.data_collection:\n",
      " 72%|█████████████████████████████████████████████████████████████████████████████████████████                                  | 522/721 [00:36<00:13, 14.23it/s]ERROR:src.data_collection:ERROR READING URL: https://marketplace.spp.org/file-browser-api/download/systemwide-hourly-load-forecast-mtlf-vs-actual-weis?path=%2F2023%2F12%2F19%2FWEIS-OP-MTLF-202312191900.csv\n",
      "ERROR:src.data_collection:\n",
      "100%|███████████████████████████████████████████████████████████████████████████████████████████████████████████████████████████| 721/721 [00:51<00:00, 14.12it/s]\n",
      "INFO:src.data_collection:ROWS INSERTED: 720 ROWS UPDATED: 26\n",
      "INFO:src.data_collection:end_ts: 2024-01-27 00:00:00\n",
      "INFO:src.data_collection:n_periods: 721\n"
     ]
    },
    {
     "name": "stdout",
     "output_type": "stream",
     "text": [
      "<class 'pandas.core.frame.DataFrame'>\n",
      "RangeIndex: 913 entries, 0 to 912\n",
      "Data columns (total 5 columns):\n",
      " #   Column           Non-Null Count  Dtype         \n",
      "---  ------           --------------  -----         \n",
      " 0   Interval         913 non-null    datetime64[ns]\n",
      " 1   GMTIntervalEnd   913 non-null    datetime64[ns]\n",
      " 2   MTLF             913 non-null    int64         \n",
      " 3   Averaged_Actual  746 non-null    float64       \n",
      " 4   timestamp_mst    913 non-null    datetime64[ns]\n",
      "dtypes: datetime64[ns](3), float64(1), int64(1)\n",
      "memory usage: 35.8 KB\n"
     ]
    },
    {
     "name": "stderr",
     "output_type": "stream",
     "text": [
      " 49%|████████████████████████████████████████████████████████████▏                                                              | 353/721 [00:24<00:25, 14.17it/s]ERROR:src.data_collection:ERROR READING URL: https://marketplace.spp.org/file-browser-api/download/systemwide-hourly-load-forecast-mtlf-vs-actual-weis?path=%2F2024%2F01%2F11%2FWEIS-OP-MTLF-202401111900.csv\n",
      "ERROR:src.data_collection:\n",
      "100%|███████████████████████████████████████████████████████████████████████████████████████████████████████████████████████████| 721/721 [00:48<00:00, 14.72it/s]\n",
      "INFO:src.data_collection:ROWS INSERTED: 720 ROWS UPDATED: 26\n",
      "INFO:src.data_collection:end_ts: 2024-02-26 00:00:00\n",
      "INFO:src.data_collection:n_periods: 721\n"
     ]
    },
    {
     "name": "stdout",
     "output_type": "stream",
     "text": [
      "<class 'pandas.core.frame.DataFrame'>\n",
      "RangeIndex: 913 entries, 0 to 912\n",
      "Data columns (total 5 columns):\n",
      " #   Column           Non-Null Count  Dtype         \n",
      "---  ------           --------------  -----         \n",
      " 0   Interval         913 non-null    datetime64[ns]\n",
      " 1   GMTIntervalEnd   913 non-null    datetime64[ns]\n",
      " 2   MTLF             913 non-null    int64         \n",
      " 3   Averaged_Actual  746 non-null    float64       \n",
      " 4   timestamp_mst    913 non-null    datetime64[ns]\n",
      "dtypes: datetime64[ns](3), float64(1), int64(1)\n",
      "memory usage: 35.8 KB\n"
     ]
    },
    {
     "name": "stderr",
     "output_type": "stream",
     "text": [
      "100%|███████████████████████████████████████████████████████████████████████████████████████████████████████████████████████████| 721/721 [00:49<00:00, 14.51it/s]\n",
      "INFO:src.data_collection:ROWS INSERTED: 720 ROWS UPDATED: 26\n",
      "INFO:src.data_collection:end_ts: 2024-03-27 00:00:00\n",
      "INFO:src.data_collection:n_periods: 721\n",
      "ERROR:src.data_collection:error parsing: 2024-03-10 02:00:00\n"
     ]
    },
    {
     "name": "stdout",
     "output_type": "stream",
     "text": [
      "<class 'pandas.core.frame.DataFrame'>\n",
      "RangeIndex: 913 entries, 0 to 912\n",
      "Data columns (total 5 columns):\n",
      " #   Column           Non-Null Count  Dtype         \n",
      "---  ------           --------------  -----         \n",
      " 0   Interval         913 non-null    datetime64[ns]\n",
      " 1   GMTIntervalEnd   913 non-null    datetime64[ns]\n",
      " 2   MTLF             913 non-null    int64         \n",
      " 3   Averaged_Actual  746 non-null    float64       \n",
      " 4   timestamp_mst    913 non-null    datetime64[ns]\n",
      "dtypes: datetime64[ns](3), float64(1), int64(1)\n",
      "memory usage: 35.8 KB\n"
     ]
    },
    {
     "name": "stderr",
     "output_type": "stream",
     "text": [
      "  6%|███████▏                                                                                                                    | 42/720 [00:03<00:52, 13.00it/s]ERROR:src.data_collection:ERROR READING URL: https://marketplace.spp.org/file-browser-api/download/systemwide-hourly-load-forecast-mtlf-vs-actual-weis?path=%2F2024%2F02%2F27%2FWEIS-OP-MTLF-202402271800.csv\n",
      "ERROR:src.data_collection:\n",
      " 44%|█████████████████████████████████████████████████████▋                                                                     | 314/720 [00:29<00:38, 10.63it/s]ERROR:src.data_collection:ERROR READING URL: https://marketplace.spp.org/file-browser-api/download/systemwide-hourly-load-forecast-mtlf-vs-actual-weis?path=%2F2024%2F03%2F10%2FWEIS-OP-MTLF-202403100300.csv\n",
      "ERROR:src.data_collection:\n",
      " 52%|████████████████████████████████████████████████████████████████▏                                                          | 376/720 [00:34<00:31, 11.05it/s]ERROR:src.data_collection:ERROR READING URL: https://marketplace.spp.org/file-browser-api/download/systemwide-hourly-load-forecast-mtlf-vs-actual-weis?path=%2F2024%2F03%2F12%2FWEIS-OP-MTLF-202403121900.csv\n",
      "ERROR:src.data_collection:\n",
      "100%|███████████████████████████████████████████████████████████████████████████████████████████████████████████████████████████| 720/720 [01:01<00:00, 11.80it/s]\n",
      "INFO:src.data_collection:ROWS INSERTED: 718 ROWS UPDATED: 26\n",
      "INFO:src.data_collection:end_ts: 2024-04-26 00:00:00\n",
      "INFO:src.data_collection:n_periods: 721\n"
     ]
    },
    {
     "name": "stdout",
     "output_type": "stream",
     "text": [
      "<class 'pandas.core.frame.DataFrame'>\n",
      "RangeIndex: 912 entries, 0 to 911\n",
      "Data columns (total 5 columns):\n",
      " #   Column           Non-Null Count  Dtype         \n",
      "---  ------           --------------  -----         \n",
      " 0   Interval         912 non-null    datetime64[ns]\n",
      " 1   GMTIntervalEnd   912 non-null    datetime64[ns]\n",
      " 2   MTLF             912 non-null    int64         \n",
      " 3   Averaged_Actual  744 non-null    float64       \n",
      " 4   timestamp_mst    912 non-null    datetime64[ns]\n",
      "dtypes: datetime64[ns](3), float64(1), int64(1)\n",
      "memory usage: 35.8 KB\n"
     ]
    },
    {
     "name": "stderr",
     "output_type": "stream",
     "text": [
      "  6%|██████▉                                                                                                                     | 40/721 [00:02<00:48, 14.06it/s]ERROR:src.data_collection:ERROR READING URL: https://marketplace.spp.org/file-browser-api/download/systemwide-hourly-load-forecast-mtlf-vs-actual-weis?path=%2F2024%2F03%2F28%2FWEIS-OP-MTLF-202403281800.csv\n",
      "ERROR:src.data_collection:\n",
      " 66%|█████████████████████████████████████████████████████████████████████████████████▏                                         | 476/721 [00:32<00:16, 14.54it/s]ERROR:src.data_collection:ERROR READING URL: https://marketplace.spp.org/file-browser-api/download/systemwide-hourly-load-forecast-mtlf-vs-actual-weis?path=%2F2024%2F04%2F16%2FWEIS-OP-MTLF-202404160000.csv\n",
      "ERROR:src.data_collection:\n",
      " 92%|████████████████████████████████████████████████████████████████████████████████████████████████████████████████▊          | 661/721 [00:45<00:04, 14.63it/s]ERROR:src.data_collection:ERROR READING URL: https://marketplace.spp.org/file-browser-api/download/systemwide-hourly-load-forecast-mtlf-vs-actual-weis?path=%2F2024%2F04%2F23%2FWEIS-OP-MTLF-202404231900.csv\n",
      "ERROR:src.data_collection:\n",
      "100%|███████████████████████████████████████████████████████████████████████████████████████████████████████████████████████████| 721/721 [00:49<00:00, 14.59it/s]\n",
      "INFO:src.data_collection:ROWS INSERTED: 720 ROWS UPDATED: 26\n",
      "INFO:src.data_collection:end_ts: 2024-05-26 00:00:00\n",
      "INFO:src.data_collection:n_periods: 721\n"
     ]
    },
    {
     "name": "stdout",
     "output_type": "stream",
     "text": [
      "<class 'pandas.core.frame.DataFrame'>\n",
      "RangeIndex: 913 entries, 0 to 912\n",
      "Data columns (total 5 columns):\n",
      " #   Column           Non-Null Count  Dtype         \n",
      "---  ------           --------------  -----         \n",
      " 0   Interval         913 non-null    datetime64[ns]\n",
      " 1   GMTIntervalEnd   913 non-null    datetime64[ns]\n",
      " 2   MTLF             913 non-null    int64         \n",
      " 3   Averaged_Actual  746 non-null    float64       \n",
      " 4   timestamp_mst    913 non-null    datetime64[ns]\n",
      "dtypes: datetime64[ns](3), float64(1), int64(1)\n",
      "memory usage: 35.8 KB\n"
     ]
    },
    {
     "name": "stderr",
     "output_type": "stream",
     "text": [
      " 53%|████████████████████████████████████████████████████████████████▊                                                          | 380/721 [00:25<00:22, 14.98it/s]ERROR:src.data_collection:ERROR READING URL: https://marketplace.spp.org/file-browser-api/download/systemwide-hourly-load-forecast-mtlf-vs-actual-weis?path=%2F2024%2F05%2F12%2FWEIS-OP-MTLF-202405120000.csv\n",
      "ERROR:src.data_collection:\n",
      "100%|███████████████████████████████████████████████████████████████████████████████████████████████████████████████████████████| 721/721 [00:49<00:00, 14.60it/s]\n",
      "INFO:src.data_collection:ROWS INSERTED: 720 ROWS UPDATED: 26\n",
      "INFO:src.data_collection:end_ts: 2024-06-25 00:00:00\n",
      "INFO:src.data_collection:n_periods: 721\n"
     ]
    },
    {
     "name": "stdout",
     "output_type": "stream",
     "text": [
      "<class 'pandas.core.frame.DataFrame'>\n",
      "RangeIndex: 913 entries, 0 to 912\n",
      "Data columns (total 5 columns):\n",
      " #   Column           Non-Null Count  Dtype         \n",
      "---  ------           --------------  -----         \n",
      " 0   Interval         913 non-null    datetime64[ns]\n",
      " 1   GMTIntervalEnd   913 non-null    datetime64[ns]\n",
      " 2   MTLF             913 non-null    int64         \n",
      " 3   Averaged_Actual  746 non-null    float64       \n",
      " 4   timestamp_mst    913 non-null    datetime64[ns]\n",
      "dtypes: datetime64[ns](3), float64(1), int64(1)\n",
      "memory usage: 35.8 KB\n"
     ]
    },
    {
     "name": "stderr",
     "output_type": "stream",
     "text": [
      "  9%|██████████▊                                                                                                                 | 63/721 [00:05<00:53, 12.26it/s]ERROR:src.data_collection:ERROR READING URL: https://marketplace.spp.org/file-browser-api/download/systemwide-hourly-load-forecast-mtlf-vs-actual-weis?path=%2F2024%2F05%2F28%2FWEIS-OP-MTLF-202405281800.csv\n",
      "ERROR:src.data_collection:\n",
      "  9%|███████████▌                                                                                                                | 67/721 [00:05<00:51, 12.79it/s]ERROR:src.data_collection:ERROR READING URL: https://marketplace.spp.org/file-browser-api/download/systemwide-hourly-load-forecast-mtlf-vs-actual-weis?path=%2F2024%2F05%2F28%2FWEIS-OP-MTLF-202405281900.csv\n",
      "ERROR:src.data_collection:\n",
      " 62%|████████████████████████████████████████████████████████████████████████████▍                                              | 448/721 [00:32<00:19, 13.71it/s]ERROR:src.data_collection:ERROR READING URL: https://marketplace.spp.org/file-browser-api/download/systemwide-hourly-load-forecast-mtlf-vs-actual-weis?path=%2F2024%2F06%2F13%2FWEIS-OP-MTLF-202406131900.csv\n",
      "ERROR:src.data_collection:\n",
      " 62%|████████████████████████████████████████████████████████████████████████████▌                                              | 449/721 [00:32<00:19, 13.66it/s]ERROR:src.data_collection:ERROR READING URL: https://marketplace.spp.org/file-browser-api/download/systemwide-hourly-load-forecast-mtlf-vs-actual-weis?path=%2F2024%2F06%2F13%2FWEIS-OP-MTLF-202406131800.csv\n",
      "ERROR:src.data_collection:\n",
      "100%|███████████████████████████████████████████████████████████████████████████████████████████████████████████████████████████| 721/721 [00:52<00:00, 13.77it/s]\n",
      "INFO:src.data_collection:ROWS INSERTED: 720 ROWS UPDATED: 26\n",
      "INFO:src.data_collection:end_ts: 2024-07-25 00:00:00\n",
      "INFO:src.data_collection:n_periods: 721\n"
     ]
    },
    {
     "name": "stdout",
     "output_type": "stream",
     "text": [
      "<class 'pandas.core.frame.DataFrame'>\n",
      "RangeIndex: 913 entries, 0 to 912\n",
      "Data columns (total 5 columns):\n",
      " #   Column           Non-Null Count  Dtype         \n",
      "---  ------           --------------  -----         \n",
      " 0   Interval         913 non-null    datetime64[ns]\n",
      " 1   GMTIntervalEnd   913 non-null    datetime64[ns]\n",
      " 2   MTLF             913 non-null    int64         \n",
      " 3   Averaged_Actual  746 non-null    float64       \n",
      " 4   timestamp_mst    913 non-null    datetime64[ns]\n",
      "dtypes: datetime64[ns](3), float64(1), int64(1)\n",
      "memory usage: 35.8 KB\n"
     ]
    },
    {
     "name": "stderr",
     "output_type": "stream",
     "text": [
      "  2%|██                                                                                                                          | 12/721 [00:01<01:15,  9.36it/s]ERROR:src.data_collection:ERROR READING URL: https://marketplace.spp.org/file-browser-api/download/systemwide-hourly-load-forecast-mtlf-vs-actual-weis?path=%2F2024%2F06%2F25%2FWEIS-OP-MTLF-202406251900.csv\n",
      "ERROR:src.data_collection:\n",
      " 95%|█████████████████████████████████████████████████████████████████████████████████████████████████████████████████████▎     | 688/721 [00:47<00:02, 14.45it/s]ERROR:src.data_collection:ERROR READING URL: https://marketplace.spp.org/file-browser-api/download/systemwide-hourly-load-forecast-mtlf-vs-actual-weis?path=%2F2024%2F07%2F23%2FWEIS-OP-MTLF-202407231800.csv\n",
      "ERROR:src.data_collection:\n",
      "100%|███████████████████████████████████████████████████████████████████████████████████████████████████████████████████████████| 721/721 [00:49<00:00, 14.44it/s]\n",
      "INFO:src.data_collection:ROWS INSERTED: 720 ROWS UPDATED: 26\n",
      "INFO:src.data_collection:end_ts: 2024-08-24 00:00:00\n",
      "INFO:src.data_collection:n_periods: 721\n"
     ]
    },
    {
     "name": "stdout",
     "output_type": "stream",
     "text": [
      "<class 'pandas.core.frame.DataFrame'>\n",
      "RangeIndex: 913 entries, 0 to 912\n",
      "Data columns (total 5 columns):\n",
      " #   Column           Non-Null Count  Dtype         \n",
      "---  ------           --------------  -----         \n",
      " 0   Interval         913 non-null    datetime64[ns]\n",
      " 1   GMTIntervalEnd   913 non-null    datetime64[ns]\n",
      " 2   MTLF             913 non-null    int64         \n",
      " 3   Averaged_Actual  746 non-null    float64       \n",
      " 4   timestamp_mst    913 non-null    datetime64[ns]\n",
      "dtypes: datetime64[ns](3), float64(1), int64(1)\n",
      "memory usage: 35.8 KB\n"
     ]
    },
    {
     "name": "stderr",
     "output_type": "stream",
     "text": [
      "  2%|██▌                                                                                                                         | 15/721 [00:01<01:29,  7.90it/s]ERROR:src.data_collection:ERROR READING URL: https://marketplace.spp.org/file-browser-api/download/systemwide-hourly-load-forecast-mtlf-vs-actual-weis?path=%2F2024%2F07%2F25%2FWEIS-OP-MTLF-202407251800.csv\n",
      "ERROR:src.data_collection:\n",
      "  3%|███▎                                                                                                                        | 19/721 [00:02<01:16,  9.18it/s]ERROR:src.data_collection:ERROR READING URL: https://marketplace.spp.org/file-browser-api/download/systemwide-hourly-load-forecast-mtlf-vs-actual-weis?path=%2F2024%2F07%2F25%2FWEIS-OP-MTLF-202407251900.csv\n",
      "ERROR:src.data_collection:\n",
      "100%|███████████████████████████████████████████████████████████████████████████████████████████████████████████████████████████| 721/721 [00:52<00:00, 13.72it/s]\n",
      "INFO:src.data_collection:ROWS INSERTED: 720 ROWS UPDATED: 26\n"
     ]
    },
    {
     "name": "stdout",
     "output_type": "stream",
     "text": [
      "<class 'pandas.core.frame.DataFrame'>\n",
      "RangeIndex: 913 entries, 0 to 912\n",
      "Data columns (total 5 columns):\n",
      " #   Column           Non-Null Count  Dtype         \n",
      "---  ------           --------------  -----         \n",
      " 0   Interval         913 non-null    datetime64[ns]\n",
      " 1   GMTIntervalEnd   913 non-null    datetime64[ns]\n",
      " 2   MTLF             913 non-null    int64         \n",
      " 3   Averaged_Actual  746 non-null    float64       \n",
      " 4   timestamp_mst    913 non-null    datetime64[ns]\n",
      "dtypes: datetime64[ns](3), float64(1), int64(1)\n",
      "memory usage: 35.8 KB\n"
     ]
    }
   ],
   "source": [
    "for d in day_list:\n",
    "    dc.collect_upsert_mtlf(end_ts=d, n_periods=24*num_day_step+1, backfill=True)"
   ]
  },
  {
   "cell_type": "code",
   "execution_count": null,
   "metadata": {
    "application/vnd.databricks.v1+cell": {
     "cellMetadata": {},
     "inputWidgets": {},
     "nuid": "9c247c1a-1303-4e72-b4bc-460b9cbabc8e",
     "showTitle": false,
     "title": ""
    }
   },
   "outputs": [],
   "source": []
  },
  {
   "cell_type": "markdown",
   "metadata": {
    "application/vnd.databricks.v1+cell": {
     "cellMetadata": {},
     "inputWidgets": {},
     "nuid": "e3c23999-3dea-491e-ac34-94bc0f39e1f5",
     "showTitle": false,
     "title": ""
    }
   },
   "source": [
    "## Mid Term Resource Forecast\n",
    "\n",
    "![_](../../imgs/mtrf.PNG)"
   ]
  },
  {
   "cell_type": "code",
   "execution_count": 7,
   "metadata": {
    "application/vnd.databricks.v1+cell": {
     "cellMetadata": {},
     "inputWidgets": {},
     "nuid": "7ac0f3f6-fd16-4da6-8a99-a9188392a29e",
     "showTitle": false,
     "title": ""
    }
   },
   "outputs": [
    {
     "name": "stderr",
     "output_type": "stream",
     "text": [
      "INFO:src.data_collection:end_ts: 2023-06-01 00:00:00\n",
      "INFO:src.data_collection:n_periods: 721\n",
      "  7%|████████▌                                                                                                                   | 50/721 [00:03<00:44, 15.22it/s]ERROR:src.data_collection:ERROR READING URL: https://marketplace.spp.org/file-browser-api/download/mid-term-resource-forecast-mtrf-weis?path=%2F2023%2F05%2F04%2FWEIS-OP-MTRF-202305040200.csv\n",
      "ERROR:src.data_collection:\n",
      " 10%|████████████                                                                                                                | 70/721 [00:04<00:41, 15.59it/s]ERROR:src.data_collection:ERROR READING URL: https://marketplace.spp.org/file-browser-api/download/mid-term-resource-forecast-mtrf-weis?path=%2F2023%2F05%2F04%2FWEIS-OP-MTRF-202305042200.csv\n",
      "ERROR:src.data_collection:\n",
      " 50%|█████████████████████████████████████████████████████████████▌                                                             | 361/721 [00:24<00:24, 14.52it/s]ERROR:src.data_collection:ERROR READING URL: https://marketplace.spp.org/file-browser-api/download/mid-term-resource-forecast-mtrf-weis?path=%2F2023%2F05%2F17%2FWEIS-OP-MTRF-202305170200.csv\n",
      "ERROR:src.data_collection:\n",
      " 72%|████████████████████████████████████████████████████████████████████████████████████████▉                                  | 521/721 [00:35<00:13, 14.58it/s]ERROR:src.data_collection:ERROR READING URL: https://marketplace.spp.org/file-browser-api/download/mid-term-resource-forecast-mtrf-weis?path=%2F2023%2F05%2F23%2FWEIS-OP-MTRF-202305232200.csv\n",
      "ERROR:src.data_collection:\n",
      " 96%|█████████████████████████████████████████████████████████████████████████████████████████████████████████████████████▋     | 690/721 [00:47<00:02, 14.55it/s]ERROR:src.data_collection:ERROR READING URL: https://marketplace.spp.org/file-browser-api/download/mid-term-resource-forecast-mtrf-weis?path=%2F2023%2F05%2F30%2FWEIS-OP-MTRF-202305301800.csv\n",
      "ERROR:src.data_collection:\n",
      " 96%|█████████████████████████████████████████████████████████████████████████████████████████████████████████████████████▉     | 691/721 [00:47<00:02, 14.56it/s]ERROR:src.data_collection:ERROR READING URL: https://marketplace.spp.org/file-browser-api/download/mid-term-resource-forecast-mtrf-weis?path=%2F2023%2F05%2F30%2FWEIS-OP-MTRF-202305301900.csv\n",
      "ERROR:src.data_collection:\n",
      "100%|███████████████████████████████████████████████████████████████████████████████████████████████████████████████████████████| 721/721 [00:49<00:00, 14.50it/s]\n",
      "INFO:src.data_collection:ROWS INSERTED: 913 ROWS UPDATED: 0\n",
      "INFO:src.data_collection:end_ts: 2023-07-01 00:00:00\n",
      "INFO:src.data_collection:n_periods: 721\n"
     ]
    },
    {
     "name": "stdout",
     "output_type": "stream",
     "text": [
      "<class 'pandas.core.frame.DataFrame'>\n",
      "RangeIndex: 914 entries, 0 to 913\n",
      "Data columns (total 5 columns):\n",
      " #   Column             Non-Null Count  Dtype         \n",
      "---  ------             --------------  -----         \n",
      " 0   Interval           914 non-null    datetime64[ns]\n",
      " 1   GMTIntervalEnd     914 non-null    datetime64[ns]\n",
      " 2   Wind_Forecast_MW   913 non-null    float64       \n",
      " 3   Solar_Forecast_MW  913 non-null    float64       \n",
      " 4   timestamp_mst      914 non-null    datetime64[ns]\n",
      "dtypes: datetime64[ns](3), float64(2)\n",
      "memory usage: 35.8 KB\n"
     ]
    },
    {
     "name": "stderr",
     "output_type": "stream",
     "text": [
      " 19%|███████████████████████▏                                                                                                   | 136/721 [00:09<00:40, 14.60it/s]ERROR:src.data_collection:ERROR READING URL: https://marketplace.spp.org/file-browser-api/download/mid-term-resource-forecast-mtrf-weis?path=%2F2023%2F06%2F06%2FWEIS-OP-MTRF-202306061900.csv\n",
      "ERROR:src.data_collection:\n",
      " 19%|███████████████████████▎                                                                                                   | 137/721 [00:09<00:40, 14.26it/s]ERROR:src.data_collection:ERROR READING URL: https://marketplace.spp.org/file-browser-api/download/mid-term-resource-forecast-mtrf-weis?path=%2F2023%2F06%2F06%2FWEIS-OP-MTRF-202306061800.csv\n",
      "ERROR:src.data_collection:\n",
      "100%|███████████████████████████████████████████████████████████████████████████████████████████████████████████████████████████| 721/721 [00:51<00:00, 13.93it/s]\n",
      "INFO:src.data_collection:ROWS INSERTED: 720 ROWS UPDATED: 193\n",
      "INFO:src.data_collection:end_ts: 2023-07-31 00:00:00\n",
      "INFO:src.data_collection:n_periods: 721\n"
     ]
    },
    {
     "name": "stdout",
     "output_type": "stream",
     "text": [
      "<class 'pandas.core.frame.DataFrame'>\n",
      "RangeIndex: 914 entries, 0 to 913\n",
      "Data columns (total 5 columns):\n",
      " #   Column             Non-Null Count  Dtype         \n",
      "---  ------             --------------  -----         \n",
      " 0   Interval           914 non-null    datetime64[ns]\n",
      " 1   GMTIntervalEnd     914 non-null    datetime64[ns]\n",
      " 2   Wind_Forecast_MW   913 non-null    float64       \n",
      " 3   Solar_Forecast_MW  913 non-null    float64       \n",
      " 4   timestamp_mst      914 non-null    datetime64[ns]\n",
      "dtypes: datetime64[ns](3), float64(2)\n",
      "memory usage: 35.8 KB\n"
     ]
    },
    {
     "name": "stderr",
     "output_type": "stream",
     "text": [
      " 42%|███████████████████████████████████████████████████▊                                                                       | 304/721 [00:22<00:30, 13.47it/s]ERROR:src.data_collection:ERROR READING URL: https://marketplace.spp.org/file-browser-api/download/mid-term-resource-forecast-mtrf-weis?path=%2F2023%2F07%2F13%2FWEIS-OP-MTRF-202307131900.csv\n",
      "ERROR:src.data_collection:\n",
      " 42%|████████████████████████████████████████████████████                                                                       | 305/721 [00:22<00:31, 13.36it/s]ERROR:src.data_collection:ERROR READING URL: https://marketplace.spp.org/file-browser-api/download/mid-term-resource-forecast-mtrf-weis?path=%2F2023%2F07%2F13%2FWEIS-OP-MTRF-202307132100.csv\n",
      "ERROR:src.data_collection:\n",
      " 42%|████████████████████████████████████████████████████▏                                                                      | 306/721 [00:22<00:30, 13.40it/s]ERROR:src.data_collection:ERROR READING URL: https://marketplace.spp.org/file-browser-api/download/mid-term-resource-forecast-mtrf-weis?path=%2F2023%2F07%2F13%2FWEIS-OP-MTRF-202307132200.csv\n",
      "ERROR:src.data_collection:\n",
      "ERROR:src.data_collection:ERROR READING URL: https://marketplace.spp.org/file-browser-api/download/mid-term-resource-forecast-mtrf-weis?path=%2F2023%2F07%2F13%2FWEIS-OP-MTRF-202307132000.csv\n",
      "ERROR:src.data_collection:\n",
      " 66%|████████████████████████████████████████████████████████████████████████████████▋                                          | 473/721 [00:37<00:19, 12.56it/s]ERROR:src.data_collection:ERROR READING URL: https://marketplace.spp.org/file-browser-api/download/mid-term-resource-forecast-mtrf-weis?path=%2F2023%2F07%2F20%2FWEIS-OP-MTRF-202307201800.csv\n",
      "ERROR:src.data_collection:\n",
      " 66%|████████████████████████████████████████████████████████████████████████████████▊                                          | 474/721 [00:37<00:19, 12.48it/s]ERROR:src.data_collection:ERROR READING URL: https://marketplace.spp.org/file-browser-api/download/mid-term-resource-forecast-mtrf-weis?path=%2F2023%2F07%2F20%2FWEIS-OP-MTRF-202307201900.csv\n",
      "ERROR:src.data_collection:\n",
      "100%|███████████████████████████████████████████████████████████████████████████████████████████████████████████████████████████| 721/721 [00:58<00:00, 12.29it/s]\n",
      "INFO:src.data_collection:ROWS INSERTED: 720 ROWS UPDATED: 193\n",
      "INFO:src.data_collection:end_ts: 2023-08-30 00:00:00\n",
      "INFO:src.data_collection:n_periods: 721\n"
     ]
    },
    {
     "name": "stdout",
     "output_type": "stream",
     "text": [
      "<class 'pandas.core.frame.DataFrame'>\n",
      "RangeIndex: 914 entries, 0 to 913\n",
      "Data columns (total 5 columns):\n",
      " #   Column             Non-Null Count  Dtype         \n",
      "---  ------             --------------  -----         \n",
      " 0   Interval           914 non-null    datetime64[ns]\n",
      " 1   GMTIntervalEnd     914 non-null    datetime64[ns]\n",
      " 2   Wind_Forecast_MW   913 non-null    float64       \n",
      " 3   Solar_Forecast_MW  913 non-null    float64       \n",
      " 4   timestamp_mst      914 non-null    datetime64[ns]\n",
      "dtypes: datetime64[ns](3), float64(2)\n",
      "memory usage: 35.8 KB\n"
     ]
    },
    {
     "name": "stderr",
     "output_type": "stream",
     "text": [
      " 99%|█████████████████████████████████████████████████████████████████████████████████████████████████████████████████████████▋ | 713/721 [00:51<00:00, 13.97it/s]ERROR:src.data_collection:ERROR READING URL: https://marketplace.spp.org/file-browser-api/download/mid-term-resource-forecast-mtrf-weis?path=%2F2023%2F08%2F29%2FWEIS-OP-MTRF-202308291800.csv\n",
      "ERROR:src.data_collection:\n",
      " 99%|█████████████████████████████████████████████████████████████████████████████████████████████████████████████████████████▉ | 715/721 [00:51<00:00, 13.92it/s]ERROR:src.data_collection:ERROR READING URL: https://marketplace.spp.org/file-browser-api/download/mid-term-resource-forecast-mtrf-weis?path=%2F2023%2F08%2F29%2FWEIS-OP-MTRF-202308292000.csv\n",
      "ERROR:src.data_collection:\n",
      " 99%|██████████████████████████████████████████████████████████████████████████████████████████████████████████████████████████▏| 716/721 [00:51<00:00, 13.89it/s]ERROR:src.data_collection:ERROR READING URL: https://marketplace.spp.org/file-browser-api/download/mid-term-resource-forecast-mtrf-weis?path=%2F2023%2F08%2F29%2FWEIS-OP-MTRF-202308292100.csv\n",
      "ERROR:src.data_collection:\n",
      " 99%|██████████████████████████████████████████████████████████████████████████████████████████████████████████████████████████▎| 717/721 [00:51<00:00, 13.90it/s]ERROR:src.data_collection:ERROR READING URL: https://marketplace.spp.org/file-browser-api/download/mid-term-resource-forecast-mtrf-weis?path=%2F2023%2F08%2F29%2FWEIS-OP-MTRF-202308291900.csv\n",
      "ERROR:src.data_collection:\n",
      "100%|███████████████████████████████████████████████████████████████████████████████████████████████████████████████████████████| 721/721 [00:51<00:00, 13.96it/s]\n",
      "INFO:src.data_collection:ROWS INSERTED: 720 ROWS UPDATED: 193\n",
      "INFO:src.data_collection:end_ts: 2023-09-29 00:00:00\n",
      "INFO:src.data_collection:n_periods: 721\n"
     ]
    },
    {
     "name": "stdout",
     "output_type": "stream",
     "text": [
      "<class 'pandas.core.frame.DataFrame'>\n",
      "RangeIndex: 914 entries, 0 to 913\n",
      "Data columns (total 5 columns):\n",
      " #   Column             Non-Null Count  Dtype         \n",
      "---  ------             --------------  -----         \n",
      " 0   Interval           914 non-null    datetime64[ns]\n",
      " 1   GMTIntervalEnd     914 non-null    datetime64[ns]\n",
      " 2   Wind_Forecast_MW   913 non-null    float64       \n",
      " 3   Solar_Forecast_MW  913 non-null    float64       \n",
      " 4   timestamp_mst      914 non-null    datetime64[ns]\n",
      "dtypes: datetime64[ns](3), float64(2)\n",
      "memory usage: 35.8 KB\n"
     ]
    },
    {
     "name": "stderr",
     "output_type": "stream",
     "text": [
      " 29%|███████████████████████████████████▉                                                                                       | 211/721 [00:15<00:36, 13.94it/s]ERROR:src.data_collection:ERROR READING URL: https://marketplace.spp.org/file-browser-api/download/mid-term-resource-forecast-mtrf-weis?path=%2F2023%2F09%2F07%2FWEIS-OP-MTRF-202309072000.csv\n",
      "ERROR:src.data_collection:\n",
      " 53%|████████████████████████████████████████████████████████████████▋                                                          | 379/721 [00:26<00:23, 14.43it/s]ERROR:src.data_collection:ERROR READING URL: https://marketplace.spp.org/file-browser-api/download/mid-term-resource-forecast-mtrf-weis?path=%2F2023%2F09%2F14%2FWEIS-OP-MTRF-202309142000.csv\n",
      "ERROR:src.data_collection:\n",
      " 98%|████████████████████████████████████████████████████████████████████████████████████████████████████████████████████████▊  | 708/721 [00:50<00:00, 14.02it/s]ERROR:src.data_collection:ERROR READING URL: https://marketplace.spp.org/file-browser-api/download/mid-term-resource-forecast-mtrf-weis?path=%2F2023%2F09%2F28%2FWEIS-OP-MTRF-202309281800.csv\n",
      "ERROR:src.data_collection:\n",
      " 99%|█████████████████████████████████████████████████████████████████████████████████████████████████████████████████████████▉ | 715/721 [00:50<00:00, 14.13it/s]ERROR:src.data_collection:ERROR READING URL: https://marketplace.spp.org/file-browser-api/download/mid-term-resource-forecast-mtrf-weis?path=%2F2023%2F09%2F28%2FWEIS-OP-MTRF-202309281900.csv\n",
      "ERROR:src.data_collection:\n",
      "100%|███████████████████████████████████████████████████████████████████████████████████████████████████████████████████████████| 721/721 [00:51<00:00, 14.09it/s]\n",
      "INFO:src.data_collection:ROWS INSERTED: 720 ROWS UPDATED: 193\n",
      "INFO:src.data_collection:end_ts: 2023-10-29 00:00:00\n",
      "INFO:src.data_collection:n_periods: 721\n"
     ]
    },
    {
     "name": "stdout",
     "output_type": "stream",
     "text": [
      "<class 'pandas.core.frame.DataFrame'>\n",
      "RangeIndex: 914 entries, 0 to 913\n",
      "Data columns (total 5 columns):\n",
      " #   Column             Non-Null Count  Dtype         \n",
      "---  ------             --------------  -----         \n",
      " 0   Interval           914 non-null    datetime64[ns]\n",
      " 1   GMTIntervalEnd     914 non-null    datetime64[ns]\n",
      " 2   Wind_Forecast_MW   913 non-null    float64       \n",
      " 3   Solar_Forecast_MW  913 non-null    float64       \n",
      " 4   timestamp_mst      914 non-null    datetime64[ns]\n",
      "dtypes: datetime64[ns](3), float64(2)\n",
      "memory usage: 35.8 KB\n"
     ]
    },
    {
     "name": "stderr",
     "output_type": "stream",
     "text": [
      "100%|███████████████████████████████████████████████████████████████████████████████████████████████████████████████████████████| 721/721 [00:49<00:00, 14.50it/s]\n",
      "INFO:src.data_collection:ROWS INSERTED: 720 ROWS UPDATED: 193\n",
      "INFO:src.data_collection:end_ts: 2023-11-28 00:00:00\n",
      "INFO:src.data_collection:n_periods: 721\n",
      "ERROR:src.data_collection:error parsing: 2023-11-05 01:00:00\n"
     ]
    },
    {
     "name": "stdout",
     "output_type": "stream",
     "text": [
      "<class 'pandas.core.frame.DataFrame'>\n",
      "RangeIndex: 914 entries, 0 to 913\n",
      "Data columns (total 5 columns):\n",
      " #   Column             Non-Null Count  Dtype         \n",
      "---  ------             --------------  -----         \n",
      " 0   Interval           914 non-null    datetime64[ns]\n",
      " 1   GMTIntervalEnd     914 non-null    datetime64[ns]\n",
      " 2   Wind_Forecast_MW   913 non-null    float64       \n",
      " 3   Solar_Forecast_MW  913 non-null    float64       \n",
      " 4   timestamp_mst      914 non-null    datetime64[ns]\n",
      "dtypes: datetime64[ns](3), float64(2)\n",
      "memory usage: 35.8 KB\n"
     ]
    },
    {
     "name": "stderr",
     "output_type": "stream",
     "text": [
      " 79%|█████████████████████████████████████████████████████████████████████████████████████████████████▏                         | 569/720 [00:40<00:10, 14.04it/s]ERROR:src.data_collection:ERROR READING URL: https://marketplace.spp.org/file-browser-api/download/mid-term-resource-forecast-mtrf-weis?path=%2F2023%2F11%2F21%2FWEIS-OP-MTRF-202311211800.csv\n",
      "ERROR:src.data_collection:\n",
      "100%|███████████████████████████████████████████████████████████████████████████████████████████████████████████████████████████| 720/720 [00:52<00:00, 13.74it/s]\n",
      "INFO:src.data_collection:ROWS INSERTED: 721 ROWS UPDATED: 193\n",
      "INFO:src.data_collection:end_ts: 2023-12-28 00:00:00\n",
      "INFO:src.data_collection:n_periods: 721\n"
     ]
    },
    {
     "name": "stdout",
     "output_type": "stream",
     "text": [
      "<class 'pandas.core.frame.DataFrame'>\n",
      "RangeIndex: 915 entries, 0 to 914\n",
      "Data columns (total 5 columns):\n",
      " #   Column             Non-Null Count  Dtype         \n",
      "---  ------             --------------  -----         \n",
      " 0   Interval           915 non-null    datetime64[ns]\n",
      " 1   GMTIntervalEnd     915 non-null    datetime64[ns]\n",
      " 2   Wind_Forecast_MW   914 non-null    float64       \n",
      " 3   Solar_Forecast_MW  914 non-null    float64       \n",
      " 4   timestamp_mst      915 non-null    datetime64[ns]\n",
      "dtypes: datetime64[ns](3), float64(2)\n",
      "memory usage: 35.9 KB\n"
     ]
    },
    {
     "name": "stderr",
     "output_type": "stream",
     "text": [
      "  2%|███                                                                                                                         | 18/721 [00:01<01:01, 11.34it/s]ERROR:src.data_collection:ERROR READING URL: https://marketplace.spp.org/file-browser-api/download/mid-term-resource-forecast-mtrf-weis?path=%2F2023%2F11%2F28%2FWEIS-OP-MTRF-202311281900.csv\n",
      "ERROR:src.data_collection:\n",
      "  3%|███▍                                                                                                                        | 20/721 [00:01<00:57, 12.21it/s]ERROR:src.data_collection:ERROR READING URL: https://marketplace.spp.org/file-browser-api/download/mid-term-resource-forecast-mtrf-weis?path=%2F2023%2F11%2F28%2FWEIS-OP-MTRF-202311282200.csv\n",
      "ERROR:src.data_collection:\n",
      "  3%|███▌                                                                                                                        | 21/721 [00:02<01:10,  9.96it/s]ERROR:src.data_collection:ERROR READING URL: https://marketplace.spp.org/file-browser-api/download/mid-term-resource-forecast-mtrf-weis?path=%2F2023%2F11%2F28%2FWEIS-OP-MTRF-202311282100.csv\n",
      "ERROR:src.data_collection:\n",
      "  3%|███▉                                                                                                                        | 23/721 [00:02<01:05, 10.72it/s]ERROR:src.data_collection:ERROR READING URL: https://marketplace.spp.org/file-browser-api/download/mid-term-resource-forecast-mtrf-weis?path=%2F2023%2F11%2F28%2FWEIS-OP-MTRF-202311282000.csv\n",
      "ERROR:src.data_collection:\n",
      " 72%|████████████████████████████████████████████████████████████████████████████████████████▋                                  | 520/721 [00:36<00:14, 14.32it/s]ERROR:src.data_collection:ERROR READING URL: https://marketplace.spp.org/file-browser-api/download/mid-term-resource-forecast-mtrf-weis?path=%2F2023%2F12%2F19%2FWEIS-OP-MTRF-202312191800.csv\n",
      "ERROR:src.data_collection:\n",
      " 72%|████████████████████████████████████████████████████████████████████████████████████████▉                                  | 521/721 [00:36<00:13, 14.31it/s]ERROR:src.data_collection:ERROR READING URL: https://marketplace.spp.org/file-browser-api/download/mid-term-resource-forecast-mtrf-weis?path=%2F2023%2F12%2F19%2FWEIS-OP-MTRF-202312191900.csv\n",
      "ERROR:src.data_collection:\n",
      "100%|███████████████████████████████████████████████████████████████████████████████████████████████████████████████████████████| 721/721 [00:50<00:00, 14.26it/s]\n",
      "INFO:src.data_collection:ROWS INSERTED: 720 ROWS UPDATED: 193\n",
      "INFO:src.data_collection:end_ts: 2024-01-27 00:00:00\n",
      "INFO:src.data_collection:n_periods: 721\n"
     ]
    },
    {
     "name": "stdout",
     "output_type": "stream",
     "text": [
      "<class 'pandas.core.frame.DataFrame'>\n",
      "RangeIndex: 914 entries, 0 to 913\n",
      "Data columns (total 5 columns):\n",
      " #   Column             Non-Null Count  Dtype         \n",
      "---  ------             --------------  -----         \n",
      " 0   Interval           914 non-null    datetime64[ns]\n",
      " 1   GMTIntervalEnd     914 non-null    datetime64[ns]\n",
      " 2   Wind_Forecast_MW   913 non-null    float64       \n",
      " 3   Solar_Forecast_MW  913 non-null    float64       \n",
      " 4   timestamp_mst      914 non-null    datetime64[ns]\n",
      "dtypes: datetime64[ns](3), float64(2)\n",
      "memory usage: 35.8 KB\n"
     ]
    },
    {
     "name": "stderr",
     "output_type": "stream",
     "text": [
      " 49%|███████████████████████████████████████████████████████████▋                                                               | 350/721 [00:26<00:27, 13.36it/s]ERROR:src.data_collection:ERROR READING URL: https://marketplace.spp.org/file-browser-api/download/mid-term-resource-forecast-mtrf-weis?path=%2F2024%2F01%2F11%2FWEIS-OP-MTRF-202401111900.csv\n",
      "ERROR:src.data_collection:\n",
      " 49%|███████████████████████████████████████████████████████████▉                                                               | 351/721 [00:26<00:27, 13.36it/s]ERROR:src.data_collection:ERROR READING URL: https://marketplace.spp.org/file-browser-api/download/mid-term-resource-forecast-mtrf-weis?path=%2F2024%2F01%2F11%2FWEIS-OP-MTRF-202401111800.csv\n",
      "ERROR:src.data_collection:\n",
      "100%|███████████████████████████████████████████████████████████████████████████████████████████████████████████████████████████| 721/721 [00:52<00:00, 13.62it/s]\n",
      "INFO:src.data_collection:ROWS INSERTED: 720 ROWS UPDATED: 193\n",
      "INFO:src.data_collection:end_ts: 2024-02-26 00:00:00\n",
      "INFO:src.data_collection:n_periods: 721\n"
     ]
    },
    {
     "name": "stdout",
     "output_type": "stream",
     "text": [
      "<class 'pandas.core.frame.DataFrame'>\n",
      "RangeIndex: 914 entries, 0 to 913\n",
      "Data columns (total 5 columns):\n",
      " #   Column             Non-Null Count  Dtype         \n",
      "---  ------             --------------  -----         \n",
      " 0   Interval           914 non-null    datetime64[ns]\n",
      " 1   GMTIntervalEnd     914 non-null    datetime64[ns]\n",
      " 2   Wind_Forecast_MW   913 non-null    float64       \n",
      " 3   Solar_Forecast_MW  913 non-null    float64       \n",
      " 4   timestamp_mst      914 non-null    datetime64[ns]\n",
      "dtypes: datetime64[ns](3), float64(2)\n",
      "memory usage: 35.8 KB\n"
     ]
    },
    {
     "name": "stderr",
     "output_type": "stream",
     "text": [
      "100%|███████████████████████████████████████████████████████████████████████████████████████████████████████████████████████████| 721/721 [00:52<00:00, 13.67it/s]\n",
      "INFO:src.data_collection:ROWS INSERTED: 720 ROWS UPDATED: 193\n",
      "INFO:src.data_collection:end_ts: 2024-03-27 00:00:00\n",
      "INFO:src.data_collection:n_periods: 721\n",
      "ERROR:src.data_collection:error parsing: 2024-03-10 02:00:00\n"
     ]
    },
    {
     "name": "stdout",
     "output_type": "stream",
     "text": [
      "<class 'pandas.core.frame.DataFrame'>\n",
      "RangeIndex: 914 entries, 0 to 913\n",
      "Data columns (total 5 columns):\n",
      " #   Column             Non-Null Count  Dtype         \n",
      "---  ------             --------------  -----         \n",
      " 0   Interval           914 non-null    datetime64[ns]\n",
      " 1   GMTIntervalEnd     914 non-null    datetime64[ns]\n",
      " 2   Wind_Forecast_MW   913 non-null    float64       \n",
      " 3   Solar_Forecast_MW  913 non-null    float64       \n",
      " 4   timestamp_mst      914 non-null    datetime64[ns]\n",
      "dtypes: datetime64[ns](3), float64(2)\n",
      "memory usage: 35.8 KB\n"
     ]
    },
    {
     "name": "stderr",
     "output_type": "stream",
     "text": [
      "  6%|██████▉                                                                                                                     | 40/720 [00:03<00:55, 12.31it/s]ERROR:src.data_collection:ERROR READING URL: https://marketplace.spp.org/file-browser-api/download/mid-term-resource-forecast-mtrf-weis?path=%2F2024%2F02%2F27%2FWEIS-OP-MTRF-202402271800.csv\n",
      "ERROR:src.data_collection:\n",
      " 44%|█████████████████████████████████████████████████████▋                                                                     | 314/720 [00:21<00:28, 14.35it/s]ERROR:src.data_collection:ERROR READING URL: https://marketplace.spp.org/file-browser-api/download/mid-term-resource-forecast-mtrf-weis?path=%2F2024%2F03%2F10%2FWEIS-OP-MTRF-202403100300.csv\n",
      "ERROR:src.data_collection:\n",
      " 52%|████████████████████████████████████████████████████████████████▍                                                          | 377/720 [00:27<00:24, 13.85it/s]ERROR:src.data_collection:ERROR READING URL: https://marketplace.spp.org/file-browser-api/download/mid-term-resource-forecast-mtrf-weis?path=%2F2024%2F03%2F12%2FWEIS-OP-MTRF-202403121900.csv\n",
      "ERROR:src.data_collection:\n",
      "100%|███████████████████████████████████████████████████████████████████████████████████████████████████████████████████████████| 720/720 [00:52<00:00, 13.70it/s]\n",
      "INFO:src.data_collection:ROWS INSERTED: 719 ROWS UPDATED: 193\n",
      "INFO:src.data_collection:end_ts: 2024-04-26 00:00:00\n",
      "INFO:src.data_collection:n_periods: 721\n"
     ]
    },
    {
     "name": "stdout",
     "output_type": "stream",
     "text": [
      "<class 'pandas.core.frame.DataFrame'>\n",
      "RangeIndex: 913 entries, 0 to 912\n",
      "Data columns (total 5 columns):\n",
      " #   Column             Non-Null Count  Dtype         \n",
      "---  ------             --------------  -----         \n",
      " 0   Interval           913 non-null    datetime64[ns]\n",
      " 1   GMTIntervalEnd     913 non-null    datetime64[ns]\n",
      " 2   Wind_Forecast_MW   912 non-null    float64       \n",
      " 3   Solar_Forecast_MW  912 non-null    float64       \n",
      " 4   timestamp_mst      913 non-null    datetime64[ns]\n",
      "dtypes: datetime64[ns](3), float64(2)\n",
      "memory usage: 35.8 KB\n"
     ]
    },
    {
     "name": "stderr",
     "output_type": "stream",
     "text": [
      "  5%|██████▋                                                                                                                     | 39/721 [00:02<00:49, 13.69it/s]ERROR:src.data_collection:ERROR READING URL: https://marketplace.spp.org/file-browser-api/download/mid-term-resource-forecast-mtrf-weis?path=%2F2024%2F03%2F28%2FWEIS-OP-MTRF-202403281800.csv\n",
      "ERROR:src.data_collection:\n",
      " 92%|█████████████████████████████████████████████████████████████████████████████████████████████████████████████████▌         | 666/721 [00:48<00:03, 13.83it/s]ERROR:src.data_collection:ERROR READING URL: https://marketplace.spp.org/file-browser-api/download/mid-term-resource-forecast-mtrf-weis?path=%2F2024%2F04%2F23%2FWEIS-OP-MTRF-202404231800.csv\n",
      "ERROR:src.data_collection:\n",
      " 93%|█████████████████████████████████████████████████████████████████████████████████████████████████████████████████▊         | 667/721 [00:48<00:03, 13.82it/s]ERROR:src.data_collection:ERROR READING URL: https://marketplace.spp.org/file-browser-api/download/mid-term-resource-forecast-mtrf-weis?path=%2F2024%2F04%2F23%2FWEIS-OP-MTRF-202404231900.csv\n",
      "ERROR:src.data_collection:\n",
      "100%|███████████████████████████████████████████████████████████████████████████████████████████████████████████████████████████| 721/721 [00:51<00:00, 13.94it/s]\n",
      "INFO:src.data_collection:ROWS INSERTED: 720 ROWS UPDATED: 193\n",
      "INFO:src.data_collection:end_ts: 2024-05-26 00:00:00\n",
      "INFO:src.data_collection:n_periods: 721\n"
     ]
    },
    {
     "name": "stdout",
     "output_type": "stream",
     "text": [
      "<class 'pandas.core.frame.DataFrame'>\n",
      "RangeIndex: 914 entries, 0 to 913\n",
      "Data columns (total 5 columns):\n",
      " #   Column             Non-Null Count  Dtype         \n",
      "---  ------             --------------  -----         \n",
      " 0   Interval           914 non-null    datetime64[ns]\n",
      " 1   GMTIntervalEnd     914 non-null    datetime64[ns]\n",
      " 2   Wind_Forecast_MW   913 non-null    float64       \n",
      " 3   Solar_Forecast_MW  913 non-null    float64       \n",
      " 4   timestamp_mst      914 non-null    datetime64[ns]\n",
      "dtypes: datetime64[ns](3), float64(2)\n",
      "memory usage: 35.8 KB\n"
     ]
    },
    {
     "name": "stderr",
     "output_type": "stream",
     "text": [
      "  9%|███████████▋                                                                                                                | 68/721 [00:05<00:50, 13.03it/s]ERROR:src.data_collection:ERROR READING URL: https://marketplace.spp.org/file-browser-api/download/mid-term-resource-forecast-mtrf-weis?path=%2F2024%2F04%2F29%2FWEIS-OP-MTRF-202404290000.csv\n",
      "ERROR:src.data_collection:\n",
      " 96%|██████████████████████████████████████████████████████████████████████████████████████████████████████████████████████▌    | 695/721 [00:48<00:01, 14.30it/s]ERROR:src.data_collection:ERROR READING URL: https://marketplace.spp.org/file-browser-api/download/mid-term-resource-forecast-mtrf-weis?path=%2F2024%2F05%2F25%2FWEIS-OP-MTRF-202405250000.csv\n",
      "ERROR:src.data_collection:\n",
      "100%|███████████████████████████████████████████████████████████████████████████████████████████████████████████████████████████| 721/721 [00:50<00:00, 14.29it/s]\n",
      "INFO:src.data_collection:ROWS INSERTED: 720 ROWS UPDATED: 193\n",
      "INFO:src.data_collection:end_ts: 2024-06-25 00:00:00\n",
      "INFO:src.data_collection:n_periods: 721\n"
     ]
    },
    {
     "name": "stdout",
     "output_type": "stream",
     "text": [
      "<class 'pandas.core.frame.DataFrame'>\n",
      "RangeIndex: 914 entries, 0 to 913\n",
      "Data columns (total 5 columns):\n",
      " #   Column             Non-Null Count  Dtype         \n",
      "---  ------             --------------  -----         \n",
      " 0   Interval           914 non-null    datetime64[ns]\n",
      " 1   GMTIntervalEnd     914 non-null    datetime64[ns]\n",
      " 2   Wind_Forecast_MW   913 non-null    float64       \n",
      " 3   Solar_Forecast_MW  913 non-null    float64       \n",
      " 4   timestamp_mst      914 non-null    datetime64[ns]\n",
      "dtypes: datetime64[ns](3), float64(2)\n",
      "memory usage: 35.8 KB\n"
     ]
    },
    {
     "name": "stderr",
     "output_type": "stream",
     "text": [
      "  8%|██████████▎                                                                                                                 | 60/721 [00:04<00:50, 13.18it/s]ERROR:src.data_collection:ERROR READING URL: https://marketplace.spp.org/file-browser-api/download/mid-term-resource-forecast-mtrf-weis?path=%2F2024%2F05%2F28%2FWEIS-OP-MTRF-202405281800.csv\n",
      "ERROR:src.data_collection:\n",
      "  9%|███████████▎                                                                                                                | 66/721 [00:04<00:45, 14.45it/s]ERROR:src.data_collection:ERROR READING URL: https://marketplace.spp.org/file-browser-api/download/mid-term-resource-forecast-mtrf-weis?path=%2F2024%2F05%2F28%2FWEIS-OP-MTRF-202405281900.csv\n",
      "ERROR:src.data_collection:\n",
      " 18%|██████████████████████▏                                                                                                    | 130/721 [00:09<00:43, 13.54it/s]ERROR:src.data_collection:ERROR READING URL: https://marketplace.spp.org/file-browser-api/download/mid-term-resource-forecast-mtrf-weis?path=%2F2024%2F05%2F31%2FWEIS-OP-MTRF-202405311200.csv\n",
      "ERROR:src.data_collection:\n",
      " 61%|███████████████████████████████████████████████████████████████████████████▍                                               | 442/721 [00:30<00:19, 14.50it/s]ERROR:src.data_collection:ERROR READING URL: https://marketplace.spp.org/file-browser-api/download/mid-term-resource-forecast-mtrf-weis?path=%2F2024%2F06%2F13%2FWEIS-OP-MTRF-202406131200.csv\n",
      "ERROR:src.data_collection:\n",
      " 62%|████████████████████████████████████████████████████████████████████████████▊                                              | 450/721 [00:30<00:18, 14.52it/s]ERROR:src.data_collection:ERROR READING URL: https://marketplace.spp.org/file-browser-api/download/mid-term-resource-forecast-mtrf-weis?path=%2F2024%2F06%2F13%2FWEIS-OP-MTRF-202406131800.csv\n",
      "ERROR:src.data_collection:\n",
      " 63%|████████████████████████████████████████████████████████████████████████████▉                                              | 451/721 [00:31<00:18, 14.54it/s]ERROR:src.data_collection:ERROR READING URL: https://marketplace.spp.org/file-browser-api/download/mid-term-resource-forecast-mtrf-weis?path=%2F2024%2F06%2F13%2FWEIS-OP-MTRF-202406131900.csv\n",
      "ERROR:src.data_collection:\n",
      " 83%|██████████████████████████████████████████████████████████████████████████████████████████████████████▎                    | 600/721 [00:40<00:08, 14.76it/s]ERROR:src.data_collection:ERROR READING URL: https://marketplace.spp.org/file-browser-api/download/mid-term-resource-forecast-mtrf-weis?path=%2F2024%2F06%2F20%2FWEIS-OP-MTRF-202406200000.csv\n",
      "ERROR:src.data_collection:\n",
      "100%|███████████████████████████████████████████████████████████████████████████████████████████████████████████████████████████| 721/721 [00:49<00:00, 14.45it/s]\n",
      "INFO:src.data_collection:ROWS INSERTED: 720 ROWS UPDATED: 193\n",
      "INFO:src.data_collection:end_ts: 2024-07-25 00:00:00\n",
      "INFO:src.data_collection:n_periods: 721\n"
     ]
    },
    {
     "name": "stdout",
     "output_type": "stream",
     "text": [
      "<class 'pandas.core.frame.DataFrame'>\n",
      "RangeIndex: 914 entries, 0 to 913\n",
      "Data columns (total 5 columns):\n",
      " #   Column             Non-Null Count  Dtype         \n",
      "---  ------             --------------  -----         \n",
      " 0   Interval           914 non-null    datetime64[ns]\n",
      " 1   GMTIntervalEnd     914 non-null    datetime64[ns]\n",
      " 2   Wind_Forecast_MW   913 non-null    float64       \n",
      " 3   Solar_Forecast_MW  913 non-null    float64       \n",
      " 4   timestamp_mst      914 non-null    datetime64[ns]\n",
      "dtypes: datetime64[ns](3), float64(2)\n",
      "memory usage: 35.8 KB\n"
     ]
    },
    {
     "name": "stderr",
     "output_type": "stream",
     "text": [
      "  2%|██                                                                                                                          | 12/721 [00:01<01:24,  8.37it/s]ERROR:src.data_collection:ERROR READING URL: https://marketplace.spp.org/file-browser-api/download/mid-term-resource-forecast-mtrf-weis?path=%2F2024%2F06%2F25%2FWEIS-OP-MTRF-202406251800.csv\n",
      "ERROR:src.data_collection:\n",
      " 96%|█████████████████████████████████████████████████████████████████████████████████████████████████████████████████████▌     | 689/721 [01:02<00:02, 10.98it/s]ERROR:src.data_collection:ERROR READING URL: https://marketplace.spp.org/file-browser-api/download/mid-term-resource-forecast-mtrf-weis?path=%2F2024%2F07%2F23%2FWEIS-OP-MTRF-202407231800.csv\n",
      "ERROR:src.data_collection:\n",
      "100%|███████████████████████████████████████████████████████████████████████████████████████████████████████████████████████████| 721/721 [01:05<00:00, 11.01it/s]\n",
      "INFO:src.data_collection:ROWS INSERTED: 720 ROWS UPDATED: 193\n",
      "INFO:src.data_collection:end_ts: 2024-08-24 00:00:00\n",
      "INFO:src.data_collection:n_periods: 721\n"
     ]
    },
    {
     "name": "stdout",
     "output_type": "stream",
     "text": [
      "<class 'pandas.core.frame.DataFrame'>\n",
      "RangeIndex: 914 entries, 0 to 913\n",
      "Data columns (total 5 columns):\n",
      " #   Column             Non-Null Count  Dtype         \n",
      "---  ------             --------------  -----         \n",
      " 0   Interval           914 non-null    datetime64[ns]\n",
      " 1   GMTIntervalEnd     914 non-null    datetime64[ns]\n",
      " 2   Wind_Forecast_MW   913 non-null    float64       \n",
      " 3   Solar_Forecast_MW  913 non-null    float64       \n",
      " 4   timestamp_mst      914 non-null    datetime64[ns]\n",
      "dtypes: datetime64[ns](3), float64(2)\n",
      "memory usage: 35.8 KB\n"
     ]
    },
    {
     "name": "stderr",
     "output_type": "stream",
     "text": [
      "  2%|██▉                                                                                                                         | 17/721 [00:01<01:08, 10.26it/s]ERROR:src.data_collection:ERROR READING URL: https://marketplace.spp.org/file-browser-api/download/mid-term-resource-forecast-mtrf-weis?path=%2F2024%2F07%2F25%2FWEIS-OP-MTRF-202407251800.csv\n",
      "ERROR:src.data_collection:\n",
      "  2%|███                                                                                                                         | 18/721 [00:01<01:05, 10.76it/s]ERROR:src.data_collection:ERROR READING URL: https://marketplace.spp.org/file-browser-api/download/mid-term-resource-forecast-mtrf-weis?path=%2F2024%2F07%2F25%2FWEIS-OP-MTRF-202407251900.csv\n",
      "ERROR:src.data_collection:\n",
      " 99%|██████████████████████████████████████████████████████████████████████████████████████████████████████████████████████████▏| 716/721 [00:49<00:00, 14.46it/s]ERROR:src.data_collection:ERROR READING URL: https://marketplace.spp.org/file-browser-api/download/mid-term-resource-forecast-mtrf-weis?path=%2F2024%2F08%2F24%2FWEIS-OP-MTRF-202408240000.csv\n",
      "ERROR:src.data_collection:\n",
      "100%|███████████████████████████████████████████████████████████████████████████████████████████████████████████████████████████| 721/721 [00:55<00:00, 12.88it/s]\n",
      "INFO:src.data_collection:ROWS INSERTED: 719 ROWS UPDATED: 193\n"
     ]
    },
    {
     "name": "stdout",
     "output_type": "stream",
     "text": [
      "<class 'pandas.core.frame.DataFrame'>\n",
      "RangeIndex: 912 entries, 0 to 911\n",
      "Data columns (total 5 columns):\n",
      " #   Column             Non-Null Count  Dtype         \n",
      "---  ------             --------------  -----         \n",
      " 0   Interval           912 non-null    datetime64[ns]\n",
      " 1   GMTIntervalEnd     912 non-null    datetime64[ns]\n",
      " 2   Wind_Forecast_MW   912 non-null    float64       \n",
      " 3   Solar_Forecast_MW  912 non-null    float64       \n",
      " 4   timestamp_mst      912 non-null    datetime64[ns]\n",
      "dtypes: datetime64[ns](3), float64(2)\n",
      "memory usage: 35.8 KB\n"
     ]
    }
   ],
   "source": [
    "for d in day_list:\n",
    "    dc.collect_upsert_mtrf(end_ts=d, n_periods=24*num_day_step+1, backfill=True)"
   ]
  },
  {
   "cell_type": "code",
   "execution_count": null,
   "metadata": {
    "application/vnd.databricks.v1+cell": {
     "cellMetadata": {},
     "inputWidgets": {},
     "nuid": "0f43a0a9-9fb7-4ded-bfe2-46241c4fdb50",
     "showTitle": false,
     "title": ""
    }
   },
   "outputs": [],
   "source": []
  },
  {
   "cell_type": "markdown",
   "metadata": {
    "application/vnd.databricks.v1+cell": {
     "cellMetadata": {},
     "inputWidgets": {},
     "nuid": "9eac3e42-bbc9-4fa0-a374-42ed03a7e89e",
     "showTitle": false,
     "title": ""
    }
   },
   "source": [
    "## LMP settlement location prices\n",
    "\n",
    "![_](../../imgs/lmp_settlement_location.PNG)"
   ]
  },
  {
   "cell_type": "markdown",
   "metadata": {
    "application/vnd.databricks.v1+cell": {
     "cellMetadata": {},
     "inputWidgets": {},
     "nuid": "f658a141-e5f6-4a8c-b4ec-bb0f50658118",
     "showTitle": false,
     "title": ""
    }
   },
   "source": [
    "## LMP upsert"
   ]
  },
  {
   "cell_type": "markdown",
   "metadata": {
    "application/vnd.databricks.v1+cell": {
     "cellMetadata": {},
     "inputWidgets": {},
     "nuid": "c3f89013-7560-434a-8bce-77f7f4f19817",
     "showTitle": false,
     "title": ""
    }
   },
   "source": [
    "### LMP daily file"
   ]
  },
  {
   "cell_type": "code",
   "execution_count": 8,
   "metadata": {
    "application/vnd.databricks.v1+cell": {
     "cellMetadata": {},
     "inputWidgets": {},
     "nuid": "12e4f731-f3fa-41fa-8290-0d0d5a82262d",
     "showTitle": false,
     "title": ""
    }
   },
   "outputs": [
    {
     "name": "stderr",
     "output_type": "stream",
     "text": [
      "INFO:src.data_collection:end_ts: 2023-06-01 00:00:00\n",
      "INFO:src.data_collection:n_periods: 31\n",
      "100%|█████████████████████████████████████████████████████████████████████████████████████████████████████████████████████████████| 31/31 [00:37<00:00,  1.20s/it]\n"
     ]
    },
    {
     "name": "stdout",
     "output_type": "stream",
     "text": [
      "<class 'pandas.core.frame.DataFrame'>\n",
      "RangeIndex: 224616 entries, 0 to 224615\n",
      "Data columns (total 9 columns):\n",
      " #   Column                    Non-Null Count   Dtype         \n",
      "---  ------                    --------------   -----         \n",
      " 0   Interval_HE               224616 non-null  datetime64[ns]\n",
      " 1   GMTIntervalEnd_HE         224616 non-null  datetime64[ns]\n",
      " 2   timestamp_mst_HE          224616 non-null  datetime64[ns]\n",
      " 3   Settlement_Location_Name  224616 non-null  object        \n",
      " 4   PNODE_Name                224616 non-null  object        \n",
      " 5   LMP                       224616 non-null  float64       \n",
      " 6   MLC                       224616 non-null  float64       \n",
      " 7   MCC                       224616 non-null  float64       \n",
      " 8   MEC                       224616 non-null  float64       \n",
      "dtypes: datetime64[ns](3), float64(4), object(2)\n",
      "memory usage: 15.4+ MB\n"
     ]
    },
    {
     "name": "stderr",
     "output_type": "stream",
     "text": [
      "INFO:src.data_collection:ROWS INSERTED: 224,616 ROWS UPDATED: 0\n",
      "INFO:src.data_collection:end_ts: 2023-07-01 00:00:00\n",
      "INFO:src.data_collection:n_periods: 31\n",
      "100%|█████████████████████████████████████████████████████████████████████████████████████████████████████████████████████████████| 31/31 [00:36<00:00,  1.17s/it]\n"
     ]
    },
    {
     "name": "stdout",
     "output_type": "stream",
     "text": [
      "<class 'pandas.core.frame.DataFrame'>\n",
      "RangeIndex: 222504 entries, 0 to 222503\n",
      "Data columns (total 9 columns):\n",
      " #   Column                    Non-Null Count   Dtype         \n",
      "---  ------                    --------------   -----         \n",
      " 0   Interval_HE               222504 non-null  datetime64[ns]\n",
      " 1   GMTIntervalEnd_HE         222504 non-null  datetime64[ns]\n",
      " 2   timestamp_mst_HE          222504 non-null  datetime64[ns]\n",
      " 3   Settlement_Location_Name  222504 non-null  object        \n",
      " 4   PNODE_Name                222504 non-null  object        \n",
      " 5   LMP                       222504 non-null  float64       \n",
      " 6   MLC                       222504 non-null  float64       \n",
      " 7   MCC                       222504 non-null  float64       \n",
      " 8   MEC                       222504 non-null  float64       \n",
      "dtypes: datetime64[ns](3), float64(4), object(2)\n",
      "memory usage: 15.3+ MB\n"
     ]
    },
    {
     "name": "stderr",
     "output_type": "stream",
     "text": [
      "INFO:src.data_collection:ROWS INSERTED: 215,328 ROWS UPDATED: 7,176\n",
      "INFO:src.data_collection:end_ts: 2023-07-31 00:00:00\n",
      "INFO:src.data_collection:n_periods: 31\n",
      "100%|█████████████████████████████████████████████████████████████████████████████████████████████████████████████████████████████| 31/31 [00:36<00:00,  1.17s/it]\n"
     ]
    },
    {
     "name": "stdout",
     "output_type": "stream",
     "text": [
      "<class 'pandas.core.frame.DataFrame'>\n",
      "RangeIndex: 223944 entries, 0 to 223943\n",
      "Data columns (total 9 columns):\n",
      " #   Column                    Non-Null Count   Dtype         \n",
      "---  ------                    --------------   -----         \n",
      " 0   Interval_HE               223944 non-null  datetime64[ns]\n",
      " 1   GMTIntervalEnd_HE         223944 non-null  datetime64[ns]\n",
      " 2   timestamp_mst_HE          223944 non-null  datetime64[ns]\n",
      " 3   Settlement_Location_Name  223944 non-null  object        \n",
      " 4   PNODE_Name                223944 non-null  object        \n",
      " 5   LMP                       223944 non-null  float64       \n",
      " 6   MLC                       223944 non-null  float64       \n",
      " 7   MCC                       223944 non-null  float64       \n",
      " 8   MEC                       223944 non-null  float64       \n",
      "dtypes: datetime64[ns](3), float64(4), object(2)\n",
      "memory usage: 15.4+ MB\n"
     ]
    },
    {
     "name": "stderr",
     "output_type": "stream",
     "text": [
      "INFO:src.data_collection:ROWS INSERTED: 216,720 ROWS UPDATED: 7,224\n",
      "INFO:src.data_collection:end_ts: 2023-08-30 00:00:00\n",
      "INFO:src.data_collection:n_periods: 31\n",
      "100%|█████████████████████████████████████████████████████████████████████████████████████████████████████████████████████████████| 31/31 [00:35<00:00,  1.13s/it]\n"
     ]
    },
    {
     "name": "stdout",
     "output_type": "stream",
     "text": [
      "<class 'pandas.core.frame.DataFrame'>\n",
      "RangeIndex: 223944 entries, 0 to 223943\n",
      "Data columns (total 9 columns):\n",
      " #   Column                    Non-Null Count   Dtype         \n",
      "---  ------                    --------------   -----         \n",
      " 0   Interval_HE               223944 non-null  datetime64[ns]\n",
      " 1   GMTIntervalEnd_HE         223944 non-null  datetime64[ns]\n",
      " 2   timestamp_mst_HE          223944 non-null  datetime64[ns]\n",
      " 3   Settlement_Location_Name  223944 non-null  object        \n",
      " 4   PNODE_Name                223944 non-null  object        \n",
      " 5   LMP                       223944 non-null  float64       \n",
      " 6   MLC                       223944 non-null  float64       \n",
      " 7   MCC                       223944 non-null  float64       \n",
      " 8   MEC                       223944 non-null  float64       \n",
      "dtypes: datetime64[ns](3), float64(4), object(2)\n",
      "memory usage: 15.4+ MB\n"
     ]
    },
    {
     "name": "stderr",
     "output_type": "stream",
     "text": [
      "INFO:src.data_collection:ROWS INSERTED: 216,720 ROWS UPDATED: 7,224\n",
      "INFO:src.data_collection:end_ts: 2023-09-29 00:00:00\n",
      "INFO:src.data_collection:n_periods: 31\n",
      "100%|█████████████████████████████████████████████████████████████████████████████████████████████████████████████████████████████| 31/31 [00:38<00:00,  1.24s/it]\n"
     ]
    },
    {
     "name": "stdout",
     "output_type": "stream",
     "text": [
      "<class 'pandas.core.frame.DataFrame'>\n",
      "RangeIndex: 223944 entries, 0 to 223943\n",
      "Data columns (total 9 columns):\n",
      " #   Column                    Non-Null Count   Dtype         \n",
      "---  ------                    --------------   -----         \n",
      " 0   Interval_HE               223944 non-null  datetime64[ns]\n",
      " 1   GMTIntervalEnd_HE         223944 non-null  datetime64[ns]\n",
      " 2   timestamp_mst_HE          223944 non-null  datetime64[ns]\n",
      " 3   Settlement_Location_Name  223944 non-null  object        \n",
      " 4   PNODE_Name                223944 non-null  object        \n",
      " 5   LMP                       223944 non-null  float64       \n",
      " 6   MLC                       223944 non-null  float64       \n",
      " 7   MCC                       223944 non-null  float64       \n",
      " 8   MEC                       223944 non-null  float64       \n",
      "dtypes: datetime64[ns](3), float64(4), object(2)\n",
      "memory usage: 15.4+ MB\n"
     ]
    },
    {
     "name": "stderr",
     "output_type": "stream",
     "text": [
      "INFO:src.data_collection:ROWS INSERTED: 216,720 ROWS UPDATED: 7,224\n",
      "INFO:src.data_collection:end_ts: 2023-10-29 00:00:00\n",
      "INFO:src.data_collection:n_periods: 31\n",
      "100%|█████████████████████████████████████████████████████████████████████████████████████████████████████████████████████████████| 31/31 [00:35<00:00,  1.14s/it]\n"
     ]
    },
    {
     "name": "stdout",
     "output_type": "stream",
     "text": [
      "<class 'pandas.core.frame.DataFrame'>\n",
      "RangeIndex: 225336 entries, 0 to 225335\n",
      "Data columns (total 9 columns):\n",
      " #   Column                    Non-Null Count   Dtype         \n",
      "---  ------                    --------------   -----         \n",
      " 0   Interval_HE               225336 non-null  datetime64[ns]\n",
      " 1   GMTIntervalEnd_HE         225336 non-null  datetime64[ns]\n",
      " 2   timestamp_mst_HE          225336 non-null  datetime64[ns]\n",
      " 3   Settlement_Location_Name  225336 non-null  object        \n",
      " 4   PNODE_Name                225336 non-null  object        \n",
      " 5   LMP                       225336 non-null  float64       \n",
      " 6   MLC                       225336 non-null  float64       \n",
      " 7   MCC                       225336 non-null  float64       \n",
      " 8   MEC                       225336 non-null  float64       \n",
      "dtypes: datetime64[ns](3), float64(4), object(2)\n",
      "memory usage: 15.5+ MB\n"
     ]
    },
    {
     "name": "stderr",
     "output_type": "stream",
     "text": [
      "INFO:src.data_collection:ROWS INSERTED: 218,112 ROWS UPDATED: 7,224\n",
      "INFO:src.data_collection:end_ts: 2023-11-28 00:00:00\n",
      "INFO:src.data_collection:n_periods: 31\n",
      "100%|█████████████████████████████████████████████████████████████████████████████████████████████████████████████████████████████| 31/31 [00:37<00:00,  1.21s/it]\n"
     ]
    },
    {
     "name": "stdout",
     "output_type": "stream",
     "text": [
      "<class 'pandas.core.frame.DataFrame'>\n",
      "RangeIndex: 225735 entries, 0 to 225734\n",
      "Data columns (total 9 columns):\n",
      " #   Column                    Non-Null Count   Dtype         \n",
      "---  ------                    --------------   -----         \n",
      " 0   Interval_HE               225735 non-null  datetime64[ns]\n",
      " 1   GMTIntervalEnd_HE         225735 non-null  datetime64[ns]\n",
      " 2   timestamp_mst_HE          225735 non-null  datetime64[ns]\n",
      " 3   Settlement_Location_Name  225735 non-null  object        \n",
      " 4   PNODE_Name                225735 non-null  object        \n",
      " 5   LMP                       225735 non-null  float64       \n",
      " 6   MLC                       225735 non-null  float64       \n",
      " 7   MCC                       225735 non-null  float64       \n",
      " 8   MEC                       225735 non-null  float64       \n",
      "dtypes: datetime64[ns](3), float64(4), object(2)\n",
      "memory usage: 15.5+ MB\n"
     ]
    },
    {
     "name": "stderr",
     "output_type": "stream",
     "text": [
      "INFO:src.data_collection:ROWS INSERTED: 218,463 ROWS UPDATED: 7,272\n",
      "INFO:src.data_collection:end_ts: 2023-12-28 00:00:00\n",
      "INFO:src.data_collection:n_periods: 31\n",
      "100%|█████████████████████████████████████████████████████████████████████████████████████████████████████████████████████████████| 31/31 [00:40<00:00,  1.29s/it]\n"
     ]
    },
    {
     "name": "stdout",
     "output_type": "stream",
     "text": [
      "<class 'pandas.core.frame.DataFrame'>\n",
      "RangeIndex: 225432 entries, 0 to 225431\n",
      "Data columns (total 9 columns):\n",
      " #   Column                    Non-Null Count   Dtype         \n",
      "---  ------                    --------------   -----         \n",
      " 0   Interval_HE               225432 non-null  datetime64[ns]\n",
      " 1   GMTIntervalEnd_HE         225432 non-null  datetime64[ns]\n",
      " 2   timestamp_mst_HE          225432 non-null  datetime64[ns]\n",
      " 3   Settlement_Location_Name  225432 non-null  object        \n",
      " 4   PNODE_Name                225432 non-null  object        \n",
      " 5   LMP                       225432 non-null  float64       \n",
      " 6   MLC                       225432 non-null  float64       \n",
      " 7   MCC                       225432 non-null  float64       \n",
      " 8   MEC                       225432 non-null  float64       \n",
      "dtypes: datetime64[ns](3), float64(4), object(2)\n",
      "memory usage: 15.5+ MB\n"
     ]
    },
    {
     "name": "stderr",
     "output_type": "stream",
     "text": [
      "INFO:src.data_collection:ROWS INSERTED: 218,160 ROWS UPDATED: 7,272\n",
      "INFO:src.data_collection:end_ts: 2024-01-27 00:00:00\n",
      "INFO:src.data_collection:n_periods: 31\n",
      "100%|█████████████████████████████████████████████████████████████████████████████████████████████████████████████████████████████| 31/31 [00:35<00:00,  1.15s/it]\n"
     ]
    },
    {
     "name": "stdout",
     "output_type": "stream",
     "text": [
      "<class 'pandas.core.frame.DataFrame'>\n",
      "RangeIndex: 226080 entries, 0 to 226079\n",
      "Data columns (total 9 columns):\n",
      " #   Column                    Non-Null Count   Dtype         \n",
      "---  ------                    --------------   -----         \n",
      " 0   Interval_HE               226080 non-null  datetime64[ns]\n",
      " 1   GMTIntervalEnd_HE         226080 non-null  datetime64[ns]\n",
      " 2   timestamp_mst_HE          226080 non-null  datetime64[ns]\n",
      " 3   Settlement_Location_Name  226080 non-null  object        \n",
      " 4   PNODE_Name                226080 non-null  object        \n",
      " 5   LMP                       226080 non-null  float64       \n",
      " 6   MLC                       226080 non-null  float64       \n",
      " 7   MCC                       226080 non-null  float64       \n",
      " 8   MEC                       226080 non-null  float64       \n",
      "dtypes: datetime64[ns](3), float64(4), object(2)\n",
      "memory usage: 15.5+ MB\n"
     ]
    },
    {
     "name": "stderr",
     "output_type": "stream",
     "text": [
      "INFO:src.data_collection:ROWS INSERTED: 218,808 ROWS UPDATED: 7,272\n",
      "INFO:src.data_collection:end_ts: 2024-02-26 00:00:00\n",
      "INFO:src.data_collection:n_periods: 31\n",
      "100%|█████████████████████████████████████████████████████████████████████████████████████████████████████████████████████████████| 31/31 [00:36<00:00,  1.17s/it]\n"
     ]
    },
    {
     "name": "stdout",
     "output_type": "stream",
     "text": [
      "<class 'pandas.core.frame.DataFrame'>\n",
      "RangeIndex: 227424 entries, 0 to 227423\n",
      "Data columns (total 9 columns):\n",
      " #   Column                    Non-Null Count   Dtype         \n",
      "---  ------                    --------------   -----         \n",
      " 0   Interval_HE               227424 non-null  datetime64[ns]\n",
      " 1   GMTIntervalEnd_HE         227424 non-null  datetime64[ns]\n",
      " 2   timestamp_mst_HE          227424 non-null  datetime64[ns]\n",
      " 3   Settlement_Location_Name  227424 non-null  object        \n",
      " 4   PNODE_Name                227424 non-null  object        \n",
      " 5   LMP                       227424 non-null  float64       \n",
      " 6   MLC                       227424 non-null  float64       \n",
      " 7   MCC                       227424 non-null  float64       \n",
      " 8   MEC                       227424 non-null  float64       \n",
      "dtypes: datetime64[ns](3), float64(4), object(2)\n",
      "memory usage: 15.6+ MB\n"
     ]
    },
    {
     "name": "stderr",
     "output_type": "stream",
     "text": [
      "INFO:src.data_collection:ROWS INSERTED: 220,128 ROWS UPDATED: 7,296\n",
      "INFO:src.data_collection:end_ts: 2024-03-27 00:00:00\n",
      "INFO:src.data_collection:n_periods: 31\n",
      "100%|█████████████████████████████████████████████████████████████████████████████████████████████████████████████████████████████| 31/31 [00:38<00:00,  1.24s/it]\n"
     ]
    },
    {
     "name": "stdout",
     "output_type": "stream",
     "text": [
      "<class 'pandas.core.frame.DataFrame'>\n",
      "RangeIndex: 227358 entries, 0 to 227357\n",
      "Data columns (total 9 columns):\n",
      " #   Column                    Non-Null Count   Dtype         \n",
      "---  ------                    --------------   -----         \n",
      " 0   Interval_HE               227358 non-null  datetime64[ns]\n",
      " 1   GMTIntervalEnd_HE         227358 non-null  datetime64[ns]\n",
      " 2   timestamp_mst_HE          227358 non-null  datetime64[ns]\n",
      " 3   Settlement_Location_Name  227358 non-null  object        \n",
      " 4   PNODE_Name                227358 non-null  object        \n",
      " 5   LMP                       227358 non-null  float64       \n",
      " 6   MLC                       227358 non-null  float64       \n",
      " 7   MCC                       227358 non-null  float64       \n",
      " 8   MEC                       227358 non-null  float64       \n",
      "dtypes: datetime64[ns](3), float64(4), object(2)\n",
      "memory usage: 15.6+ MB\n"
     ]
    },
    {
     "name": "stderr",
     "output_type": "stream",
     "text": [
      "INFO:src.data_collection:ROWS INSERTED: 220,014 ROWS UPDATED: 7,344\n",
      "INFO:src.data_collection:end_ts: 2024-04-26 00:00:00\n",
      "INFO:src.data_collection:n_periods: 31\n",
      "100%|█████████████████████████████████████████████████████████████████████████████████████████████████████████████████████████████| 31/31 [00:37<00:00,  1.21s/it]\n"
     ]
    },
    {
     "name": "stdout",
     "output_type": "stream",
     "text": [
      "<class 'pandas.core.frame.DataFrame'>\n",
      "RangeIndex: 235776 entries, 0 to 235775\n",
      "Data columns (total 9 columns):\n",
      " #   Column                    Non-Null Count   Dtype         \n",
      "---  ------                    --------------   -----         \n",
      " 0   Interval_HE               235776 non-null  datetime64[ns]\n",
      " 1   GMTIntervalEnd_HE         235776 non-null  datetime64[ns]\n",
      " 2   timestamp_mst_HE          235776 non-null  datetime64[ns]\n",
      " 3   Settlement_Location_Name  235776 non-null  object        \n",
      " 4   PNODE_Name                235776 non-null  object        \n",
      " 5   LMP                       235776 non-null  float64       \n",
      " 6   MLC                       235776 non-null  float64       \n",
      " 7   MCC                       235776 non-null  float64       \n",
      " 8   MEC                       235776 non-null  float64       \n",
      "dtypes: datetime64[ns](3), float64(4), object(2)\n",
      "memory usage: 16.2+ MB\n"
     ]
    },
    {
     "name": "stderr",
     "output_type": "stream",
     "text": [
      "INFO:src.data_collection:ROWS INSERTED: 228,432 ROWS UPDATED: 7,344\n",
      "INFO:src.data_collection:end_ts: 2024-05-26 00:00:00\n",
      "INFO:src.data_collection:n_periods: 31\n",
      "100%|█████████████████████████████████████████████████████████████████████████████████████████████████████████████████████████████| 31/31 [00:45<00:00,  1.47s/it]\n"
     ]
    },
    {
     "name": "stdout",
     "output_type": "stream",
     "text": [
      "<class 'pandas.core.frame.DataFrame'>\n",
      "RangeIndex: 241080 entries, 0 to 241079\n",
      "Data columns (total 9 columns):\n",
      " #   Column                    Non-Null Count   Dtype         \n",
      "---  ------                    --------------   -----         \n",
      " 0   Interval_HE               241080 non-null  datetime64[ns]\n",
      " 1   GMTIntervalEnd_HE         241080 non-null  datetime64[ns]\n",
      " 2   timestamp_mst_HE          241080 non-null  datetime64[ns]\n",
      " 3   Settlement_Location_Name  241080 non-null  object        \n",
      " 4   PNODE_Name                241080 non-null  object        \n",
      " 5   LMP                       241080 non-null  float64       \n",
      " 6   MLC                       241080 non-null  float64       \n",
      " 7   MCC                       241080 non-null  float64       \n",
      " 8   MEC                       241080 non-null  float64       \n",
      "dtypes: datetime64[ns](3), float64(4), object(2)\n",
      "memory usage: 16.6+ MB\n"
     ]
    },
    {
     "name": "stderr",
     "output_type": "stream",
     "text": [
      "INFO:src.data_collection:ROWS INSERTED: 233,424 ROWS UPDATED: 7,656\n",
      "INFO:src.data_collection:end_ts: 2024-06-25 00:00:00\n",
      "INFO:src.data_collection:n_periods: 31\n",
      "100%|█████████████████████████████████████████████████████████████████████████████████████████████████████████████████████████████| 31/31 [00:40<00:00,  1.30s/it]\n"
     ]
    },
    {
     "name": "stdout",
     "output_type": "stream",
     "text": [
      "<class 'pandas.core.frame.DataFrame'>\n",
      "RangeIndex: 242400 entries, 0 to 242399\n",
      "Data columns (total 9 columns):\n",
      " #   Column                    Non-Null Count   Dtype         \n",
      "---  ------                    --------------   -----         \n",
      " 0   Interval_HE               242400 non-null  datetime64[ns]\n",
      " 1   GMTIntervalEnd_HE         242400 non-null  datetime64[ns]\n",
      " 2   timestamp_mst_HE          242400 non-null  datetime64[ns]\n",
      " 3   Settlement_Location_Name  242400 non-null  object        \n",
      " 4   PNODE_Name                242400 non-null  object        \n",
      " 5   LMP                       242400 non-null  float64       \n",
      " 6   MLC                       242400 non-null  float64       \n",
      " 7   MCC                       242400 non-null  float64       \n",
      " 8   MEC                       242400 non-null  float64       \n",
      "dtypes: datetime64[ns](3), float64(4), object(2)\n",
      "memory usage: 16.6+ MB\n"
     ]
    },
    {
     "name": "stderr",
     "output_type": "stream",
     "text": [
      "INFO:src.data_collection:ROWS INSERTED: 234,600 ROWS UPDATED: 7,800\n",
      "INFO:src.data_collection:end_ts: 2024-07-25 00:00:00\n",
      "INFO:src.data_collection:n_periods: 31\n",
      "100%|█████████████████████████████████████████████████████████████████████████████████████████████████████████████████████████████| 31/31 [00:41<00:00,  1.33s/it]\n"
     ]
    },
    {
     "name": "stdout",
     "output_type": "stream",
     "text": [
      "<class 'pandas.core.frame.DataFrame'>\n",
      "RangeIndex: 243744 entries, 0 to 243743\n",
      "Data columns (total 9 columns):\n",
      " #   Column                    Non-Null Count   Dtype         \n",
      "---  ------                    --------------   -----         \n",
      " 0   Interval_HE               243744 non-null  datetime64[ns]\n",
      " 1   GMTIntervalEnd_HE         243744 non-null  datetime64[ns]\n",
      " 2   timestamp_mst_HE          243744 non-null  datetime64[ns]\n",
      " 3   Settlement_Location_Name  243744 non-null  object        \n",
      " 4   PNODE_Name                243744 non-null  object        \n",
      " 5   LMP                       243744 non-null  float64       \n",
      " 6   MLC                       243744 non-null  float64       \n",
      " 7   MCC                       243744 non-null  float64       \n",
      " 8   MEC                       243744 non-null  float64       \n",
      "dtypes: datetime64[ns](3), float64(4), object(2)\n",
      "memory usage: 16.7+ MB\n"
     ]
    },
    {
     "name": "stderr",
     "output_type": "stream",
     "text": [
      "INFO:src.data_collection:ROWS INSERTED: 235,920 ROWS UPDATED: 7,824\n",
      "INFO:src.data_collection:end_ts: 2024-08-24 00:00:00\n",
      "INFO:src.data_collection:n_periods: 31\n",
      "100%|█████████████████████████████████████████████████████████████████████████████████████████████████████████████████████████████| 31/31 [00:42<00:00,  1.37s/it]\n"
     ]
    },
    {
     "name": "stdout",
     "output_type": "stream",
     "text": [
      "<class 'pandas.core.frame.DataFrame'>\n",
      "RangeIndex: 244032 entries, 0 to 244031\n",
      "Data columns (total 9 columns):\n",
      " #   Column                    Non-Null Count   Dtype         \n",
      "---  ------                    --------------   -----         \n",
      " 0   Interval_HE               244032 non-null  datetime64[ns]\n",
      " 1   GMTIntervalEnd_HE         244032 non-null  datetime64[ns]\n",
      " 2   timestamp_mst_HE          244032 non-null  datetime64[ns]\n",
      " 3   Settlement_Location_Name  244032 non-null  object        \n",
      " 4   PNODE_Name                244032 non-null  object        \n",
      " 5   LMP                       244032 non-null  float64       \n",
      " 6   MLC                       244032 non-null  float64       \n",
      " 7   MCC                       244032 non-null  float64       \n",
      " 8   MEC                       244032 non-null  float64       \n",
      "dtypes: datetime64[ns](3), float64(4), object(2)\n",
      "memory usage: 16.8+ MB\n"
     ]
    },
    {
     "name": "stderr",
     "output_type": "stream",
     "text": [
      "INFO:src.data_collection:ROWS INSERTED: 236,160 ROWS UPDATED: 7,872\n"
     ]
    }
   ],
   "source": [
    "for d in day_list:\n",
    "    dc.collect_upsert_lmp(end_ts=d, n_periods=num_day_step+1, daily_file=True)"
   ]
  },
  {
   "cell_type": "code",
   "execution_count": null,
   "metadata": {
    "application/vnd.databricks.v1+cell": {
     "cellMetadata": {},
     "inputWidgets": {},
     "nuid": "96172f47-f44c-4f30-8f60-1bd86e939588",
     "showTitle": false,
     "title": ""
    }
   },
   "outputs": [],
   "source": []
  },
  {
   "cell_type": "code",
   "execution_count": null,
   "metadata": {
    "application/vnd.databricks.v1+cell": {
     "cellMetadata": {},
     "inputWidgets": {},
     "nuid": "4c728e43-dfa8-4871-ac9e-f8f1eaca64bd",
     "showTitle": false,
     "title": ""
    }
   },
   "outputs": [],
   "source": []
  }
 ],
 "metadata": {
  "application/vnd.databricks.v1+notebook": {
   "dashboards": [],
   "language": "python",
   "notebookMetadata": {},
   "notebookName": "data_collection",
   "widgets": {}
  },
  "kernelspec": {
   "display_name": "spp_weis",
   "language": "python",
   "name": "spp_weis"
  },
  "language_info": {
   "codemirror_mode": {
    "name": "ipython",
    "version": 3
   },
   "file_extension": ".py",
   "mimetype": "text/x-python",
   "name": "python",
   "nbconvert_exporter": "python",
   "pygments_lexer": "ipython3",
   "version": "3.11.9"
  }
 },
 "nbformat": 4,
 "nbformat_minor": 4
}
