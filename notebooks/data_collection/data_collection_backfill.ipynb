{
 "cells": [
  {
   "cell_type": "markdown",
   "metadata": {
    "application/vnd.databricks.v1+cell": {
     "cellMetadata": {},
     "inputWidgets": {},
     "nuid": "91a67ac5-89a9-4b80-84e4-be3225fc9636",
     "showTitle": false,
     "title": ""
    }
   },
   "source": [
    "# Data collection\n",
    "Gather public SPP Weis data from https://marketplace.spp.org/groups/operational-data-weis"
   ]
  },
  {
   "cell_type": "code",
   "execution_count": 1,
   "metadata": {
    "application/vnd.databricks.v1+cell": {
     "cellMetadata": {},
     "inputWidgets": {},
     "nuid": "c37f0523-4d36-4ab9-9ff6-182c15f7e49c",
     "showTitle": false,
     "title": ""
    }
   },
   "outputs": [],
   "source": [
    "import os\n",
    "import pandas as pd\n",
    "import duckdb\n",
    "\n",
    "import requests\n",
    "from io import StringIO\n",
    "\n",
    "import ibis\n",
    "import ibis.selectors as s\n",
    "ibis.options.interactive = True\n",
    "\n",
    "# logging\n",
    "import logging"
   ]
  },
  {
   "cell_type": "code",
   "execution_count": 2,
   "metadata": {
    "application/vnd.databricks.v1+cell": {
     "cellMetadata": {},
     "inputWidgets": {},
     "nuid": "f5a53f34-1665-45f1-802c-4277b373d8d7",
     "showTitle": false,
     "title": ""
    }
   },
   "outputs": [],
   "source": [
    "# define log\n",
    "logging.basicConfig(level=logging.INFO)\n",
    "log = logging.getLogger(__name__)\n"
   ]
  },
  {
   "cell_type": "code",
   "execution_count": 3,
   "metadata": {
    "application/vnd.databricks.v1+cell": {
     "cellMetadata": {},
     "inputWidgets": {},
     "nuid": "de6a1932-d626-4d93-b6c9-4aa8d4fd2946",
     "showTitle": false,
     "title": ""
    }
   },
   "outputs": [],
   "source": [
    "os.chdir('../..')"
   ]
  },
  {
   "cell_type": "code",
   "execution_count": 4,
   "metadata": {
    "application/vnd.databricks.v1+cell": {
     "cellMetadata": {},
     "inputWidgets": {},
     "nuid": "644749ae-40cb-4b9c-9797-7c940551e823",
     "showTitle": false,
     "title": ""
    }
   },
   "outputs": [
    {
     "name": "stderr",
     "output_type": "stream",
     "text": [
      "INFO:src.data_collection:number of cores available: 4\n",
      "INFO:src.data_collection:N_JOBS: 3\n"
     ]
    }
   ],
   "source": [
    "import src.data_collection as dc"
   ]
  },
  {
   "cell_type": "code",
   "execution_count": null,
   "metadata": {
    "application/vnd.databricks.v1+cell": {
     "cellMetadata": {},
     "inputWidgets": {},
     "nuid": "6da19ebe-6b6a-4999-8081-b2649fafa880",
     "showTitle": false,
     "title": ""
    }
   },
   "outputs": [],
   "source": []
  },
  {
   "cell_type": "markdown",
   "metadata": {},
   "source": [
    "## Set up backfill parameters"
   ]
  },
  {
   "cell_type": "code",
   "execution_count": 5,
   "metadata": {},
   "outputs": [
    {
     "data": {
      "text/plain": [
       "[Timestamp('2024-08-30 00:00:00'),\n",
       " Timestamp('2024-09-06 00:00:00'),\n",
       " Timestamp('2024-09-13 00:00:00'),\n",
       " Timestamp('2024-09-20 00:00:00')]"
      ]
     },
     "execution_count": 5,
     "metadata": {},
     "output_type": "execute_result"
    }
   ],
   "source": [
    "start_date = '2024-08-30'\n",
    "end_date = '2024-09-21'\n",
    "num_day_step = 7\n",
    "day_list = pd.date_range(start = start_date, end=end_date, freq=f'{num_day_step }d')\n",
    "day_list = [pd.Timestamp(d) for d in day_list]\n",
    "day_list[:5]"
   ]
  },
  {
   "cell_type": "code",
   "execution_count": null,
   "metadata": {},
   "outputs": [],
   "source": []
  },
  {
   "cell_type": "markdown",
   "metadata": {
    "application/vnd.databricks.v1+cell": {
     "cellMetadata": {},
     "inputWidgets": {},
     "nuid": "33183310-ac93-482d-94cd-20d4d9f41ed6",
     "showTitle": false,
     "title": ""
    }
   },
   "source": [
    "## Mid Term Load Forecast\n",
    "\n",
    "![_](../../imgs/mtlf.PNG)"
   ]
  },
  {
   "cell_type": "markdown",
   "metadata": {
    "application/vnd.databricks.v1+cell": {
     "cellMetadata": {},
     "inputWidgets": {},
     "nuid": "c690ab59-c3c1-4366-aa4b-11ff9a094a5b",
     "showTitle": false,
     "title": ""
    }
   },
   "source": [
    "HOUR = {0000, ..., 2300}\n",
    "DAY = {01, ..., 31}"
   ]
  },
  {
   "cell_type": "code",
   "execution_count": 6,
   "metadata": {
    "application/vnd.databricks.v1+cell": {
     "cellMetadata": {},
     "inputWidgets": {},
     "nuid": "2050796a-b805-4747-a70b-1a6d8f658f48",
     "showTitle": false,
     "title": ""
    }
   },
   "outputs": [
    {
     "name": "stderr",
     "output_type": "stream",
     "text": [
      "INFO:src.data_collection:end_ts: 2024-08-30 00:00:00\n",
      "INFO:src.data_collection:n_periods: 169\n",
      "  0%|          | 0/169 [00:00<?, ?it/s]INFO:src.data_collection:number of cores available: 4\n",
      "INFO:src.data_collection:N_JOBS: 3\n",
      "INFO:src.data_collection:number of cores available: 4\n",
      "INFO:src.data_collection:N_JOBS: 3\n",
      "INFO:src.data_collection:number of cores available: 4\n",
      "INFO:src.data_collection:N_JOBS: 3\n",
      " 96%|█████████▌| 162/169 [00:21<00:00,  7.37it/s]ERROR:src.data_collection:ERROR READING URL: https://marketplace.spp.org/file-browser-api/download/systemwide-hourly-load-forecast-mtlf-vs-actual-weis?path=%2F2024%2F08%2F29%2FWEIS-OP-MTLF-202408291800.csv\n",
      "ERROR:src.data_collection:\n",
      " 96%|█████████▋| 163/169 [00:21<00:00,  7.41it/s]ERROR:src.data_collection:ERROR READING URL: https://marketplace.spp.org/file-browser-api/download/systemwide-hourly-load-forecast-mtlf-vs-actual-weis?path=%2F2024%2F08%2F29%2FWEIS-OP-MTLF-202408291900.csv\n",
      "ERROR:src.data_collection:\n",
      "100%|██████████| 169/169 [00:22<00:00,  7.43it/s]\n",
      "INFO:src.data_collection:ROWS INSERTED: 0 ROWS UPDATED: 194\n",
      "INFO:src.data_collection:end_ts: 2024-09-06 00:00:00\n",
      "INFO:src.data_collection:n_periods: 169\n"
     ]
    },
    {
     "name": "stdout",
     "output_type": "stream",
     "text": [
      "<class 'pandas.core.frame.DataFrame'>\n",
      "RangeIndex: 361 entries, 0 to 360\n",
      "Data columns (total 5 columns):\n",
      " #   Column           Non-Null Count  Dtype         \n",
      "---  ------           --------------  -----         \n",
      " 0   Interval         361 non-null    datetime64[ns]\n",
      " 1   GMTIntervalEnd   361 non-null    datetime64[ns]\n",
      " 2   MTLF             361 non-null    int64         \n",
      " 3   Averaged_Actual  194 non-null    float64       \n",
      " 4   timestamp_mst    361 non-null    datetime64[ns]\n",
      "dtypes: datetime64[ns](3), float64(1), int64(1)\n",
      "memory usage: 14.2 KB\n"
     ]
    },
    {
     "name": "stderr",
     "output_type": "stream",
     "text": [
      "100%|██████████| 169/169 [00:21<00:00,  7.77it/s]\n",
      "INFO:src.data_collection:ROWS INSERTED: 0 ROWS UPDATED: 194\n",
      "INFO:src.data_collection:end_ts: 2024-09-13 00:00:00\n",
      "INFO:src.data_collection:n_periods: 169\n"
     ]
    },
    {
     "name": "stdout",
     "output_type": "stream",
     "text": [
      "<class 'pandas.core.frame.DataFrame'>\n",
      "RangeIndex: 361 entries, 0 to 360\n",
      "Data columns (total 5 columns):\n",
      " #   Column           Non-Null Count  Dtype         \n",
      "---  ------           --------------  -----         \n",
      " 0   Interval         361 non-null    datetime64[ns]\n",
      " 1   GMTIntervalEnd   361 non-null    datetime64[ns]\n",
      " 2   MTLF             361 non-null    int64         \n",
      " 3   Averaged_Actual  194 non-null    float64       \n",
      " 4   timestamp_mst    361 non-null    datetime64[ns]\n",
      "dtypes: datetime64[ns](3), float64(1), int64(1)\n",
      "memory usage: 14.2 KB\n"
     ]
    },
    {
     "name": "stderr",
     "output_type": "stream",
     "text": [
      "100%|██████████| 169/169 [00:22<00:00,  7.67it/s]\n",
      "INFO:src.data_collection:ROWS INSERTED: 0 ROWS UPDATED: 194\n",
      "INFO:src.data_collection:end_ts: 2024-09-20 00:00:00\n",
      "INFO:src.data_collection:n_periods: 169\n"
     ]
    },
    {
     "name": "stdout",
     "output_type": "stream",
     "text": [
      "<class 'pandas.core.frame.DataFrame'>\n",
      "RangeIndex: 361 entries, 0 to 360\n",
      "Data columns (total 5 columns):\n",
      " #   Column           Non-Null Count  Dtype         \n",
      "---  ------           --------------  -----         \n",
      " 0   Interval         361 non-null    datetime64[ns]\n",
      " 1   GMTIntervalEnd   361 non-null    datetime64[ns]\n",
      " 2   MTLF             361 non-null    int64         \n",
      " 3   Averaged_Actual  194 non-null    float64       \n",
      " 4   timestamp_mst    361 non-null    datetime64[ns]\n",
      "dtypes: datetime64[ns](3), float64(1), int64(1)\n",
      "memory usage: 14.2 KB\n"
     ]
    },
    {
     "name": "stderr",
     "output_type": "stream",
     "text": [
      " 63%|██████▎   | 107/169 [00:14<00:08,  7.47it/s]ERROR:src.data_collection:ERROR READING URL: https://marketplace.spp.org/file-browser-api/download/systemwide-hourly-load-forecast-mtlf-vs-actual-weis?path=%2F2024%2F09%2F17%2FWEIS-OP-MTLF-202409171100.csv\n",
      "ERROR:src.data_collection:\n",
      "100%|██████████| 169/169 [00:22<00:00,  7.43it/s]\n",
      "INFO:src.data_collection:ROWS INSERTED: 120 ROWS UPDATED: 74\n"
     ]
    },
    {
     "name": "stdout",
     "output_type": "stream",
     "text": [
      "<class 'pandas.core.frame.DataFrame'>\n",
      "RangeIndex: 361 entries, 0 to 360\n",
      "Data columns (total 5 columns):\n",
      " #   Column           Non-Null Count  Dtype         \n",
      "---  ------           --------------  -----         \n",
      " 0   Interval         361 non-null    datetime64[ns]\n",
      " 1   GMTIntervalEnd   361 non-null    datetime64[ns]\n",
      " 2   MTLF             361 non-null    int64         \n",
      " 3   Averaged_Actual  194 non-null    float64       \n",
      " 4   timestamp_mst    361 non-null    datetime64[ns]\n",
      "dtypes: datetime64[ns](3), float64(1), int64(1)\n",
      "memory usage: 14.2 KB\n"
     ]
    }
   ],
   "source": [
    "for d in day_list:\n",
    "    dc.collect_upsert_mtlf(end_ts=d, n_periods=24*num_day_step+1, backfill=True)"
   ]
  },
  {
   "cell_type": "code",
   "execution_count": null,
   "metadata": {
    "application/vnd.databricks.v1+cell": {
     "cellMetadata": {},
     "inputWidgets": {},
     "nuid": "9c247c1a-1303-4e72-b4bc-460b9cbabc8e",
     "showTitle": false,
     "title": ""
    }
   },
   "outputs": [],
   "source": []
  },
  {
   "cell_type": "markdown",
   "metadata": {
    "application/vnd.databricks.v1+cell": {
     "cellMetadata": {},
     "inputWidgets": {},
     "nuid": "e3c23999-3dea-491e-ac34-94bc0f39e1f5",
     "showTitle": false,
     "title": ""
    }
   },
   "source": [
    "## Mid Term Resource Forecast\n",
    "\n",
    "![_](../../imgs/mtrf.PNG)"
   ]
  },
  {
   "cell_type": "code",
   "execution_count": 7,
   "metadata": {
    "application/vnd.databricks.v1+cell": {
     "cellMetadata": {},
     "inputWidgets": {},
     "nuid": "7ac0f3f6-fd16-4da6-8a99-a9188392a29e",
     "showTitle": false,
     "title": ""
    }
   },
   "outputs": [
    {
     "name": "stderr",
     "output_type": "stream",
     "text": [
      "INFO:src.data_collection:end_ts: 2024-08-30 00:00:00\n",
      "INFO:src.data_collection:n_periods: 169\n",
      " 14%|█▍        | 24/169 [00:03<00:20,  7.21it/s]ERROR:src.data_collection:ERROR READING URL: https://marketplace.spp.org/file-browser-api/download/mid-term-resource-forecast-mtrf-weis?path=%2F2024%2F08%2F24%2FWEIS-OP-MTRF-202408240000.csv\n",
      "ERROR:src.data_collection:\n",
      " 96%|█████████▌| 162/169 [00:20<00:00,  7.78it/s]ERROR:src.data_collection:ERROR READING URL: https://marketplace.spp.org/file-browser-api/download/mid-term-resource-forecast-mtrf-weis?path=%2F2024%2F08%2F29%2FWEIS-OP-MTRF-202408291800.csv\n",
      "ERROR:src.data_collection:\n",
      " 96%|█████████▋| 163/169 [00:21<00:00,  7.74it/s]ERROR:src.data_collection:ERROR READING URL: https://marketplace.spp.org/file-browser-api/download/mid-term-resource-forecast-mtrf-weis?path=%2F2024%2F08%2F29%2FWEIS-OP-MTRF-202408291900.csv\n",
      "ERROR:src.data_collection:\n",
      "100%|██████████| 169/169 [00:21<00:00,  7.74it/s]\n",
      "INFO:src.data_collection:ROWS INSERTED: 0 ROWS UPDATED: 361\n",
      "INFO:src.data_collection:end_ts: 2024-09-06 00:00:00\n",
      "INFO:src.data_collection:n_periods: 169\n"
     ]
    },
    {
     "name": "stdout",
     "output_type": "stream",
     "text": [
      "<class 'pandas.core.frame.DataFrame'>\n",
      "RangeIndex: 362 entries, 0 to 361\n",
      "Data columns (total 5 columns):\n",
      " #   Column             Non-Null Count  Dtype         \n",
      "---  ------             --------------  -----         \n",
      " 0   Interval           362 non-null    datetime64[ns]\n",
      " 1   GMTIntervalEnd     362 non-null    datetime64[ns]\n",
      " 2   Wind_Forecast_MW   361 non-null    float64       \n",
      " 3   Solar_Forecast_MW  361 non-null    float64       \n",
      " 4   timestamp_mst      362 non-null    datetime64[ns]\n",
      "dtypes: datetime64[ns](3), float64(2)\n",
      "memory usage: 14.3 KB\n"
     ]
    },
    {
     "name": "stderr",
     "output_type": "stream",
     "text": [
      "  7%|▋         | 12/169 [00:01<00:20,  7.69it/s]ERROR:src.data_collection:ERROR READING URL: https://marketplace.spp.org/file-browser-api/download/mid-term-resource-forecast-mtrf-weis?path=%2F2024%2F08%2F30%2FWEIS-OP-MTRF-202408301200.csv\n",
      "ERROR:src.data_collection:\n",
      " 99%|█████████▉| 167/169 [00:21<00:00,  7.61it/s]ERROR:src.data_collection:ERROR READING URL: https://marketplace.spp.org/file-browser-api/download/mid-term-resource-forecast-mtrf-weis?path=%2F2024%2F09%2F06%2FWEIS-OP-MTRF-202409060000.csv\n",
      "ERROR:src.data_collection:\n",
      "100%|██████████| 169/169 [00:22<00:00,  7.61it/s]\n",
      "INFO:src.data_collection:ROWS INSERTED: 0 ROWS UPDATED: 360\n",
      "INFO:src.data_collection:end_ts: 2024-09-13 00:00:00\n",
      "INFO:src.data_collection:n_periods: 169\n"
     ]
    },
    {
     "name": "stdout",
     "output_type": "stream",
     "text": [
      "<class 'pandas.core.frame.DataFrame'>\n",
      "RangeIndex: 360 entries, 0 to 359\n",
      "Data columns (total 5 columns):\n",
      " #   Column             Non-Null Count  Dtype         \n",
      "---  ------             --------------  -----         \n",
      " 0   Interval           360 non-null    datetime64[ns]\n",
      " 1   GMTIntervalEnd     360 non-null    datetime64[ns]\n",
      " 2   Wind_Forecast_MW   360 non-null    float64       \n",
      " 3   Solar_Forecast_MW  360 non-null    float64       \n",
      " 4   timestamp_mst      360 non-null    datetime64[ns]\n",
      "dtypes: datetime64[ns](3), float64(2)\n",
      "memory usage: 14.2 KB\n"
     ]
    },
    {
     "name": "stderr",
     "output_type": "stream",
     "text": [
      "  1%|          | 1/169 [00:00<01:03,  2.64it/s]ERROR:src.data_collection:ERROR READING URL: https://marketplace.spp.org/file-browser-api/download/mid-term-resource-forecast-mtrf-weis?path=%2F2024%2F09%2F06%2FWEIS-OP-MTRF-202409060000.csv\n",
      "ERROR:src.data_collection:\n",
      "100%|██████████| 169/169 [00:21<00:00,  7.86it/s]\n",
      "INFO:src.data_collection:ROWS INSERTED: 0 ROWS UPDATED: 360\n",
      "INFO:src.data_collection:end_ts: 2024-09-20 00:00:00\n",
      "INFO:src.data_collection:n_periods: 169\n"
     ]
    },
    {
     "name": "stdout",
     "output_type": "stream",
     "text": [
      "<class 'pandas.core.frame.DataFrame'>\n",
      "RangeIndex: 361 entries, 0 to 360\n",
      "Data columns (total 5 columns):\n",
      " #   Column             Non-Null Count  Dtype         \n",
      "---  ------             --------------  -----         \n",
      " 0   Interval           361 non-null    datetime64[ns]\n",
      " 1   GMTIntervalEnd     361 non-null    datetime64[ns]\n",
      " 2   Wind_Forecast_MW   360 non-null    float64       \n",
      " 3   Solar_Forecast_MW  360 non-null    float64       \n",
      " 4   timestamp_mst      361 non-null    datetime64[ns]\n",
      "dtypes: datetime64[ns](3), float64(2)\n",
      "memory usage: 14.2 KB\n"
     ]
    },
    {
     "name": "stderr",
     "output_type": "stream",
     "text": [
      " 63%|██████▎   | 107/169 [00:14<00:08,  7.60it/s]ERROR:src.data_collection:ERROR READING URL: https://marketplace.spp.org/file-browser-api/download/mid-term-resource-forecast-mtrf-weis?path=%2F2024%2F09%2F17%2FWEIS-OP-MTRF-202409171100.csv\n",
      "ERROR:src.data_collection:\n",
      "100%|██████████| 169/169 [00:22<00:00,  7.49it/s]\n",
      "INFO:src.data_collection:ROWS INSERTED: 120 ROWS UPDATED: 241\n"
     ]
    },
    {
     "name": "stdout",
     "output_type": "stream",
     "text": [
      "<class 'pandas.core.frame.DataFrame'>\n",
      "RangeIndex: 362 entries, 0 to 361\n",
      "Data columns (total 5 columns):\n",
      " #   Column             Non-Null Count  Dtype         \n",
      "---  ------             --------------  -----         \n",
      " 0   Interval           362 non-null    datetime64[ns]\n",
      " 1   GMTIntervalEnd     362 non-null    datetime64[ns]\n",
      " 2   Wind_Forecast_MW   361 non-null    float64       \n",
      " 3   Solar_Forecast_MW  361 non-null    float64       \n",
      " 4   timestamp_mst      362 non-null    datetime64[ns]\n",
      "dtypes: datetime64[ns](3), float64(2)\n",
      "memory usage: 14.3 KB\n"
     ]
    }
   ],
   "source": [
    "for d in day_list:\n",
    "    dc.collect_upsert_mtrf(end_ts=d, n_periods=24*num_day_step+1, backfill=True)"
   ]
  },
  {
   "cell_type": "code",
   "execution_count": null,
   "metadata": {
    "application/vnd.databricks.v1+cell": {
     "cellMetadata": {},
     "inputWidgets": {},
     "nuid": "0f43a0a9-9fb7-4ded-bfe2-46241c4fdb50",
     "showTitle": false,
     "title": ""
    }
   },
   "outputs": [],
   "source": []
  },
  {
   "cell_type": "markdown",
   "metadata": {
    "application/vnd.databricks.v1+cell": {
     "cellMetadata": {},
     "inputWidgets": {},
     "nuid": "9eac3e42-bbc9-4fa0-a374-42ed03a7e89e",
     "showTitle": false,
     "title": ""
    }
   },
   "source": [
    "## LMP settlement location prices\n",
    "\n",
    "![_](../../imgs/lmp_settlement_location.PNG)"
   ]
  },
  {
   "cell_type": "markdown",
   "metadata": {
    "application/vnd.databricks.v1+cell": {
     "cellMetadata": {},
     "inputWidgets": {},
     "nuid": "f658a141-e5f6-4a8c-b4ec-bb0f50658118",
     "showTitle": false,
     "title": ""
    }
   },
   "source": [
    "## LMP upsert"
   ]
  },
  {
   "cell_type": "markdown",
   "metadata": {
    "application/vnd.databricks.v1+cell": {
     "cellMetadata": {},
     "inputWidgets": {},
     "nuid": "c3f89013-7560-434a-8bce-77f7f4f19817",
     "showTitle": false,
     "title": ""
    }
   },
   "source": [
    "### LMP daily file"
   ]
  },
  {
   "cell_type": "code",
   "execution_count": 9,
   "metadata": {
    "application/vnd.databricks.v1+cell": {
     "cellMetadata": {},
     "inputWidgets": {},
     "nuid": "12e4f731-f3fa-41fa-8290-0d0d5a82262d",
     "showTitle": false,
     "title": ""
    }
   },
   "outputs": [
    {
     "name": "stderr",
     "output_type": "stream",
     "text": [
      "INFO:src.data_collection:end_ts: 2024-08-30 00:00:00\n",
      "INFO:src.data_collection:n_periods: 8\n",
      "100%|██████████| 8/8 [00:21<00:00,  2.64s/it]\n",
      "INFO:src.data_collection:ROWS INSERTED: 0 ROWS UPDATED: 62,976\n"
     ]
    },
    {
     "name": "stdout",
     "output_type": "stream",
     "text": [
      "<class 'pandas.core.frame.DataFrame'>\n",
      "RangeIndex: 62976 entries, 0 to 62975\n",
      "Data columns (total 9 columns):\n",
      " #   Column                    Non-Null Count  Dtype         \n",
      "---  ------                    --------------  -----         \n",
      " 0   Interval_HE               62976 non-null  datetime64[ns]\n",
      " 1   GMTIntervalEnd_HE         62976 non-null  datetime64[ns]\n",
      " 2   timestamp_mst_HE          62976 non-null  datetime64[ns]\n",
      " 3   Settlement_Location_Name  62976 non-null  object        \n",
      " 4   PNODE_Name                62976 non-null  object        \n",
      " 5   LMP                       62976 non-null  float64       \n",
      " 6   MLC                       62976 non-null  float64       \n",
      " 7   MCC                       62976 non-null  float64       \n",
      " 8   MEC                       62976 non-null  float64       \n",
      "dtypes: datetime64[ns](3), float64(4), object(2)\n",
      "memory usage: 4.3+ MB\n"
     ]
    },
    {
     "name": "stderr",
     "output_type": "stream",
     "text": [
      "INFO:src.data_collection:end_ts: 2024-09-06 00:00:00\n",
      "INFO:src.data_collection:n_periods: 8\n",
      "100%|██████████| 8/8 [00:20<00:00,  2.57s/it]\n",
      "INFO:src.data_collection:ROWS INSERTED: 0 ROWS UPDATED: 62,976\n"
     ]
    },
    {
     "name": "stdout",
     "output_type": "stream",
     "text": [
      "<class 'pandas.core.frame.DataFrame'>\n",
      "RangeIndex: 62976 entries, 0 to 62975\n",
      "Data columns (total 9 columns):\n",
      " #   Column                    Non-Null Count  Dtype         \n",
      "---  ------                    --------------  -----         \n",
      " 0   Interval_HE               62976 non-null  datetime64[ns]\n",
      " 1   GMTIntervalEnd_HE         62976 non-null  datetime64[ns]\n",
      " 2   timestamp_mst_HE          62976 non-null  datetime64[ns]\n",
      " 3   Settlement_Location_Name  62976 non-null  object        \n",
      " 4   PNODE_Name                62976 non-null  object        \n",
      " 5   LMP                       62976 non-null  float64       \n",
      " 6   MLC                       62976 non-null  float64       \n",
      " 7   MCC                       62976 non-null  float64       \n",
      " 8   MEC                       62976 non-null  float64       \n",
      "dtypes: datetime64[ns](3), float64(4), object(2)\n",
      "memory usage: 4.3+ MB\n"
     ]
    },
    {
     "name": "stderr",
     "output_type": "stream",
     "text": [
      "INFO:src.data_collection:end_ts: 2024-09-13 00:00:00\n",
      "INFO:src.data_collection:n_periods: 8\n",
      "100%|██████████| 8/8 [00:20<00:00,  2.59s/it]\n"
     ]
    },
    {
     "name": "stdout",
     "output_type": "stream",
     "text": [
      "<class 'pandas.core.frame.DataFrame'>\n",
      "RangeIndex: 62976 entries, 0 to 62975\n",
      "Data columns (total 9 columns):\n",
      " #   Column                    Non-Null Count  Dtype         \n",
      "---  ------                    --------------  -----         \n",
      " 0   Interval_HE               62976 non-null  datetime64[ns]\n",
      " 1   GMTIntervalEnd_HE         62976 non-null  datetime64[ns]\n",
      " 2   timestamp_mst_HE          62976 non-null  datetime64[ns]\n",
      " 3   Settlement_Location_Name  62976 non-null  object        \n",
      " 4   PNODE_Name                62976 non-null  object        \n",
      " 5   LMP                       62976 non-null  float64       \n",
      " 6   MLC                       62976 non-null  float64       \n",
      " 7   MCC                       62976 non-null  float64       \n",
      " 8   MEC                       62976 non-null  float64       \n",
      "dtypes: datetime64[ns](3), float64(4), object(2)\n",
      "memory usage: 4.3+ MB\n"
     ]
    },
    {
     "name": "stderr",
     "output_type": "stream",
     "text": [
      "INFO:src.data_collection:ROWS INSERTED: 0 ROWS UPDATED: 62,976\n",
      "INFO:src.data_collection:end_ts: 2024-09-20 00:00:00\n",
      "INFO:src.data_collection:n_periods: 8\n",
      " 75%|███████▌  | 6/8 [00:14<00:04,  2.35s/it]ERROR:src.data_collection:ERROR READING URL: https://marketplace.spp.org/file-browser-api/download/lmp-by-settlement-location-weis?path=%2F2024%2F09%2FBy_Day%2FWEIS-RTBM-LMP-DAILY-SL-20240920.csv\n",
      "ERROR:src.data_collection:\n",
      "100%|██████████| 8/8 [00:20<00:00,  2.58s/it]\n",
      "INFO:src.data_collection:ROWS INSERTED: 0 ROWS UPDATED: 55,104\n"
     ]
    },
    {
     "name": "stdout",
     "output_type": "stream",
     "text": [
      "<class 'pandas.core.frame.DataFrame'>\n",
      "RangeIndex: 55104 entries, 0 to 55103\n",
      "Data columns (total 9 columns):\n",
      " #   Column                    Non-Null Count  Dtype         \n",
      "---  ------                    --------------  -----         \n",
      " 0   Interval_HE               55104 non-null  datetime64[ns]\n",
      " 1   GMTIntervalEnd_HE         55104 non-null  datetime64[ns]\n",
      " 2   timestamp_mst_HE          55104 non-null  datetime64[ns]\n",
      " 3   Settlement_Location_Name  55104 non-null  object        \n",
      " 4   PNODE_Name                55104 non-null  object        \n",
      " 5   LMP                       55104 non-null  float64       \n",
      " 6   MLC                       55104 non-null  float64       \n",
      " 7   MCC                       55104 non-null  float64       \n",
      " 8   MEC                       55104 non-null  float64       \n",
      "dtypes: datetime64[ns](3), float64(4), object(2)\n",
      "memory usage: 3.8+ MB\n"
     ]
    }
   ],
   "source": [
    "for d in day_list:\n",
    "    dc.collect_upsert_lmp(end_ts=d, n_periods=num_day_step+1, daily_file=True)"
   ]
  },
  {
   "cell_type": "code",
   "execution_count": null,
   "metadata": {
    "application/vnd.databricks.v1+cell": {
     "cellMetadata": {},
     "inputWidgets": {},
     "nuid": "96172f47-f44c-4f30-8f60-1bd86e939588",
     "showTitle": false,
     "title": ""
    }
   },
   "outputs": [],
   "source": []
  },
  {
   "cell_type": "code",
   "execution_count": null,
   "metadata": {
    "application/vnd.databricks.v1+cell": {
     "cellMetadata": {},
     "inputWidgets": {},
     "nuid": "4c728e43-dfa8-4871-ac9e-f8f1eaca64bd",
     "showTitle": false,
     "title": ""
    }
   },
   "outputs": [],
   "source": []
  }
 ],
 "metadata": {
  "application/vnd.databricks.v1+notebook": {
   "dashboards": [],
   "language": "python",
   "notebookMetadata": {},
   "notebookName": "data_collection",
   "widgets": {}
  },
  "kernelspec": {
   "display_name": "Python 3",
   "language": "python",
   "name": "python3"
  },
  "language_info": {
   "codemirror_mode": {
    "name": "ipython",
    "version": 3
   },
   "file_extension": ".py",
   "mimetype": "text/x-python",
   "name": "python",
   "nbconvert_exporter": "python",
   "pygments_lexer": "ipython3",
   "version": "3.10.10"
  }
 },
 "nbformat": 4,
 "nbformat_minor": 4
}
