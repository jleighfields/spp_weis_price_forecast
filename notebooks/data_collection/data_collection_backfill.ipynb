{
 "cells": [
  {
   "cell_type": "markdown",
   "metadata": {
    "application/vnd.databricks.v1+cell": {
     "cellMetadata": {},
     "inputWidgets": {},
     "nuid": "91a67ac5-89a9-4b80-84e4-be3225fc9636",
     "showTitle": false,
     "title": ""
    }
   },
   "source": [
    "# Data collection\n",
    "Gather public SPP Weis data from https://marketplace.spp.org/groups/operational-data-weis"
   ]
  },
  {
   "cell_type": "code",
   "execution_count": 1,
   "metadata": {
    "application/vnd.databricks.v1+cell": {
     "cellMetadata": {},
     "inputWidgets": {},
     "nuid": "c37f0523-4d36-4ab9-9ff6-182c15f7e49c",
     "showTitle": false,
     "title": ""
    }
   },
   "outputs": [],
   "source": [
    "import os\n",
    "import pandas as pd\n",
    "import duckdb\n",
    "\n",
    "import requests\n",
    "from io import StringIO\n",
    "\n",
    "import ibis\n",
    "import ibis.selectors as s\n",
    "ibis.options.interactive = True\n",
    "\n",
    "# logging\n",
    "import logging"
   ]
  },
  {
   "cell_type": "code",
   "execution_count": 2,
   "metadata": {
    "application/vnd.databricks.v1+cell": {
     "cellMetadata": {},
     "inputWidgets": {},
     "nuid": "f5a53f34-1665-45f1-802c-4277b373d8d7",
     "showTitle": false,
     "title": ""
    }
   },
   "outputs": [],
   "source": [
    "# define log\n",
    "logging.basicConfig(level=logging.INFO)\n",
    "log = logging.getLogger(__name__)\n"
   ]
  },
  {
   "cell_type": "code",
   "execution_count": 3,
   "metadata": {
    "application/vnd.databricks.v1+cell": {
     "cellMetadata": {},
     "inputWidgets": {},
     "nuid": "de6a1932-d626-4d93-b6c9-4aa8d4fd2946",
     "showTitle": false,
     "title": ""
    }
   },
   "outputs": [],
   "source": [
    "os.chdir('../..')"
   ]
  },
  {
   "cell_type": "code",
   "execution_count": 4,
   "metadata": {
    "application/vnd.databricks.v1+cell": {
     "cellMetadata": {},
     "inputWidgets": {},
     "nuid": "644749ae-40cb-4b9c-9797-7c940551e823",
     "showTitle": false,
     "title": ""
    }
   },
   "outputs": [
    {
     "name": "stderr",
     "output_type": "stream",
     "text": [
      "INFO:src.data_collection:number of cores available: 48\n",
      "INFO:src.data_collection:N_JOBS: 46\n"
     ]
    }
   ],
   "source": [
    "import src.data_collection as dc"
   ]
  },
  {
   "cell_type": "code",
   "execution_count": null,
   "metadata": {
    "application/vnd.databricks.v1+cell": {
     "cellMetadata": {},
     "inputWidgets": {},
     "nuid": "6da19ebe-6b6a-4999-8081-b2649fafa880",
     "showTitle": false,
     "title": ""
    }
   },
   "outputs": [],
   "source": []
  },
  {
   "cell_type": "markdown",
   "metadata": {},
   "source": [
    "## Set up backfill parameters"
   ]
  },
  {
   "cell_type": "code",
   "execution_count": 5,
   "metadata": {},
   "outputs": [
    {
     "data": {
      "text/plain": [
       "[Timestamp('2023-06-01 00:00:00'),\n",
       " Timestamp('2023-07-01 00:00:00'),\n",
       " Timestamp('2023-07-31 00:00:00'),\n",
       " Timestamp('2023-08-30 00:00:00'),\n",
       " Timestamp('2023-09-29 00:00:00')]"
      ]
     },
     "execution_count": 5,
     "metadata": {},
     "output_type": "execute_result"
    }
   ],
   "source": [
    "start_date = '2023-06-01'\n",
    "end_date = '2024-09-02'\n",
    "num_day_step = 30\n",
    "day_list = pd.date_range(start = start_date, end=end_date, freq=f'{num_day_step }d')\n",
    "day_list = [pd.Timestamp(d) for d in day_list]\n",
    "day_list[:5]"
   ]
  },
  {
   "cell_type": "code",
   "execution_count": null,
   "metadata": {},
   "outputs": [],
   "source": []
  },
  {
   "cell_type": "markdown",
   "metadata": {
    "application/vnd.databricks.v1+cell": {
     "cellMetadata": {},
     "inputWidgets": {},
     "nuid": "33183310-ac93-482d-94cd-20d4d9f41ed6",
     "showTitle": false,
     "title": ""
    }
   },
   "source": [
    "## Mid Term Load Forecast\n",
    "\n",
    "![_](../../imgs/mtlf.PNG)"
   ]
  },
  {
   "cell_type": "markdown",
   "metadata": {
    "application/vnd.databricks.v1+cell": {
     "cellMetadata": {},
     "inputWidgets": {},
     "nuid": "c690ab59-c3c1-4366-aa4b-11ff9a094a5b",
     "showTitle": false,
     "title": ""
    }
   },
   "source": [
    "HOUR = {0000, ..., 2300}\n",
    "DAY = {01, ..., 31}"
   ]
  },
  {
   "cell_type": "code",
   "execution_count": 6,
   "metadata": {
    "application/vnd.databricks.v1+cell": {
     "cellMetadata": {},
     "inputWidgets": {},
     "nuid": "2050796a-b805-4747-a70b-1a6d8f658f48",
     "showTitle": false,
     "title": ""
    }
   },
   "outputs": [
    {
     "name": "stderr",
     "output_type": "stream",
     "text": [
      "INFO:src.data_collection:end_ts: 2023-06-01 00:00:00\n",
      "INFO:src.data_collection:n_periods: 721\n",
      "  0%|                                                                                                                                     | 0/721 [00:00<?, ?it/s]INFO:src.data_collection:number of cores available: 48\n",
      "INFO:src.data_collection:N_JOBS: 46\n",
      "INFO:src.data_collection:number of cores available: 48\n",
      "INFO:src.data_collection:N_JOBS: 46\n",
      "INFO:src.data_collection:number of cores available: 48\n",
      "INFO:src.data_collection:N_JOBS: 46\n",
      "INFO:src.data_collection:number of cores available: 48\n",
      "INFO:src.data_collection:N_JOBS: 46\n",
      "INFO:src.data_collection:number of cores available: 48\n",
      "INFO:src.data_collection:N_JOBS: 46\n",
      "INFO:src.data_collection:number of cores available: 48\n",
      "INFO:src.data_collection:number of cores available: 48\n",
      "INFO:src.data_collection:N_JOBS: 46\n",
      "INFO:src.data_collection:N_JOBS: 46\n",
      "INFO:src.data_collection:number of cores available: 48\n",
      "INFO:src.data_collection:N_JOBS: 46\n",
      "INFO:src.data_collection:number of cores available: 48\n",
      "INFO:src.data_collection:N_JOBS: 46\n",
      "INFO:src.data_collection:number of cores available: 48\n",
      "INFO:src.data_collection:number of cores available: 48\n",
      "INFO:src.data_collection:N_JOBS: 46\n",
      "INFO:src.data_collection:N_JOBS: 46\n",
      "INFO:src.data_collection:number of cores available: 48\n",
      "INFO:src.data_collection:N_JOBS: 46\n",
      "INFO:src.data_collection:number of cores available: 48\n",
      "INFO:src.data_collection:number of cores available: 48\n",
      "INFO:src.data_collection:N_JOBS: 46\n",
      "INFO:src.data_collection:number of cores available: 48\n",
      "INFO:src.data_collection:number of cores available: 48\n",
      "INFO:src.data_collection:N_JOBS: 46\n",
      "INFO:src.data_collection:N_JOBS: 46\n",
      "INFO:src.data_collection:N_JOBS: 46\n",
      "INFO:src.data_collection:number of cores available: 48\n",
      "INFO:src.data_collection:N_JOBS: 46\n",
      "INFO:src.data_collection:number of cores available: 48\n",
      "INFO:src.data_collection:N_JOBS: 46\n",
      "INFO:src.data_collection:number of cores available: 48\n",
      "INFO:src.data_collection:number of cores available: 48\n",
      "INFO:src.data_collection:N_JOBS: 46\n",
      "INFO:src.data_collection:N_JOBS: 46\n",
      "INFO:src.data_collection:number of cores available: 48\n",
      "INFO:src.data_collection:N_JOBS: 46\n",
      "INFO:src.data_collection:number of cores available: 48\n",
      "INFO:src.data_collection:N_JOBS: 46\n",
      "INFO:src.data_collection:number of cores available: 48\n",
      "INFO:src.data_collection:N_JOBS: 46\n",
      "INFO:src.data_collection:number of cores available: 48\n",
      "INFO:src.data_collection:N_JOBS: 46\n",
      "INFO:src.data_collection:number of cores available: 48\n",
      "INFO:src.data_collection:N_JOBS: 46\n",
      "INFO:src.data_collection:number of cores available: 48\n",
      "INFO:src.data_collection:N_JOBS: 46\n",
      "INFO:src.data_collection:number of cores available: 48\n",
      "INFO:src.data_collection:N_JOBS: 46\n",
      "INFO:src.data_collection:number of cores available: 48\n",
      "INFO:src.data_collection:N_JOBS: 46\n",
      "INFO:src.data_collection:number of cores available: 48\n",
      "INFO:src.data_collection:N_JOBS: 46\n",
      "INFO:src.data_collection:number of cores available: 48\n",
      "INFO:src.data_collection:N_JOBS: 46\n",
      "INFO:src.data_collection:number of cores available: 48\n",
      "INFO:src.data_collection:number of cores available: 48\n",
      "INFO:src.data_collection:N_JOBS: 46\n",
      "INFO:src.data_collection:N_JOBS: 46\n",
      "INFO:src.data_collection:number of cores available: 48\n",
      "INFO:src.data_collection:N_JOBS: 46\n",
      "INFO:src.data_collection:number of cores available: 48\n",
      "INFO:src.data_collection:N_JOBS: 46\n",
      "INFO:src.data_collection:number of cores available: 48\n",
      "INFO:src.data_collection:N_JOBS: 46\n",
      "INFO:src.data_collection:number of cores available: 48\n",
      "INFO:src.data_collection:N_JOBS: 46\n",
      "INFO:src.data_collection:number of cores available: 48\n",
      "INFO:src.data_collection:N_JOBS: 46\n",
      "INFO:src.data_collection:number of cores available: 48\n",
      "INFO:src.data_collection:N_JOBS: 46\n",
      "INFO:src.data_collection:number of cores available: 48\n",
      "INFO:src.data_collection:N_JOBS: 46\n",
      "INFO:src.data_collection:number of cores available: 48\n",
      "INFO:src.data_collection:N_JOBS: 46\n",
      "INFO:src.data_collection:number of cores available: 48\n",
      "INFO:src.data_collection:number of cores available: 48\n",
      "INFO:src.data_collection:N_JOBS: 46\n",
      "INFO:src.data_collection:N_JOBS: 46\n",
      "INFO:src.data_collection:number of cores available: 48\n",
      "INFO:src.data_collection:N_JOBS: 46\n",
      "INFO:src.data_collection:number of cores available: 48\n",
      "INFO:src.data_collection:N_JOBS: 46\n",
      "INFO:src.data_collection:number of cores available: 48\n",
      "INFO:src.data_collection:N_JOBS: 46\n",
      "INFO:src.data_collection:number of cores available: 48\n",
      "INFO:src.data_collection:N_JOBS: 46\n",
      "  9%|███████████▌                                                                                                                | 67/721 [00:03<00:33, 19.63it/s]ERROR:src.data_collection:ERROR READING URL: https://marketplace.spp.org/file-browser-api/download/systemwide-hourly-load-forecast-mtlf-vs-actual-weis?path=%2F2023%2F05%2F04%2FWEIS-OP-MTLF-202305042200.csv\n",
      "  9%|███████████▋                                                                                                                | 68/721 [00:03<00:32, 19.91it/s]ERROR:src.data_collection:\n",
      " 94%|████████████████████████████████████████████████████████████████████████████████████████████████████████████████████▏      | 681/721 [00:18<00:01, 37.48it/s]ERROR:src.data_collection:ERROR READING URL: https://marketplace.spp.org/file-browser-api/download/systemwide-hourly-load-forecast-mtlf-vs-actual-weis?path=%2F2023%2F05%2F30%2FWEIS-OP-MTLF-202305301800.csv\n",
      " 95%|████████████████████████████████████████████████████████████████████████████████████████████████████████████████████▌      | 683/721 [00:18<00:01, 37.59it/s]ERROR:src.data_collection:\n",
      " 96%|█████████████████████████████████████████████████████████████████████████████████████████████████████████████████████▋     | 690/721 [00:18<00:00, 37.93it/s]ERROR:src.data_collection:ERROR READING URL: https://marketplace.spp.org/file-browser-api/download/systemwide-hourly-load-forecast-mtlf-vs-actual-weis?path=%2F2023%2F05%2F30%2FWEIS-OP-MTLF-202305301900.csv\n",
      "ERROR:src.data_collection:\n",
      "100%|███████████████████████████████████████████████████████████████████████████████████████████████████████████████████████████| 721/721 [00:18<00:00, 38.00it/s]\n",
      "INFO:src.data_collection:ROWS INSERTED: 744 ROWS UPDATED: 0\n",
      "INFO:src.data_collection:end_ts: 2023-07-01 00:00:00\n",
      "INFO:src.data_collection:n_periods: 721\n"
     ]
    },
    {
     "name": "stdout",
     "output_type": "stream",
     "text": [
      "<class 'pandas.core.frame.DataFrame'>\n",
      "RangeIndex: 913 entries, 0 to 912\n",
      "Data columns (total 5 columns):\n",
      " #   Column           Non-Null Count  Dtype         \n",
      "---  ------           --------------  -----         \n",
      " 0   Interval         913 non-null    datetime64[ns]\n",
      " 1   GMTIntervalEnd   913 non-null    datetime64[ns]\n",
      " 2   MTLF             913 non-null    int64         \n",
      " 3   Averaged_Actual  744 non-null    float64       \n",
      " 4   timestamp_mst    913 non-null    datetime64[ns]\n",
      "dtypes: datetime64[ns](3), float64(1), int64(1)\n",
      "memory usage: 35.8 KB\n"
     ]
    },
    {
     "name": "stderr",
     "output_type": "stream",
     "text": [
      "  9%|███████████▎                                                                                                                | 66/721 [00:02<00:22, 29.62it/s]ERROR:src.data_collection:ERROR READING URL: https://marketplace.spp.org/file-browser-api/download/systemwide-hourly-load-forecast-mtlf-vs-actual-weis?path=%2F2023%2F06%2F04%2FWEIS-OP-MTLF-202306040900.csv\n",
      "ERROR:src.data_collection:\n",
      " 19%|███████████████████████▏                                                                                                   | 136/721 [00:03<00:17, 34.34it/s]ERROR:src.data_collection:ERROR READING URL: https://marketplace.spp.org/file-browser-api/download/systemwide-hourly-load-forecast-mtlf-vs-actual-weis?path=%2F2023%2F06%2F06%2FWEIS-OP-MTLF-202306061900.csv\n",
      "ERROR:src.data_collection:\n",
      "ERROR:src.data_collection:ERROR READING URL: https://marketplace.spp.org/file-browser-api/download/systemwide-hourly-load-forecast-mtlf-vs-actual-weis?path=%2F2023%2F06%2F06%2FWEIS-OP-MTLF-202306061800.csv\n",
      "ERROR:src.data_collection:\n",
      "100%|██████████████████████████████████████████████████████████████████████████████████████████████████████████████████████████▍| 718/721 [00:54<00:00, 13.27it/s]ERROR:src.data_collection:HTTPSConnectionPool(host='marketplace.spp.org', port=443): Max retries exceeded with url: /file-browser-api/download/systemwide-hourly-load-forecast-mtlf-vs-actual-weis?path=%2F2023%2F06%2F12%2FWEIS-OP-MTLF-202306121000.csv (Caused by ConnectTimeoutError(<urllib3.connection.HTTPSConnection object at 0x7f11e8270550>, 'Connection to marketplace.spp.org timed out. (connect timeout=60)'))\n",
      "100%|██████████████████████████████████████████████████████████████████████████████████████████████████████████████████████████▋| 719/721 [01:06<00:00, 10.83it/s]ERROR:src.data_collection:HTTPSConnectionPool(host='marketplace.spp.org', port=443): Max retries exceeded with url: /file-browser-api/download/systemwide-hourly-load-forecast-mtlf-vs-actual-weis?path=%2F2023%2F06%2F12%2FWEIS-OP-MTLF-202306121700.csv (Caused by ConnectTimeoutError(<urllib3.connection.HTTPSConnection object at 0x7f5243a1aa50>, 'Connection to marketplace.spp.org timed out. (connect timeout=60)'))\n",
      "100%|██████████████████████████████████████████████████████████████████████████████████████████████████████████████████████████▊| 720/721 [01:06<00:00, 10.84it/s]ERROR:src.data_collection:HTTPSConnectionPool(host='portal.spp.org', port=443): Max retries exceeded with url: /file-browser-api/download/systemwide-hourly-load-forecast-mtlf-vs-actual-weis?path=%2F2023%2F06%2F23%2FWEIS-OP-MTLF-202306230600.csv (Caused by ConnectTimeoutError(<urllib3.connection.HTTPSConnection object at 0x7fe161388710>, 'Connection to portal.spp.org timed out. (connect timeout=60)'))\n",
      "100%|███████████████████████████████████████████████████████████████████████████████████████████████████████████████████████████| 721/721 [01:13<00:00,  9.84it/s]\n",
      "INFO:src.data_collection:ROWS INSERTED: 720 ROWS UPDATED: 26\n",
      "INFO:src.data_collection:end_ts: 2023-07-31 00:00:00\n",
      "INFO:src.data_collection:n_periods: 721\n"
     ]
    },
    {
     "name": "stdout",
     "output_type": "stream",
     "text": [
      "<class 'pandas.core.frame.DataFrame'>\n",
      "RangeIndex: 913 entries, 0 to 912\n",
      "Data columns (total 5 columns):\n",
      " #   Column           Non-Null Count  Dtype         \n",
      "---  ------           --------------  -----         \n",
      " 0   Interval         913 non-null    datetime64[ns]\n",
      " 1   GMTIntervalEnd   913 non-null    datetime64[ns]\n",
      " 2   MTLF             913 non-null    int64         \n",
      " 3   Averaged_Actual  746 non-null    float64       \n",
      " 4   timestamp_mst    913 non-null    datetime64[ns]\n",
      "dtypes: datetime64[ns](3), float64(1), int64(1)\n",
      "memory usage: 35.8 KB\n"
     ]
    },
    {
     "name": "stderr",
     "output_type": "stream",
     "text": [
      " 41%|███████████████████████████████████████████████████                                                                        | 299/721 [00:08<00:11, 36.63it/s]ERROR:src.data_collection:ERROR READING URL: https://marketplace.spp.org/file-browser-api/download/systemwide-hourly-load-forecast-mtlf-vs-actual-weis?path=%2F2023%2F07%2F13%2FWEIS-OP-MTLF-202307131900.csv\n",
      "ERROR:src.data_collection:\n",
      " 42%|███████████████████████████████████████████████████▏                                                                       | 300/721 [00:08<00:11, 36.69it/s]ERROR:src.data_collection:ERROR READING URL: https://marketplace.spp.org/file-browser-api/download/systemwide-hourly-load-forecast-mtlf-vs-actual-weis?path=%2F2023%2F07%2F13%2FWEIS-OP-MTLF-202307132000.csv\n",
      "ERROR:src.data_collection:\n",
      " 42%|███████████████████████████████████████████████████▎                                                                       | 301/721 [00:08<00:11, 36.68it/s]ERROR:src.data_collection:ERROR READING URL: https://marketplace.spp.org/file-browser-api/download/systemwide-hourly-load-forecast-mtlf-vs-actual-weis?path=%2F2023%2F07%2F13%2FWEIS-OP-MTLF-202307132100.csv\n",
      "ERROR:src.data_collection:\n",
      " 61%|██████████████████████████████████████████████████████████████████████████▋                                                | 438/721 [00:15<00:09, 28.53it/s]ERROR:src.data_collection:ERROR READING URL: https://marketplace.spp.org/file-browser-api/download/systemwide-hourly-load-forecast-mtlf-vs-actual-weis?path=%2F2023%2F07%2F20%2FWEIS-OP-MTLF-202307201800.csv\n",
      "ERROR:src.data_collection:\n",
      " 61%|███████████████████████████████████████████████████████████████████████████▏                                               | 441/721 [00:15<00:09, 28.66it/s]ERROR:src.data_collection:ERROR READING URL: https://marketplace.spp.org/file-browser-api/download/systemwide-hourly-load-forecast-mtlf-vs-actual-weis?path=%2F2023%2F07%2F20%2FWEIS-OP-MTLF-202307201900.csv\n",
      "ERROR:src.data_collection:\n",
      " 90%|███████████████████████████████████████████████████████████████████████████████████████████████████████████████▏           | 652/721 [00:44<00:04, 14.54it/s]ERROR:src.data_collection:ERROR READING URL: https://marketplace.spp.org/file-browser-api/download/systemwide-hourly-load-forecast-mtlf-vs-actual-weis?path=%2F2023%2F07%2F13%2FWEIS-OP-MTLF-202307132200.csv\n",
      "ERROR:src.data_collection:\n",
      " 99%|██████████████████████████████████████████████████████████████████████████████████████████████████████████████████████████▎| 717/721 [01:03<00:00, 11.29it/s]ERROR:src.data_collection:HTTPSConnectionPool(host='marketplace.spp.org', port=443): Max retries exceeded with url: /file-browser-api/download/systemwide-hourly-load-forecast-mtlf-vs-actual-weis?path=%2F2023%2F07%2F15%2FWEIS-OP-MTLF-202307150200.csv (Caused by ConnectTimeoutError(<urllib3.connection.HTTPSConnection object at 0x7f057c159810>, 'Connection to marketplace.spp.org timed out. (connect timeout=60)'))\n",
      "100%|██████████████████████████████████████████████████████████████████████████████████████████████████████████████████████████▍| 718/721 [01:08<00:00, 10.52it/s]ERROR:src.data_collection:HTTPSConnectionPool(host='marketplace.spp.org', port=443): Max retries exceeded with url: /file-browser-api/download/systemwide-hourly-load-forecast-mtlf-vs-actual-weis?path=%2F2023%2F07%2F17%2FWEIS-OP-MTLF-202307170400.csv (Caused by ConnectTimeoutError(<urllib3.connection.HTTPSConnection object at 0x7f4a683fa410>, 'Connection to marketplace.spp.org timed out. (connect timeout=60)'))\n",
      "100%|██████████████████████████████████████████████████████████████████████████████████████████████████████████████████████████▋| 719/721 [01:10<00:00, 10.22it/s]ERROR:src.data_collection:HTTPSConnectionPool(host='portal.spp.org', port=443): Max retries exceeded with url: /file-browser-api/download/systemwide-hourly-load-forecast-mtlf-vs-actual-weis?path=%2F2023%2F07%2F18%2FWEIS-OP-MTLF-202307181300.csv (Caused by ConnectTimeoutError(<urllib3.connection.HTTPSConnection object at 0x7f6d3a894f10>, 'Connection to portal.spp.org timed out. (connect timeout=60)'))\n",
      "100%|██████████████████████████████████████████████████████████████████████████████████████████████████████████████████████████▊| 720/721 [01:11<00:00, 10.07it/s]ERROR:src.data_collection:HTTPSConnectionPool(host='marketplace.spp.org', port=443): Max retries exceeded with url: /file-browser-api/download/systemwide-hourly-load-forecast-mtlf-vs-actual-weis?path=%2F2023%2F07%2F19%2FWEIS-OP-MTLF-202307191600.csv (Caused by ConnectTimeoutError(<urllib3.connection.HTTPSConnection object at 0x7fe8baad0a10>, 'Connection to marketplace.spp.org timed out. (connect timeout=60)'))\n",
      "100%|███████████████████████████████████████████████████████████████████████████████████████████████████████████████████████████| 721/721 [01:13<00:00,  9.86it/s]\n",
      "INFO:src.data_collection:ROWS INSERTED: 720 ROWS UPDATED: 26\n",
      "INFO:src.data_collection:end_ts: 2023-08-30 00:00:00\n",
      "INFO:src.data_collection:n_periods: 721\n"
     ]
    },
    {
     "name": "stdout",
     "output_type": "stream",
     "text": [
      "<class 'pandas.core.frame.DataFrame'>\n",
      "RangeIndex: 913 entries, 0 to 912\n",
      "Data columns (total 5 columns):\n",
      " #   Column           Non-Null Count  Dtype         \n",
      "---  ------           --------------  -----         \n",
      " 0   Interval         913 non-null    datetime64[ns]\n",
      " 1   GMTIntervalEnd   913 non-null    datetime64[ns]\n",
      " 2   MTLF             913 non-null    int64         \n",
      " 3   Averaged_Actual  746 non-null    float64       \n",
      " 4   timestamp_mst    913 non-null    datetime64[ns]\n",
      "dtypes: datetime64[ns](3), float64(1), int64(1)\n",
      "memory usage: 35.8 KB\n"
     ]
    },
    {
     "name": "stderr",
     "output_type": "stream",
     "text": [
      " 94%|████████████████████████████████████████████████████████████████████████████████████████████████████████████████████▏      | 681/721 [00:35<00:02, 19.24it/s]ERROR:src.data_collection:ERROR READING URL: https://marketplace.spp.org/file-browser-api/download/systemwide-hourly-load-forecast-mtlf-vs-actual-weis?path=%2F2023%2F08%2F29%2FWEIS-OP-MTLF-202308292100.csv\n",
      "ERROR:src.data_collection:\n",
      " 95%|████████████████████████████████████████████████████████████████████████████████████████████████████████████████████▎      | 682/721 [00:35<00:02, 19.26it/s]ERROR:src.data_collection:ERROR READING URL: https://marketplace.spp.org/file-browser-api/download/systemwide-hourly-load-forecast-mtlf-vs-actual-weis?path=%2F2023%2F08%2F29%2FWEIS-OP-MTLF-202308292000.csv\n",
      "ERROR:src.data_collection:\n",
      " 98%|███████████████████████████████████████████████████████████████████████████████████████████████████████████████████████▉   | 703/721 [00:41<00:01, 17.02it/s]ERROR:src.data_collection:ERROR READING URL: https://marketplace.spp.org/file-browser-api/download/systemwide-hourly-load-forecast-mtlf-vs-actual-weis?path=%2F2023%2F08%2F29%2FWEIS-OP-MTLF-202308291900.csv\n",
      "ERROR:src.data_collection:\n",
      "100%|██████████████████████████████████████████████████████████████████████████████████████████████████████████████████████████▋| 719/721 [00:54<00:00, 13.26it/s]ERROR:src.data_collection:HTTPSConnectionPool(host='portal.spp.org', port=443): Max retries exceeded with url: /file-browser-api/download/systemwide-hourly-load-forecast-mtlf-vs-actual-weis?path=%2F2023%2F08%2F19%2FWEIS-OP-MTLF-202308190500.csv (Caused by ConnectTimeoutError(<urllib3.connection.HTTPSConnection object at 0x7f5448180d90>, 'Connection to portal.spp.org timed out. (connect timeout=60)'))\n",
      "100%|██████████████████████████████████████████████████████████████████████████████████████████████████████████████████████████▊| 720/721 [01:13<00:00,  9.81it/s]ERROR:src.data_collection:HTTPSConnectionPool(host='marketplace.spp.org', port=443): Max retries exceeded with url: /file-browser-api/download/systemwide-hourly-load-forecast-mtlf-vs-actual-weis?path=%2F2023%2F08%2F19%2FWEIS-OP-MTLF-202308191000.csv (Caused by ConnectTimeoutError(<urllib3.connection.HTTPSConnection object at 0x7f6d2c180ad0>, 'Connection to marketplace.spp.org timed out. (connect timeout=60)'))\n",
      "100%|███████████████████████████████████████████████████████████████████████████████████████████████████████████████████████████| 721/721 [01:13<00:00,  9.79it/s]\n",
      "INFO:src.data_collection:ROWS INSERTED: 720 ROWS UPDATED: 26\n",
      "INFO:src.data_collection:end_ts: 2023-09-29 00:00:00\n",
      "INFO:src.data_collection:n_periods: 721\n"
     ]
    },
    {
     "name": "stdout",
     "output_type": "stream",
     "text": [
      "<class 'pandas.core.frame.DataFrame'>\n",
      "RangeIndex: 913 entries, 0 to 912\n",
      "Data columns (total 5 columns):\n",
      " #   Column           Non-Null Count  Dtype         \n",
      "---  ------           --------------  -----         \n",
      " 0   Interval         913 non-null    datetime64[ns]\n",
      " 1   GMTIntervalEnd   913 non-null    datetime64[ns]\n",
      " 2   MTLF             913 non-null    int64         \n",
      " 3   Averaged_Actual  746 non-null    float64       \n",
      " 4   timestamp_mst    913 non-null    datetime64[ns]\n",
      "dtypes: datetime64[ns](3), float64(1), int64(1)\n",
      "memory usage: 35.8 KB\n"
     ]
    },
    {
     "name": "stderr",
     "output_type": "stream",
     "text": [
      " 49%|████████████████████████████████████████████████████████████▏                                                              | 353/721 [00:17<00:18, 19.61it/s]ERROR:src.data_collection:ERROR READING URL: https://marketplace.spp.org/file-browser-api/download/systemwide-hourly-load-forecast-mtlf-vs-actual-weis?path=%2F2023%2F09%2F14%2FWEIS-OP-MTLF-202309142000.csv\n",
      "ERROR:src.data_collection:\n",
      " 52%|███████████████████████████████████████████████████████████████▊                                                           | 374/721 [00:18<00:16, 20.48it/s]ERROR:src.data_collection:ERROR READING URL: https://marketplace.spp.org/file-browser-api/download/systemwide-hourly-load-forecast-mtlf-vs-actual-weis?path=%2F2023%2F09%2F07%2FWEIS-OP-MTLF-202309072000.csv\n",
      "ERROR:src.data_collection:\n",
      " 93%|██████████████████████████████████████████████████████████████████████████████████████████████████████████████████▎        | 670/721 [00:42<00:03, 15.94it/s]ERROR:src.data_collection:ERROR READING URL: https://marketplace.spp.org/file-browser-api/download/systemwide-hourly-load-forecast-mtlf-vs-actual-weis?path=%2F2023%2F09%2F28%2FWEIS-OP-MTLF-202309281900.csv\n",
      "ERROR:src.data_collection:\n",
      " 96%|█████████████████████████████████████████████████████████████████████████████████████████████████████████████████████▋     | 690/721 [00:43<00:01, 15.92it/s]ERROR:src.data_collection:ERROR READING URL: https://marketplace.spp.org/file-browser-api/download/systemwide-hourly-load-forecast-mtlf-vs-actual-weis?path=%2F2023%2F09%2F28%2FWEIS-OP-MTLF-202309281800.csv\n",
      "ERROR:src.data_collection:\n",
      "100%|██████████████████████████████████████████████████████████████████████████████████████████████████████████████████████████▋| 719/721 [00:56<00:00, 12.82it/s]ERROR:src.data_collection:HTTPSConnectionPool(host='marketplace.spp.org', port=443): Max retries exceeded with url: /file-browser-api/download/systemwide-hourly-load-forecast-mtlf-vs-actual-weis?path=%2F2023%2F09%2F01%2FWEIS-OP-MTLF-202309011600.csv (Caused by ConnectTimeoutError(<urllib3.connection.HTTPSConnection object at 0x7feb85a3d790>, 'Connection to marketplace.spp.org timed out. (connect timeout=60)'))\n",
      "100%|███████████████████████████████████████████████████████████████████████████████████████████████████████████████████████████| 721/721 [01:02<00:00, 11.51it/s]\n",
      "INFO:src.data_collection:ROWS INSERTED: 720 ROWS UPDATED: 26\n",
      "INFO:src.data_collection:end_ts: 2023-10-29 00:00:00\n",
      "INFO:src.data_collection:n_periods: 721\n"
     ]
    },
    {
     "name": "stdout",
     "output_type": "stream",
     "text": [
      "<class 'pandas.core.frame.DataFrame'>\n",
      "RangeIndex: 913 entries, 0 to 912\n",
      "Data columns (total 5 columns):\n",
      " #   Column           Non-Null Count  Dtype         \n",
      "---  ------           --------------  -----         \n",
      " 0   Interval         913 non-null    datetime64[ns]\n",
      " 1   GMTIntervalEnd   913 non-null    datetime64[ns]\n",
      " 2   MTLF             913 non-null    int64         \n",
      " 3   Averaged_Actual  746 non-null    float64       \n",
      " 4   timestamp_mst    913 non-null    datetime64[ns]\n",
      "dtypes: datetime64[ns](3), float64(1), int64(1)\n",
      "memory usage: 35.8 KB\n"
     ]
    },
    {
     "name": "stderr",
     "output_type": "stream",
     "text": [
      "100%|██████████████████████████████████████████████████████████████████████████████████████████████████████████████████████████▊| 720/721 [00:38<00:00, 18.80it/s]ERROR:src.data_collection:HTTPSConnectionPool(host='marketplace.spp.org', port=443): Max retries exceeded with url: /file-browser-api/download/systemwide-hourly-load-forecast-mtlf-vs-actual-weis?path=%2F2023%2F10%2F09%2FWEIS-OP-MTLF-202310090400.csv (Caused by ConnectTimeoutError(<urllib3.connection.HTTPSConnection object at 0x7f687248e110>, 'Connection to marketplace.spp.org timed out. (connect timeout=60)'))\n",
      "100%|███████████████████████████████████████████████████████████████████████████████████████████████████████████████████████████| 721/721 [01:06<00:00, 10.81it/s]\n",
      "INFO:src.data_collection:ROWS INSERTED: 720 ROWS UPDATED: 26\n",
      "INFO:src.data_collection:end_ts: 2023-11-28 00:00:00\n",
      "INFO:src.data_collection:n_periods: 721\n",
      "ERROR:src.data_collection:error parsing: 2023-11-05 01:00:00\n"
     ]
    },
    {
     "name": "stdout",
     "output_type": "stream",
     "text": [
      "<class 'pandas.core.frame.DataFrame'>\n",
      "RangeIndex: 913 entries, 0 to 912\n",
      "Data columns (total 5 columns):\n",
      " #   Column           Non-Null Count  Dtype         \n",
      "---  ------           --------------  -----         \n",
      " 0   Interval         913 non-null    datetime64[ns]\n",
      " 1   GMTIntervalEnd   913 non-null    datetime64[ns]\n",
      " 2   MTLF             913 non-null    int64         \n",
      " 3   Averaged_Actual  746 non-null    float64       \n",
      " 4   timestamp_mst    913 non-null    datetime64[ns]\n",
      "dtypes: datetime64[ns](3), float64(1), int64(1)\n",
      "memory usage: 35.8 KB\n"
     ]
    },
    {
     "name": "stderr",
     "output_type": "stream",
     "text": [
      " 76%|█████████████████████████████████████████████████████████████████████████████████████████████▎                             | 546/720 [00:31<00:09, 17.55it/s]ERROR:src.data_collection:ERROR READING URL: https://marketplace.spp.org/file-browser-api/download/systemwide-hourly-load-forecast-mtlf-vs-actual-weis?path=%2F2023%2F11%2F21%2FWEIS-OP-MTLF-202311211800.csv\n",
      "ERROR:src.data_collection:\n",
      "100%|███████████████████████████████████████████████████████████████████████████████████████████████████████████████████████████| 720/720 [00:42<00:00, 16.78it/s]\n",
      "INFO:src.data_collection:ROWS INSERTED: 721 ROWS UPDATED: 26\n",
      "INFO:src.data_collection:end_ts: 2023-12-28 00:00:00\n",
      "INFO:src.data_collection:n_periods: 721\n"
     ]
    },
    {
     "name": "stdout",
     "output_type": "stream",
     "text": [
      "<class 'pandas.core.frame.DataFrame'>\n",
      "RangeIndex: 914 entries, 0 to 913\n",
      "Data columns (total 5 columns):\n",
      " #   Column           Non-Null Count  Dtype         \n",
      "---  ------           --------------  -----         \n",
      " 0   Interval         914 non-null    datetime64[ns]\n",
      " 1   GMTIntervalEnd   914 non-null    datetime64[ns]\n",
      " 2   MTLF             914 non-null    int64         \n",
      " 3   Averaged_Actual  747 non-null    float64       \n",
      " 4   timestamp_mst    914 non-null    datetime64[ns]\n",
      "dtypes: datetime64[ns](3), float64(1), int64(1)\n",
      "memory usage: 35.8 KB\n"
     ]
    },
    {
     "name": "stderr",
     "output_type": "stream",
     "text": [
      "  1%|█▌                                                                                                                           | 9/721 [00:01<01:19,  8.93it/s]ERROR:src.data_collection:ERROR READING URL: https://marketplace.spp.org/file-browser-api/download/systemwide-hourly-load-forecast-mtlf-vs-actual-weis?path=%2F2023%2F11%2F28%2FWEIS-OP-MTLF-202311282200.csv\n",
      "ERROR:src.data_collection:\n",
      "  2%|██▉                                                                                                                         | 17/721 [00:01<00:44, 15.67it/s]ERROR:src.data_collection:ERROR READING URL: https://marketplace.spp.org/file-browser-api/download/systemwide-hourly-load-forecast-mtlf-vs-actual-weis?path=%2F2023%2F11%2F28%2FWEIS-OP-MTLF-202311282100.csv\n",
      "ERROR:src.data_collection:\n",
      "  3%|████▏                                                                                                                       | 24/721 [00:01<00:33, 20.73it/s]ERROR:src.data_collection:ERROR READING URL: https://marketplace.spp.org/file-browser-api/download/systemwide-hourly-load-forecast-mtlf-vs-actual-weis?path=%2F2023%2F11%2F28%2FWEIS-OP-MTLF-202311282000.csv\n",
      "ERROR:src.data_collection:\n",
      "  7%|████████▌                                                                                                                   | 50/721 [00:03<00:46, 14.43it/s]ERROR:src.data_collection:ERROR READING URL: https://marketplace.spp.org/file-browser-api/download/systemwide-hourly-load-forecast-mtlf-vs-actual-weis?path=%2F2023%2F11%2F28%2FWEIS-OP-MTLF-202311281900.csv\n",
      "ERROR:src.data_collection:\n",
      " 68%|███████████████████████████████████████████████████████████████████████████████████▊                                       | 491/721 [00:41<00:19, 11.89it/s]ERROR:src.data_collection:ERROR READING URL: https://marketplace.spp.org/file-browser-api/download/systemwide-hourly-load-forecast-mtlf-vs-actual-weis?path=%2F2023%2F12%2F19%2FWEIS-OP-MTLF-202312191900.csv\n",
      "ERROR:src.data_collection:\n",
      " 96%|██████████████████████████████████████████████████████████████████████████████████████████████████████████████████████▏    | 693/721 [01:00<00:02, 11.44it/s]ERROR:src.data_collection:HTTPSConnectionPool(host='marketplace.spp.org', port=443): Max retries exceeded with url: /file-browser-api/download/systemwide-hourly-load-forecast-mtlf-vs-actual-weis?path=%2F2023%2F11%2F30%2FWEIS-OP-MTLF-202311300000.csv (Caused by ConnectTimeoutError(<urllib3.connection.HTTPSConnection object at 0x7ff9856ed7d0>, 'Connection to marketplace.spp.org timed out. (connect timeout=60)'))\n",
      "100%|██████████████████████████████████████████████████████████████████████████████████████████████████████████████████████████▊| 720/721 [01:20<00:00,  8.99it/s]ERROR:src.data_collection:HTTPSConnectionPool(host='marketplace.spp.org', port=443): Max retries exceeded with url: /file-browser-api/download/systemwide-hourly-load-forecast-mtlf-vs-actual-weis?path=%2F2023%2F12%2F20%2FWEIS-OP-MTLF-202312201100.csv (Caused by ConnectTimeoutError(<urllib3.connection.HTTPSConnection object at 0x7f2f64b93090>, 'Connection to marketplace.spp.org timed out. (connect timeout=60)'))\n",
      "100%|███████████████████████████████████████████████████████████████████████████████████████████████████████████████████████████| 721/721 [01:43<00:00,  6.94it/s]\n",
      "INFO:src.data_collection:ROWS INSERTED: 720 ROWS UPDATED: 26\n",
      "INFO:src.data_collection:end_ts: 2024-01-27 00:00:00\n",
      "INFO:src.data_collection:n_periods: 721\n"
     ]
    },
    {
     "name": "stdout",
     "output_type": "stream",
     "text": [
      "<class 'pandas.core.frame.DataFrame'>\n",
      "RangeIndex: 913 entries, 0 to 912\n",
      "Data columns (total 5 columns):\n",
      " #   Column           Non-Null Count  Dtype         \n",
      "---  ------           --------------  -----         \n",
      " 0   Interval         913 non-null    datetime64[ns]\n",
      " 1   GMTIntervalEnd   913 non-null    datetime64[ns]\n",
      " 2   MTLF             913 non-null    int64         \n",
      " 3   Averaged_Actual  746 non-null    float64       \n",
      " 4   timestamp_mst    913 non-null    datetime64[ns]\n",
      "dtypes: datetime64[ns](3), float64(1), int64(1)\n",
      "memory usage: 35.8 KB\n"
     ]
    },
    {
     "name": "stderr",
     "output_type": "stream",
     "text": [
      " 56%|████████████████████████████████████████████████████████████████████▊                                                      | 403/721 [00:15<00:12, 25.41it/s]ERROR:src.data_collection:ERROR READING URL: https://marketplace.spp.org/file-browser-api/download/systemwide-hourly-load-forecast-mtlf-vs-actual-weis?path=%2F2024%2F01%2F11%2FWEIS-OP-MTLF-202401111900.csv\n",
      "ERROR:src.data_collection:\n",
      "100%|██████████████████████████████████████████████████████████████████████████████████████████████████████████████████████████▋| 719/721 [00:49<00:00, 14.56it/s]ERROR:src.data_collection:HTTPSConnectionPool(host='marketplace.spp.org', port=443): Max retries exceeded with url: /file-browser-api/download/systemwide-hourly-load-forecast-mtlf-vs-actual-weis?path=%2F2024%2F01%2F05%2FWEIS-OP-MTLF-202401050900.csv (Caused by ConnectTimeoutError(<urllib3.connection.HTTPSConnection object at 0x7f9b64877250>, 'Connection to marketplace.spp.org timed out. (connect timeout=60)'))\n",
      "100%|██████████████████████████████████████████████████████████████████████████████████████████████████████████████████████████▊| 720/721 [01:05<00:00, 11.01it/s]ERROR:src.data_collection:HTTPSConnectionPool(host='portal.spp.org', port=443): Max retries exceeded with url: /file-browser-api/download/systemwide-hourly-load-forecast-mtlf-vs-actual-weis?path=%2F2024%2F01%2F14%2FWEIS-OP-MTLF-202401140800.csv (Caused by ConnectTimeoutError(<urllib3.connection.HTTPSConnection object at 0x7f4a682773d0>, 'Connection to portal.spp.org timed out. (connect timeout=60)'))\n",
      "100%|███████████████████████████████████████████████████████████████████████████████████████████████████████████████████████████| 721/721 [01:14<00:00,  9.72it/s]\n",
      "INFO:src.data_collection:ROWS INSERTED: 720 ROWS UPDATED: 26\n",
      "INFO:src.data_collection:end_ts: 2024-02-26 00:00:00\n",
      "INFO:src.data_collection:n_periods: 721\n"
     ]
    },
    {
     "name": "stdout",
     "output_type": "stream",
     "text": [
      "<class 'pandas.core.frame.DataFrame'>\n",
      "RangeIndex: 913 entries, 0 to 912\n",
      "Data columns (total 5 columns):\n",
      " #   Column           Non-Null Count  Dtype         \n",
      "---  ------           --------------  -----         \n",
      " 0   Interval         913 non-null    datetime64[ns]\n",
      " 1   GMTIntervalEnd   913 non-null    datetime64[ns]\n",
      " 2   MTLF             913 non-null    int64         \n",
      " 3   Averaged_Actual  746 non-null    float64       \n",
      " 4   timestamp_mst    913 non-null    datetime64[ns]\n",
      "dtypes: datetime64[ns](3), float64(1), int64(1)\n",
      "memory usage: 35.8 KB\n"
     ]
    },
    {
     "name": "stderr",
     "output_type": "stream",
     "text": [
      "100%|███████████████████████████████████████████████████████████████████████████████████████████████████████████████████████████| 721/721 [00:54<00:00, 13.34it/s]\n",
      "INFO:src.data_collection:ROWS INSERTED: 720 ROWS UPDATED: 26\n",
      "INFO:src.data_collection:end_ts: 2024-03-27 00:00:00\n",
      "INFO:src.data_collection:n_periods: 721\n",
      "ERROR:src.data_collection:error parsing: 2024-03-10 02:00:00\n"
     ]
    },
    {
     "name": "stdout",
     "output_type": "stream",
     "text": [
      "<class 'pandas.core.frame.DataFrame'>\n",
      "RangeIndex: 913 entries, 0 to 912\n",
      "Data columns (total 5 columns):\n",
      " #   Column           Non-Null Count  Dtype         \n",
      "---  ------           --------------  -----         \n",
      " 0   Interval         913 non-null    datetime64[ns]\n",
      " 1   GMTIntervalEnd   913 non-null    datetime64[ns]\n",
      " 2   MTLF             913 non-null    int64         \n",
      " 3   Averaged_Actual  746 non-null    float64       \n",
      " 4   timestamp_mst    913 non-null    datetime64[ns]\n",
      "dtypes: datetime64[ns](3), float64(1), int64(1)\n",
      "memory usage: 35.8 KB\n"
     ]
    },
    {
     "name": "stderr",
     "output_type": "stream",
     "text": [
      "  5%|██████                                                                                                                      | 35/720 [00:01<00:26, 26.20it/s]ERROR:src.data_collection:ERROR READING URL: https://marketplace.spp.org/file-browser-api/download/systemwide-hourly-load-forecast-mtlf-vs-actual-weis?path=%2F2024%2F02%2F27%2FWEIS-OP-MTLF-202402271800.csv\n",
      "ERROR:src.data_collection:\n",
      " 38%|██████████████████████████████████████████████▍                                                                            | 272/720 [00:16<00:27, 16.43it/s]ERROR:src.data_collection:ERROR READING URL: https://marketplace.spp.org/file-browser-api/download/systemwide-hourly-load-forecast-mtlf-vs-actual-weis?path=%2F2024%2F03%2F10%2FWEIS-OP-MTLF-202403100300.csv\n",
      "ERROR:src.data_collection:\n",
      " 50%|████████████████████████████████████████████████████████████▉                                                              | 357/720 [00:23<00:24, 15.10it/s]ERROR:src.data_collection:ERROR READING URL: https://marketplace.spp.org/file-browser-api/download/systemwide-hourly-load-forecast-mtlf-vs-actual-weis?path=%2F2024%2F03%2F12%2FWEIS-OP-MTLF-202403121900.csv\n",
      "ERROR:src.data_collection:\n",
      " 98%|████████████████████████████████████████████████████████████████████████████████████████████████████████████████████████   | 703/720 [01:03<00:01, 11.07it/s]ERROR:src.data_collection:HTTPSConnectionPool(host='marketplace.spp.org', port=443): Read timed out. (read timeout=60)\n",
      " 98%|████████████████████████████████████████████████████████████████████████████████████████████████████████████████████████▎  | 704/720 [01:03<00:01, 11.08it/s]ERROR:src.data_collection:HTTPSConnectionPool(host='marketplace.spp.org', port=443): Max retries exceeded with url: /file-browser-api/download/systemwide-hourly-load-forecast-mtlf-vs-actual-weis?path=%2F2024%2F03%2F03%2FWEIS-OP-MTLF-202403030500.csv (Caused by ConnectTimeoutError(<urllib3.connection.HTTPSConnection object at 0x7f915ba92050>, 'Connection to marketplace.spp.org timed out. (connect timeout=60)'))\n",
      " 99%|█████████████████████████████████████████████████████████████████████████████████████████████████████████████████████████▊ | 713/720 [01:12<00:00,  9.90it/s]ERROR:src.data_collection:HTTPSConnectionPool(host='marketplace.spp.org', port=443): Max retries exceeded with url: /file-browser-api/download/systemwide-hourly-load-forecast-mtlf-vs-actual-weis?path=%2F2024%2F03%2F08%2FWEIS-OP-MTLF-202403081000.csv (Caused by ConnectTimeoutError(<urllib3.connection.HTTPSConnection object at 0x7fe8baaf4350>, 'Connection to marketplace.spp.org timed out. (connect timeout=60)'))\n",
      " 99%|█████████████████████████████████████████████████████████████████████████████████████████████████████████████████████████▉ | 714/720 [01:13<00:00,  9.65it/s]ERROR:src.data_collection:HTTPSConnectionPool(host='portal.spp.org', port=443): Max retries exceeded with url: /file-browser-api/download/systemwide-hourly-load-forecast-mtlf-vs-actual-weis?path=%2F2024%2F03%2F08%2FWEIS-OP-MTLF-202403080100.csv (Caused by ConnectTimeoutError(<urllib3.connection.HTTPSConnection object at 0x7f8d444e4cd0>, 'Connection to portal.spp.org timed out. (connect timeout=60)'))\n",
      "100%|██████████████████████████████████████████████████████████████████████████████████████████████████████████████████████████▍| 717/720 [01:15<00:00,  9.45it/s]ERROR:src.data_collection:HTTPSConnectionPool(host='portal.spp.org', port=443): Max retries exceeded with url: /file-browser-api/download/systemwide-hourly-load-forecast-mtlf-vs-actual-weis?path=%2F2024%2F03%2F13%2FWEIS-OP-MTLF-202403130700.csv (Caused by ConnectTimeoutError(<urllib3.connection.HTTPSConnection object at 0x7fd34c78b750>, 'Connection to portal.spp.org timed out. (connect timeout=60)'))\n",
      "100%|██████████████████████████████████████████████████████████████████████████████████████████████████████████████████████████▋| 718/720 [01:23<00:00,  8.58it/s]ERROR:src.data_collection:HTTPSConnectionPool(host='portal.spp.org', port=443): Max retries exceeded with url: /file-browser-api/download/systemwide-hourly-load-forecast-mtlf-vs-actual-weis?path=%2F2024%2F03%2F14%2FWEIS-OP-MTLF-202403140600.csv (Caused by ConnectTimeoutError(<urllib3.connection.HTTPSConnection object at 0x7ff1a6c84590>, 'Connection to portal.spp.org timed out. (connect timeout=60)'))\n",
      "100%|██████████████████████████████████████████████████████████████████████████████████████████████████████████████████████████▊| 719/720 [01:24<00:00,  8.53it/s]ERROR:src.data_collection:HTTPSConnectionPool(host='portal.spp.org', port=443): Max retries exceeded with url: /file-browser-api/download/systemwide-hourly-load-forecast-mtlf-vs-actual-weis?path=%2F2024%2F03%2F16%2FWEIS-OP-MTLF-202403160500.csv (Caused by ConnectTimeoutError(<urllib3.connection.HTTPSConnection object at 0x7fd995d68b90>, 'Connection to portal.spp.org timed out. (connect timeout=60)'))\n",
      "100%|███████████████████████████████████████████████████████████████████████████████████████████████████████████████████████████| 720/720 [01:27<00:00,  8.24it/s]\n",
      "INFO:src.data_collection:ROWS INSERTED: 718 ROWS UPDATED: 26\n",
      "INFO:src.data_collection:end_ts: 2024-04-26 00:00:00\n",
      "INFO:src.data_collection:n_periods: 721\n"
     ]
    },
    {
     "name": "stdout",
     "output_type": "stream",
     "text": [
      "<class 'pandas.core.frame.DataFrame'>\n",
      "RangeIndex: 912 entries, 0 to 911\n",
      "Data columns (total 5 columns):\n",
      " #   Column           Non-Null Count  Dtype         \n",
      "---  ------           --------------  -----         \n",
      " 0   Interval         912 non-null    datetime64[ns]\n",
      " 1   GMTIntervalEnd   912 non-null    datetime64[ns]\n",
      " 2   MTLF             912 non-null    int64         \n",
      " 3   Averaged_Actual  744 non-null    float64       \n",
      " 4   timestamp_mst    912 non-null    datetime64[ns]\n",
      "dtypes: datetime64[ns](3), float64(1), int64(1)\n",
      "memory usage: 35.8 KB\n"
     ]
    },
    {
     "name": "stderr",
     "output_type": "stream",
     "text": [
      "  0%|                                                                                                                                     | 0/721 [00:00<?, ?it/s]ERROR:src.data_collection:ERROR READING URL: https://marketplace.spp.org/file-browser-api/download/systemwide-hourly-load-forecast-mtlf-vs-actual-weis?path=%2F2024%2F03%2F28%2FWEIS-OP-MTLF-202403281800.csv\n",
      "ERROR:src.data_collection:\n",
      " 65%|███████████████████████████████████████████████████████████████████████████████▋                                           | 467/721 [00:25<00:13, 18.19it/s]ERROR:src.data_collection:ERROR READING URL: https://marketplace.spp.org/file-browser-api/download/systemwide-hourly-load-forecast-mtlf-vs-actual-weis?path=%2F2024%2F04%2F16%2FWEIS-OP-MTLF-202404160000.csv\n",
      "ERROR:src.data_collection:\n",
      " 89%|█████████████████████████████████████████████████████████████████████████████████████████████████████████████▌             | 642/721 [00:40<00:05, 15.76it/s]ERROR:src.data_collection:ERROR READING URL: https://marketplace.spp.org/file-browser-api/download/systemwide-hourly-load-forecast-mtlf-vs-actual-weis?path=%2F2024%2F04%2F23%2FWEIS-OP-MTLF-202404231900.csv\n",
      "ERROR:src.data_collection:\n",
      "100%|██████████████████████████████████████████████████████████████████████████████████████████████████████████████████████████▊| 720/721 [01:02<00:00, 11.52it/s]ERROR:src.data_collection:HTTPSConnectionPool(host='portal.spp.org', port=443): Max retries exceeded with url: /file-browser-api/download/systemwide-hourly-load-forecast-mtlf-vs-actual-weis?path=%2F2024%2F04%2F05%2FWEIS-OP-MTLF-202404050200.csv (Caused by ConnectTimeoutError(<urllib3.connection.HTTPSConnection object at 0x7f7a1ce7ff90>, 'Connection to portal.spp.org timed out. (connect timeout=60)'))\n",
      "100%|███████████████████████████████████████████████████████████████████████████████████████████████████████████████████████████| 721/721 [01:06<00:00, 10.87it/s]\n",
      "INFO:src.data_collection:ROWS INSERTED: 720 ROWS UPDATED: 26\n",
      "INFO:src.data_collection:end_ts: 2024-05-26 00:00:00\n",
      "INFO:src.data_collection:n_periods: 721\n"
     ]
    },
    {
     "name": "stdout",
     "output_type": "stream",
     "text": [
      "<class 'pandas.core.frame.DataFrame'>\n",
      "RangeIndex: 913 entries, 0 to 912\n",
      "Data columns (total 5 columns):\n",
      " #   Column           Non-Null Count  Dtype         \n",
      "---  ------           --------------  -----         \n",
      " 0   Interval         913 non-null    datetime64[ns]\n",
      " 1   GMTIntervalEnd   913 non-null    datetime64[ns]\n",
      " 2   MTLF             913 non-null    int64         \n",
      " 3   Averaged_Actual  746 non-null    float64       \n",
      " 4   timestamp_mst    913 non-null    datetime64[ns]\n",
      "dtypes: datetime64[ns](3), float64(1), int64(1)\n",
      "memory usage: 35.8 KB\n"
     ]
    },
    {
     "name": "stderr",
     "output_type": "stream",
     "text": [
      " 49%|████████████████████████████████████████████████████████████▏                                                              | 353/721 [00:18<00:19, 18.85it/s]ERROR:src.data_collection:ERROR READING URL: https://marketplace.spp.org/file-browser-api/download/systemwide-hourly-load-forecast-mtlf-vs-actual-weis?path=%2F2024%2F05%2F12%2FWEIS-OP-MTLF-202405120000.csv\n",
      "ERROR:src.data_collection:\n",
      " 90%|███████████████████████████████████████████████████████████████████████████████████████████████████████████████▏           | 652/721 [00:48<00:05, 13.39it/s]\n"
     ]
    },
    {
     "ename": "KeyboardInterrupt",
     "evalue": "",
     "output_type": "error",
     "traceback": [
      "\u001b[0;31m---------------------------------------------------------------------------\u001b[0m",
      "\u001b[0;31mKeyboardInterrupt\u001b[0m                         Traceback (most recent call last)",
      "Cell \u001b[0;32mIn[6], line 2\u001b[0m\n\u001b[1;32m      1\u001b[0m \u001b[38;5;28;01mfor\u001b[39;00m d \u001b[38;5;129;01min\u001b[39;00m day_list:\n\u001b[0;32m----> 2\u001b[0m     \u001b[43mdc\u001b[49m\u001b[38;5;241;43m.\u001b[39;49m\u001b[43mcollect_upsert_mtlf\u001b[49m\u001b[43m(\u001b[49m\u001b[43mend_ts\u001b[49m\u001b[38;5;241;43m=\u001b[39;49m\u001b[43md\u001b[49m\u001b[43m,\u001b[49m\u001b[43m \u001b[49m\u001b[43mn_periods\u001b[49m\u001b[38;5;241;43m=\u001b[39;49m\u001b[38;5;241;43m24\u001b[39;49m\u001b[38;5;241;43m*\u001b[39;49m\u001b[43mnum_day_step\u001b[49m\u001b[38;5;241;43m+\u001b[39;49m\u001b[38;5;241;43m1\u001b[39;49m\u001b[43m,\u001b[49m\u001b[43m \u001b[49m\u001b[43mbackfill\u001b[49m\u001b[38;5;241;43m=\u001b[39;49m\u001b[38;5;28;43;01mTrue\u001b[39;49;00m\u001b[43m)\u001b[49m\n",
      "File \u001b[0;32m~/Documents/spp_weis_price_forecast/src/data_collection.py:836\u001b[0m, in \u001b[0;36mcollect_upsert_mtlf\u001b[0;34m(end_ts, n_periods, backfill)\u001b[0m\n\u001b[1;32m    817\u001b[0m \u001b[38;5;250m\u001b[39m\u001b[38;5;124;03m\"\"\"\u001b[39;00m\n\u001b[1;32m    818\u001b[0m \u001b[38;5;124;03mHelper function to wrap collect_upsert_data() with defaults for\u001b[39;00m\n\u001b[1;32m    819\u001b[0m \u001b[38;5;124;03mthe MTLF data.\u001b[39;00m\n\u001b[0;32m   (...)\u001b[0m\n\u001b[1;32m    831\u001b[0m \u001b[38;5;124;03m    None - new data is upserted to table\u001b[39;00m\n\u001b[1;32m    832\u001b[0m \u001b[38;5;124;03m\"\"\"\u001b[39;00m\n\u001b[1;32m    834\u001b[0m primary_key_cols \u001b[38;5;241m=\u001b[39m [\u001b[38;5;124m'\u001b[39m\u001b[38;5;124mGMTIntervalEnd\u001b[39m\u001b[38;5;124m'\u001b[39m]\n\u001b[0;32m--> 836\u001b[0m \u001b[43mcollect_upsert_data\u001b[49m\u001b[43m(\u001b[49m\n\u001b[1;32m    837\u001b[0m \u001b[43m    \u001b[49m\u001b[43mget_range_data_mtlf\u001b[49m\u001b[43m,\u001b[49m\n\u001b[1;32m    838\u001b[0m \u001b[43m    \u001b[49m\u001b[43mupsert_mtlf\u001b[49m\u001b[43m,\u001b[49m\n\u001b[1;32m    839\u001b[0m \u001b[43m    \u001b[49m\u001b[43mn_periods\u001b[49m\u001b[43m,\u001b[49m\n\u001b[1;32m    840\u001b[0m \u001b[43m    \u001b[49m\u001b[43mprimary_key_cols\u001b[49m\u001b[43m,\u001b[49m\n\u001b[1;32m    841\u001b[0m \u001b[43m    \u001b[49m\u001b[43mend_ts\u001b[49m\u001b[38;5;241;43m=\u001b[39;49m\u001b[43mend_ts\u001b[49m\u001b[43m,\u001b[49m\n\u001b[1;32m    842\u001b[0m \u001b[43m    \u001b[49m\u001b[43mbackfill\u001b[49m\u001b[38;5;241;43m=\u001b[39;49m\u001b[43mbackfill\u001b[49m\u001b[43m,\u001b[49m\n\u001b[1;32m    843\u001b[0m \u001b[43m\u001b[49m\u001b[43m)\u001b[49m\n",
      "File \u001b[0;32m~/Documents/spp_weis_price_forecast/src/data_collection.py:800\u001b[0m, in \u001b[0;36mcollect_upsert_data\u001b[0;34m(get_range_data_func, upsert_func, n_periods, primary_key_cols, end_ts, backfill)\u001b[0m\n\u001b[1;32m    797\u001b[0m log\u001b[38;5;241m.\u001b[39minfo(\u001b[38;5;124mf\u001b[39m\u001b[38;5;124m'\u001b[39m\u001b[38;5;124mn_periods: \u001b[39m\u001b[38;5;132;01m{\u001b[39;00mn_periods\u001b[38;5;132;01m}\u001b[39;00m\u001b[38;5;124m'\u001b[39m)\n\u001b[1;32m    799\u001b[0m \u001b[38;5;66;03m# get data\u001b[39;00m\n\u001b[0;32m--> 800\u001b[0m range_df \u001b[38;5;241m=\u001b[39m \u001b[43mget_range_data_func\u001b[49m\u001b[43m(\u001b[49m\u001b[43mend_ts\u001b[49m\u001b[43m,\u001b[49m\u001b[43m \u001b[49m\u001b[43mn_periods\u001b[49m\u001b[38;5;241;43m=\u001b[39;49m\u001b[43mn_periods\u001b[49m\u001b[43m)\u001b[49m\n\u001b[1;32m    802\u001b[0m \u001b[38;5;66;03m# upsert data\u001b[39;00m\n\u001b[1;32m    803\u001b[0m \u001b[38;5;28;01mif\u001b[39;00m range_df\u001b[38;5;241m.\u001b[39mshape[\u001b[38;5;241m0\u001b[39m] \u001b[38;5;241m>\u001b[39m \u001b[38;5;241m0\u001b[39m:\n",
      "File \u001b[0;32m~/Documents/spp_weis_price_forecast/src/data_collection.py:398\u001b[0m, in \u001b[0;36mget_range_data_mtlf\u001b[0;34m(end_ts, n_periods)\u001b[0m\n\u001b[1;32m    396\u001b[0m get_process_func \u001b[38;5;241m=\u001b[39m get_process_mtlf\n\u001b[1;32m    397\u001b[0m dup_cols \u001b[38;5;241m=\u001b[39m [\u001b[38;5;124m'\u001b[39m\u001b[38;5;124mGMTIntervalEnd\u001b[39m\u001b[38;5;124m'\u001b[39m]\n\u001b[0;32m--> 398\u001b[0m \u001b[38;5;28;01mreturn\u001b[39;00m \u001b[43mget_range_data\u001b[49m\u001b[43m(\u001b[49m\u001b[43mend_ts\u001b[49m\u001b[43m,\u001b[49m\u001b[43m \u001b[49m\u001b[43mn_periods\u001b[49m\u001b[43m,\u001b[49m\u001b[43m \u001b[49m\u001b[43mfreq\u001b[49m\u001b[43m,\u001b[49m\u001b[43m \u001b[49m\u001b[43mget_process_func\u001b[49m\u001b[43m,\u001b[49m\u001b[43m \u001b[49m\u001b[43mdup_cols\u001b[49m\u001b[43m)\u001b[49m\n",
      "File \u001b[0;32m~/Documents/spp_weis_price_forecast/src/data_collection.py:333\u001b[0m, in \u001b[0;36mget_range_data\u001b[0;34m(end_ts, n_periods, freq, get_process_func, dup_cols, do_parallel)\u001b[0m\n\u001b[1;32m    330\u001b[0m \u001b[38;5;66;03m# get list of dataframes from time components\u001b[39;00m\n\u001b[1;32m    331\u001b[0m \u001b[38;5;28;01mif\u001b[39;00m do_parallel:\n\u001b[1;32m    332\u001b[0m     df_list \u001b[38;5;241m=\u001b[39m (\n\u001b[0;32m--> 333\u001b[0m         \u001b[43mProgressParallel\u001b[49m\u001b[43m(\u001b[49m\u001b[43mn_jobs\u001b[49m\u001b[38;5;241;43m=\u001b[39;49m\u001b[43mN_JOBS\u001b[49m\u001b[43m,\u001b[49m\u001b[43m \u001b[49m\u001b[43mtotal\u001b[49m\u001b[38;5;241;43m=\u001b[39;49m\u001b[43mN\u001b[49m\u001b[43m)\u001b[49m\n\u001b[1;32m    334\u001b[0m \u001b[43m        \u001b[49m\u001b[43m(\u001b[49m\u001b[43mdelayed\u001b[49m\u001b[43m(\u001b[49m\u001b[43mget_process_func\u001b[49m\u001b[43m)\u001b[49m\u001b[43m(\u001b[49m\u001b[43mtc\u001b[49m\u001b[43m)\u001b[49m\u001b[43m \u001b[49m\u001b[38;5;28;43;01mfor\u001b[39;49;00m\u001b[43m \u001b[49m\u001b[43mtc\u001b[49m\u001b[43m \u001b[49m\u001b[38;5;129;43;01min\u001b[39;49;00m\u001b[43m \u001b[49m\u001b[43mtc_list\u001b[49m\u001b[43m)\u001b[49m\n\u001b[1;32m    335\u001b[0m     )\n\u001b[1;32m    338\u001b[0m \u001b[38;5;28;01melse\u001b[39;00m:\n\u001b[1;32m    339\u001b[0m     df_list \u001b[38;5;241m=\u001b[39m []\n",
      "File \u001b[0;32m~/Documents/spp_weis_price_forecast/src/data_collection.py:44\u001b[0m, in \u001b[0;36mProgressParallel.__call__\u001b[0;34m(self, *args, **kwargs)\u001b[0m\n\u001b[1;32m     42\u001b[0m \u001b[38;5;28;01mdef\u001b[39;00m \u001b[38;5;21m__call__\u001b[39m(\u001b[38;5;28mself\u001b[39m, \u001b[38;5;241m*\u001b[39margs, \u001b[38;5;241m*\u001b[39m\u001b[38;5;241m*\u001b[39mkwargs):\n\u001b[1;32m     43\u001b[0m     \u001b[38;5;28;01mwith\u001b[39;00m tqdm\u001b[38;5;241m.\u001b[39mtqdm(disable\u001b[38;5;241m=\u001b[39m\u001b[38;5;129;01mnot\u001b[39;00m \u001b[38;5;28mself\u001b[39m\u001b[38;5;241m.\u001b[39m_use_tqdm, total\u001b[38;5;241m=\u001b[39m\u001b[38;5;28mself\u001b[39m\u001b[38;5;241m.\u001b[39m_total) \u001b[38;5;28;01mas\u001b[39;00m \u001b[38;5;28mself\u001b[39m\u001b[38;5;241m.\u001b[39m_pbar:\n\u001b[0;32m---> 44\u001b[0m         \u001b[38;5;28;01mreturn\u001b[39;00m \u001b[43mParallel\u001b[49m\u001b[38;5;241;43m.\u001b[39;49m\u001b[38;5;21;43m__call__\u001b[39;49m\u001b[43m(\u001b[49m\u001b[38;5;28;43mself\u001b[39;49m\u001b[43m,\u001b[49m\u001b[43m \u001b[49m\u001b[38;5;241;43m*\u001b[39;49m\u001b[43margs\u001b[49m\u001b[43m,\u001b[49m\u001b[43m \u001b[49m\u001b[38;5;241;43m*\u001b[39;49m\u001b[38;5;241;43m*\u001b[39;49m\u001b[43mkwargs\u001b[49m\u001b[43m)\u001b[49m\n",
      "File \u001b[0;32m~/Documents/spp_weis_price_forecast/venv/lib/python3.11/site-packages/joblib/parallel.py:2007\u001b[0m, in \u001b[0;36mParallel.__call__\u001b[0;34m(self, iterable)\u001b[0m\n\u001b[1;32m   2001\u001b[0m \u001b[38;5;66;03m# The first item from the output is blank, but it makes the interpreter\u001b[39;00m\n\u001b[1;32m   2002\u001b[0m \u001b[38;5;66;03m# progress until it enters the Try/Except block of the generator and\u001b[39;00m\n\u001b[1;32m   2003\u001b[0m \u001b[38;5;66;03m# reaches the first `yield` statement. This starts the asynchronous\u001b[39;00m\n\u001b[1;32m   2004\u001b[0m \u001b[38;5;66;03m# dispatch of the tasks to the workers.\u001b[39;00m\n\u001b[1;32m   2005\u001b[0m \u001b[38;5;28mnext\u001b[39m(output)\n\u001b[0;32m-> 2007\u001b[0m \u001b[38;5;28;01mreturn\u001b[39;00m output \u001b[38;5;28;01mif\u001b[39;00m \u001b[38;5;28mself\u001b[39m\u001b[38;5;241m.\u001b[39mreturn_generator \u001b[38;5;28;01melse\u001b[39;00m \u001b[38;5;28mlist\u001b[39m(output)\n",
      "File \u001b[0;32m~/Documents/spp_weis_price_forecast/venv/lib/python3.11/site-packages/joblib/parallel.py:1650\u001b[0m, in \u001b[0;36mParallel._get_outputs\u001b[0;34m(self, iterator, pre_dispatch)\u001b[0m\n\u001b[1;32m   1647\u001b[0m     \u001b[38;5;28;01myield\u001b[39;00m\n\u001b[1;32m   1649\u001b[0m     \u001b[38;5;28;01mwith\u001b[39;00m \u001b[38;5;28mself\u001b[39m\u001b[38;5;241m.\u001b[39m_backend\u001b[38;5;241m.\u001b[39mretrieval_context():\n\u001b[0;32m-> 1650\u001b[0m         \u001b[38;5;28;01myield from\u001b[39;00m \u001b[38;5;28mself\u001b[39m\u001b[38;5;241m.\u001b[39m_retrieve()\n\u001b[1;32m   1652\u001b[0m \u001b[38;5;28;01mexcept\u001b[39;00m \u001b[38;5;167;01mGeneratorExit\u001b[39;00m:\n\u001b[1;32m   1653\u001b[0m     \u001b[38;5;66;03m# The generator has been garbage collected before being fully\u001b[39;00m\n\u001b[1;32m   1654\u001b[0m     \u001b[38;5;66;03m# consumed. This aborts the remaining tasks if possible and warn\u001b[39;00m\n\u001b[1;32m   1655\u001b[0m     \u001b[38;5;66;03m# the user if necessary.\u001b[39;00m\n\u001b[1;32m   1656\u001b[0m     \u001b[38;5;28mself\u001b[39m\u001b[38;5;241m.\u001b[39m_exception \u001b[38;5;241m=\u001b[39m \u001b[38;5;28;01mTrue\u001b[39;00m\n",
      "File \u001b[0;32m~/Documents/spp_weis_price_forecast/venv/lib/python3.11/site-packages/joblib/parallel.py:1762\u001b[0m, in \u001b[0;36mParallel._retrieve\u001b[0;34m(self)\u001b[0m\n\u001b[1;32m   1757\u001b[0m \u001b[38;5;66;03m# If the next job is not ready for retrieval yet, we just wait for\u001b[39;00m\n\u001b[1;32m   1758\u001b[0m \u001b[38;5;66;03m# async callbacks to progress.\u001b[39;00m\n\u001b[1;32m   1759\u001b[0m \u001b[38;5;28;01mif\u001b[39;00m ((\u001b[38;5;28mlen\u001b[39m(\u001b[38;5;28mself\u001b[39m\u001b[38;5;241m.\u001b[39m_jobs) \u001b[38;5;241m==\u001b[39m \u001b[38;5;241m0\u001b[39m) \u001b[38;5;129;01mor\u001b[39;00m\n\u001b[1;32m   1760\u001b[0m     (\u001b[38;5;28mself\u001b[39m\u001b[38;5;241m.\u001b[39m_jobs[\u001b[38;5;241m0\u001b[39m]\u001b[38;5;241m.\u001b[39mget_status(\n\u001b[1;32m   1761\u001b[0m         timeout\u001b[38;5;241m=\u001b[39m\u001b[38;5;28mself\u001b[39m\u001b[38;5;241m.\u001b[39mtimeout) \u001b[38;5;241m==\u001b[39m TASK_PENDING)):\n\u001b[0;32m-> 1762\u001b[0m     time\u001b[38;5;241m.\u001b[39msleep(\u001b[38;5;241m0.01\u001b[39m)\n\u001b[1;32m   1763\u001b[0m     \u001b[38;5;28;01mcontinue\u001b[39;00m\n\u001b[1;32m   1765\u001b[0m \u001b[38;5;66;03m# We need to be careful: the job list can be filling up as\u001b[39;00m\n\u001b[1;32m   1766\u001b[0m \u001b[38;5;66;03m# we empty it and Python list are not thread-safe by\u001b[39;00m\n\u001b[1;32m   1767\u001b[0m \u001b[38;5;66;03m# default hence the use of the lock\u001b[39;00m\n",
      "\u001b[0;31mKeyboardInterrupt\u001b[0m: "
     ]
    }
   ],
   "source": [
    "for d in day_list:\n",
    "    dc.collect_upsert_mtlf(end_ts=d, n_periods=24*num_day_step+1, backfill=True)"
   ]
  },
  {
   "cell_type": "code",
   "execution_count": null,
   "metadata": {
    "application/vnd.databricks.v1+cell": {
     "cellMetadata": {},
     "inputWidgets": {},
     "nuid": "9c247c1a-1303-4e72-b4bc-460b9cbabc8e",
     "showTitle": false,
     "title": ""
    }
   },
   "outputs": [],
   "source": []
  },
  {
   "cell_type": "markdown",
   "metadata": {
    "application/vnd.databricks.v1+cell": {
     "cellMetadata": {},
     "inputWidgets": {},
     "nuid": "e3c23999-3dea-491e-ac34-94bc0f39e1f5",
     "showTitle": false,
     "title": ""
    }
   },
   "source": [
    "## Mid Term Resource Forecast\n",
    "\n",
    "![_](../../imgs/mtrf.PNG)"
   ]
  },
  {
   "cell_type": "code",
   "execution_count": null,
   "metadata": {
    "application/vnd.databricks.v1+cell": {
     "cellMetadata": {},
     "inputWidgets": {},
     "nuid": "7ac0f3f6-fd16-4da6-8a99-a9188392a29e",
     "showTitle": false,
     "title": ""
    }
   },
   "outputs": [],
   "source": [
    "for d in day_list:\n",
    "    dc.collect_upsert_mtrf(end_ts=d, n_periods=24*num_day_step+1, backfill=True)"
   ]
  },
  {
   "cell_type": "code",
   "execution_count": null,
   "metadata": {
    "application/vnd.databricks.v1+cell": {
     "cellMetadata": {},
     "inputWidgets": {},
     "nuid": "0f43a0a9-9fb7-4ded-bfe2-46241c4fdb50",
     "showTitle": false,
     "title": ""
    }
   },
   "outputs": [],
   "source": []
  },
  {
   "cell_type": "markdown",
   "metadata": {
    "application/vnd.databricks.v1+cell": {
     "cellMetadata": {},
     "inputWidgets": {},
     "nuid": "9eac3e42-bbc9-4fa0-a374-42ed03a7e89e",
     "showTitle": false,
     "title": ""
    }
   },
   "source": [
    "## LMP settlement location prices\n",
    "\n",
    "![_](../../imgs/lmp_settlement_location.PNG)"
   ]
  },
  {
   "cell_type": "markdown",
   "metadata": {
    "application/vnd.databricks.v1+cell": {
     "cellMetadata": {},
     "inputWidgets": {},
     "nuid": "f658a141-e5f6-4a8c-b4ec-bb0f50658118",
     "showTitle": false,
     "title": ""
    }
   },
   "source": [
    "## LMP upsert"
   ]
  },
  {
   "cell_type": "markdown",
   "metadata": {
    "application/vnd.databricks.v1+cell": {
     "cellMetadata": {},
     "inputWidgets": {},
     "nuid": "c3f89013-7560-434a-8bce-77f7f4f19817",
     "showTitle": false,
     "title": ""
    }
   },
   "source": [
    "### LMP daily file"
   ]
  },
  {
   "cell_type": "code",
   "execution_count": null,
   "metadata": {
    "application/vnd.databricks.v1+cell": {
     "cellMetadata": {},
     "inputWidgets": {},
     "nuid": "12e4f731-f3fa-41fa-8290-0d0d5a82262d",
     "showTitle": false,
     "title": ""
    }
   },
   "outputs": [],
   "source": [
    "for d in day_list:\n",
    "    dc.collect_upsert_lmp(end_ts=d, n_periods=num_day_step+1, daily_file=True)"
   ]
  },
  {
   "cell_type": "code",
   "execution_count": null,
   "metadata": {
    "application/vnd.databricks.v1+cell": {
     "cellMetadata": {},
     "inputWidgets": {},
     "nuid": "96172f47-f44c-4f30-8f60-1bd86e939588",
     "showTitle": false,
     "title": ""
    }
   },
   "outputs": [],
   "source": []
  },
  {
   "cell_type": "code",
   "execution_count": null,
   "metadata": {
    "application/vnd.databricks.v1+cell": {
     "cellMetadata": {},
     "inputWidgets": {},
     "nuid": "4c728e43-dfa8-4871-ac9e-f8f1eaca64bd",
     "showTitle": false,
     "title": ""
    }
   },
   "outputs": [],
   "source": []
  }
 ],
 "metadata": {
  "application/vnd.databricks.v1+notebook": {
   "dashboards": [],
   "language": "python",
   "notebookMetadata": {},
   "notebookName": "data_collection",
   "widgets": {}
  },
  "kernelspec": {
   "display_name": "spp_weis",
   "language": "python",
   "name": "spp_weis"
  },
  "language_info": {
   "codemirror_mode": {
    "name": "ipython",
    "version": 3
   },
   "file_extension": ".py",
   "mimetype": "text/x-python",
   "name": "python",
   "nbconvert_exporter": "python",
   "pygments_lexer": "ipython3",
   "version": "3.11.9"
  }
 },
 "nbformat": 4,
 "nbformat_minor": 4
}
