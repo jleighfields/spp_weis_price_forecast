{
 "cells": [
  {
   "cell_type": "markdown",
   "metadata": {
    "application/vnd.databricks.v1+cell": {
     "cellMetadata": {},
     "inputWidgets": {},
     "nuid": "9cb925f6-0dd3-42fb-9308-1bf848f7f8fa",
     "showTitle": false,
     "title": ""
    }
   },
   "source": [
    "# Data collection hourly\n",
    "Gather public SPP Weis data from https://marketplace.spp.org/groups/operational-data-weis"
   ]
  },
  {
   "cell_type": "code",
   "execution_count": 1,
   "metadata": {
    "application/vnd.databricks.v1+cell": {
     "cellMetadata": {},
     "inputWidgets": {},
     "nuid": "9e782941-bd47-4c82-b070-e9fa03015615",
     "showTitle": false,
     "title": ""
    }
   },
   "outputs": [],
   "source": [
    "import os\n",
    "import pandas as pd\n",
    "import duckdb\n",
    "\n",
    "import requests\n",
    "from io import StringIO\n",
    "\n",
    "import ibis\n",
    "import ibis.selectors as s\n",
    "ibis.options.interactive = True\n",
    "\n",
    "# logging\n",
    "import logging"
   ]
  },
  {
   "cell_type": "code",
   "execution_count": 2,
   "metadata": {
    "application/vnd.databricks.v1+cell": {
     "cellMetadata": {},
     "inputWidgets": {},
     "nuid": "ebdcf168-2f93-499c-a26e-c6d2cc90f500",
     "showTitle": false,
     "title": ""
    }
   },
   "outputs": [],
   "source": [
    "# define log\n",
    "logging.basicConfig(level=logging.INFO)\n",
    "log = logging.getLogger(__name__)\n"
   ]
  },
  {
   "cell_type": "code",
   "execution_count": 3,
   "metadata": {
    "application/vnd.databricks.v1+cell": {
     "cellMetadata": {},
     "inputWidgets": {},
     "nuid": "db08da5d-8235-40b0-a881-a0d3f6a7184d",
     "showTitle": false,
     "title": ""
    }
   },
   "outputs": [],
   "source": [
    "os.chdir('../..')"
   ]
  },
  {
   "cell_type": "code",
   "execution_count": 4,
   "metadata": {
    "application/vnd.databricks.v1+cell": {
     "cellMetadata": {},
     "inputWidgets": {},
     "nuid": "f3c83252-7da6-424e-a5ec-caa922b262c9",
     "showTitle": false,
     "title": ""
    }
   },
   "outputs": [
    {
     "name": "stderr",
     "output_type": "stream",
     "text": [
      "INFO:src.data_collection:number of cores available: 4\n",
      "INFO:src.data_collection:N_JOBS: 3\n"
     ]
    }
   ],
   "source": [
    "import src.data_collection as dc"
   ]
  },
  {
   "cell_type": "code",
   "execution_count": null,
   "metadata": {
    "application/vnd.databricks.v1+cell": {
     "cellMetadata": {},
     "inputWidgets": {},
     "nuid": "20743b69-da51-406c-8d55-621692623d53",
     "showTitle": false,
     "title": ""
    }
   },
   "outputs": [],
   "source": []
  },
  {
   "cell_type": "markdown",
   "metadata": {
    "application/vnd.databricks.v1+cell": {
     "cellMetadata": {},
     "inputWidgets": {},
     "nuid": "32c1ea41-394f-455a-a37c-2ecec9812c23",
     "showTitle": false,
     "title": ""
    }
   },
   "source": [
    "## Mid Term Load Forecast\n",
    "\n",
    "![_](../../imgs/mtlf.PNG)"
   ]
  },
  {
   "cell_type": "code",
   "execution_count": 5,
   "metadata": {
    "application/vnd.databricks.v1+cell": {
     "cellMetadata": {},
     "inputWidgets": {},
     "nuid": "0fb7eab3-b4b4-4e5b-885b-d6c7ba6506cc",
     "showTitle": false,
     "title": ""
    }
   },
   "outputs": [
    {
     "name": "stderr",
     "output_type": "stream",
     "text": [
      "INFO:src.data_collection:end_ts: 2024-09-24 22:10:33.269490\n",
      "INFO:src.data_collection:n_periods: 24\n",
      "  0%|          | 0/24 [00:00<?, ?it/s]INFO:src.data_collection:number of cores available: 4\n",
      "INFO:src.data_collection:N_JOBS: 3\n",
      "INFO:src.data_collection:number of cores available: 4\n",
      "INFO:src.data_collection:number of cores available: 4\n",
      "INFO:src.data_collection:N_JOBS: 3\n",
      "INFO:src.data_collection:N_JOBS: 3\n",
      " 96%|█████████▌| 23/24 [00:05<00:00,  4.52it/s]ERROR:src.data_collection:ERROR READING URL: https://marketplace.spp.org/file-browser-api/download/systemwide-hourly-load-forecast-mtlf-vs-actual-weis?path=%2F2024%2F09%2F24%2FWEIS-OP-MTLF-202409242300.csv\n",
      "ERROR:src.data_collection:\n",
      "100%|██████████| 24/24 [00:05<00:00,  4.69it/s]\n",
      "INFO:src.data_collection:ROWS INSERTED: 215 ROWS UPDATED: 0\n"
     ]
    },
    {
     "name": "stdout",
     "output_type": "stream",
     "text": [
      "<class 'pandas.core.frame.DataFrame'>\n",
      "RangeIndex: 215 entries, 0 to 214\n",
      "Data columns (total 5 columns):\n",
      " #   Column           Non-Null Count  Dtype         \n",
      "---  ------           --------------  -----         \n",
      " 0   Interval         215 non-null    datetime64[ns]\n",
      " 1   GMTIntervalEnd   215 non-null    datetime64[ns]\n",
      " 2   MTLF             215 non-null    int64         \n",
      " 3   Averaged_Actual  48 non-null     float64       \n",
      " 4   timestamp_mst    215 non-null    datetime64[ns]\n",
      "dtypes: datetime64[ns](3), float64(1), int64(1)\n",
      "memory usage: 8.5 KB\n"
     ]
    }
   ],
   "source": [
    "dc.collect_upsert_mtlf(n_periods=24)"
   ]
  },
  {
   "cell_type": "code",
   "execution_count": null,
   "metadata": {
    "application/vnd.databricks.v1+cell": {
     "cellMetadata": {},
     "inputWidgets": {},
     "nuid": "398d5fc7-8980-43bf-8edd-7fc85f6d6ba9",
     "showTitle": false,
     "title": ""
    }
   },
   "outputs": [],
   "source": []
  },
  {
   "cell_type": "markdown",
   "metadata": {
    "application/vnd.databricks.v1+cell": {
     "cellMetadata": {},
     "inputWidgets": {},
     "nuid": "71a30a86-f0d0-4882-afcd-d5de88883fe7",
     "showTitle": false,
     "title": ""
    }
   },
   "source": [
    "## Mid Term Resource Forecast\n",
    "\n",
    "![_](../../imgs/mtrf.PNG)"
   ]
  },
  {
   "cell_type": "code",
   "execution_count": 6,
   "metadata": {
    "application/vnd.databricks.v1+cell": {
     "cellMetadata": {},
     "inputWidgets": {},
     "nuid": "d5a14ff2-4b1a-48e0-8bd7-3721e6e280f2",
     "showTitle": false,
     "title": ""
    }
   },
   "outputs": [
    {
     "name": "stderr",
     "output_type": "stream",
     "text": [
      "INFO:src.data_collection:end_ts: 2024-09-24 22:10:44.462808\n",
      "INFO:src.data_collection:n_periods: 24\n",
      " 88%|████████▊ | 21/24 [00:03<00:00,  6.37it/s]ERROR:src.data_collection:ERROR READING URL: https://marketplace.spp.org/file-browser-api/download/mid-term-resource-forecast-mtrf-weis?path=%2F2024%2F09%2F24%2FWEIS-OP-MTRF-202409242300.csv\n",
      "ERROR:src.data_collection:\n",
      "100%|██████████| 24/24 [00:03<00:00,  6.35it/s]\n",
      "INFO:src.data_collection:ROWS INSERTED: 119 ROWS UPDATED: 97\n"
     ]
    },
    {
     "name": "stdout",
     "output_type": "stream",
     "text": [
      "<class 'pandas.core.frame.DataFrame'>\n",
      "RangeIndex: 216 entries, 0 to 215\n",
      "Data columns (total 5 columns):\n",
      " #   Column             Non-Null Count  Dtype         \n",
      "---  ------             --------------  -----         \n",
      " 0   Interval           216 non-null    datetime64[ns]\n",
      " 1   GMTIntervalEnd     216 non-null    datetime64[ns]\n",
      " 2   Wind_Forecast_MW   215 non-null    float64       \n",
      " 3   Solar_Forecast_MW  215 non-null    float64       \n",
      " 4   timestamp_mst      216 non-null    datetime64[ns]\n",
      "dtypes: datetime64[ns](3), float64(2)\n",
      "memory usage: 8.6 KB\n"
     ]
    }
   ],
   "source": [
    "dc.collect_upsert_mtrf(n_periods=24)"
   ]
  },
  {
   "cell_type": "code",
   "execution_count": null,
   "metadata": {
    "application/vnd.databricks.v1+cell": {
     "cellMetadata": {},
     "inputWidgets": {},
     "nuid": "63ada246-9904-401c-a14b-fda7831bb584",
     "showTitle": false,
     "title": ""
    }
   },
   "outputs": [],
   "source": []
  }
 ],
 "metadata": {
  "application/vnd.databricks.v1+notebook": {
   "dashboards": [],
   "language": "python",
   "notebookMetadata": {},
   "notebookName": "data_collection_hourly",
   "widgets": {}
  },
  "kernelspec": {
   "display_name": "Python 3",
   "language": "python",
   "name": "python3"
  },
  "language_info": {
   "codemirror_mode": {
    "name": "ipython",
    "version": 3
   },
   "file_extension": ".py",
   "mimetype": "text/x-python",
   "name": "python",
   "nbconvert_exporter": "python",
   "pygments_lexer": "ipython3",
   "version": "3.11.9"
  }
 },
 "nbformat": 4,
 "nbformat_minor": 4
}
