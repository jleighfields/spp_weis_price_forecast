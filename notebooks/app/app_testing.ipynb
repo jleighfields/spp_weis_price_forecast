{
 "cells": [
  {
   "cell_type": "code",
   "execution_count": null,
   "id": "69203664-529c-4f3c-9526-4ca37adce1e3",
   "metadata": {},
   "outputs": [],
   "source": [
    "# TODO:\n",
    "#    1. early stopping not working optuna experiment"
   ]
  },
  {
   "cell_type": "code",
   "execution_count": null,
   "id": "d52cf595-9e8a-4d77-8f2a-f83bc5725504",
   "metadata": {},
   "outputs": [],
   "source": [
    "import os\n",
    "import shutil\n",
    "import pickle\n",
    "import random\n",
    "import sys\n",
    "import numpy as np\n",
    "import pandas as pd\n",
    "import duckdb\n",
    "from typing import List\n",
    "\n",
    "import requests\n",
    "from io import StringIO\n",
    "\n",
    "import ibis\n",
    "import ibis.selectors as s\n",
    "from ibis import _\n",
    "ibis.options.interactive = True\n",
    "\n",
    "from sklearn.preprocessing import RobustScaler\n",
    "\n",
    "import torch\n",
    "\n",
    "from darts import TimeSeries, concatenate\n",
    "from darts.dataprocessing.transformers import (\n",
    "    Scaler,\n",
    "    MissingValuesFiller,\n",
    "    Mapper,\n",
    "    InvertibleMapper,\n",
    ")\n",
    "from darts.dataprocessing import Pipeline\n",
    "from darts.metrics import mape, smape, mae, ope, rmse\n",
    "from darts.utils.statistics import check_seasonality, plot_acf\n",
    "from darts.datasets import AirPassengersDataset, IceCreamHeaterDataset\n",
    "from darts.utils.timeseries_generation import datetime_attribute_timeseries\n",
    "from darts.utils.likelihood_models import QuantileRegression, GumbelLikelihood, GaussianLikelihood\n",
    "\n",
    "from darts import TimeSeries\n",
    "from darts.utils.timeseries_generation import (\n",
    "    gaussian_timeseries,\n",
    "    linear_timeseries,\n",
    "    sine_timeseries,\n",
    ")\n",
    "from darts.models import (\n",
    "    TFTModel,\n",
    "    TiDEModel,\n",
    "    DLinearModel,\n",
    "    NLinearModel,\n",
    "    TSMixerModel\n",
    ")\n",
    "\n",
    "\n",
    "from torchmetrics import (\n",
    "    SymmetricMeanAbsolutePercentageError, \n",
    "    MeanAbsoluteError, \n",
    "    MeanSquaredError,\n",
    ")\n",
    "\n",
    "from pytorch_lightning.callbacks.early_stopping import EarlyStopping\n",
    "\n",
    "import mlflow\n",
    "\n",
    "import warnings\n",
    "warnings.filterwarnings(\"ignore\")\n",
    "\n",
    "# logging\n",
    "import logging\n",
    "\n",
    "# define log\n",
    "logging.basicConfig(level=logging.INFO)\n",
    "log = logging.getLogger(__name__)"
   ]
  },
  {
   "cell_type": "code",
   "execution_count": null,
   "id": "9265743c-3605-48d9-83a8-69b56743c748",
   "metadata": {},
   "outputs": [],
   "source": [
    "# import optuna\n",
    "# from optuna.integration import PyTorchLightningPruningCallback\n",
    "# from optuna.visualization import (\n",
    "#     plot_optimization_history,\n",
    "#     plot_contour,\n",
    "#     plot_param_importances,\n",
    "#     plot_pareto_front,\n",
    "# )"
   ]
  },
  {
   "cell_type": "code",
   "execution_count": null,
   "id": "6c455b79-12ce-4c73-9f95-3cdbd270a257",
   "metadata": {},
   "outputs": [],
   "source": [
    "## will be loaded from root when deployed\n",
    "# from darts_wrapper import DartsGlobalModel"
   ]
  },
  {
   "cell_type": "code",
   "execution_count": null,
   "id": "e9fb2027-6f33-440d-ad6b-b3d3632d8103",
   "metadata": {},
   "outputs": [],
   "source": [
    "os.chdir('../..')"
   ]
  },
  {
   "cell_type": "code",
   "execution_count": null,
   "id": "d113b2e7-4a1b-4e41-959e-21bc661746fc",
   "metadata": {},
   "outputs": [],
   "source": [
    "# custom modules\n",
    "import src.data_engineering as de\n",
    "from src import params\n",
    "from src import plotting\n",
    "from src import utils\n",
    "from src.modeling import get_ci_err, build_fit_tsmixerx, log_pretty"
   ]
  },
  {
   "cell_type": "code",
   "execution_count": null,
   "id": "211757e7-9d91-4d9b-916b-41501e357379",
   "metadata": {},
   "outputs": [],
   "source": [
    "log.info(f'FORECAST_HORIZON: {params.FORECAST_HORIZON}')\n",
    "log.info(f'INPUT_CHUNK_LENGTH: {params.INPUT_CHUNK_LENGTH}')"
   ]
  },
  {
   "cell_type": "code",
   "execution_count": null,
   "id": "713c3b07-8384-47e7-bca2-c45644cac3a9",
   "metadata": {},
   "outputs": [],
   "source": []
  },
  {
   "cell_type": "markdown",
   "id": "e838f28f-fddd-4788-b41d-c7600da415be",
   "metadata": {},
   "source": [
    "## Load model"
   ]
  },
  {
   "cell_type": "code",
   "execution_count": null,
   "id": "7783faae-9f1e-47fa-9bbc-ad9f3976da89",
   "metadata": {},
   "outputs": [],
   "source": [
    "# mlflow.set_tracking_uri(\"sqlite:///mlruns.db\")\n",
    "log.info(f'mlflow.get_tracking_uri(): {mlflow.get_tracking_uri()}')\n",
    "exp_name = 'spp_weis'\n",
    "exp = mlflow.get_experiment_by_name(exp_name)\n",
    "exp"
   ]
  },
  {
   "cell_type": "code",
   "execution_count": null,
   "id": "5c3c7efb-9cc0-40ed-a894-9aa73208ee69",
   "metadata": {},
   "outputs": [],
   "source": [
    "runs = mlflow.search_runs(\n",
    "    experiment_ids = exp.experiment_id,\n",
    "    # order_by=['metrics.test_mae']\n",
    "    order_by=['end_time']\n",
    "    )\n",
    "\n",
    "runs.sort_values('end_time', ascending=False, inplace=True)\n",
    "runs.head()"
   ]
  },
  {
   "cell_type": "code",
   "execution_count": null,
   "id": "45812534-9c6e-4bd6-9a74-7c525d4a8006",
   "metadata": {},
   "outputs": [],
   "source": [
    "best_run_id = runs.run_id.iloc[0]\n",
    "best_run_id"
   ]
  },
  {
   "cell_type": "code",
   "execution_count": null,
   "id": "79254137-df64-4796-a7c7-06c9ce8b8308",
   "metadata": {},
   "outputs": [],
   "source": [
    "runs['artifact_uri'].iloc[0]"
   ]
  },
  {
   "cell_type": "code",
   "execution_count": null,
   "id": "a950dc70-8dde-4b6d-b2b5-293e5eb47692",
   "metadata": {},
   "outputs": [],
   "source": [
    "model_path = runs['artifact_uri'].iloc[0] + '/GlobalForecasting'"
   ]
  },
  {
   "cell_type": "code",
   "execution_count": null,
   "id": "ff2c1f67-56f6-4d68-a151-5d058213eebf",
   "metadata": {},
   "outputs": [],
   "source": [
    "loaded_model = mlflow.pyfunc.load_model(model_path)"
   ]
  },
  {
   "cell_type": "code",
   "execution_count": null,
   "id": "8d84debb-a12d-4882-b55f-61a9a18e7e20",
   "metadata": {},
   "outputs": [],
   "source": []
  },
  {
   "cell_type": "markdown",
   "id": "354b246f-2f5f-4847-bbc3-a254b664dea6",
   "metadata": {},
   "source": [
    "## Prep data"
   ]
  },
  {
   "cell_type": "code",
   "execution_count": null,
   "id": "bd255207-c7cb-4d60-906a-2aa358467ae4",
   "metadata": {},
   "outputs": [],
   "source": [
    "con = ibis.duckdb.connect(\"data/spp.ddb\", read_only=True)\n",
    "all_df_pd = de.all_df_to_pandas(de.prep_all_df(con))\n",
    "lmp = de.prep_lmp(con)\n",
    "lmp_pd_df = (\n",
    "    lmp\n",
    "    .to_pandas()\n",
    "    .set_index('timestamp_mst')\n",
    ")\n",
    "con.disconnect()"
   ]
  },
  {
   "cell_type": "code",
   "execution_count": null,
   "id": "eef5dbb3-3d05-4904-ab18-018aabcae54a",
   "metadata": {},
   "outputs": [],
   "source": [
    "con = ibis.duckdb.connect(\"data/spp.ddb\", read_only=True)"
   ]
  },
  {
   "cell_type": "code",
   "execution_count": null,
   "id": "3d4b2e0d-5e50-4c0b-9207-f5460d918587",
   "metadata": {},
   "outputs": [],
   "source": [
    "lmp = con.table('lmp')\n",
    "lmp"
   ]
  },
  {
   "cell_type": "code",
   "execution_count": null,
   "id": "effd55bc-ff2b-4b54-88c9-22ed270041e4",
   "metadata": {},
   "outputs": [],
   "source": [
    "lmp.timestamp_mst_HE.max()"
   ]
  },
  {
   "cell_type": "code",
   "execution_count": null,
   "id": "b96fc4c9-a536-4fdf-aba6-17a6444d43d4",
   "metadata": {},
   "outputs": [],
   "source": [
    "# all_df_pd = de.all_df_to_pandas(de.prep_all_df())"
   ]
  },
  {
   "cell_type": "code",
   "execution_count": null,
   "id": "6c42e6f7-627b-4aed-86fd-5c7ab2ef898c",
   "metadata": {},
   "outputs": [],
   "source": [
    "# lmp = de.prep_lmp()"
   ]
  },
  {
   "cell_type": "code",
   "execution_count": null,
   "id": "70f2f012-1aaa-4128-be70-eab703c18378",
   "metadata": {},
   "outputs": [],
   "source": [
    "# lmp_pd_df = (\n",
    "#     lmp\n",
    "#     .to_pandas()\n",
    "#     .set_index('timestamp_mst')\n",
    "# )"
   ]
  },
  {
   "cell_type": "code",
   "execution_count": null,
   "id": "2df72dc6-0f1a-46c1-b84f-079ad291806b",
   "metadata": {},
   "outputs": [],
   "source": [
    "lmp_pd_df.index.max()"
   ]
  },
  {
   "cell_type": "code",
   "execution_count": null,
   "id": "973be172-48a1-4a92-851a-99d704fa9a9a",
   "metadata": {},
   "outputs": [],
   "source": [
    "# these will be values selected by user\n",
    "lmp_pd_df.unique_id.unique()"
   ]
  },
  {
   "cell_type": "code",
   "execution_count": null,
   "id": "8327c8dd-60f8-4915-905b-45fee6caf4de",
   "metadata": {},
   "outputs": [],
   "source": [
    "plot_node_name = 'PSCO_PRPM_PR'\n",
    "idx = lmp_pd_df.unique_id == 'PSCO_PRPM_PR'\n",
    "price_df = lmp_pd_df[idx]\n",
    "price_df"
   ]
  },
  {
   "cell_type": "code",
   "execution_count": null,
   "id": "9bd7f90a-f919-4505-8708-c24fb77d9ac9",
   "metadata": {},
   "outputs": [],
   "source": [
    "idx = all_df_pd.unique_id == 'PSCO_PRPM_PR'\n",
    "node_all_df_pd = all_df_pd[idx]\n",
    "node_all_df_pd"
   ]
  },
  {
   "cell_type": "code",
   "execution_count": null,
   "id": "6ce00b01-429b-46fc-8b8b-4195744f32d1",
   "metadata": {},
   "outputs": [],
   "source": [
    "plot_series = de.get_all_series(price_df)[0]"
   ]
  },
  {
   "cell_type": "code",
   "execution_count": null,
   "id": "d1fad7c8-0a4b-47b4-8117-fc16c73c3cea",
   "metadata": {},
   "outputs": [],
   "source": [
    "plot_series.plot()"
   ]
  },
  {
   "cell_type": "code",
   "execution_count": null,
   "id": "abe27758-ff9c-408e-8d5e-0f5456a026b0",
   "metadata": {},
   "outputs": [],
   "source": [
    "plot_series.static_covariates.unique_id.LMP"
   ]
  },
  {
   "cell_type": "code",
   "execution_count": null,
   "id": "a91be176-3d7d-4e3a-8f3c-1a62f758cf6f",
   "metadata": {},
   "outputs": [],
   "source": [
    "plot_series.end_time()"
   ]
  },
  {
   "cell_type": "code",
   "execution_count": null,
   "id": "0ef569b3-64d4-4339-a0c1-c851c3286325",
   "metadata": {},
   "outputs": [],
   "source": [
    "future_cov_series = de.get_futr_cov(node_all_df_pd)[0]\n",
    "future_cov_series.plot()"
   ]
  },
  {
   "cell_type": "code",
   "execution_count": null,
   "id": "e6f847d8-ac7c-4817-88e2-90b078b915ec",
   "metadata": {},
   "outputs": [],
   "source": [
    "future_cov_series.end_time()"
   ]
  },
  {
   "cell_type": "code",
   "execution_count": null,
   "id": "bae4d994-eb04-4517-862d-ffb184dd9e97",
   "metadata": {},
   "outputs": [],
   "source": [
    "past_cov_series = de.get_past_cov(node_all_df_pd)[0]\n",
    "past_cov_series.plot()"
   ]
  },
  {
   "cell_type": "code",
   "execution_count": null,
   "id": "d0dd9c9f-608b-4573-9572-88d1a01a862d",
   "metadata": {},
   "outputs": [],
   "source": []
  },
  {
   "cell_type": "markdown",
   "id": "a40f3d43-1449-489a-9012-5ce2f6905052",
   "metadata": {},
   "source": [
    "## Test plotting"
   ]
  },
  {
   "cell_type": "code",
   "execution_count": null,
   "id": "a7e37838-4e02-4087-be1d-03de9aae23ec",
   "metadata": {},
   "outputs": [],
   "source": [
    "# selected by user\n",
    "forecast_start = pd.Timestamp('2024-07-31') + pd.Timedelta('1h')\n",
    "forecast_start = plot_series.end_time()  - pd.Timedelta('72h')"
   ]
  },
  {
   "cell_type": "code",
   "execution_count": null,
   "id": "b5d44dc8-f8ee-40e1-a06f-b28541f90fc1",
   "metadata": {},
   "outputs": [],
   "source": [
    "node_series = plot_series.drop_after(forecast_start)\n",
    "log.info(f'node_series.end_time(): {node_series.end_time()}')\n",
    "# future_cov_series = futr_cov\n",
    "# past_cov_series = past_cov"
   ]
  },
  {
   "cell_type": "code",
   "execution_count": null,
   "id": "cb4bc1d3-c70b-4cf3-b3ba-8dc590c28a8b",
   "metadata": {},
   "outputs": [],
   "source": [
    "data = {\n",
    "    'series': [node_series.to_json()],\n",
    "    'past_covariates': [past_cov_series.to_json()],\n",
    "    'future_covariates': [future_cov_series.to_json()],\n",
    "    'n': params.FORECAST_HORIZON,\n",
    "    'num_samples': 200\n",
    "}\n",
    "df = pd.DataFrame(data)\n",
    "\n",
    "plot_cov_df = future_cov_series.pd_dataframe()\n",
    "plot_cov_df = (\n",
    "    plot_cov_df\n",
    "    .reset_index()\n",
    "    .rename(columns={'timestamp_mst':'time', 're_ratio': 'Ratio'})\n",
    ")\n",
    "\n",
    "# Predict on a Pandas DataFrame.\n",
    "df['num_samples'] = 500\n",
    "pred = loaded_model.predict(df)\n",
    "preds = TimeSeries.from_json(pred)\n",
    "\n",
    "q_df = plotting.get_quantile_df(preds)\n",
    "\n",
    "# plot_df = plotting.get_mean_df(preds).merge(\n",
    "#     plotting.get_quantile_df(preds),\n",
    "#     left_index=True,\n",
    "#     right_index=True,\n",
    "# )\n",
    "\n",
    "lmp_df = lmp.to_pandas().rename(\n",
    "    columns={\n",
    "        'LMP': 'LMP_HOURLY',\n",
    "        'unique_id':'node', \n",
    "        'timestamp_mst':'time'\n",
    "    })\n",
    "\n",
    "plot_df = plotting.get_plot_df(\n",
    "        TimeSeries.from_json(pred),\n",
    "        plot_cov_df,\n",
    "        lmp_df,\n",
    "        plot_node_name,\n",
    "    )\n",
    "plot_df.rename(columns={'mean':'mean_fcast'}, inplace=True)\n",
    "plot_df\n",
    "\n",
    "plotting.plotly_forecast(plot_df, plot_node_name, show_fig=False)\n",
    "\n"
   ]
  },
  {
   "cell_type": "code",
   "execution_count": null,
   "id": "902d0845-8d97-4abc-99c9-90d81a3ea981",
   "metadata": {},
   "outputs": [],
   "source": [
    "df"
   ]
  },
  {
   "cell_type": "code",
   "execution_count": null,
   "id": "ea49c91a-0960-4df4-b9bf-5245b65a0c5f",
   "metadata": {},
   "outputs": [],
   "source": []
  },
  {
   "cell_type": "code",
   "execution_count": null,
   "id": "c21b0ce0-098e-403d-a350-62f995c86ac0",
   "metadata": {},
   "outputs": [],
   "source": []
  }
 ],
 "metadata": {
  "kernelspec": {
   "display_name": "Python 3",
   "language": "python",
   "name": "python3"
  },
  "language_info": {
   "codemirror_mode": {
    "name": "ipython",
    "version": 3
   },
   "file_extension": ".py",
   "mimetype": "text/x-python",
   "name": "python",
   "nbconvert_exporter": "python",
   "pygments_lexer": "ipython3",
   "version": "3.11.9"
  }
 },
 "nbformat": 4,
 "nbformat_minor": 5
}
