{
 "cells": [
  {
   "cell_type": "code",
   "execution_count": null,
   "id": "69203664-529c-4f3c-9526-4ca37adce1e3",
   "metadata": {},
   "outputs": [],
   "source": [
    "# TODO:\n",
    "#    1. early stopping not working optuna experiment"
   ]
  },
  {
   "cell_type": "code",
   "execution_count": null,
   "id": "b770fc59-5d59-4721-ad6a-438785b4a641",
   "metadata": {},
   "outputs": [],
   "source": []
  },
  {
   "cell_type": "code",
   "execution_count": null,
   "id": "d52cf595-9e8a-4d77-8f2a-f83bc5725504",
   "metadata": {},
   "outputs": [],
   "source": [
    "import os\n",
    "import shutil\n",
    "import pickle\n",
    "import random\n",
    "import sys\n",
    "import numpy as np\n",
    "import pandas as pd\n",
    "import duckdb\n",
    "from typing import List\n",
    "\n",
    "import boto3\n",
    "\n",
    "import requests\n",
    "from io import StringIO\n",
    "\n",
    "import ibis\n",
    "import ibis.selectors as s\n",
    "from ibis import _\n",
    "ibis.options.interactive = True\n",
    "\n",
    "from sklearn.preprocessing import RobustScaler\n",
    "\n",
    "import torch\n",
    "\n",
    "from darts import TimeSeries, concatenate\n",
    "from darts.dataprocessing.transformers import (\n",
    "    Scaler,\n",
    "    MissingValuesFiller,\n",
    "    Mapper,\n",
    "    InvertibleMapper,\n",
    ")\n",
    "from darts.dataprocessing import Pipeline\n",
    "from darts.metrics import mape, smape, mae, ope, rmse\n",
    "from darts.utils.statistics import check_seasonality, plot_acf\n",
    "from darts.datasets import AirPassengersDataset, IceCreamHeaterDataset\n",
    "from darts.utils.timeseries_generation import datetime_attribute_timeseries\n",
    "from darts.utils.likelihood_models import QuantileRegression, GumbelLikelihood, GaussianLikelihood\n",
    "\n",
    "from darts import TimeSeries\n",
    "from darts.utils.timeseries_generation import (\n",
    "    gaussian_timeseries,\n",
    "    linear_timeseries,\n",
    "    sine_timeseries,\n",
    ")\n",
    "from darts.models import (\n",
    "    TFTModel,\n",
    "    TiDEModel,\n",
    "    DLinearModel,\n",
    "    NLinearModel,\n",
    "    TSMixerModel,\n",
    "    NaiveEnsembleModel,\n",
    "    RegressionEnsembleModel,\n",
    ")\n",
    "\n",
    "\n",
    "from torchmetrics import (\n",
    "    SymmetricMeanAbsolutePercentageError, \n",
    "    MeanAbsoluteError, \n",
    "    MeanSquaredError,\n",
    ")\n",
    "\n",
    "from pytorch_lightning.callbacks.early_stopping import EarlyStopping\n",
    "\n",
    "import mlflow\n",
    "\n",
    "import warnings\n",
    "warnings.filterwarnings(\"ignore\")\n",
    "\n",
    "from dotenv import load_dotenv\n",
    "load_dotenv()\n",
    "\n",
    "# logging\n",
    "import logging\n",
    "\n",
    "# define log\n",
    "logging.basicConfig(level=logging.INFO)\n",
    "log = logging.getLogger(__name__)"
   ]
  },
  {
   "cell_type": "code",
   "execution_count": null,
   "id": "4a5ecd0e-9e2a-430f-abcd-989dadc975ce",
   "metadata": {},
   "outputs": [],
   "source": [
    "# https://github.com/Lightning-AI/pytorch-lightning/issues/3431\n",
    "logging.getLogger(\"lightning.pytorch.utilities.rank_zero\").setLevel(logging.WARNING)\n",
    "logging.getLogger(\"pytorch_lightning.utilities.rank_zero\").setLevel(logging.WARNING)"
   ]
  },
  {
   "cell_type": "code",
   "execution_count": null,
   "id": "9265743c-3605-48d9-83a8-69b56743c748",
   "metadata": {},
   "outputs": [],
   "source": [
    "import optuna\n",
    "from optuna.integration import PyTorchLightningPruningCallback\n",
    "from optuna.visualization import (\n",
    "    plot_optimization_history,\n",
    "    plot_contour,\n",
    "    plot_param_importances,\n",
    "    plot_pareto_front,\n",
    ")"
   ]
  },
  {
   "cell_type": "code",
   "execution_count": null,
   "id": "e9fb2027-6f33-440d-ad6b-b3d3632d8103",
   "metadata": {},
   "outputs": [],
   "source": [
    "os.chdir('../..')"
   ]
  },
  {
   "cell_type": "code",
   "execution_count": null,
   "id": "d113b2e7-4a1b-4e41-959e-21bc661746fc",
   "metadata": {},
   "outputs": [],
   "source": [
    "# custom modules\n",
    "import src.data_engineering as de\n",
    "from src import parameters\n",
    "from src import plotting\n",
    "from src.modeling import (\n",
    "    get_ci_err, build_fit_tsmixerx, build_fit_tide, build_fit_tft, log_pretty\n",
    ")\n",
    "\n",
    "## will be loaded from root when deployed\n",
    "from src.darts_wrapper import DartsGlobalModel"
   ]
  },
  {
   "cell_type": "code",
   "execution_count": null,
   "id": "211757e7-9d91-4d9b-916b-41501e357379",
   "metadata": {},
   "outputs": [],
   "source": [
    "log.info(f'FORECAST_HORIZON: {parameters.FORECAST_HORIZON}')\n",
    "log.info(f'INPUT_CHUNK_LENGTH: {parameters.INPUT_CHUNK_LENGTH}')"
   ]
  },
  {
   "cell_type": "code",
   "execution_count": null,
   "id": "713c3b07-8384-47e7-bca2-c45644cac3a9",
   "metadata": {},
   "outputs": [],
   "source": [
    "torch.set_float32_matmul_precision('medium')"
   ]
  },
  {
   "cell_type": "code",
   "execution_count": null,
   "id": "1c1ade2b-8136-4348-817a-fb8c15510a5f",
   "metadata": {},
   "outputs": [],
   "source": [
    "# optuna.delete_study(study_name=\"spp_weis_tide\", storage=\"sqlite:///spp_trials.db\")"
   ]
  },
  {
   "cell_type": "markdown",
   "id": "33d952be-198a-4d48-871b-4ccec3960b41",
   "metadata": {},
   "source": [
    "## Data prep"
   ]
  },
  {
   "cell_type": "code",
   "execution_count": null,
   "id": "caa0b1fb-b05f-4ccd-8efe-c72f22511d3c",
   "metadata": {},
   "outputs": [],
   "source": [
    "# client for uploading model weights\n",
    "s3 = boto3.client('s3')"
   ]
  },
  {
   "cell_type": "code",
   "execution_count": null,
   "id": "5b59c65b-8e78-4e3a-8a2e-fbf009fef686",
   "metadata": {},
   "outputs": [],
   "source": [
    "# connect to database\n",
    "# con = ibis.duckdb.connect(\"data/spp.ddb\", read_only=True)\n",
    "con = ibis.duckdb.connect()\n",
    "log.info('getting lmp data from s3')\n",
    "con.read_parquet('s3://spp-weis/data/lmp.parquet', 'lmp')\n",
    "log.info('getting mtrf data from s3')\n",
    "con.read_parquet('s3://spp-weis/data/mtrf.parquet', 'mtrf')\n",
    "log.info('getting mtlf data from s3')\n",
    "con.read_parquet('s3://spp-weis/data/mtlf.parquet', 'mtlf')\n",
    "log.info('finished getting data from s3')\n",
    "\n",
    "con.list_tables()"
   ]
  },
  {
   "cell_type": "code",
   "execution_count": null,
   "id": "d1780824-cabc-4297-8576-e4662fddc3a6",
   "metadata": {},
   "outputs": [],
   "source": [
    "lmp = de.prep_lmp(con)\n",
    "lmp"
   ]
  },
  {
   "cell_type": "code",
   "execution_count": null,
   "id": "031733c6-c7be-4694-b69c-3f79d7c81df3",
   "metadata": {},
   "outputs": [],
   "source": [
    "# needed for plotting\n",
    "lmp_df = lmp.to_pandas().rename(\n",
    "    columns={\n",
    "        'LMP': 'LMP_HOURLY',\n",
    "        'unique_id':'node', \n",
    "        'timestamp_mst':'time'\n",
    "    })"
   ]
  },
  {
   "cell_type": "code",
   "execution_count": null,
   "id": "51a6c863-53cf-4bd4-aa69-022ec3e9d95f",
   "metadata": {},
   "outputs": [],
   "source": [
    "mtrf = de.prep_mtrf(con)\n",
    "mtrf"
   ]
  },
  {
   "cell_type": "code",
   "execution_count": null,
   "id": "6f172aed-7668-4513-bcd2-4c205f05aecd",
   "metadata": {},
   "outputs": [],
   "source": [
    "mtlf = de.prep_mtlf(con)\n",
    "mtlf"
   ]
  },
  {
   "cell_type": "code",
   "execution_count": null,
   "id": "1825be37-1063-4edc-888a-a652265c739c",
   "metadata": {},
   "outputs": [],
   "source": [
    "all_df = de.prep_all_df(con)\n",
    "all_df"
   ]
  },
  {
   "cell_type": "code",
   "execution_count": null,
   "id": "8b7bdeb4-417e-4f61-834c-04af1d62db3c",
   "metadata": {},
   "outputs": [],
   "source": [
    "all_df_pd = de.all_df_to_pandas(de.prep_all_df(con))\n",
    "all_df_pd"
   ]
  },
  {
   "cell_type": "code",
   "execution_count": null,
   "id": "4725a70a-58e4-4dfc-a6ef-2b5e3a2c4c87",
   "metadata": {},
   "outputs": [],
   "source": [
    "all_df_pd.info()"
   ]
  },
  {
   "cell_type": "code",
   "execution_count": null,
   "id": "9765b785-b1e7-4f77-a8dc-52fbadfce88c",
   "metadata": {},
   "outputs": [],
   "source": []
  },
  {
   "cell_type": "markdown",
   "id": "301eda94-6012-4a9d-a0d4-7b78368e642f",
   "metadata": {},
   "source": [
    "## Prep model training data"
   ]
  },
  {
   "cell_type": "code",
   "execution_count": null,
   "id": "ccfa3670-c875-4fac-a50e-d609990b0a2f",
   "metadata": {},
   "outputs": [],
   "source": [
    "lmp_all, train_all, test_all, train_test_all = de.get_train_test_all(con)"
   ]
  },
  {
   "cell_type": "code",
   "execution_count": null,
   "id": "c504b51b-faf0-4871-8e54-cde93e14218a",
   "metadata": {},
   "outputs": [],
   "source": [
    "lmp_all"
   ]
  },
  {
   "cell_type": "code",
   "execution_count": null,
   "id": "2d8740e0-6904-4ff5-ac34-d0ecaa0135ea",
   "metadata": {},
   "outputs": [],
   "source": [
    "all_series = de.get_series(lmp_all)\n",
    "all_series[0].plot()"
   ]
  },
  {
   "cell_type": "code",
   "execution_count": null,
   "id": "c0b19e68-1839-4ca1-9063-b8c0f26a2cbb",
   "metadata": {},
   "outputs": [],
   "source": [
    "train_test_all_series = de.get_series(train_test_all)\n",
    "train_test_all_series[0].plot()"
   ]
  },
  {
   "cell_type": "code",
   "execution_count": null,
   "id": "9adc1d39-cc8c-48f3-9e58-e95cb384b98a",
   "metadata": {},
   "outputs": [],
   "source": [
    "train_series = de.get_series(train_all)\n",
    "train_series[0].plot()"
   ]
  },
  {
   "cell_type": "code",
   "execution_count": null,
   "id": "08fda754-0fed-485b-a07b-c28da5c2b4f3",
   "metadata": {},
   "outputs": [],
   "source": [
    "test_series = de.get_series(test_all)\n",
    "test_series[0].plot()"
   ]
  },
  {
   "cell_type": "code",
   "execution_count": null,
   "id": "9e9cd46d-6617-4c04-9c51-3075aabc4af6",
   "metadata": {},
   "outputs": [],
   "source": [
    "futr_cov = de.get_futr_cov(all_df_pd)\n",
    "futr_cov[0].plot()"
   ]
  },
  {
   "cell_type": "code",
   "execution_count": null,
   "id": "8de4ccf3-d3d3-4d78-8b0b-7ca7a6b4251f",
   "metadata": {},
   "outputs": [],
   "source": [
    "past_cov = de.get_past_cov(all_df_pd)\n",
    "past_cov[0].plot()"
   ]
  },
  {
   "cell_type": "code",
   "execution_count": null,
   "id": "98b81a27-f5a8-4a6f-b62d-375a2648022b",
   "metadata": {},
   "outputs": [],
   "source": [
    "con.disconnect()"
   ]
  },
  {
   "cell_type": "code",
   "execution_count": null,
   "id": "d1ff064d-bda8-4bc2-84ce-2f48713820a2",
   "metadata": {},
   "outputs": [],
   "source": []
  },
  {
   "cell_type": "markdown",
   "id": "f1c3bcf4-7a66-4334-b655-00184c9317bf",
   "metadata": {},
   "source": [
    "## Pretrain models with the best params"
   ]
  },
  {
   "cell_type": "code",
   "execution_count": null,
   "id": "e6ed145b-96d2-4144-82d7-a8bb498bfba2",
   "metadata": {},
   "outputs": [],
   "source": [
    "models_tsmixer = []\n",
    "if parameters.USE_TSMIXER:\n",
    "    for i, param in enumerate(parameters.TSMIXER_PARAMS[:parameters.TOP_N]):\n",
    "        print(f'\\ni: {i} \\t' + '*' * 25, flush=True)\n",
    "        model_tsmixer = build_fit_tsmixerx(\n",
    "            series=train_test_all_series,\n",
    "            val_series=test_series,\n",
    "            future_covariates=futr_cov,\n",
    "            past_covariates=past_cov,\n",
    "            **param\n",
    "        )\n",
    "        models_tsmixer += [model_tsmixer]"
   ]
  },
  {
   "cell_type": "code",
   "execution_count": null,
   "id": "57fc8062-3b25-4874-8b0f-3b9dccb42045",
   "metadata": {},
   "outputs": [],
   "source": [
    "models_tide = []\n",
    "if parameters.USE_TIDE:\n",
    "    for i, param in enumerate(parameters.TIDE_PARAMS[:parameters.TOP_N]):\n",
    "        print(f'\\ni: {i} \\t' + '*' * 25, flush=True)\n",
    "        model_tide = build_fit_tide(\n",
    "            series=train_test_all_series,\n",
    "            val_series=test_series,\n",
    "            future_covariates=futr_cov,\n",
    "            past_covariates=past_cov,\n",
    "            **param\n",
    "        )\n",
    "        models_tide += [model_tide]"
   ]
  },
  {
   "cell_type": "code",
   "execution_count": null,
   "id": "673514b4-ec36-4a2f-ab65-28d7f042740c",
   "metadata": {},
   "outputs": [],
   "source": [
    "models_tft = []\n",
    "if parameters.USE_TFT:\n",
    "    for i, param in enumerate(parameters.TFT_PARAMS[:parameters.TOP_N]):\n",
    "        print(f'\\ni: {i} \\t' + '*' * 25, flush=True)\n",
    "        model_tft = build_fit_tft(\n",
    "            series=train_test_all_series,\n",
    "            val_series=test_series,\n",
    "            future_covariates=futr_cov,\n",
    "            past_covariates=past_cov,\n",
    "            **param\n",
    "        )\n",
    "        models_tft += [model_tft]"
   ]
  },
  {
   "cell_type": "code",
   "execution_count": null,
   "id": "365e23af-7398-4bb6-8f73-1daad52ea1ba",
   "metadata": {
    "scrolled": true
   },
   "outputs": [],
   "source": []
  },
  {
   "cell_type": "markdown",
   "id": "32da5ddb-ced4-4633-bee5-b914ae0dcc7e",
   "metadata": {},
   "source": [
    "## Create ensemble model"
   ]
  },
  {
   "cell_type": "code",
   "execution_count": null,
   "id": "c9710470-2ddc-4cb5-aab1-096bd2cddb53",
   "metadata": {},
   "outputs": [],
   "source": [
    "forecasting_models = models_tsmixer + models_tide + models_tft"
   ]
  },
  {
   "cell_type": "code",
   "execution_count": null,
   "id": "ffac1b25-9953-4e8d-8982-57fb7a8e6de6",
   "metadata": {},
   "outputs": [],
   "source": [
    "loaded_model = NaiveEnsembleModel(\n",
    "    forecasting_models=forecasting_models, \n",
    "    train_forecasting_models=False\n",
    ")"
   ]
  },
  {
   "cell_type": "code",
   "execution_count": null,
   "id": "8d84debb-a12d-4882-b55f-61a9a18e7e20",
   "metadata": {},
   "outputs": [],
   "source": []
  },
  {
   "cell_type": "markdown",
   "id": "354b246f-2f5f-4847-bbc3-a254b664dea6",
   "metadata": {},
   "source": [
    "## Plot test predictions"
   ]
  },
  {
   "cell_type": "code",
   "execution_count": null,
   "id": "d1fad7c8-0a4b-47b4-8117-fc16c73c3cea",
   "metadata": {},
   "outputs": [],
   "source": [
    "plot_ind = 3\n",
    "plot_series = all_series[plot_ind]"
   ]
  },
  {
   "cell_type": "code",
   "execution_count": null,
   "id": "abe27758-ff9c-408e-8d5e-0f5456a026b0",
   "metadata": {},
   "outputs": [],
   "source": [
    "plot_series.static_covariates.unique_id.LMP"
   ]
  },
  {
   "cell_type": "code",
   "execution_count": null,
   "id": "0ef569b3-64d4-4339-a0c1-c851c3286325",
   "metadata": {},
   "outputs": [],
   "source": [
    "plot_series.plot()"
   ]
  },
  {
   "cell_type": "code",
   "execution_count": null,
   "id": "cfc56455-325e-4002-8dab-d77bff29953a",
   "metadata": {},
   "outputs": [],
   "source": [
    "plot_end_times = pd.date_range(\n",
    "    end=test_series[plot_ind].end_time(),\n",
    "    periods=10,\n",
    "    freq='d',\n",
    ")\n",
    "\n",
    "plot_end_times"
   ]
  },
  {
   "cell_type": "code",
   "execution_count": null,
   "id": "acd21863-5d50-43df-9767-0e3804d9f806",
   "metadata": {},
   "outputs": [],
   "source": [
    "for plot_end_time in plot_end_times:\n",
    "    log.info(f'plot_end_time: {plot_end_time}')\n",
    "    \n",
    "    plot_node_name = plot_series.static_covariates.unique_id.LMP\n",
    "    \n",
    "    # if test_end_time < test_series.end_time():\n",
    "    node_series = plot_series.drop_after(plot_end_time)\n",
    "        \n",
    "    log.info(f'plot_end_time: {plot_end_time}')\n",
    "    log.info(f'node_series.end_time(): {node_series.end_time()}')\n",
    "    future_cov_series = futr_cov[0]\n",
    "    past_cov_series = past_cov[0]\n",
    "    \n",
    "    data = {\n",
    "        'series': [node_series.to_json()],\n",
    "        'past_covariates': [past_cov_series.to_json()],\n",
    "        'future_covariates': [future_cov_series.to_json()],\n",
    "        'n': parameters.FORECAST_HORIZON,\n",
    "        'num_samples': 200\n",
    "    }\n",
    "    df = pd.DataFrame(data)\n",
    "    \n",
    "    plot_cov_df = future_cov_series.pd_dataframe()\n",
    "    plot_cov_df = (\n",
    "        plot_cov_df\n",
    "        .reset_index()\n",
    "        .rename(columns={'timestamp_mst':'time', 're_ratio': 'Ratio'})\n",
    "    )\n",
    "    \n",
    "    # Predict on a Pandas DataFrame.\n",
    "    df['num_samples'] = 500\n",
    "    \n",
    "    # for mlflow pyfunc model\n",
    "    # preds_json = loaded_model.predict(df)\n",
    "    # preds = TimeSeries.from_json(preds_json)\n",
    "\n",
    "    # for darts model\n",
    "    preds = loaded_model.predict(\n",
    "        series=node_series,\n",
    "        past_covariates=past_cov_series,\n",
    "        future_covariates=future_cov_series,\n",
    "        n=parameters.FORECAST_HORIZON,\n",
    "        num_samples=500,\n",
    "    )\n",
    "    \n",
    "    q_df = plotting.get_quantile_df(preds, plot_node_name)\n",
    "    \n",
    "    plot_df = plotting.get_mean_df(preds, plot_node_name).merge(\n",
    "        plotting.get_quantile_df(preds, plot_node_name),\n",
    "        left_index=True,\n",
    "        right_index=True,\n",
    "    )\n",
    "    \n",
    "    plot_df = plotting.get_plot_df(\n",
    "            # TimeSeries.from_json(pred),\n",
    "            preds,\n",
    "            plot_cov_df,\n",
    "            lmp_df,\n",
    "            plot_node_name,\n",
    "        )\n",
    "    plot_df.rename(columns={'mean':'mean_fcast'}, inplace=True)\n",
    "    plot_df\n",
    "    \n",
    "    plotting.plotly_forecast(plot_df, plot_node_name, show_fig=True)"
   ]
  },
  {
   "cell_type": "code",
   "execution_count": null,
   "id": "902d0845-8d97-4abc-99c9-90d81a3ea981",
   "metadata": {},
   "outputs": [],
   "source": [
    "# df"
   ]
  },
  {
   "cell_type": "code",
   "execution_count": null,
   "id": "ea49c91a-0960-4df4-b9bf-5245b65a0c5f",
   "metadata": {},
   "outputs": [],
   "source": []
  },
  {
   "cell_type": "code",
   "execution_count": null,
   "id": "01cd2df0-7700-4ab7-a5c1-8f9e09c5fac6",
   "metadata": {},
   "outputs": [],
   "source": []
  },
  {
   "cell_type": "markdown",
   "id": "0ef99464-b977-4a1f-ba70-9864cb924cb5",
   "metadata": {},
   "source": [
    "## Depreicated MLFlow code"
   ]
  },
  {
   "cell_type": "code",
   "execution_count": null,
   "id": "6706379d-fa8b-4465-84ff-82667a677a90",
   "metadata": {},
   "outputs": [],
   "source": [
    "## MLFlow set up\n",
    "# # mlflow.set_tracking_uri(\"sqlite:///mlruns.db\")\n",
    "# log.info(f'mlflow.get_tracking_uri(): {mlflow.get_tracking_uri()}')\n",
    "# exp_name = 'spp_weis'\n",
    "\n",
    "# if mlflow.get_experiment_by_name(exp_name) is None:\n",
    "#     exp = mlflow.create_experiment(exp_name)\n",
    "    \n",
    "# exp = mlflow.get_experiment_by_name(exp_name)\n",
    "# exp"
   ]
  },
  {
   "cell_type": "code",
   "execution_count": null,
   "id": "46e45b54-02b9-4c13-928e-1400cb019658",
   "metadata": {},
   "outputs": [],
   "source": [
    "## Get model signature\n",
    "# node_series = train_series[0]\n",
    "# future_cov_series = futr_cov[0]\n",
    "# past_cov_series = past_cov[0]\n",
    "\n",
    "# data = {\n",
    "#     'series': [node_series.to_json()],\n",
    "#     'past_covariates': [past_cov_series.to_json()],\n",
    "#     'future_covariates': [future_cov_series.to_json()],\n",
    "#     'n': parameters.FORECAST_HORIZON,\n",
    "#     'num_samples': 200\n",
    "# }\n",
    "\n",
    "# df = pd.DataFrame(data)\n",
    "\n",
    "# ouput_example = 'the endpoint return json as a string'\n",
    "\n",
    "# from mlflow.models import infer_signature\n",
    "# darts_signature = infer_signature(df, ouput_example)\n",
    "# darts_signature"
   ]
  },
  {
   "cell_type": "code",
   "execution_count": null,
   "id": "f03e6094-168c-4641-b9d8-82df2972b97e",
   "metadata": {},
   "outputs": [],
   "source": [
    "## Get latest run\n",
    "# runs = mlflow.search_runs(\n",
    "#     experiment_ids = exp.experiment_id,\n",
    "#     # order_by=['metrics.test_mae']\n",
    "#     order_by=['end_time']\n",
    "#     )\n",
    "\n",
    "# runs.sort_values('end_time', ascending=False, inplace=True)\n",
    "# runs.head()\n",
    "\n",
    "# best_run_id = runs.run_id.iloc[0]\n",
    "# best_run_id\n",
    "\n",
    "# runs['artifact_uri'].iloc[0]\n",
    "\n",
    "# model_path = runs['artifact_uri'].iloc[0] + '/GlobalForecasting'\n",
    "\n",
    "# loaded_model = mlflow.pyfunc.load_model(model_path)"
   ]
  },
  {
   "cell_type": "code",
   "execution_count": null,
   "id": "17ca521e-d82e-4fea-a3e8-3c0d80515c2d",
   "metadata": {},
   "outputs": [],
   "source": []
  },
  {
   "cell_type": "code",
   "execution_count": null,
   "id": "68511db8-1d20-4f0e-a00b-0e344b9e6e31",
   "metadata": {},
   "outputs": [],
   "source": []
  }
 ],
 "metadata": {
  "kernelspec": {
   "display_name": "Python 3 (ipykernel)",
   "language": "python",
   "name": "python3"
  },
  "language_info": {
   "codemirror_mode": {
    "name": "ipython",
    "version": 3
   },
   "file_extension": ".py",
   "mimetype": "text/x-python",
   "name": "python",
   "nbconvert_exporter": "python",
   "pygments_lexer": "ipython3",
   "version": "3.11.10"
  }
 },
 "nbformat": 4,
 "nbformat_minor": 5
}
