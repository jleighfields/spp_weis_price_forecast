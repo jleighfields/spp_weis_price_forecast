{
 "cells": [
  {
   "cell_type": "code",
   "execution_count": 1,
   "id": "d52cf595-9e8a-4d77-8f2a-f83bc5725504",
   "metadata": {},
   "outputs": [],
   "source": [
    "import os\n",
    "import pandas as pd\n",
    "import duckdb\n",
    "\n",
    "import requests\n",
    "from io import StringIO\n",
    "\n",
    "import ibis\n",
    "import ibis.selectors as s\n",
    "from ibis import _\n",
    "ibis.options.interactive = True\n",
    "\n",
    "from neuralforecast import NeuralForecast\n",
    "from neuralforecast.models import TSMixerx, TiDE\n",
    "from neuralforecast.auto import AutoTSMixerx, AutoTiDE\n",
    "\n",
    "# logging\n",
    "import logging\n",
    "\n",
    "# define log\n",
    "logging.basicConfig(level=logging.INFO)\n",
    "log = logging.getLogger(__name__)"
   ]
  },
  {
   "cell_type": "code",
   "execution_count": 2,
   "id": "e9fb2027-6f33-440d-ad6b-b3d3632d8103",
   "metadata": {},
   "outputs": [],
   "source": [
    "os.chdir('../..')"
   ]
  },
  {
   "cell_type": "code",
   "execution_count": null,
   "id": "9231a2b4-5042-475d-97b3-4d01d1ddda38",
   "metadata": {},
   "outputs": [],
   "source": []
  },
  {
   "cell_type": "code",
   "execution_count": 3,
   "id": "5b59c65b-8e78-4e3a-8a2e-fbf009fef686",
   "metadata": {},
   "outputs": [
    {
     "data": {
      "text/plain": [
       "['lmp', 'mtlf', 'mtrf']"
      ]
     },
     "execution_count": 3,
     "metadata": {},
     "output_type": "execute_result"
    }
   ],
   "source": [
    "# connect to database\n",
    "con = ibis.duckdb.connect(\"data/spp.ddb\")\n",
    "con.list_tables()"
   ]
  },
  {
   "cell_type": "code",
   "execution_count": 111,
   "id": "20063522-bf7a-4fec-af44-9caef36e7b14",
   "metadata": {},
   "outputs": [
    {
     "data": {
      "text/html": [
       "<pre style=\"white-space:pre;overflow-x:auto;line-height:normal;font-family:Menlo,'DejaVu Sans Mono',consolas,'Courier New',monospace\">┏━━━━━━━━━━━━━━━━━━━━━┳━━━━━━━━━━━━━━━━━━━━━┳━━━━━━━━━━━━━━━━━━━━━┳━━━━━━━━━━━━━━━━━━━━━━━━━━┳━━━━━━━━━━━━┳━━━━━━━━━━┳━━━━━━━━━━┳━━━━━━━━━━━┳━━━━━━━━━━┓\n",
       "┃<span style=\"font-weight: bold\"> Interval_HE         </span>┃<span style=\"font-weight: bold\"> GMTIntervalEnd_HE   </span>┃<span style=\"font-weight: bold\"> timestamp_mst_HE    </span>┃<span style=\"font-weight: bold\"> Settlement_Location_Name </span>┃<span style=\"font-weight: bold\"> PNODE_Name </span>┃<span style=\"font-weight: bold\"> LMP      </span>┃<span style=\"font-weight: bold\"> MLC      </span>┃<span style=\"font-weight: bold\"> MCC       </span>┃<span style=\"font-weight: bold\"> MEC      </span>┃\n",
       "┡━━━━━━━━━━━━━━━━━━━━━╇━━━━━━━━━━━━━━━━━━━━━╇━━━━━━━━━━━━━━━━━━━━━╇━━━━━━━━━━━━━━━━━━━━━━━━━━╇━━━━━━━━━━━━╇━━━━━━━━━━╇━━━━━━━━━━╇━━━━━━━━━━━╇━━━━━━━━━━┩\n",
       "│ <span style=\"color: #7f7f7f; text-decoration-color: #7f7f7f\">timestamp(6)</span>        │ <span style=\"color: #7f7f7f; text-decoration-color: #7f7f7f\">!timestamp(6)</span>       │ <span style=\"color: #7f7f7f; text-decoration-color: #7f7f7f\">timestamp(6)</span>        │ <span style=\"color: #7f7f7f; text-decoration-color: #7f7f7f\">!string</span>                  │ <span style=\"color: #7f7f7f; text-decoration-color: #7f7f7f\">!string</span>    │ <span style=\"color: #7f7f7f; text-decoration-color: #7f7f7f\">float64</span>  │ <span style=\"color: #7f7f7f; text-decoration-color: #7f7f7f\">float64</span>  │ <span style=\"color: #7f7f7f; text-decoration-color: #7f7f7f\">float64</span>   │ <span style=\"color: #7f7f7f; text-decoration-color: #7f7f7f\">float64</span>  │\n",
       "├─────────────────────┼─────────────────────┼─────────────────────┼──────────────────────────┼────────────┼──────────┼──────────┼───────────┼──────────┤\n",
       "│ <span style=\"color: #800080; text-decoration-color: #800080\">2023-05-02 01:00:00</span> │ <span style=\"color: #800080; text-decoration-color: #800080\">2023-05-02 06:00:00</span> │ <span style=\"color: #800080; text-decoration-color: #800080\">2023-05-01 23:00:00</span> │ <span style=\"color: #008000; text-decoration-color: #008000\">AESO                    </span> │ <span style=\"color: #008000; text-decoration-color: #008000\">AESO      </span> │ <span style=\"color: #008080; text-decoration-color: #008080; font-weight: bold\">0.957908</span> │ <span style=\"color: #008080; text-decoration-color: #008080; font-weight: bold\">0.018525</span> │ <span style=\"color: #008080; text-decoration-color: #008080; font-weight: bold\">-0.114242</span> │ <span style=\"color: #008080; text-decoration-color: #008080; font-weight: bold\">1.053625</span> │\n",
       "│ <span style=\"color: #800080; text-decoration-color: #800080\">2023-05-02 01:00:00</span> │ <span style=\"color: #800080; text-decoration-color: #800080\">2023-05-02 06:00:00</span> │ <span style=\"color: #800080; text-decoration-color: #800080\">2023-05-01 23:00:00</span> │ <span style=\"color: #008000; text-decoration-color: #008000\">AVA                     </span> │ <span style=\"color: #008000; text-decoration-color: #008000\">AVA       </span> │ <span style=\"color: #008080; text-decoration-color: #008080; font-weight: bold\">0.958883</span> │ <span style=\"color: #008080; text-decoration-color: #008080; font-weight: bold\">0.019467</span> │ <span style=\"color: #008080; text-decoration-color: #008080; font-weight: bold\">-0.114242</span> │ <span style=\"color: #008080; text-decoration-color: #008080; font-weight: bold\">1.053658</span> │\n",
       "│ <span style=\"color: #800080; text-decoration-color: #800080\">2023-05-02 01:00:00</span> │ <span style=\"color: #800080; text-decoration-color: #800080\">2023-05-02 06:00:00</span> │ <span style=\"color: #800080; text-decoration-color: #800080\">2023-05-01 23:00:00</span> │ <span style=\"color: #008000; text-decoration-color: #008000\">AVRN                    </span> │ <span style=\"color: #008000; text-decoration-color: #008000\">AVRN      </span> │ <span style=\"color: #008080; text-decoration-color: #008080; font-weight: bold\">0.961042</span> │ <span style=\"color: #008080; text-decoration-color: #008080; font-weight: bold\">0.021650</span> │ <span style=\"color: #008080; text-decoration-color: #008080; font-weight: bold\">-0.114242</span> │ <span style=\"color: #008080; text-decoration-color: #008080; font-weight: bold\">1.053633</span> │\n",
       "│ <span style=\"color: #800080; text-decoration-color: #800080\">2023-05-02 01:00:00</span> │ <span style=\"color: #800080; text-decoration-color: #800080\">2023-05-02 06:00:00</span> │ <span style=\"color: #800080; text-decoration-color: #800080\">2023-05-01 23:00:00</span> │ <span style=\"color: #008000; text-decoration-color: #008000\">AZPS                    </span> │ <span style=\"color: #008000; text-decoration-color: #008000\">APS       </span> │ <span style=\"color: #008080; text-decoration-color: #008080; font-weight: bold\">0.975308</span> │ <span style=\"color: #008080; text-decoration-color: #008080; font-weight: bold\">0.035892</span> │ <span style=\"color: #008080; text-decoration-color: #008080; font-weight: bold\">-0.114242</span> │ <span style=\"color: #008080; text-decoration-color: #008080; font-weight: bold\">1.053658</span> │\n",
       "│ <span style=\"color: #800080; text-decoration-color: #800080\">2023-05-02 01:00:00</span> │ <span style=\"color: #800080; text-decoration-color: #800080\">2023-05-02 06:00:00</span> │ <span style=\"color: #800080; text-decoration-color: #800080\">2023-05-01 23:00:00</span> │ <span style=\"color: #008000; text-decoration-color: #008000\">BANC                    </span> │ <span style=\"color: #008000; text-decoration-color: #008000\">BANC      </span> │ <span style=\"color: #008080; text-decoration-color: #008080; font-weight: bold\">0.966342</span> │ <span style=\"color: #008080; text-decoration-color: #008080; font-weight: bold\">0.026958</span> │ <span style=\"color: #008080; text-decoration-color: #008080; font-weight: bold\">-0.114242</span> │ <span style=\"color: #008080; text-decoration-color: #008080; font-weight: bold\">1.053625</span> │\n",
       "│ <span style=\"color: #800080; text-decoration-color: #800080\">2023-05-02 01:00:00</span> │ <span style=\"color: #800080; text-decoration-color: #800080\">2023-05-02 06:00:00</span> │ <span style=\"color: #800080; text-decoration-color: #800080\">2023-05-01 23:00:00</span> │ <span style=\"color: #008000; text-decoration-color: #008000\">BCHA                    </span> │ <span style=\"color: #008000; text-decoration-color: #008000\">BCHA      </span> │ <span style=\"color: #008080; text-decoration-color: #008080; font-weight: bold\">0.959783</span> │ <span style=\"color: #008080; text-decoration-color: #008080; font-weight: bold\">0.020392</span> │ <span style=\"color: #008080; text-decoration-color: #008080; font-weight: bold\">-0.114242</span> │ <span style=\"color: #008080; text-decoration-color: #008080; font-weight: bold\">1.053633</span> │\n",
       "│ <span style=\"color: #800080; text-decoration-color: #800080\">2023-05-02 01:00:00</span> │ <span style=\"color: #800080; text-decoration-color: #800080\">2023-05-02 06:00:00</span> │ <span style=\"color: #800080; text-decoration-color: #800080\">2023-05-01 23:00:00</span> │ <span style=\"color: #008000; text-decoration-color: #008000\">BPA                     </span> │ <span style=\"color: #008000; text-decoration-color: #008000\">BPA       </span> │ <span style=\"color: #008080; text-decoration-color: #008080; font-weight: bold\">0.960842</span> │ <span style=\"color: #008080; text-decoration-color: #008080; font-weight: bold\">0.021442</span> │ <span style=\"color: #008080; text-decoration-color: #008080; font-weight: bold\">-0.114242</span> │ <span style=\"color: #008080; text-decoration-color: #008080; font-weight: bold\">1.053642</span> │\n",
       "│ <span style=\"color: #800080; text-decoration-color: #800080\">2023-05-02 01:00:00</span> │ <span style=\"color: #800080; text-decoration-color: #800080\">2023-05-02 06:00:00</span> │ <span style=\"color: #800080; text-decoration-color: #800080\">2023-05-01 23:00:00</span> │ <span style=\"color: #008000; text-decoration-color: #008000\">CEN                     </span> │ <span style=\"color: #008000; text-decoration-color: #008000\">CEN       </span> │ <span style=\"color: #008080; text-decoration-color: #008080; font-weight: bold\">0.973400</span> │ <span style=\"color: #008080; text-decoration-color: #008080; font-weight: bold\">0.034000</span> │ <span style=\"color: #008080; text-decoration-color: #008080; font-weight: bold\">-0.114242</span> │ <span style=\"color: #008080; text-decoration-color: #008080; font-weight: bold\">1.053642</span> │\n",
       "│ <span style=\"color: #800080; text-decoration-color: #800080\">2023-05-02 01:00:00</span> │ <span style=\"color: #800080; text-decoration-color: #800080\">2023-05-02 06:00:00</span> │ <span style=\"color: #800080; text-decoration-color: #800080\">2023-05-01 23:00:00</span> │ <span style=\"color: #008000; text-decoration-color: #008000\">CHPD                    </span> │ <span style=\"color: #008000; text-decoration-color: #008000\">CHPD      </span> │ <span style=\"color: #008080; text-decoration-color: #008080; font-weight: bold\">0.960283</span> │ <span style=\"color: #008080; text-decoration-color: #008080; font-weight: bold\">0.020883</span> │ <span style=\"color: #008080; text-decoration-color: #008080; font-weight: bold\">-0.114242</span> │ <span style=\"color: #008080; text-decoration-color: #008080; font-weight: bold\">1.053642</span> │\n",
       "│ <span style=\"color: #800080; text-decoration-color: #800080\">2023-05-02 01:00:00</span> │ <span style=\"color: #800080; text-decoration-color: #800080\">2023-05-02 06:00:00</span> │ <span style=\"color: #800080; text-decoration-color: #800080\">2023-05-01 23:00:00</span> │ <span style=\"color: #008000; text-decoration-color: #008000\">CISO                    </span> │ <span style=\"color: #008000; text-decoration-color: #008000\">CISO      </span> │ <span style=\"color: #008080; text-decoration-color: #008080; font-weight: bold\">0.968575</span> │ <span style=\"color: #008080; text-decoration-color: #008080; font-weight: bold\">0.029175</span> │ <span style=\"color: #008080; text-decoration-color: #008080; font-weight: bold\">-0.114242</span> │ <span style=\"color: #008080; text-decoration-color: #008080; font-weight: bold\">1.053642</span> │\n",
       "│ <span style=\"color: #7f7f7f; text-decoration-color: #7f7f7f\">…</span>                   │ <span style=\"color: #7f7f7f; text-decoration-color: #7f7f7f\">…</span>                   │ <span style=\"color: #7f7f7f; text-decoration-color: #7f7f7f\">…</span>                   │ <span style=\"color: #7f7f7f; text-decoration-color: #7f7f7f\">…</span>                        │ <span style=\"color: #7f7f7f; text-decoration-color: #7f7f7f\">…</span>          │        <span style=\"color: #7f7f7f; text-decoration-color: #7f7f7f\">…</span> │        <span style=\"color: #7f7f7f; text-decoration-color: #7f7f7f\">…</span> │         <span style=\"color: #7f7f7f; text-decoration-color: #7f7f7f\">…</span> │        <span style=\"color: #7f7f7f; text-decoration-color: #7f7f7f\">…</span> │\n",
       "└─────────────────────┴─────────────────────┴─────────────────────┴──────────────────────────┴────────────┴──────────┴──────────┴───────────┴──────────┘\n",
       "</pre>\n"
      ],
      "text/plain": [
       "┏━━━━━━━━━━━━━━━━━━━━━┳━━━━━━━━━━━━━━━━━━━━━┳━━━━━━━━━━━━━━━━━━━━━┳━━━━━━━━━━━━━━━━━━━━━━━━━━┳━━━━━━━━━━━━┳━━━━━━━━━━┳━━━━━━━━━━┳━━━━━━━━━━━┳━━━━━━━━━━┓\n",
       "┃\u001b[1m \u001b[0m\u001b[1mInterval_HE\u001b[0m\u001b[1m        \u001b[0m\u001b[1m \u001b[0m┃\u001b[1m \u001b[0m\u001b[1mGMTIntervalEnd_HE\u001b[0m\u001b[1m  \u001b[0m\u001b[1m \u001b[0m┃\u001b[1m \u001b[0m\u001b[1mtimestamp_mst_HE\u001b[0m\u001b[1m   \u001b[0m\u001b[1m \u001b[0m┃\u001b[1m \u001b[0m\u001b[1mSettlement_Location_Name\u001b[0m\u001b[1m \u001b[0m┃\u001b[1m \u001b[0m\u001b[1mPNODE_Name\u001b[0m\u001b[1m \u001b[0m┃\u001b[1m \u001b[0m\u001b[1mLMP\u001b[0m\u001b[1m     \u001b[0m\u001b[1m \u001b[0m┃\u001b[1m \u001b[0m\u001b[1mMLC\u001b[0m\u001b[1m     \u001b[0m\u001b[1m \u001b[0m┃\u001b[1m \u001b[0m\u001b[1mMCC\u001b[0m\u001b[1m      \u001b[0m\u001b[1m \u001b[0m┃\u001b[1m \u001b[0m\u001b[1mMEC\u001b[0m\u001b[1m     \u001b[0m\u001b[1m \u001b[0m┃\n",
       "┡━━━━━━━━━━━━━━━━━━━━━╇━━━━━━━━━━━━━━━━━━━━━╇━━━━━━━━━━━━━━━━━━━━━╇━━━━━━━━━━━━━━━━━━━━━━━━━━╇━━━━━━━━━━━━╇━━━━━━━━━━╇━━━━━━━━━━╇━━━━━━━━━━━╇━━━━━━━━━━┩\n",
       "│ \u001b[2mtimestamp(6)\u001b[0m        │ \u001b[2m!timestamp(6)\u001b[0m       │ \u001b[2mtimestamp(6)\u001b[0m        │ \u001b[2m!string\u001b[0m                  │ \u001b[2m!string\u001b[0m    │ \u001b[2mfloat64\u001b[0m  │ \u001b[2mfloat64\u001b[0m  │ \u001b[2mfloat64\u001b[0m   │ \u001b[2mfloat64\u001b[0m  │\n",
       "├─────────────────────┼─────────────────────┼─────────────────────┼──────────────────────────┼────────────┼──────────┼──────────┼───────────┼──────────┤\n",
       "│ \u001b[35m2023-05-02 01:00:00\u001b[0m │ \u001b[35m2023-05-02 06:00:00\u001b[0m │ \u001b[35m2023-05-01 23:00:00\u001b[0m │ \u001b[32mAESO                    \u001b[0m │ \u001b[32mAESO      \u001b[0m │ \u001b[1;36m0.957908\u001b[0m │ \u001b[1;36m0.018525\u001b[0m │ \u001b[1;36m-0.114242\u001b[0m │ \u001b[1;36m1.053625\u001b[0m │\n",
       "│ \u001b[35m2023-05-02 01:00:00\u001b[0m │ \u001b[35m2023-05-02 06:00:00\u001b[0m │ \u001b[35m2023-05-01 23:00:00\u001b[0m │ \u001b[32mAVA                     \u001b[0m │ \u001b[32mAVA       \u001b[0m │ \u001b[1;36m0.958883\u001b[0m │ \u001b[1;36m0.019467\u001b[0m │ \u001b[1;36m-0.114242\u001b[0m │ \u001b[1;36m1.053658\u001b[0m │\n",
       "│ \u001b[35m2023-05-02 01:00:00\u001b[0m │ \u001b[35m2023-05-02 06:00:00\u001b[0m │ \u001b[35m2023-05-01 23:00:00\u001b[0m │ \u001b[32mAVRN                    \u001b[0m │ \u001b[32mAVRN      \u001b[0m │ \u001b[1;36m0.961042\u001b[0m │ \u001b[1;36m0.021650\u001b[0m │ \u001b[1;36m-0.114242\u001b[0m │ \u001b[1;36m1.053633\u001b[0m │\n",
       "│ \u001b[35m2023-05-02 01:00:00\u001b[0m │ \u001b[35m2023-05-02 06:00:00\u001b[0m │ \u001b[35m2023-05-01 23:00:00\u001b[0m │ \u001b[32mAZPS                    \u001b[0m │ \u001b[32mAPS       \u001b[0m │ \u001b[1;36m0.975308\u001b[0m │ \u001b[1;36m0.035892\u001b[0m │ \u001b[1;36m-0.114242\u001b[0m │ \u001b[1;36m1.053658\u001b[0m │\n",
       "│ \u001b[35m2023-05-02 01:00:00\u001b[0m │ \u001b[35m2023-05-02 06:00:00\u001b[0m │ \u001b[35m2023-05-01 23:00:00\u001b[0m │ \u001b[32mBANC                    \u001b[0m │ \u001b[32mBANC      \u001b[0m │ \u001b[1;36m0.966342\u001b[0m │ \u001b[1;36m0.026958\u001b[0m │ \u001b[1;36m-0.114242\u001b[0m │ \u001b[1;36m1.053625\u001b[0m │\n",
       "│ \u001b[35m2023-05-02 01:00:00\u001b[0m │ \u001b[35m2023-05-02 06:00:00\u001b[0m │ \u001b[35m2023-05-01 23:00:00\u001b[0m │ \u001b[32mBCHA                    \u001b[0m │ \u001b[32mBCHA      \u001b[0m │ \u001b[1;36m0.959783\u001b[0m │ \u001b[1;36m0.020392\u001b[0m │ \u001b[1;36m-0.114242\u001b[0m │ \u001b[1;36m1.053633\u001b[0m │\n",
       "│ \u001b[35m2023-05-02 01:00:00\u001b[0m │ \u001b[35m2023-05-02 06:00:00\u001b[0m │ \u001b[35m2023-05-01 23:00:00\u001b[0m │ \u001b[32mBPA                     \u001b[0m │ \u001b[32mBPA       \u001b[0m │ \u001b[1;36m0.960842\u001b[0m │ \u001b[1;36m0.021442\u001b[0m │ \u001b[1;36m-0.114242\u001b[0m │ \u001b[1;36m1.053642\u001b[0m │\n",
       "│ \u001b[35m2023-05-02 01:00:00\u001b[0m │ \u001b[35m2023-05-02 06:00:00\u001b[0m │ \u001b[35m2023-05-01 23:00:00\u001b[0m │ \u001b[32mCEN                     \u001b[0m │ \u001b[32mCEN       \u001b[0m │ \u001b[1;36m0.973400\u001b[0m │ \u001b[1;36m0.034000\u001b[0m │ \u001b[1;36m-0.114242\u001b[0m │ \u001b[1;36m1.053642\u001b[0m │\n",
       "│ \u001b[35m2023-05-02 01:00:00\u001b[0m │ \u001b[35m2023-05-02 06:00:00\u001b[0m │ \u001b[35m2023-05-01 23:00:00\u001b[0m │ \u001b[32mCHPD                    \u001b[0m │ \u001b[32mCHPD      \u001b[0m │ \u001b[1;36m0.960283\u001b[0m │ \u001b[1;36m0.020883\u001b[0m │ \u001b[1;36m-0.114242\u001b[0m │ \u001b[1;36m1.053642\u001b[0m │\n",
       "│ \u001b[35m2023-05-02 01:00:00\u001b[0m │ \u001b[35m2023-05-02 06:00:00\u001b[0m │ \u001b[35m2023-05-01 23:00:00\u001b[0m │ \u001b[32mCISO                    \u001b[0m │ \u001b[32mCISO      \u001b[0m │ \u001b[1;36m0.968575\u001b[0m │ \u001b[1;36m0.029175\u001b[0m │ \u001b[1;36m-0.114242\u001b[0m │ \u001b[1;36m1.053642\u001b[0m │\n",
       "│ \u001b[2m…\u001b[0m                   │ \u001b[2m…\u001b[0m                   │ \u001b[2m…\u001b[0m                   │ \u001b[2m…\u001b[0m                        │ \u001b[2m…\u001b[0m          │        \u001b[2m…\u001b[0m │        \u001b[2m…\u001b[0m │         \u001b[2m…\u001b[0m │        \u001b[2m…\u001b[0m │\n",
       "└─────────────────────┴─────────────────────┴─────────────────────┴──────────────────────────┴────────────┴──────────┴──────────┴───────────┴──────────┘"
      ]
     },
     "execution_count": 111,
     "metadata": {},
     "output_type": "execute_result"
    }
   ],
   "source": [
    "lmp = con.table('lmp')\n",
    "lmp"
   ]
  },
  {
   "cell_type": "code",
   "execution_count": 112,
   "id": "ee90b120-f45a-417f-a4aa-04b7bb3a30cc",
   "metadata": {},
   "outputs": [],
   "source": [
    "lmp = lmp.filter(_.Settlement_Location_Name.contains('PSCO'))"
   ]
  },
  {
   "cell_type": "code",
   "execution_count": 113,
   "id": "a184d8c8-262f-427d-a3a8-296931d7f498",
   "metadata": {},
   "outputs": [
    {
     "data": {
      "text/plain": [
       "0"
      ]
     },
     "execution_count": 113,
     "metadata": {},
     "output_type": "execute_result"
    }
   ],
   "source": [
    "lmp.to_pandas()[['GMTIntervalEnd_HE', 'Settlement_Location_Name']].duplicated().sum()"
   ]
  },
  {
   "cell_type": "code",
   "execution_count": 115,
   "id": "4437a273-e2c7-4100-8470-9c63e3879809",
   "metadata": {},
   "outputs": [
    {
     "data": {
      "text/html": [
       "<pre style=\"white-space:pre;overflow-x:auto;line-height:normal;font-family:Menlo,'DejaVu Sans Mono',consolas,'Courier New',monospace\">┏━━━━━━━━━━━━━━━━━━━━━┳━━━━━━━━━━━━━━━━━━━━━┳━━━━━━━━━━━┓\n",
       "┃<span style=\"font-weight: bold\"> unique_id           </span>┃<span style=\"font-weight: bold\"> ds                  </span>┃<span style=\"font-weight: bold\"> y         </span>┃\n",
       "┡━━━━━━━━━━━━━━━━━━━━━╇━━━━━━━━━━━━━━━━━━━━━╇━━━━━━━━━━━┩\n",
       "│ <span style=\"color: #7f7f7f; text-decoration-color: #7f7f7f\">!string</span>             │ <span style=\"color: #7f7f7f; text-decoration-color: #7f7f7f\">timestamp(6)</span>        │ <span style=\"color: #7f7f7f; text-decoration-color: #7f7f7f\">float64</span>   │\n",
       "├─────────────────────┼─────────────────────┼───────────┤\n",
       "│ <span style=\"color: #008000; text-decoration-color: #008000\">PSCO.BHCE.AIRPORTDL</span> │ <span style=\"color: #800080; text-decoration-color: #800080\">2023-05-01 23:00:00</span> │  <span style=\"color: #008080; text-decoration-color: #008080; font-weight: bold\">0.900342</span> │\n",
       "│ <span style=\"color: #008000; text-decoration-color: #008000\">PSCO.BHCE.AIRPORTDL</span> │ <span style=\"color: #800080; text-decoration-color: #800080\">2023-05-02 00:00:00</span> │  <span style=\"color: #008080; text-decoration-color: #008080; font-weight: bold\">0.904992</span> │\n",
       "│ <span style=\"color: #008000; text-decoration-color: #008000\">PSCO.BHCE.AIRPORTDL</span> │ <span style=\"color: #800080; text-decoration-color: #800080\">2023-05-02 01:00:00</span> │  <span style=\"color: #008080; text-decoration-color: #008080; font-weight: bold\">2.601358</span> │\n",
       "│ <span style=\"color: #008000; text-decoration-color: #008000\">PSCO.BHCE.AIRPORTDL</span> │ <span style=\"color: #800080; text-decoration-color: #800080\">2023-05-02 02:00:00</span> │ <span style=\"color: #008080; text-decoration-color: #008080; font-weight: bold\">13.136867</span> │\n",
       "│ <span style=\"color: #008000; text-decoration-color: #008000\">PSCO.BHCE.AIRPORTDL</span> │ <span style=\"color: #800080; text-decoration-color: #800080\">2023-05-02 03:00:00</span> │ <span style=\"color: #008080; text-decoration-color: #008080; font-weight: bold\">10.744717</span> │\n",
       "│ <span style=\"color: #008000; text-decoration-color: #008000\">PSCO.BHCE.AIRPORTDL</span> │ <span style=\"color: #800080; text-decoration-color: #800080\">2023-05-02 04:00:00</span> │ <span style=\"color: #008080; text-decoration-color: #008080; font-weight: bold\">13.265067</span> │\n",
       "│ <span style=\"color: #008000; text-decoration-color: #008000\">PSCO.BHCE.AIRPORTDL</span> │ <span style=\"color: #800080; text-decoration-color: #800080\">2023-05-02 05:00:00</span> │ <span style=\"color: #008080; text-decoration-color: #008080; font-weight: bold\">13.555108</span> │\n",
       "│ <span style=\"color: #008000; text-decoration-color: #008000\">PSCO.BHCE.AIRPORTDL</span> │ <span style=\"color: #800080; text-decoration-color: #800080\">2023-05-02 06:00:00</span> │ <span style=\"color: #008080; text-decoration-color: #008080; font-weight: bold\">15.721517</span> │\n",
       "│ <span style=\"color: #008000; text-decoration-color: #008000\">PSCO.BHCE.AIRPORTDL</span> │ <span style=\"color: #800080; text-decoration-color: #800080\">2023-05-02 07:00:00</span> │ <span style=\"color: #008080; text-decoration-color: #008080; font-weight: bold\">17.135467</span> │\n",
       "│ <span style=\"color: #008000; text-decoration-color: #008000\">PSCO.BHCE.AIRPORTDL</span> │ <span style=\"color: #800080; text-decoration-color: #800080\">2023-05-02 08:00:00</span> │ <span style=\"color: #008080; text-decoration-color: #008080; font-weight: bold\">13.175133</span> │\n",
       "│ <span style=\"color: #7f7f7f; text-decoration-color: #7f7f7f\">…</span>                   │ <span style=\"color: #7f7f7f; text-decoration-color: #7f7f7f\">…</span>                   │         <span style=\"color: #7f7f7f; text-decoration-color: #7f7f7f\">…</span> │\n",
       "└─────────────────────┴─────────────────────┴───────────┘\n",
       "</pre>\n"
      ],
      "text/plain": [
       "┏━━━━━━━━━━━━━━━━━━━━━┳━━━━━━━━━━━━━━━━━━━━━┳━━━━━━━━━━━┓\n",
       "┃\u001b[1m \u001b[0m\u001b[1munique_id\u001b[0m\u001b[1m          \u001b[0m\u001b[1m \u001b[0m┃\u001b[1m \u001b[0m\u001b[1mds\u001b[0m\u001b[1m                 \u001b[0m\u001b[1m \u001b[0m┃\u001b[1m \u001b[0m\u001b[1my\u001b[0m\u001b[1m        \u001b[0m\u001b[1m \u001b[0m┃\n",
       "┡━━━━━━━━━━━━━━━━━━━━━╇━━━━━━━━━━━━━━━━━━━━━╇━━━━━━━━━━━┩\n",
       "│ \u001b[2m!string\u001b[0m             │ \u001b[2mtimestamp(6)\u001b[0m        │ \u001b[2mfloat64\u001b[0m   │\n",
       "├─────────────────────┼─────────────────────┼───────────┤\n",
       "│ \u001b[32mPSCO.BHCE.AIRPORTDL\u001b[0m │ \u001b[35m2023-05-01 23:00:00\u001b[0m │  \u001b[1;36m0.900342\u001b[0m │\n",
       "│ \u001b[32mPSCO.BHCE.AIRPORTDL\u001b[0m │ \u001b[35m2023-05-02 00:00:00\u001b[0m │  \u001b[1;36m0.904992\u001b[0m │\n",
       "│ \u001b[32mPSCO.BHCE.AIRPORTDL\u001b[0m │ \u001b[35m2023-05-02 01:00:00\u001b[0m │  \u001b[1;36m2.601358\u001b[0m │\n",
       "│ \u001b[32mPSCO.BHCE.AIRPORTDL\u001b[0m │ \u001b[35m2023-05-02 02:00:00\u001b[0m │ \u001b[1;36m13.136867\u001b[0m │\n",
       "│ \u001b[32mPSCO.BHCE.AIRPORTDL\u001b[0m │ \u001b[35m2023-05-02 03:00:00\u001b[0m │ \u001b[1;36m10.744717\u001b[0m │\n",
       "│ \u001b[32mPSCO.BHCE.AIRPORTDL\u001b[0m │ \u001b[35m2023-05-02 04:00:00\u001b[0m │ \u001b[1;36m13.265067\u001b[0m │\n",
       "│ \u001b[32mPSCO.BHCE.AIRPORTDL\u001b[0m │ \u001b[35m2023-05-02 05:00:00\u001b[0m │ \u001b[1;36m13.555108\u001b[0m │\n",
       "│ \u001b[32mPSCO.BHCE.AIRPORTDL\u001b[0m │ \u001b[35m2023-05-02 06:00:00\u001b[0m │ \u001b[1;36m15.721517\u001b[0m │\n",
       "│ \u001b[32mPSCO.BHCE.AIRPORTDL\u001b[0m │ \u001b[35m2023-05-02 07:00:00\u001b[0m │ \u001b[1;36m17.135467\u001b[0m │\n",
       "│ \u001b[32mPSCO.BHCE.AIRPORTDL\u001b[0m │ \u001b[35m2023-05-02 08:00:00\u001b[0m │ \u001b[1;36m13.175133\u001b[0m │\n",
       "│ \u001b[2m…\u001b[0m                   │ \u001b[2m…\u001b[0m                   │         \u001b[2m…\u001b[0m │\n",
       "└─────────────────────┴─────────────────────┴───────────┘"
      ]
     },
     "execution_count": 115,
     "metadata": {},
     "output_type": "execute_result"
    }
   ],
   "source": [
    "drop_cols = [\n",
    "    'Interval_HE', 'GMTIntervalEnd_HE', 'timestamp_mst_HE',\n",
    "    'Settlement_Location_Name', 'PNODE_Name', \n",
    "    'LMP', 'MLC', 'MCC', 'MEC'\n",
    "]\n",
    "\n",
    "lmp = (\n",
    "    lmp\n",
    "    .mutate(unique_id = _.Settlement_Location_Name )\n",
    "    .mutate(ds = _.timestamp_mst_HE)\n",
    "    .mutate(y = _.LMP) \n",
    "    .drop(drop_cols) \n",
    "    .order_by(['unique_id', 'ds'])\n",
    ")\n",
    "\n",
    "lmp"
   ]
  },
  {
   "cell_type": "code",
   "execution_count": 116,
   "id": "66587731-3255-4ec6-8e3e-ed59ce3466d7",
   "metadata": {},
   "outputs": [
    {
     "data": {
      "text/html": [
       "<pre style=\"white-space:pre;overflow-x:auto;line-height:normal;font-family:Menlo,'DejaVu Sans Mono',consolas,'Courier New',monospace\">┏━━━━━━━━━━━━━━━━━━━━━┳━━━━━━━━━━━━━━━━━━━━━┳━━━━━━━━━━━━━━━━━━━━━┳━━━━━━━━━━━━━━━━━━┳━━━━━━━━━━━━━━━━━━━┓\n",
       "┃<span style=\"font-weight: bold\"> Interval            </span>┃<span style=\"font-weight: bold\"> GMTIntervalEnd      </span>┃<span style=\"font-weight: bold\"> timestamp_mst       </span>┃<span style=\"font-weight: bold\"> Wind_Forecast_MW </span>┃<span style=\"font-weight: bold\"> Solar_Forecast_MW </span>┃\n",
       "┡━━━━━━━━━━━━━━━━━━━━━╇━━━━━━━━━━━━━━━━━━━━━╇━━━━━━━━━━━━━━━━━━━━━╇━━━━━━━━━━━━━━━━━━╇━━━━━━━━━━━━━━━━━━━┩\n",
       "│ <span style=\"color: #7f7f7f; text-decoration-color: #7f7f7f\">timestamp(6)</span>        │ <span style=\"color: #7f7f7f; text-decoration-color: #7f7f7f\">!timestamp(6)</span>       │ <span style=\"color: #7f7f7f; text-decoration-color: #7f7f7f\">timestamp(6)</span>        │ <span style=\"color: #7f7f7f; text-decoration-color: #7f7f7f\">float64</span>          │ <span style=\"color: #7f7f7f; text-decoration-color: #7f7f7f\">float64</span>           │\n",
       "├─────────────────────┼─────────────────────┼─────────────────────┼──────────────────┼───────────────────┤\n",
       "│ <span style=\"color: #800080; text-decoration-color: #800080\">2023-05-01 01:00:00</span> │ <span style=\"color: #800080; text-decoration-color: #800080\">2023-05-01 06:00:00</span> │ <span style=\"color: #800080; text-decoration-color: #800080\">2023-04-30 23:00:00</span> │          <span style=\"color: #008080; text-decoration-color: #008080; font-weight: bold\">2085.52</span> │              <span style=\"color: #008080; text-decoration-color: #008080; font-weight: bold\">0.00</span> │\n",
       "│ <span style=\"color: #800080; text-decoration-color: #800080\">2023-05-01 02:00:00</span> │ <span style=\"color: #800080; text-decoration-color: #800080\">2023-05-01 07:00:00</span> │ <span style=\"color: #800080; text-decoration-color: #800080\">2023-05-01 00:00:00</span> │          <span style=\"color: #008080; text-decoration-color: #008080; font-weight: bold\">2549.47</span> │              <span style=\"color: #008080; text-decoration-color: #008080; font-weight: bold\">0.00</span> │\n",
       "│ <span style=\"color: #800080; text-decoration-color: #800080\">2023-05-01 03:00:00</span> │ <span style=\"color: #800080; text-decoration-color: #800080\">2023-05-01 08:00:00</span> │ <span style=\"color: #800080; text-decoration-color: #800080\">2023-05-01 01:00:00</span> │          <span style=\"color: #008080; text-decoration-color: #008080; font-weight: bold\">3017.06</span> │              <span style=\"color: #008080; text-decoration-color: #008080; font-weight: bold\">0.00</span> │\n",
       "│ <span style=\"color: #800080; text-decoration-color: #800080\">2023-05-01 04:00:00</span> │ <span style=\"color: #800080; text-decoration-color: #800080\">2023-05-01 09:00:00</span> │ <span style=\"color: #800080; text-decoration-color: #800080\">2023-05-01 02:00:00</span> │          <span style=\"color: #008080; text-decoration-color: #008080; font-weight: bold\">3213.45</span> │              <span style=\"color: #008080; text-decoration-color: #008080; font-weight: bold\">0.00</span> │\n",
       "│ <span style=\"color: #800080; text-decoration-color: #800080\">2023-05-01 05:00:00</span> │ <span style=\"color: #800080; text-decoration-color: #800080\">2023-05-01 10:00:00</span> │ <span style=\"color: #800080; text-decoration-color: #800080\">2023-05-01 03:00:00</span> │          <span style=\"color: #008080; text-decoration-color: #008080; font-weight: bold\">2723.32</span> │              <span style=\"color: #008080; text-decoration-color: #008080; font-weight: bold\">0.00</span> │\n",
       "│ <span style=\"color: #800080; text-decoration-color: #800080\">2023-05-01 06:00:00</span> │ <span style=\"color: #800080; text-decoration-color: #800080\">2023-05-01 11:00:00</span> │ <span style=\"color: #800080; text-decoration-color: #800080\">2023-05-01 04:00:00</span> │          <span style=\"color: #008080; text-decoration-color: #008080; font-weight: bold\">2574.19</span> │              <span style=\"color: #008080; text-decoration-color: #008080; font-weight: bold\">0.00</span> │\n",
       "│ <span style=\"color: #800080; text-decoration-color: #800080\">2023-05-01 07:00:00</span> │ <span style=\"color: #800080; text-decoration-color: #800080\">2023-05-01 12:00:00</span> │ <span style=\"color: #800080; text-decoration-color: #800080\">2023-05-01 05:00:00</span> │          <span style=\"color: #008080; text-decoration-color: #008080; font-weight: bold\">2499.79</span> │              <span style=\"color: #008080; text-decoration-color: #008080; font-weight: bold\">0.62</span> │\n",
       "│ <span style=\"color: #800080; text-decoration-color: #800080\">2023-05-01 08:00:00</span> │ <span style=\"color: #800080; text-decoration-color: #800080\">2023-05-01 13:00:00</span> │ <span style=\"color: #800080; text-decoration-color: #800080\">2023-05-01 06:00:00</span> │          <span style=\"color: #008080; text-decoration-color: #008080; font-weight: bold\">2070.59</span> │             <span style=\"color: #008080; text-decoration-color: #008080; font-weight: bold\">55.57</span> │\n",
       "│ <span style=\"color: #800080; text-decoration-color: #800080\">2023-05-01 09:00:00</span> │ <span style=\"color: #800080; text-decoration-color: #800080\">2023-05-01 14:00:00</span> │ <span style=\"color: #800080; text-decoration-color: #800080\">2023-05-01 07:00:00</span> │          <span style=\"color: #008080; text-decoration-color: #008080; font-weight: bold\">1672.67</span> │            <span style=\"color: #008080; text-decoration-color: #008080; font-weight: bold\">259.53</span> │\n",
       "│ <span style=\"color: #800080; text-decoration-color: #800080\">2023-05-01 10:00:00</span> │ <span style=\"color: #800080; text-decoration-color: #800080\">2023-05-01 15:00:00</span> │ <span style=\"color: #800080; text-decoration-color: #800080\">2023-05-01 08:00:00</span> │           <span style=\"color: #008080; text-decoration-color: #008080; font-weight: bold\">956.07</span> │           <span style=\"color: #008080; text-decoration-color: #008080; font-weight: bold\">1015.92</span> │\n",
       "│ <span style=\"color: #7f7f7f; text-decoration-color: #7f7f7f\">…</span>                   │ <span style=\"color: #7f7f7f; text-decoration-color: #7f7f7f\">…</span>                   │ <span style=\"color: #7f7f7f; text-decoration-color: #7f7f7f\">…</span>                   │                <span style=\"color: #7f7f7f; text-decoration-color: #7f7f7f\">…</span> │                 <span style=\"color: #7f7f7f; text-decoration-color: #7f7f7f\">…</span> │\n",
       "└─────────────────────┴─────────────────────┴─────────────────────┴──────────────────┴───────────────────┘\n",
       "</pre>\n"
      ],
      "text/plain": [
       "┏━━━━━━━━━━━━━━━━━━━━━┳━━━━━━━━━━━━━━━━━━━━━┳━━━━━━━━━━━━━━━━━━━━━┳━━━━━━━━━━━━━━━━━━┳━━━━━━━━━━━━━━━━━━━┓\n",
       "┃\u001b[1m \u001b[0m\u001b[1mInterval\u001b[0m\u001b[1m           \u001b[0m\u001b[1m \u001b[0m┃\u001b[1m \u001b[0m\u001b[1mGMTIntervalEnd\u001b[0m\u001b[1m     \u001b[0m\u001b[1m \u001b[0m┃\u001b[1m \u001b[0m\u001b[1mtimestamp_mst\u001b[0m\u001b[1m      \u001b[0m\u001b[1m \u001b[0m┃\u001b[1m \u001b[0m\u001b[1mWind_Forecast_MW\u001b[0m\u001b[1m \u001b[0m┃\u001b[1m \u001b[0m\u001b[1mSolar_Forecast_MW\u001b[0m\u001b[1m \u001b[0m┃\n",
       "┡━━━━━━━━━━━━━━━━━━━━━╇━━━━━━━━━━━━━━━━━━━━━╇━━━━━━━━━━━━━━━━━━━━━╇━━━━━━━━━━━━━━━━━━╇━━━━━━━━━━━━━━━━━━━┩\n",
       "│ \u001b[2mtimestamp(6)\u001b[0m        │ \u001b[2m!timestamp(6)\u001b[0m       │ \u001b[2mtimestamp(6)\u001b[0m        │ \u001b[2mfloat64\u001b[0m          │ \u001b[2mfloat64\u001b[0m           │\n",
       "├─────────────────────┼─────────────────────┼─────────────────────┼──────────────────┼───────────────────┤\n",
       "│ \u001b[35m2023-05-01 01:00:00\u001b[0m │ \u001b[35m2023-05-01 06:00:00\u001b[0m │ \u001b[35m2023-04-30 23:00:00\u001b[0m │          \u001b[1;36m2085.52\u001b[0m │              \u001b[1;36m0.00\u001b[0m │\n",
       "│ \u001b[35m2023-05-01 02:00:00\u001b[0m │ \u001b[35m2023-05-01 07:00:00\u001b[0m │ \u001b[35m2023-05-01 00:00:00\u001b[0m │          \u001b[1;36m2549.47\u001b[0m │              \u001b[1;36m0.00\u001b[0m │\n",
       "│ \u001b[35m2023-05-01 03:00:00\u001b[0m │ \u001b[35m2023-05-01 08:00:00\u001b[0m │ \u001b[35m2023-05-01 01:00:00\u001b[0m │          \u001b[1;36m3017.06\u001b[0m │              \u001b[1;36m0.00\u001b[0m │\n",
       "│ \u001b[35m2023-05-01 04:00:00\u001b[0m │ \u001b[35m2023-05-01 09:00:00\u001b[0m │ \u001b[35m2023-05-01 02:00:00\u001b[0m │          \u001b[1;36m3213.45\u001b[0m │              \u001b[1;36m0.00\u001b[0m │\n",
       "│ \u001b[35m2023-05-01 05:00:00\u001b[0m │ \u001b[35m2023-05-01 10:00:00\u001b[0m │ \u001b[35m2023-05-01 03:00:00\u001b[0m │          \u001b[1;36m2723.32\u001b[0m │              \u001b[1;36m0.00\u001b[0m │\n",
       "│ \u001b[35m2023-05-01 06:00:00\u001b[0m │ \u001b[35m2023-05-01 11:00:00\u001b[0m │ \u001b[35m2023-05-01 04:00:00\u001b[0m │          \u001b[1;36m2574.19\u001b[0m │              \u001b[1;36m0.00\u001b[0m │\n",
       "│ \u001b[35m2023-05-01 07:00:00\u001b[0m │ \u001b[35m2023-05-01 12:00:00\u001b[0m │ \u001b[35m2023-05-01 05:00:00\u001b[0m │          \u001b[1;36m2499.79\u001b[0m │              \u001b[1;36m0.62\u001b[0m │\n",
       "│ \u001b[35m2023-05-01 08:00:00\u001b[0m │ \u001b[35m2023-05-01 13:00:00\u001b[0m │ \u001b[35m2023-05-01 06:00:00\u001b[0m │          \u001b[1;36m2070.59\u001b[0m │             \u001b[1;36m55.57\u001b[0m │\n",
       "│ \u001b[35m2023-05-01 09:00:00\u001b[0m │ \u001b[35m2023-05-01 14:00:00\u001b[0m │ \u001b[35m2023-05-01 07:00:00\u001b[0m │          \u001b[1;36m1672.67\u001b[0m │            \u001b[1;36m259.53\u001b[0m │\n",
       "│ \u001b[35m2023-05-01 10:00:00\u001b[0m │ \u001b[35m2023-05-01 15:00:00\u001b[0m │ \u001b[35m2023-05-01 08:00:00\u001b[0m │           \u001b[1;36m956.07\u001b[0m │           \u001b[1;36m1015.92\u001b[0m │\n",
       "│ \u001b[2m…\u001b[0m                   │ \u001b[2m…\u001b[0m                   │ \u001b[2m…\u001b[0m                   │                \u001b[2m…\u001b[0m │                 \u001b[2m…\u001b[0m │\n",
       "└─────────────────────┴─────────────────────┴─────────────────────┴──────────────────┴───────────────────┘"
      ]
     },
     "execution_count": 116,
     "metadata": {},
     "output_type": "execute_result"
    }
   ],
   "source": [
    "mtrf = con.table('mtrf')\n",
    "mtrf"
   ]
  },
  {
   "cell_type": "code",
   "execution_count": 117,
   "id": "ed81f14b-9c33-47ab-a038-06885e68eac2",
   "metadata": {},
   "outputs": [
    {
     "data": {
      "text/html": [
       "<pre style=\"white-space:pre;overflow-x:auto;line-height:normal;font-family:Menlo,'DejaVu Sans Mono',consolas,'Courier New',monospace\">┏━━━━━━━━━━━━━━━━━━┳━━━━━━━━━━━━━━━━━━━┳━━━━━━━━━━━━━━━━━━━━━┓\n",
       "┃<span style=\"font-weight: bold\"> Wind_Forecast_MW </span>┃<span style=\"font-weight: bold\"> Solar_Forecast_MW </span>┃<span style=\"font-weight: bold\"> ds                  </span>┃\n",
       "┡━━━━━━━━━━━━━━━━━━╇━━━━━━━━━━━━━━━━━━━╇━━━━━━━━━━━━━━━━━━━━━┩\n",
       "│ <span style=\"color: #7f7f7f; text-decoration-color: #7f7f7f\">float64</span>          │ <span style=\"color: #7f7f7f; text-decoration-color: #7f7f7f\">float64</span>           │ <span style=\"color: #7f7f7f; text-decoration-color: #7f7f7f\">timestamp(6)</span>        │\n",
       "├──────────────────┼───────────────────┼─────────────────────┤\n",
       "│          <span style=\"color: #008080; text-decoration-color: #008080; font-weight: bold\">2085.52</span> │              <span style=\"color: #008080; text-decoration-color: #008080; font-weight: bold\">0.00</span> │ <span style=\"color: #800080; text-decoration-color: #800080\">2023-04-30 23:00:00</span> │\n",
       "│          <span style=\"color: #008080; text-decoration-color: #008080; font-weight: bold\">2549.47</span> │              <span style=\"color: #008080; text-decoration-color: #008080; font-weight: bold\">0.00</span> │ <span style=\"color: #800080; text-decoration-color: #800080\">2023-05-01 00:00:00</span> │\n",
       "│          <span style=\"color: #008080; text-decoration-color: #008080; font-weight: bold\">3017.06</span> │              <span style=\"color: #008080; text-decoration-color: #008080; font-weight: bold\">0.00</span> │ <span style=\"color: #800080; text-decoration-color: #800080\">2023-05-01 01:00:00</span> │\n",
       "│          <span style=\"color: #008080; text-decoration-color: #008080; font-weight: bold\">3213.45</span> │              <span style=\"color: #008080; text-decoration-color: #008080; font-weight: bold\">0.00</span> │ <span style=\"color: #800080; text-decoration-color: #800080\">2023-05-01 02:00:00</span> │\n",
       "│          <span style=\"color: #008080; text-decoration-color: #008080; font-weight: bold\">2723.32</span> │              <span style=\"color: #008080; text-decoration-color: #008080; font-weight: bold\">0.00</span> │ <span style=\"color: #800080; text-decoration-color: #800080\">2023-05-01 03:00:00</span> │\n",
       "│          <span style=\"color: #008080; text-decoration-color: #008080; font-weight: bold\">2574.19</span> │              <span style=\"color: #008080; text-decoration-color: #008080; font-weight: bold\">0.00</span> │ <span style=\"color: #800080; text-decoration-color: #800080\">2023-05-01 04:00:00</span> │\n",
       "│          <span style=\"color: #008080; text-decoration-color: #008080; font-weight: bold\">2499.79</span> │              <span style=\"color: #008080; text-decoration-color: #008080; font-weight: bold\">0.62</span> │ <span style=\"color: #800080; text-decoration-color: #800080\">2023-05-01 05:00:00</span> │\n",
       "│          <span style=\"color: #008080; text-decoration-color: #008080; font-weight: bold\">2070.59</span> │             <span style=\"color: #008080; text-decoration-color: #008080; font-weight: bold\">55.57</span> │ <span style=\"color: #800080; text-decoration-color: #800080\">2023-05-01 06:00:00</span> │\n",
       "│          <span style=\"color: #008080; text-decoration-color: #008080; font-weight: bold\">1672.67</span> │            <span style=\"color: #008080; text-decoration-color: #008080; font-weight: bold\">259.53</span> │ <span style=\"color: #800080; text-decoration-color: #800080\">2023-05-01 07:00:00</span> │\n",
       "│           <span style=\"color: #008080; text-decoration-color: #008080; font-weight: bold\">956.07</span> │           <span style=\"color: #008080; text-decoration-color: #008080; font-weight: bold\">1015.92</span> │ <span style=\"color: #800080; text-decoration-color: #800080\">2023-05-01 08:00:00</span> │\n",
       "│                <span style=\"color: #7f7f7f; text-decoration-color: #7f7f7f\">…</span> │                 <span style=\"color: #7f7f7f; text-decoration-color: #7f7f7f\">…</span> │ <span style=\"color: #7f7f7f; text-decoration-color: #7f7f7f\">…</span>                   │\n",
       "└──────────────────┴───────────────────┴─────────────────────┘\n",
       "</pre>\n"
      ],
      "text/plain": [
       "┏━━━━━━━━━━━━━━━━━━┳━━━━━━━━━━━━━━━━━━━┳━━━━━━━━━━━━━━━━━━━━━┓\n",
       "┃\u001b[1m \u001b[0m\u001b[1mWind_Forecast_MW\u001b[0m\u001b[1m \u001b[0m┃\u001b[1m \u001b[0m\u001b[1mSolar_Forecast_MW\u001b[0m\u001b[1m \u001b[0m┃\u001b[1m \u001b[0m\u001b[1mds\u001b[0m\u001b[1m                 \u001b[0m\u001b[1m \u001b[0m┃\n",
       "┡━━━━━━━━━━━━━━━━━━╇━━━━━━━━━━━━━━━━━━━╇━━━━━━━━━━━━━━━━━━━━━┩\n",
       "│ \u001b[2mfloat64\u001b[0m          │ \u001b[2mfloat64\u001b[0m           │ \u001b[2mtimestamp(6)\u001b[0m        │\n",
       "├──────────────────┼───────────────────┼─────────────────────┤\n",
       "│          \u001b[1;36m2085.52\u001b[0m │              \u001b[1;36m0.00\u001b[0m │ \u001b[35m2023-04-30 23:00:00\u001b[0m │\n",
       "│          \u001b[1;36m2549.47\u001b[0m │              \u001b[1;36m0.00\u001b[0m │ \u001b[35m2023-05-01 00:00:00\u001b[0m │\n",
       "│          \u001b[1;36m3017.06\u001b[0m │              \u001b[1;36m0.00\u001b[0m │ \u001b[35m2023-05-01 01:00:00\u001b[0m │\n",
       "│          \u001b[1;36m3213.45\u001b[0m │              \u001b[1;36m0.00\u001b[0m │ \u001b[35m2023-05-01 02:00:00\u001b[0m │\n",
       "│          \u001b[1;36m2723.32\u001b[0m │              \u001b[1;36m0.00\u001b[0m │ \u001b[35m2023-05-01 03:00:00\u001b[0m │\n",
       "│          \u001b[1;36m2574.19\u001b[0m │              \u001b[1;36m0.00\u001b[0m │ \u001b[35m2023-05-01 04:00:00\u001b[0m │\n",
       "│          \u001b[1;36m2499.79\u001b[0m │              \u001b[1;36m0.62\u001b[0m │ \u001b[35m2023-05-01 05:00:00\u001b[0m │\n",
       "│          \u001b[1;36m2070.59\u001b[0m │             \u001b[1;36m55.57\u001b[0m │ \u001b[35m2023-05-01 06:00:00\u001b[0m │\n",
       "│          \u001b[1;36m1672.67\u001b[0m │            \u001b[1;36m259.53\u001b[0m │ \u001b[35m2023-05-01 07:00:00\u001b[0m │\n",
       "│           \u001b[1;36m956.07\u001b[0m │           \u001b[1;36m1015.92\u001b[0m │ \u001b[35m2023-05-01 08:00:00\u001b[0m │\n",
       "│                \u001b[2m…\u001b[0m │                 \u001b[2m…\u001b[0m │ \u001b[2m…\u001b[0m                   │\n",
       "└──────────────────┴───────────────────┴─────────────────────┘"
      ]
     },
     "execution_count": 117,
     "metadata": {},
     "output_type": "execute_result"
    }
   ],
   "source": [
    "drop_cols = ['Interval', 'GMTIntervalEnd', 'timestamp_mst',]\n",
    "\n",
    "mtrf = (\n",
    "    mtrf\n",
    "    .mutate(ds = _.timestamp_mst)\n",
    "    .drop(drop_cols) \n",
    "    .order_by(['ds'])\n",
    ")\n",
    "\n",
    "mtrf"
   ]
  },
  {
   "cell_type": "code",
   "execution_count": 118,
   "id": "03fe8245-ba6a-4f6a-b144-c7564db0577d",
   "metadata": {},
   "outputs": [
    {
     "data": {
      "text/html": [
       "<pre style=\"white-space:pre;overflow-x:auto;line-height:normal;font-family:Menlo,'DejaVu Sans Mono',consolas,'Courier New',monospace\">┏━━━━━━━━━━━━━━━━━━━━━┳━━━━━━━━━━━━━━━━━━━━━┳━━━━━━━━━━━━━━━━━━━━━┳━━━━━━━┳━━━━━━━━━━━━━━━━━┓\n",
       "┃<span style=\"font-weight: bold\"> Interval            </span>┃<span style=\"font-weight: bold\"> GMTIntervalEnd      </span>┃<span style=\"font-weight: bold\"> timestamp_mst       </span>┃<span style=\"font-weight: bold\"> MTLF  </span>┃<span style=\"font-weight: bold\"> Averaged_Actual </span>┃\n",
       "┡━━━━━━━━━━━━━━━━━━━━━╇━━━━━━━━━━━━━━━━━━━━━╇━━━━━━━━━━━━━━━━━━━━━╇━━━━━━━╇━━━━━━━━━━━━━━━━━┩\n",
       "│ <span style=\"color: #7f7f7f; text-decoration-color: #7f7f7f\">timestamp(6)</span>        │ <span style=\"color: #7f7f7f; text-decoration-color: #7f7f7f\">!timestamp(6)</span>       │ <span style=\"color: #7f7f7f; text-decoration-color: #7f7f7f\">timestamp(6)</span>        │ <span style=\"color: #7f7f7f; text-decoration-color: #7f7f7f\">int32</span> │ <span style=\"color: #7f7f7f; text-decoration-color: #7f7f7f\">float64</span>         │\n",
       "├─────────────────────┼─────────────────────┼─────────────────────┼───────┼─────────────────┤\n",
       "│ <span style=\"color: #800080; text-decoration-color: #800080\">2023-05-01 00:00:00</span> │ <span style=\"color: #800080; text-decoration-color: #800080\">2023-05-01 05:00:00</span> │ <span style=\"color: #800080; text-decoration-color: #800080\">2023-04-30 22:00:00</span> │  <span style=\"color: #008080; text-decoration-color: #008080; font-weight: bold\">7209</span> │          <span style=\"color: #008080; text-decoration-color: #008080; font-weight: bold\">6972.0</span> │\n",
       "│ <span style=\"color: #800080; text-decoration-color: #800080\">2023-05-01 01:00:00</span> │ <span style=\"color: #800080; text-decoration-color: #800080\">2023-05-01 06:00:00</span> │ <span style=\"color: #800080; text-decoration-color: #800080\">2023-04-30 23:00:00</span> │  <span style=\"color: #008080; text-decoration-color: #008080; font-weight: bold\">6790</span> │          <span style=\"color: #008080; text-decoration-color: #008080; font-weight: bold\">6620.0</span> │\n",
       "│ <span style=\"color: #800080; text-decoration-color: #800080\">2023-05-01 02:00:00</span> │ <span style=\"color: #800080; text-decoration-color: #800080\">2023-05-01 07:00:00</span> │ <span style=\"color: #800080; text-decoration-color: #800080\">2023-05-01 00:00:00</span> │  <span style=\"color: #008080; text-decoration-color: #008080; font-weight: bold\">6477</span> │          <span style=\"color: #008080; text-decoration-color: #008080; font-weight: bold\">6384.0</span> │\n",
       "│ <span style=\"color: #800080; text-decoration-color: #800080\">2023-05-01 03:00:00</span> │ <span style=\"color: #800080; text-decoration-color: #800080\">2023-05-01 08:00:00</span> │ <span style=\"color: #800080; text-decoration-color: #800080\">2023-05-01 01:00:00</span> │  <span style=\"color: #008080; text-decoration-color: #008080; font-weight: bold\">6319</span> │          <span style=\"color: #008080; text-decoration-color: #008080; font-weight: bold\">6226.0</span> │\n",
       "│ <span style=\"color: #800080; text-decoration-color: #800080\">2023-05-01 04:00:00</span> │ <span style=\"color: #800080; text-decoration-color: #800080\">2023-05-01 09:00:00</span> │ <span style=\"color: #800080; text-decoration-color: #800080\">2023-05-01 02:00:00</span> │  <span style=\"color: #008080; text-decoration-color: #008080; font-weight: bold\">6278</span> │          <span style=\"color: #008080; text-decoration-color: #008080; font-weight: bold\">6316.0</span> │\n",
       "│ <span style=\"color: #800080; text-decoration-color: #800080\">2023-05-01 05:00:00</span> │ <span style=\"color: #800080; text-decoration-color: #800080\">2023-05-01 10:00:00</span> │ <span style=\"color: #800080; text-decoration-color: #800080\">2023-05-01 03:00:00</span> │  <span style=\"color: #008080; text-decoration-color: #008080; font-weight: bold\">6282</span> │          <span style=\"color: #008080; text-decoration-color: #008080; font-weight: bold\">6440.0</span> │\n",
       "│ <span style=\"color: #800080; text-decoration-color: #800080\">2023-05-01 06:00:00</span> │ <span style=\"color: #800080; text-decoration-color: #800080\">2023-05-01 11:00:00</span> │ <span style=\"color: #800080; text-decoration-color: #800080\">2023-05-01 04:00:00</span> │  <span style=\"color: #008080; text-decoration-color: #008080; font-weight: bold\">6430</span> │          <span style=\"color: #008080; text-decoration-color: #008080; font-weight: bold\">6575.0</span> │\n",
       "│ <span style=\"color: #800080; text-decoration-color: #800080\">2023-05-01 07:00:00</span> │ <span style=\"color: #800080; text-decoration-color: #800080\">2023-05-01 12:00:00</span> │ <span style=\"color: #800080; text-decoration-color: #800080\">2023-05-01 05:00:00</span> │  <span style=\"color: #008080; text-decoration-color: #008080; font-weight: bold\">6980</span> │          <span style=\"color: #008080; text-decoration-color: #008080; font-weight: bold\">6879.0</span> │\n",
       "│ <span style=\"color: #800080; text-decoration-color: #800080\">2023-05-01 08:00:00</span> │ <span style=\"color: #800080; text-decoration-color: #800080\">2023-05-01 13:00:00</span> │ <span style=\"color: #800080; text-decoration-color: #800080\">2023-05-01 06:00:00</span> │  <span style=\"color: #008080; text-decoration-color: #008080; font-weight: bold\">7399</span> │          <span style=\"color: #008080; text-decoration-color: #008080; font-weight: bold\">7169.0</span> │\n",
       "│ <span style=\"color: #800080; text-decoration-color: #800080\">2023-05-01 09:00:00</span> │ <span style=\"color: #800080; text-decoration-color: #800080\">2023-05-01 14:00:00</span> │ <span style=\"color: #800080; text-decoration-color: #800080\">2023-05-01 07:00:00</span> │  <span style=\"color: #008080; text-decoration-color: #008080; font-weight: bold\">7398</span> │          <span style=\"color: #008080; text-decoration-color: #008080; font-weight: bold\">7252.0</span> │\n",
       "│ <span style=\"color: #7f7f7f; text-decoration-color: #7f7f7f\">…</span>                   │ <span style=\"color: #7f7f7f; text-decoration-color: #7f7f7f\">…</span>                   │ <span style=\"color: #7f7f7f; text-decoration-color: #7f7f7f\">…</span>                   │     <span style=\"color: #7f7f7f; text-decoration-color: #7f7f7f\">…</span> │               <span style=\"color: #7f7f7f; text-decoration-color: #7f7f7f\">…</span> │\n",
       "└─────────────────────┴─────────────────────┴─────────────────────┴───────┴─────────────────┘\n",
       "</pre>\n"
      ],
      "text/plain": [
       "┏━━━━━━━━━━━━━━━━━━━━━┳━━━━━━━━━━━━━━━━━━━━━┳━━━━━━━━━━━━━━━━━━━━━┳━━━━━━━┳━━━━━━━━━━━━━━━━━┓\n",
       "┃\u001b[1m \u001b[0m\u001b[1mInterval\u001b[0m\u001b[1m           \u001b[0m\u001b[1m \u001b[0m┃\u001b[1m \u001b[0m\u001b[1mGMTIntervalEnd\u001b[0m\u001b[1m     \u001b[0m\u001b[1m \u001b[0m┃\u001b[1m \u001b[0m\u001b[1mtimestamp_mst\u001b[0m\u001b[1m      \u001b[0m\u001b[1m \u001b[0m┃\u001b[1m \u001b[0m\u001b[1mMTLF\u001b[0m\u001b[1m \u001b[0m\u001b[1m \u001b[0m┃\u001b[1m \u001b[0m\u001b[1mAveraged_Actual\u001b[0m\u001b[1m \u001b[0m┃\n",
       "┡━━━━━━━━━━━━━━━━━━━━━╇━━━━━━━━━━━━━━━━━━━━━╇━━━━━━━━━━━━━━━━━━━━━╇━━━━━━━╇━━━━━━━━━━━━━━━━━┩\n",
       "│ \u001b[2mtimestamp(6)\u001b[0m        │ \u001b[2m!timestamp(6)\u001b[0m       │ \u001b[2mtimestamp(6)\u001b[0m        │ \u001b[2mint32\u001b[0m │ \u001b[2mfloat64\u001b[0m         │\n",
       "├─────────────────────┼─────────────────────┼─────────────────────┼───────┼─────────────────┤\n",
       "│ \u001b[35m2023-05-01 00:00:00\u001b[0m │ \u001b[35m2023-05-01 05:00:00\u001b[0m │ \u001b[35m2023-04-30 22:00:00\u001b[0m │  \u001b[1;36m7209\u001b[0m │          \u001b[1;36m6972.0\u001b[0m │\n",
       "│ \u001b[35m2023-05-01 01:00:00\u001b[0m │ \u001b[35m2023-05-01 06:00:00\u001b[0m │ \u001b[35m2023-04-30 23:00:00\u001b[0m │  \u001b[1;36m6790\u001b[0m │          \u001b[1;36m6620.0\u001b[0m │\n",
       "│ \u001b[35m2023-05-01 02:00:00\u001b[0m │ \u001b[35m2023-05-01 07:00:00\u001b[0m │ \u001b[35m2023-05-01 00:00:00\u001b[0m │  \u001b[1;36m6477\u001b[0m │          \u001b[1;36m6384.0\u001b[0m │\n",
       "│ \u001b[35m2023-05-01 03:00:00\u001b[0m │ \u001b[35m2023-05-01 08:00:00\u001b[0m │ \u001b[35m2023-05-01 01:00:00\u001b[0m │  \u001b[1;36m6319\u001b[0m │          \u001b[1;36m6226.0\u001b[0m │\n",
       "│ \u001b[35m2023-05-01 04:00:00\u001b[0m │ \u001b[35m2023-05-01 09:00:00\u001b[0m │ \u001b[35m2023-05-01 02:00:00\u001b[0m │  \u001b[1;36m6278\u001b[0m │          \u001b[1;36m6316.0\u001b[0m │\n",
       "│ \u001b[35m2023-05-01 05:00:00\u001b[0m │ \u001b[35m2023-05-01 10:00:00\u001b[0m │ \u001b[35m2023-05-01 03:00:00\u001b[0m │  \u001b[1;36m6282\u001b[0m │          \u001b[1;36m6440.0\u001b[0m │\n",
       "│ \u001b[35m2023-05-01 06:00:00\u001b[0m │ \u001b[35m2023-05-01 11:00:00\u001b[0m │ \u001b[35m2023-05-01 04:00:00\u001b[0m │  \u001b[1;36m6430\u001b[0m │          \u001b[1;36m6575.0\u001b[0m │\n",
       "│ \u001b[35m2023-05-01 07:00:00\u001b[0m │ \u001b[35m2023-05-01 12:00:00\u001b[0m │ \u001b[35m2023-05-01 05:00:00\u001b[0m │  \u001b[1;36m6980\u001b[0m │          \u001b[1;36m6879.0\u001b[0m │\n",
       "│ \u001b[35m2023-05-01 08:00:00\u001b[0m │ \u001b[35m2023-05-01 13:00:00\u001b[0m │ \u001b[35m2023-05-01 06:00:00\u001b[0m │  \u001b[1;36m7399\u001b[0m │          \u001b[1;36m7169.0\u001b[0m │\n",
       "│ \u001b[35m2023-05-01 09:00:00\u001b[0m │ \u001b[35m2023-05-01 14:00:00\u001b[0m │ \u001b[35m2023-05-01 07:00:00\u001b[0m │  \u001b[1;36m7398\u001b[0m │          \u001b[1;36m7252.0\u001b[0m │\n",
       "│ \u001b[2m…\u001b[0m                   │ \u001b[2m…\u001b[0m                   │ \u001b[2m…\u001b[0m                   │     \u001b[2m…\u001b[0m │               \u001b[2m…\u001b[0m │\n",
       "└─────────────────────┴─────────────────────┴─────────────────────┴───────┴─────────────────┘"
      ]
     },
     "execution_count": 118,
     "metadata": {},
     "output_type": "execute_result"
    }
   ],
   "source": [
    "mtlf = con.table('mtlf')\n",
    "mtlf"
   ]
  },
  {
   "cell_type": "code",
   "execution_count": 119,
   "id": "05fdd7b0-ea80-4ba3-9bd6-2f67fff1d540",
   "metadata": {},
   "outputs": [
    {
     "data": {
      "text/html": [
       "<pre style=\"white-space:pre;overflow-x:auto;line-height:normal;font-family:Menlo,'DejaVu Sans Mono',consolas,'Courier New',monospace\">┏━━━━━━━┳━━━━━━━━━━━━━━━━━┳━━━━━━━━━━━━━━━━━━━━━┓\n",
       "┃<span style=\"font-weight: bold\"> MTLF  </span>┃<span style=\"font-weight: bold\"> Averaged_Actual </span>┃<span style=\"font-weight: bold\"> ds                  </span>┃\n",
       "┡━━━━━━━╇━━━━━━━━━━━━━━━━━╇━━━━━━━━━━━━━━━━━━━━━┩\n",
       "│ <span style=\"color: #7f7f7f; text-decoration-color: #7f7f7f\">int32</span> │ <span style=\"color: #7f7f7f; text-decoration-color: #7f7f7f\">float64</span>         │ <span style=\"color: #7f7f7f; text-decoration-color: #7f7f7f\">timestamp(6)</span>        │\n",
       "├───────┼─────────────────┼─────────────────────┤\n",
       "│  <span style=\"color: #008080; text-decoration-color: #008080; font-weight: bold\">7209</span> │          <span style=\"color: #008080; text-decoration-color: #008080; font-weight: bold\">6972.0</span> │ <span style=\"color: #800080; text-decoration-color: #800080\">2023-04-30 22:00:00</span> │\n",
       "│  <span style=\"color: #008080; text-decoration-color: #008080; font-weight: bold\">6790</span> │          <span style=\"color: #008080; text-decoration-color: #008080; font-weight: bold\">6620.0</span> │ <span style=\"color: #800080; text-decoration-color: #800080\">2023-04-30 23:00:00</span> │\n",
       "│  <span style=\"color: #008080; text-decoration-color: #008080; font-weight: bold\">6477</span> │          <span style=\"color: #008080; text-decoration-color: #008080; font-weight: bold\">6384.0</span> │ <span style=\"color: #800080; text-decoration-color: #800080\">2023-05-01 00:00:00</span> │\n",
       "│  <span style=\"color: #008080; text-decoration-color: #008080; font-weight: bold\">6319</span> │          <span style=\"color: #008080; text-decoration-color: #008080; font-weight: bold\">6226.0</span> │ <span style=\"color: #800080; text-decoration-color: #800080\">2023-05-01 01:00:00</span> │\n",
       "│  <span style=\"color: #008080; text-decoration-color: #008080; font-weight: bold\">6278</span> │          <span style=\"color: #008080; text-decoration-color: #008080; font-weight: bold\">6316.0</span> │ <span style=\"color: #800080; text-decoration-color: #800080\">2023-05-01 02:00:00</span> │\n",
       "│  <span style=\"color: #008080; text-decoration-color: #008080; font-weight: bold\">6282</span> │          <span style=\"color: #008080; text-decoration-color: #008080; font-weight: bold\">6440.0</span> │ <span style=\"color: #800080; text-decoration-color: #800080\">2023-05-01 03:00:00</span> │\n",
       "│  <span style=\"color: #008080; text-decoration-color: #008080; font-weight: bold\">6430</span> │          <span style=\"color: #008080; text-decoration-color: #008080; font-weight: bold\">6575.0</span> │ <span style=\"color: #800080; text-decoration-color: #800080\">2023-05-01 04:00:00</span> │\n",
       "│  <span style=\"color: #008080; text-decoration-color: #008080; font-weight: bold\">6980</span> │          <span style=\"color: #008080; text-decoration-color: #008080; font-weight: bold\">6879.0</span> │ <span style=\"color: #800080; text-decoration-color: #800080\">2023-05-01 05:00:00</span> │\n",
       "│  <span style=\"color: #008080; text-decoration-color: #008080; font-weight: bold\">7399</span> │          <span style=\"color: #008080; text-decoration-color: #008080; font-weight: bold\">7169.0</span> │ <span style=\"color: #800080; text-decoration-color: #800080\">2023-05-01 06:00:00</span> │\n",
       "│  <span style=\"color: #008080; text-decoration-color: #008080; font-weight: bold\">7398</span> │          <span style=\"color: #008080; text-decoration-color: #008080; font-weight: bold\">7252.0</span> │ <span style=\"color: #800080; text-decoration-color: #800080\">2023-05-01 07:00:00</span> │\n",
       "│     <span style=\"color: #7f7f7f; text-decoration-color: #7f7f7f\">…</span> │               <span style=\"color: #7f7f7f; text-decoration-color: #7f7f7f\">…</span> │ <span style=\"color: #7f7f7f; text-decoration-color: #7f7f7f\">…</span>                   │\n",
       "└───────┴─────────────────┴─────────────────────┘\n",
       "</pre>\n"
      ],
      "text/plain": [
       "┏━━━━━━━┳━━━━━━━━━━━━━━━━━┳━━━━━━━━━━━━━━━━━━━━━┓\n",
       "┃\u001b[1m \u001b[0m\u001b[1mMTLF\u001b[0m\u001b[1m \u001b[0m\u001b[1m \u001b[0m┃\u001b[1m \u001b[0m\u001b[1mAveraged_Actual\u001b[0m\u001b[1m \u001b[0m┃\u001b[1m \u001b[0m\u001b[1mds\u001b[0m\u001b[1m                 \u001b[0m\u001b[1m \u001b[0m┃\n",
       "┡━━━━━━━╇━━━━━━━━━━━━━━━━━╇━━━━━━━━━━━━━━━━━━━━━┩\n",
       "│ \u001b[2mint32\u001b[0m │ \u001b[2mfloat64\u001b[0m         │ \u001b[2mtimestamp(6)\u001b[0m        │\n",
       "├───────┼─────────────────┼─────────────────────┤\n",
       "│  \u001b[1;36m7209\u001b[0m │          \u001b[1;36m6972.0\u001b[0m │ \u001b[35m2023-04-30 22:00:00\u001b[0m │\n",
       "│  \u001b[1;36m6790\u001b[0m │          \u001b[1;36m6620.0\u001b[0m │ \u001b[35m2023-04-30 23:00:00\u001b[0m │\n",
       "│  \u001b[1;36m6477\u001b[0m │          \u001b[1;36m6384.0\u001b[0m │ \u001b[35m2023-05-01 00:00:00\u001b[0m │\n",
       "│  \u001b[1;36m6319\u001b[0m │          \u001b[1;36m6226.0\u001b[0m │ \u001b[35m2023-05-01 01:00:00\u001b[0m │\n",
       "│  \u001b[1;36m6278\u001b[0m │          \u001b[1;36m6316.0\u001b[0m │ \u001b[35m2023-05-01 02:00:00\u001b[0m │\n",
       "│  \u001b[1;36m6282\u001b[0m │          \u001b[1;36m6440.0\u001b[0m │ \u001b[35m2023-05-01 03:00:00\u001b[0m │\n",
       "│  \u001b[1;36m6430\u001b[0m │          \u001b[1;36m6575.0\u001b[0m │ \u001b[35m2023-05-01 04:00:00\u001b[0m │\n",
       "│  \u001b[1;36m6980\u001b[0m │          \u001b[1;36m6879.0\u001b[0m │ \u001b[35m2023-05-01 05:00:00\u001b[0m │\n",
       "│  \u001b[1;36m7399\u001b[0m │          \u001b[1;36m7169.0\u001b[0m │ \u001b[35m2023-05-01 06:00:00\u001b[0m │\n",
       "│  \u001b[1;36m7398\u001b[0m │          \u001b[1;36m7252.0\u001b[0m │ \u001b[35m2023-05-01 07:00:00\u001b[0m │\n",
       "│     \u001b[2m…\u001b[0m │               \u001b[2m…\u001b[0m │ \u001b[2m…\u001b[0m                   │\n",
       "└───────┴─────────────────┴─────────────────────┘"
      ]
     },
     "execution_count": 119,
     "metadata": {},
     "output_type": "execute_result"
    }
   ],
   "source": [
    "drop_cols = ['Interval', 'GMTIntervalEnd', 'timestamp_mst',]\n",
    "\n",
    "mtlf = (\n",
    "    mtlf\n",
    "    .mutate(ds = _.timestamp_mst)\n",
    "    .drop(drop_cols) \n",
    "    .order_by(['ds'])\n",
    ")\n",
    "\n",
    "mtlf"
   ]
  },
  {
   "cell_type": "code",
   "execution_count": null,
   "id": "d49b826c-8dd0-456e-b6ac-01b2aa592edb",
   "metadata": {},
   "outputs": [],
   "source": []
  },
  {
   "cell_type": "code",
   "execution_count": 120,
   "id": "58d31451-312b-478f-b0f4-30aad7ed2501",
   "metadata": {},
   "outputs": [
    {
     "data": {
      "text/html": [
       "<pre style=\"white-space:pre;overflow-x:auto;line-height:normal;font-family:Menlo,'DejaVu Sans Mono',consolas,'Courier New',monospace\">┏━━━━━━━┳━━━━━━━━━━━━━━━━━┳━━━━━━━━━━━━━━━━━━━━━┳━━━━━━━━━━━━━━━━━━┳━━━━━━━━━━━━━━━━━━━┳━━━━━━━━━━━━━━━━━━━━━┳━━━━━━━━━━━┓\n",
       "┃<span style=\"font-weight: bold\"> MTLF  </span>┃<span style=\"font-weight: bold\"> Averaged_Actual </span>┃<span style=\"font-weight: bold\"> ds                  </span>┃<span style=\"font-weight: bold\"> Wind_Forecast_MW </span>┃<span style=\"font-weight: bold\"> Solar_Forecast_MW </span>┃<span style=\"font-weight: bold\"> unique_id           </span>┃<span style=\"font-weight: bold\"> y         </span>┃\n",
       "┡━━━━━━━╇━━━━━━━━━━━━━━━━━╇━━━━━━━━━━━━━━━━━━━━━╇━━━━━━━━━━━━━━━━━━╇━━━━━━━━━━━━━━━━━━━╇━━━━━━━━━━━━━━━━━━━━━╇━━━━━━━━━━━┩\n",
       "│ <span style=\"color: #7f7f7f; text-decoration-color: #7f7f7f\">int32</span> │ <span style=\"color: #7f7f7f; text-decoration-color: #7f7f7f\">float64</span>         │ <span style=\"color: #7f7f7f; text-decoration-color: #7f7f7f\">timestamp(6)</span>        │ <span style=\"color: #7f7f7f; text-decoration-color: #7f7f7f\">float64</span>          │ <span style=\"color: #7f7f7f; text-decoration-color: #7f7f7f\">float64</span>           │ <span style=\"color: #7f7f7f; text-decoration-color: #7f7f7f\">string</span>              │ <span style=\"color: #7f7f7f; text-decoration-color: #7f7f7f\">float64</span>   │\n",
       "├───────┼─────────────────┼─────────────────────┼──────────────────┼───────────────────┼─────────────────────┼───────────┤\n",
       "│  <span style=\"color: #008080; text-decoration-color: #008080; font-weight: bold\">6818</span> │          <span style=\"color: #008080; text-decoration-color: #008080; font-weight: bold\">6809.0</span> │ <span style=\"color: #800080; text-decoration-color: #800080\">2023-05-01 23:00:00</span> │          <span style=\"color: #008080; text-decoration-color: #008080; font-weight: bold\">3571.73</span> │              <span style=\"color: #008080; text-decoration-color: #008080; font-weight: bold\">0.00</span> │ <span style=\"color: #008000; text-decoration-color: #008000\">PSCO.BHCE.AIRPORTDL</span> │  <span style=\"color: #008080; text-decoration-color: #008080; font-weight: bold\">0.900342</span> │\n",
       "│  <span style=\"color: #008080; text-decoration-color: #008080; font-weight: bold\">6597</span> │          <span style=\"color: #008080; text-decoration-color: #008080; font-weight: bold\">6511.0</span> │ <span style=\"color: #800080; text-decoration-color: #800080\">2023-05-02 00:00:00</span> │          <span style=\"color: #008080; text-decoration-color: #008080; font-weight: bold\">3339.18</span> │              <span style=\"color: #008080; text-decoration-color: #008080; font-weight: bold\">0.00</span> │ <span style=\"color: #008000; text-decoration-color: #008000\">PSCO.BHCE.AIRPORTDL</span> │  <span style=\"color: #008080; text-decoration-color: #008080; font-weight: bold\">0.904992</span> │\n",
       "│  <span style=\"color: #008080; text-decoration-color: #008080; font-weight: bold\">6507</span> │          <span style=\"color: #008080; text-decoration-color: #008080; font-weight: bold\">6372.0</span> │ <span style=\"color: #800080; text-decoration-color: #800080\">2023-05-02 01:00:00</span> │          <span style=\"color: #008080; text-decoration-color: #008080; font-weight: bold\">3195.45</span> │              <span style=\"color: #008080; text-decoration-color: #008080; font-weight: bold\">0.00</span> │ <span style=\"color: #008000; text-decoration-color: #008000\">PSCO.BHCE.AIRPORTDL</span> │  <span style=\"color: #008080; text-decoration-color: #008080; font-weight: bold\">2.601358</span> │\n",
       "│  <span style=\"color: #008080; text-decoration-color: #008080; font-weight: bold\">6344</span> │          <span style=\"color: #008080; text-decoration-color: #008080; font-weight: bold\">6334.0</span> │ <span style=\"color: #800080; text-decoration-color: #800080\">2023-05-02 02:00:00</span> │          <span style=\"color: #008080; text-decoration-color: #008080; font-weight: bold\">3296.07</span> │              <span style=\"color: #008080; text-decoration-color: #008080; font-weight: bold\">0.00</span> │ <span style=\"color: #008000; text-decoration-color: #008000\">PSCO.BHCE.AIRPORTDL</span> │ <span style=\"color: #008080; text-decoration-color: #008080; font-weight: bold\">13.136867</span> │\n",
       "│  <span style=\"color: #008080; text-decoration-color: #008080; font-weight: bold\">6384</span> │          <span style=\"color: #008080; text-decoration-color: #008080; font-weight: bold\">6362.0</span> │ <span style=\"color: #800080; text-decoration-color: #800080\">2023-05-02 03:00:00</span> │          <span style=\"color: #008080; text-decoration-color: #008080; font-weight: bold\">2997.68</span> │              <span style=\"color: #008080; text-decoration-color: #008080; font-weight: bold\">0.00</span> │ <span style=\"color: #008000; text-decoration-color: #008000\">PSCO.BHCE.AIRPORTDL</span> │ <span style=\"color: #008080; text-decoration-color: #008080; font-weight: bold\">10.744717</span> │\n",
       "│  <span style=\"color: #008080; text-decoration-color: #008080; font-weight: bold\">6550</span> │          <span style=\"color: #008080; text-decoration-color: #008080; font-weight: bold\">6466.0</span> │ <span style=\"color: #800080; text-decoration-color: #800080\">2023-05-02 04:00:00</span> │          <span style=\"color: #008080; text-decoration-color: #008080; font-weight: bold\">3080.94</span> │              <span style=\"color: #008080; text-decoration-color: #008080; font-weight: bold\">0.00</span> │ <span style=\"color: #008000; text-decoration-color: #008000\">PSCO.BHCE.AIRPORTDL</span> │ <span style=\"color: #008080; text-decoration-color: #008080; font-weight: bold\">13.265067</span> │\n",
       "│  <span style=\"color: #008080; text-decoration-color: #008080; font-weight: bold\">6903</span> │          <span style=\"color: #008080; text-decoration-color: #008080; font-weight: bold\">6723.0</span> │ <span style=\"color: #800080; text-decoration-color: #800080\">2023-05-02 05:00:00</span> │          <span style=\"color: #008080; text-decoration-color: #008080; font-weight: bold\">2774.13</span> │              <span style=\"color: #008080; text-decoration-color: #008080; font-weight: bold\">0.54</span> │ <span style=\"color: #008000; text-decoration-color: #008000\">PSCO.BHCE.AIRPORTDL</span> │ <span style=\"color: #008080; text-decoration-color: #008080; font-weight: bold\">13.555108</span> │\n",
       "│  <span style=\"color: #008080; text-decoration-color: #008080; font-weight: bold\">7252</span> │          <span style=\"color: #008080; text-decoration-color: #008080; font-weight: bold\">7095.0</span> │ <span style=\"color: #800080; text-decoration-color: #800080\">2023-05-02 06:00:00</span> │          <span style=\"color: #008080; text-decoration-color: #008080; font-weight: bold\">2799.46</span> │             <span style=\"color: #008080; text-decoration-color: #008080; font-weight: bold\">49.52</span> │ <span style=\"color: #008000; text-decoration-color: #008000\">PSCO.BHCE.AIRPORTDL</span> │ <span style=\"color: #008080; text-decoration-color: #008080; font-weight: bold\">15.721517</span> │\n",
       "│  <span style=\"color: #008080; text-decoration-color: #008080; font-weight: bold\">7370</span> │          <span style=\"color: #008080; text-decoration-color: #008080; font-weight: bold\">7236.0</span> │ <span style=\"color: #800080; text-decoration-color: #800080\">2023-05-02 07:00:00</span> │          <span style=\"color: #008080; text-decoration-color: #008080; font-weight: bold\">2290.13</span> │            <span style=\"color: #008080; text-decoration-color: #008080; font-weight: bold\">204.61</span> │ <span style=\"color: #008000; text-decoration-color: #008000\">PSCO.BHCE.AIRPORTDL</span> │ <span style=\"color: #008080; text-decoration-color: #008080; font-weight: bold\">17.135467</span> │\n",
       "│  <span style=\"color: #008080; text-decoration-color: #008080; font-weight: bold\">7270</span> │          <span style=\"color: #008080; text-decoration-color: #008080; font-weight: bold\">7199.0</span> │ <span style=\"color: #800080; text-decoration-color: #800080\">2023-05-02 08:00:00</span> │          <span style=\"color: #008080; text-decoration-color: #008080; font-weight: bold\">2254.61</span> │            <span style=\"color: #008080; text-decoration-color: #008080; font-weight: bold\">592.32</span> │ <span style=\"color: #008000; text-decoration-color: #008000\">PSCO.BHCE.AIRPORTDL</span> │ <span style=\"color: #008080; text-decoration-color: #008080; font-weight: bold\">13.175133</span> │\n",
       "│     <span style=\"color: #7f7f7f; text-decoration-color: #7f7f7f\">…</span> │               <span style=\"color: #7f7f7f; text-decoration-color: #7f7f7f\">…</span> │ <span style=\"color: #7f7f7f; text-decoration-color: #7f7f7f\">…</span>                   │                <span style=\"color: #7f7f7f; text-decoration-color: #7f7f7f\">…</span> │                 <span style=\"color: #7f7f7f; text-decoration-color: #7f7f7f\">…</span> │ <span style=\"color: #7f7f7f; text-decoration-color: #7f7f7f\">…</span>                   │         <span style=\"color: #7f7f7f; text-decoration-color: #7f7f7f\">…</span> │\n",
       "└───────┴─────────────────┴─────────────────────┴──────────────────┴───────────────────┴─────────────────────┴───────────┘\n",
       "</pre>\n"
      ],
      "text/plain": [
       "┏━━━━━━━┳━━━━━━━━━━━━━━━━━┳━━━━━━━━━━━━━━━━━━━━━┳━━━━━━━━━━━━━━━━━━┳━━━━━━━━━━━━━━━━━━━┳━━━━━━━━━━━━━━━━━━━━━┳━━━━━━━━━━━┓\n",
       "┃\u001b[1m \u001b[0m\u001b[1mMTLF\u001b[0m\u001b[1m \u001b[0m\u001b[1m \u001b[0m┃\u001b[1m \u001b[0m\u001b[1mAveraged_Actual\u001b[0m\u001b[1m \u001b[0m┃\u001b[1m \u001b[0m\u001b[1mds\u001b[0m\u001b[1m                 \u001b[0m\u001b[1m \u001b[0m┃\u001b[1m \u001b[0m\u001b[1mWind_Forecast_MW\u001b[0m\u001b[1m \u001b[0m┃\u001b[1m \u001b[0m\u001b[1mSolar_Forecast_MW\u001b[0m\u001b[1m \u001b[0m┃\u001b[1m \u001b[0m\u001b[1munique_id\u001b[0m\u001b[1m          \u001b[0m\u001b[1m \u001b[0m┃\u001b[1m \u001b[0m\u001b[1my\u001b[0m\u001b[1m        \u001b[0m\u001b[1m \u001b[0m┃\n",
       "┡━━━━━━━╇━━━━━━━━━━━━━━━━━╇━━━━━━━━━━━━━━━━━━━━━╇━━━━━━━━━━━━━━━━━━╇━━━━━━━━━━━━━━━━━━━╇━━━━━━━━━━━━━━━━━━━━━╇━━━━━━━━━━━┩\n",
       "│ \u001b[2mint32\u001b[0m │ \u001b[2mfloat64\u001b[0m         │ \u001b[2mtimestamp(6)\u001b[0m        │ \u001b[2mfloat64\u001b[0m          │ \u001b[2mfloat64\u001b[0m           │ \u001b[2mstring\u001b[0m              │ \u001b[2mfloat64\u001b[0m   │\n",
       "├───────┼─────────────────┼─────────────────────┼──────────────────┼───────────────────┼─────────────────────┼───────────┤\n",
       "│  \u001b[1;36m6818\u001b[0m │          \u001b[1;36m6809.0\u001b[0m │ \u001b[35m2023-05-01 23:00:00\u001b[0m │          \u001b[1;36m3571.73\u001b[0m │              \u001b[1;36m0.00\u001b[0m │ \u001b[32mPSCO.BHCE.AIRPORTDL\u001b[0m │  \u001b[1;36m0.900342\u001b[0m │\n",
       "│  \u001b[1;36m6597\u001b[0m │          \u001b[1;36m6511.0\u001b[0m │ \u001b[35m2023-05-02 00:00:00\u001b[0m │          \u001b[1;36m3339.18\u001b[0m │              \u001b[1;36m0.00\u001b[0m │ \u001b[32mPSCO.BHCE.AIRPORTDL\u001b[0m │  \u001b[1;36m0.904992\u001b[0m │\n",
       "│  \u001b[1;36m6507\u001b[0m │          \u001b[1;36m6372.0\u001b[0m │ \u001b[35m2023-05-02 01:00:00\u001b[0m │          \u001b[1;36m3195.45\u001b[0m │              \u001b[1;36m0.00\u001b[0m │ \u001b[32mPSCO.BHCE.AIRPORTDL\u001b[0m │  \u001b[1;36m2.601358\u001b[0m │\n",
       "│  \u001b[1;36m6344\u001b[0m │          \u001b[1;36m6334.0\u001b[0m │ \u001b[35m2023-05-02 02:00:00\u001b[0m │          \u001b[1;36m3296.07\u001b[0m │              \u001b[1;36m0.00\u001b[0m │ \u001b[32mPSCO.BHCE.AIRPORTDL\u001b[0m │ \u001b[1;36m13.136867\u001b[0m │\n",
       "│  \u001b[1;36m6384\u001b[0m │          \u001b[1;36m6362.0\u001b[0m │ \u001b[35m2023-05-02 03:00:00\u001b[0m │          \u001b[1;36m2997.68\u001b[0m │              \u001b[1;36m0.00\u001b[0m │ \u001b[32mPSCO.BHCE.AIRPORTDL\u001b[0m │ \u001b[1;36m10.744717\u001b[0m │\n",
       "│  \u001b[1;36m6550\u001b[0m │          \u001b[1;36m6466.0\u001b[0m │ \u001b[35m2023-05-02 04:00:00\u001b[0m │          \u001b[1;36m3080.94\u001b[0m │              \u001b[1;36m0.00\u001b[0m │ \u001b[32mPSCO.BHCE.AIRPORTDL\u001b[0m │ \u001b[1;36m13.265067\u001b[0m │\n",
       "│  \u001b[1;36m6903\u001b[0m │          \u001b[1;36m6723.0\u001b[0m │ \u001b[35m2023-05-02 05:00:00\u001b[0m │          \u001b[1;36m2774.13\u001b[0m │              \u001b[1;36m0.54\u001b[0m │ \u001b[32mPSCO.BHCE.AIRPORTDL\u001b[0m │ \u001b[1;36m13.555108\u001b[0m │\n",
       "│  \u001b[1;36m7252\u001b[0m │          \u001b[1;36m7095.0\u001b[0m │ \u001b[35m2023-05-02 06:00:00\u001b[0m │          \u001b[1;36m2799.46\u001b[0m │             \u001b[1;36m49.52\u001b[0m │ \u001b[32mPSCO.BHCE.AIRPORTDL\u001b[0m │ \u001b[1;36m15.721517\u001b[0m │\n",
       "│  \u001b[1;36m7370\u001b[0m │          \u001b[1;36m7236.0\u001b[0m │ \u001b[35m2023-05-02 07:00:00\u001b[0m │          \u001b[1;36m2290.13\u001b[0m │            \u001b[1;36m204.61\u001b[0m │ \u001b[32mPSCO.BHCE.AIRPORTDL\u001b[0m │ \u001b[1;36m17.135467\u001b[0m │\n",
       "│  \u001b[1;36m7270\u001b[0m │          \u001b[1;36m7199.0\u001b[0m │ \u001b[35m2023-05-02 08:00:00\u001b[0m │          \u001b[1;36m2254.61\u001b[0m │            \u001b[1;36m592.32\u001b[0m │ \u001b[32mPSCO.BHCE.AIRPORTDL\u001b[0m │ \u001b[1;36m13.175133\u001b[0m │\n",
       "│     \u001b[2m…\u001b[0m │               \u001b[2m…\u001b[0m │ \u001b[2m…\u001b[0m                   │                \u001b[2m…\u001b[0m │                 \u001b[2m…\u001b[0m │ \u001b[2m…\u001b[0m                   │         \u001b[2m…\u001b[0m │\n",
       "└───────┴─────────────────┴─────────────────────┴──────────────────┴───────────────────┴─────────────────────┴───────────┘"
      ]
     },
     "execution_count": 120,
     "metadata": {},
     "output_type": "execute_result"
    }
   ],
   "source": [
    "all_df = (\n",
    "    mtlf\n",
    "    .left_join(mtrf, 'ds')\n",
    "    .select(~s.contains(\"_right\")) # remove 'dt_right'\n",
    "    .left_join(lmp, 'ds')\n",
    "    .select(~s.contains(\"_right\")) # remove 'dt_right'\n",
    "    .order_by(['unique_id', 'ds'])\n",
    ")\n",
    "all_df \n"
   ]
  },
  {
   "cell_type": "code",
   "execution_count": 121,
   "id": "f574e3f9-274c-4f70-bb27-c2480ef0b6f7",
   "metadata": {},
   "outputs": [
    {
     "data": {
      "text/html": [
       "<pre style=\"white-space:pre;overflow-x:auto;line-height:normal;font-family:Menlo,'DejaVu Sans Mono',consolas,'Courier New',monospace\"></pre>\n"
      ],
      "text/plain": []
     },
     "metadata": {},
     "output_type": "display_data"
    },
    {
     "data": {
      "text/plain": [
       "┌─────────┐\n",
       "│ \u001b[1;36m1353408\u001b[0m │\n",
       "└─────────┘"
      ]
     },
     "execution_count": 121,
     "metadata": {},
     "output_type": "execute_result"
    }
   ],
   "source": [
    "all_df.count()"
   ]
  },
  {
   "cell_type": "code",
   "execution_count": null,
   "id": "e5690380-f599-46e7-b4f4-b08dc813e8e4",
   "metadata": {},
   "outputs": [],
   "source": []
  },
  {
   "cell_type": "code",
   "execution_count": 122,
   "id": "530378dc-2973-47fe-8183-33dbc8420d51",
   "metadata": {},
   "outputs": [
    {
     "data": {
      "text/html": [
       "<pre style=\"white-space:pre;overflow-x:auto;line-height:normal;font-family:Menlo,'DejaVu Sans Mono',consolas,'Courier New',monospace\">┏━━━━━━━┳━━━━━━━━━━━━━━━━━┳━━━━━━━━━━━━━━━━━━━━━┳━━━━━━━━━━━━━━━━━━┳━━━━━━━━━━━━━━━━━━━┳━━━━━━━━━━━━━━━━━━━━━┳━━━━━━━━━━━┳━━━━━━━┳━━━━━━━━━┳━━━━━━━┳━━━━━━━━━━┓\n",
       "┃<span style=\"font-weight: bold\"> MTLF  </span>┃<span style=\"font-weight: bold\"> Averaged_Actual </span>┃<span style=\"font-weight: bold\"> ds                  </span>┃<span style=\"font-weight: bold\"> Wind_Forecast_MW </span>┃<span style=\"font-weight: bold\"> Solar_Forecast_MW </span>┃<span style=\"font-weight: bold\"> unique_id           </span>┃<span style=\"font-weight: bold\"> y         </span>┃<span style=\"font-weight: bold\"> hour  </span>┃<span style=\"font-weight: bold\"> weekday </span>┃<span style=\"font-weight: bold\"> month </span>┃<span style=\"font-weight: bold\"> re_ratio </span>┃\n",
       "┡━━━━━━━╇━━━━━━━━━━━━━━━━━╇━━━━━━━━━━━━━━━━━━━━━╇━━━━━━━━━━━━━━━━━━╇━━━━━━━━━━━━━━━━━━━╇━━━━━━━━━━━━━━━━━━━━━╇━━━━━━━━━━━╇━━━━━━━╇━━━━━━━━━╇━━━━━━━╇━━━━━━━━━━┩\n",
       "│ <span style=\"color: #7f7f7f; text-decoration-color: #7f7f7f\">int32</span> │ <span style=\"color: #7f7f7f; text-decoration-color: #7f7f7f\">float64</span>         │ <span style=\"color: #7f7f7f; text-decoration-color: #7f7f7f\">timestamp(6)</span>        │ <span style=\"color: #7f7f7f; text-decoration-color: #7f7f7f\">float64</span>          │ <span style=\"color: #7f7f7f; text-decoration-color: #7f7f7f\">float64</span>           │ <span style=\"color: #7f7f7f; text-decoration-color: #7f7f7f\">string</span>              │ <span style=\"color: #7f7f7f; text-decoration-color: #7f7f7f\">float64</span>   │ <span style=\"color: #7f7f7f; text-decoration-color: #7f7f7f\">int32</span> │ <span style=\"color: #7f7f7f; text-decoration-color: #7f7f7f\">int16</span>   │ <span style=\"color: #7f7f7f; text-decoration-color: #7f7f7f\">int32</span> │ <span style=\"color: #7f7f7f; text-decoration-color: #7f7f7f\">float64</span>  │\n",
       "├───────┼─────────────────┼─────────────────────┼──────────────────┼───────────────────┼─────────────────────┼───────────┼───────┼─────────┼───────┼──────────┤\n",
       "│  <span style=\"color: #008080; text-decoration-color: #008080; font-weight: bold\">6818</span> │          <span style=\"color: #008080; text-decoration-color: #008080; font-weight: bold\">6809.0</span> │ <span style=\"color: #800080; text-decoration-color: #800080\">2023-05-01 23:00:00</span> │          <span style=\"color: #008080; text-decoration-color: #008080; font-weight: bold\">3571.73</span> │              <span style=\"color: #008080; text-decoration-color: #008080; font-weight: bold\">0.00</span> │ <span style=\"color: #008000; text-decoration-color: #008000\">PSCO.BHCE.AIRPORTDL</span> │  <span style=\"color: #008080; text-decoration-color: #008080; font-weight: bold\">0.900342</span> │    <span style=\"color: #008080; text-decoration-color: #008080; font-weight: bold\">23</span> │       <span style=\"color: #008080; text-decoration-color: #008080; font-weight: bold\">0</span> │     <span style=\"color: #008080; text-decoration-color: #008080; font-weight: bold\">5</span> │ <span style=\"color: #008080; text-decoration-color: #008080; font-weight: bold\">0.523868</span> │\n",
       "│  <span style=\"color: #008080; text-decoration-color: #008080; font-weight: bold\">6597</span> │          <span style=\"color: #008080; text-decoration-color: #008080; font-weight: bold\">6511.0</span> │ <span style=\"color: #800080; text-decoration-color: #800080\">2023-05-02 00:00:00</span> │          <span style=\"color: #008080; text-decoration-color: #008080; font-weight: bold\">3339.18</span> │              <span style=\"color: #008080; text-decoration-color: #008080; font-weight: bold\">0.00</span> │ <span style=\"color: #008000; text-decoration-color: #008000\">PSCO.BHCE.AIRPORTDL</span> │  <span style=\"color: #008080; text-decoration-color: #008080; font-weight: bold\">0.904992</span> │     <span style=\"color: #008080; text-decoration-color: #008080; font-weight: bold\">0</span> │       <span style=\"color: #008080; text-decoration-color: #008080; font-weight: bold\">1</span> │     <span style=\"color: #008080; text-decoration-color: #008080; font-weight: bold\">5</span> │ <span style=\"color: #008080; text-decoration-color: #008080; font-weight: bold\">0.506166</span> │\n",
       "│  <span style=\"color: #008080; text-decoration-color: #008080; font-weight: bold\">6507</span> │          <span style=\"color: #008080; text-decoration-color: #008080; font-weight: bold\">6372.0</span> │ <span style=\"color: #800080; text-decoration-color: #800080\">2023-05-02 01:00:00</span> │          <span style=\"color: #008080; text-decoration-color: #008080; font-weight: bold\">3195.45</span> │              <span style=\"color: #008080; text-decoration-color: #008080; font-weight: bold\">0.00</span> │ <span style=\"color: #008000; text-decoration-color: #008000\">PSCO.BHCE.AIRPORTDL</span> │  <span style=\"color: #008080; text-decoration-color: #008080; font-weight: bold\">2.601358</span> │     <span style=\"color: #008080; text-decoration-color: #008080; font-weight: bold\">1</span> │       <span style=\"color: #008080; text-decoration-color: #008080; font-weight: bold\">1</span> │     <span style=\"color: #008080; text-decoration-color: #008080; font-weight: bold\">5</span> │ <span style=\"color: #008080; text-decoration-color: #008080; font-weight: bold\">0.491079</span> │\n",
       "│  <span style=\"color: #008080; text-decoration-color: #008080; font-weight: bold\">6344</span> │          <span style=\"color: #008080; text-decoration-color: #008080; font-weight: bold\">6334.0</span> │ <span style=\"color: #800080; text-decoration-color: #800080\">2023-05-02 02:00:00</span> │          <span style=\"color: #008080; text-decoration-color: #008080; font-weight: bold\">3296.07</span> │              <span style=\"color: #008080; text-decoration-color: #008080; font-weight: bold\">0.00</span> │ <span style=\"color: #008000; text-decoration-color: #008000\">PSCO.BHCE.AIRPORTDL</span> │ <span style=\"color: #008080; text-decoration-color: #008080; font-weight: bold\">13.136867</span> │     <span style=\"color: #008080; text-decoration-color: #008080; font-weight: bold\">2</span> │       <span style=\"color: #008080; text-decoration-color: #008080; font-weight: bold\">1</span> │     <span style=\"color: #008080; text-decoration-color: #008080; font-weight: bold\">5</span> │ <span style=\"color: #008080; text-decoration-color: #008080; font-weight: bold\">0.519557</span> │\n",
       "│  <span style=\"color: #008080; text-decoration-color: #008080; font-weight: bold\">6384</span> │          <span style=\"color: #008080; text-decoration-color: #008080; font-weight: bold\">6362.0</span> │ <span style=\"color: #800080; text-decoration-color: #800080\">2023-05-02 03:00:00</span> │          <span style=\"color: #008080; text-decoration-color: #008080; font-weight: bold\">2997.68</span> │              <span style=\"color: #008080; text-decoration-color: #008080; font-weight: bold\">0.00</span> │ <span style=\"color: #008000; text-decoration-color: #008000\">PSCO.BHCE.AIRPORTDL</span> │ <span style=\"color: #008080; text-decoration-color: #008080; font-weight: bold\">10.744717</span> │     <span style=\"color: #008080; text-decoration-color: #008080; font-weight: bold\">3</span> │       <span style=\"color: #008080; text-decoration-color: #008080; font-weight: bold\">1</span> │     <span style=\"color: #008080; text-decoration-color: #008080; font-weight: bold\">5</span> │ <span style=\"color: #008080; text-decoration-color: #008080; font-weight: bold\">0.469561</span> │\n",
       "│  <span style=\"color: #008080; text-decoration-color: #008080; font-weight: bold\">6550</span> │          <span style=\"color: #008080; text-decoration-color: #008080; font-weight: bold\">6466.0</span> │ <span style=\"color: #800080; text-decoration-color: #800080\">2023-05-02 04:00:00</span> │          <span style=\"color: #008080; text-decoration-color: #008080; font-weight: bold\">3080.94</span> │              <span style=\"color: #008080; text-decoration-color: #008080; font-weight: bold\">0.00</span> │ <span style=\"color: #008000; text-decoration-color: #008000\">PSCO.BHCE.AIRPORTDL</span> │ <span style=\"color: #008080; text-decoration-color: #008080; font-weight: bold\">13.265067</span> │     <span style=\"color: #008080; text-decoration-color: #008080; font-weight: bold\">4</span> │       <span style=\"color: #008080; text-decoration-color: #008080; font-weight: bold\">1</span> │     <span style=\"color: #008080; text-decoration-color: #008080; font-weight: bold\">5</span> │ <span style=\"color: #008080; text-decoration-color: #008080; font-weight: bold\">0.470373</span> │\n",
       "│  <span style=\"color: #008080; text-decoration-color: #008080; font-weight: bold\">6903</span> │          <span style=\"color: #008080; text-decoration-color: #008080; font-weight: bold\">6723.0</span> │ <span style=\"color: #800080; text-decoration-color: #800080\">2023-05-02 05:00:00</span> │          <span style=\"color: #008080; text-decoration-color: #008080; font-weight: bold\">2774.13</span> │              <span style=\"color: #008080; text-decoration-color: #008080; font-weight: bold\">0.54</span> │ <span style=\"color: #008000; text-decoration-color: #008000\">PSCO.BHCE.AIRPORTDL</span> │ <span style=\"color: #008080; text-decoration-color: #008080; font-weight: bold\">13.555108</span> │     <span style=\"color: #008080; text-decoration-color: #008080; font-weight: bold\">5</span> │       <span style=\"color: #008080; text-decoration-color: #008080; font-weight: bold\">1</span> │     <span style=\"color: #008080; text-decoration-color: #008080; font-weight: bold\">5</span> │ <span style=\"color: #008080; text-decoration-color: #008080; font-weight: bold\">0.401951</span> │\n",
       "│  <span style=\"color: #008080; text-decoration-color: #008080; font-weight: bold\">7252</span> │          <span style=\"color: #008080; text-decoration-color: #008080; font-weight: bold\">7095.0</span> │ <span style=\"color: #800080; text-decoration-color: #800080\">2023-05-02 06:00:00</span> │          <span style=\"color: #008080; text-decoration-color: #008080; font-weight: bold\">2799.46</span> │             <span style=\"color: #008080; text-decoration-color: #008080; font-weight: bold\">49.52</span> │ <span style=\"color: #008000; text-decoration-color: #008000\">PSCO.BHCE.AIRPORTDL</span> │ <span style=\"color: #008080; text-decoration-color: #008080; font-weight: bold\">15.721517</span> │     <span style=\"color: #008080; text-decoration-color: #008080; font-weight: bold\">6</span> │       <span style=\"color: #008080; text-decoration-color: #008080; font-weight: bold\">1</span> │     <span style=\"color: #008080; text-decoration-color: #008080; font-weight: bold\">5</span> │ <span style=\"color: #008080; text-decoration-color: #008080; font-weight: bold\">0.392854</span> │\n",
       "│  <span style=\"color: #008080; text-decoration-color: #008080; font-weight: bold\">7370</span> │          <span style=\"color: #008080; text-decoration-color: #008080; font-weight: bold\">7236.0</span> │ <span style=\"color: #800080; text-decoration-color: #800080\">2023-05-02 07:00:00</span> │          <span style=\"color: #008080; text-decoration-color: #008080; font-weight: bold\">2290.13</span> │            <span style=\"color: #008080; text-decoration-color: #008080; font-weight: bold\">204.61</span> │ <span style=\"color: #008000; text-decoration-color: #008000\">PSCO.BHCE.AIRPORTDL</span> │ <span style=\"color: #008080; text-decoration-color: #008080; font-weight: bold\">17.135467</span> │     <span style=\"color: #008080; text-decoration-color: #008080; font-weight: bold\">7</span> │       <span style=\"color: #008080; text-decoration-color: #008080; font-weight: bold\">1</span> │     <span style=\"color: #008080; text-decoration-color: #008080; font-weight: bold\">5</span> │ <span style=\"color: #008080; text-decoration-color: #008080; font-weight: bold\">0.338499</span> │\n",
       "│  <span style=\"color: #008080; text-decoration-color: #008080; font-weight: bold\">7270</span> │          <span style=\"color: #008080; text-decoration-color: #008080; font-weight: bold\">7199.0</span> │ <span style=\"color: #800080; text-decoration-color: #800080\">2023-05-02 08:00:00</span> │          <span style=\"color: #008080; text-decoration-color: #008080; font-weight: bold\">2254.61</span> │            <span style=\"color: #008080; text-decoration-color: #008080; font-weight: bold\">592.32</span> │ <span style=\"color: #008000; text-decoration-color: #008000\">PSCO.BHCE.AIRPORTDL</span> │ <span style=\"color: #008080; text-decoration-color: #008080; font-weight: bold\">13.175133</span> │     <span style=\"color: #008080; text-decoration-color: #008080; font-weight: bold\">8</span> │       <span style=\"color: #008080; text-decoration-color: #008080; font-weight: bold\">1</span> │     <span style=\"color: #008080; text-decoration-color: #008080; font-weight: bold\">5</span> │ <span style=\"color: #008080; text-decoration-color: #008080; font-weight: bold\">0.391600</span> │\n",
       "│     <span style=\"color: #7f7f7f; text-decoration-color: #7f7f7f\">…</span> │               <span style=\"color: #7f7f7f; text-decoration-color: #7f7f7f\">…</span> │ <span style=\"color: #7f7f7f; text-decoration-color: #7f7f7f\">…</span>                   │                <span style=\"color: #7f7f7f; text-decoration-color: #7f7f7f\">…</span> │                 <span style=\"color: #7f7f7f; text-decoration-color: #7f7f7f\">…</span> │ <span style=\"color: #7f7f7f; text-decoration-color: #7f7f7f\">…</span>                   │         <span style=\"color: #7f7f7f; text-decoration-color: #7f7f7f\">…</span> │     <span style=\"color: #7f7f7f; text-decoration-color: #7f7f7f\">…</span> │       <span style=\"color: #7f7f7f; text-decoration-color: #7f7f7f\">…</span> │     <span style=\"color: #7f7f7f; text-decoration-color: #7f7f7f\">…</span> │        <span style=\"color: #7f7f7f; text-decoration-color: #7f7f7f\">…</span> │\n",
       "└───────┴─────────────────┴─────────────────────┴──────────────────┴───────────────────┴─────────────────────┴───────────┴───────┴─────────┴───────┴──────────┘\n",
       "</pre>\n"
      ],
      "text/plain": [
       "┏━━━━━━━┳━━━━━━━━━━━━━━━━━┳━━━━━━━━━━━━━━━━━━━━━┳━━━━━━━━━━━━━━━━━━┳━━━━━━━━━━━━━━━━━━━┳━━━━━━━━━━━━━━━━━━━━━┳━━━━━━━━━━━┳━━━━━━━┳━━━━━━━━━┳━━━━━━━┳━━━━━━━━━━┓\n",
       "┃\u001b[1m \u001b[0m\u001b[1mMTLF\u001b[0m\u001b[1m \u001b[0m\u001b[1m \u001b[0m┃\u001b[1m \u001b[0m\u001b[1mAveraged_Actual\u001b[0m\u001b[1m \u001b[0m┃\u001b[1m \u001b[0m\u001b[1mds\u001b[0m\u001b[1m                 \u001b[0m\u001b[1m \u001b[0m┃\u001b[1m \u001b[0m\u001b[1mWind_Forecast_MW\u001b[0m\u001b[1m \u001b[0m┃\u001b[1m \u001b[0m\u001b[1mSolar_Forecast_MW\u001b[0m\u001b[1m \u001b[0m┃\u001b[1m \u001b[0m\u001b[1munique_id\u001b[0m\u001b[1m          \u001b[0m\u001b[1m \u001b[0m┃\u001b[1m \u001b[0m\u001b[1my\u001b[0m\u001b[1m        \u001b[0m\u001b[1m \u001b[0m┃\u001b[1m \u001b[0m\u001b[1mhour\u001b[0m\u001b[1m \u001b[0m\u001b[1m \u001b[0m┃\u001b[1m \u001b[0m\u001b[1mweekday\u001b[0m\u001b[1m \u001b[0m┃\u001b[1m \u001b[0m\u001b[1mmonth\u001b[0m\u001b[1m \u001b[0m┃\u001b[1m \u001b[0m\u001b[1mre_ratio\u001b[0m\u001b[1m \u001b[0m┃\n",
       "┡━━━━━━━╇━━━━━━━━━━━━━━━━━╇━━━━━━━━━━━━━━━━━━━━━╇━━━━━━━━━━━━━━━━━━╇━━━━━━━━━━━━━━━━━━━╇━━━━━━━━━━━━━━━━━━━━━╇━━━━━━━━━━━╇━━━━━━━╇━━━━━━━━━╇━━━━━━━╇━━━━━━━━━━┩\n",
       "│ \u001b[2mint32\u001b[0m │ \u001b[2mfloat64\u001b[0m         │ \u001b[2mtimestamp(6)\u001b[0m        │ \u001b[2mfloat64\u001b[0m          │ \u001b[2mfloat64\u001b[0m           │ \u001b[2mstring\u001b[0m              │ \u001b[2mfloat64\u001b[0m   │ \u001b[2mint32\u001b[0m │ \u001b[2mint16\u001b[0m   │ \u001b[2mint32\u001b[0m │ \u001b[2mfloat64\u001b[0m  │\n",
       "├───────┼─────────────────┼─────────────────────┼──────────────────┼───────────────────┼─────────────────────┼───────────┼───────┼─────────┼───────┼──────────┤\n",
       "│  \u001b[1;36m6818\u001b[0m │          \u001b[1;36m6809.0\u001b[0m │ \u001b[35m2023-05-01 23:00:00\u001b[0m │          \u001b[1;36m3571.73\u001b[0m │              \u001b[1;36m0.00\u001b[0m │ \u001b[32mPSCO.BHCE.AIRPORTDL\u001b[0m │  \u001b[1;36m0.900342\u001b[0m │    \u001b[1;36m23\u001b[0m │       \u001b[1;36m0\u001b[0m │     \u001b[1;36m5\u001b[0m │ \u001b[1;36m0.523868\u001b[0m │\n",
       "│  \u001b[1;36m6597\u001b[0m │          \u001b[1;36m6511.0\u001b[0m │ \u001b[35m2023-05-02 00:00:00\u001b[0m │          \u001b[1;36m3339.18\u001b[0m │              \u001b[1;36m0.00\u001b[0m │ \u001b[32mPSCO.BHCE.AIRPORTDL\u001b[0m │  \u001b[1;36m0.904992\u001b[0m │     \u001b[1;36m0\u001b[0m │       \u001b[1;36m1\u001b[0m │     \u001b[1;36m5\u001b[0m │ \u001b[1;36m0.506166\u001b[0m │\n",
       "│  \u001b[1;36m6507\u001b[0m │          \u001b[1;36m6372.0\u001b[0m │ \u001b[35m2023-05-02 01:00:00\u001b[0m │          \u001b[1;36m3195.45\u001b[0m │              \u001b[1;36m0.00\u001b[0m │ \u001b[32mPSCO.BHCE.AIRPORTDL\u001b[0m │  \u001b[1;36m2.601358\u001b[0m │     \u001b[1;36m1\u001b[0m │       \u001b[1;36m1\u001b[0m │     \u001b[1;36m5\u001b[0m │ \u001b[1;36m0.491079\u001b[0m │\n",
       "│  \u001b[1;36m6344\u001b[0m │          \u001b[1;36m6334.0\u001b[0m │ \u001b[35m2023-05-02 02:00:00\u001b[0m │          \u001b[1;36m3296.07\u001b[0m │              \u001b[1;36m0.00\u001b[0m │ \u001b[32mPSCO.BHCE.AIRPORTDL\u001b[0m │ \u001b[1;36m13.136867\u001b[0m │     \u001b[1;36m2\u001b[0m │       \u001b[1;36m1\u001b[0m │     \u001b[1;36m5\u001b[0m │ \u001b[1;36m0.519557\u001b[0m │\n",
       "│  \u001b[1;36m6384\u001b[0m │          \u001b[1;36m6362.0\u001b[0m │ \u001b[35m2023-05-02 03:00:00\u001b[0m │          \u001b[1;36m2997.68\u001b[0m │              \u001b[1;36m0.00\u001b[0m │ \u001b[32mPSCO.BHCE.AIRPORTDL\u001b[0m │ \u001b[1;36m10.744717\u001b[0m │     \u001b[1;36m3\u001b[0m │       \u001b[1;36m1\u001b[0m │     \u001b[1;36m5\u001b[0m │ \u001b[1;36m0.469561\u001b[0m │\n",
       "│  \u001b[1;36m6550\u001b[0m │          \u001b[1;36m6466.0\u001b[0m │ \u001b[35m2023-05-02 04:00:00\u001b[0m │          \u001b[1;36m3080.94\u001b[0m │              \u001b[1;36m0.00\u001b[0m │ \u001b[32mPSCO.BHCE.AIRPORTDL\u001b[0m │ \u001b[1;36m13.265067\u001b[0m │     \u001b[1;36m4\u001b[0m │       \u001b[1;36m1\u001b[0m │     \u001b[1;36m5\u001b[0m │ \u001b[1;36m0.470373\u001b[0m │\n",
       "│  \u001b[1;36m6903\u001b[0m │          \u001b[1;36m6723.0\u001b[0m │ \u001b[35m2023-05-02 05:00:00\u001b[0m │          \u001b[1;36m2774.13\u001b[0m │              \u001b[1;36m0.54\u001b[0m │ \u001b[32mPSCO.BHCE.AIRPORTDL\u001b[0m │ \u001b[1;36m13.555108\u001b[0m │     \u001b[1;36m5\u001b[0m │       \u001b[1;36m1\u001b[0m │     \u001b[1;36m5\u001b[0m │ \u001b[1;36m0.401951\u001b[0m │\n",
       "│  \u001b[1;36m7252\u001b[0m │          \u001b[1;36m7095.0\u001b[0m │ \u001b[35m2023-05-02 06:00:00\u001b[0m │          \u001b[1;36m2799.46\u001b[0m │             \u001b[1;36m49.52\u001b[0m │ \u001b[32mPSCO.BHCE.AIRPORTDL\u001b[0m │ \u001b[1;36m15.721517\u001b[0m │     \u001b[1;36m6\u001b[0m │       \u001b[1;36m1\u001b[0m │     \u001b[1;36m5\u001b[0m │ \u001b[1;36m0.392854\u001b[0m │\n",
       "│  \u001b[1;36m7370\u001b[0m │          \u001b[1;36m7236.0\u001b[0m │ \u001b[35m2023-05-02 07:00:00\u001b[0m │          \u001b[1;36m2290.13\u001b[0m │            \u001b[1;36m204.61\u001b[0m │ \u001b[32mPSCO.BHCE.AIRPORTDL\u001b[0m │ \u001b[1;36m17.135467\u001b[0m │     \u001b[1;36m7\u001b[0m │       \u001b[1;36m1\u001b[0m │     \u001b[1;36m5\u001b[0m │ \u001b[1;36m0.338499\u001b[0m │\n",
       "│  \u001b[1;36m7270\u001b[0m │          \u001b[1;36m7199.0\u001b[0m │ \u001b[35m2023-05-02 08:00:00\u001b[0m │          \u001b[1;36m2254.61\u001b[0m │            \u001b[1;36m592.32\u001b[0m │ \u001b[32mPSCO.BHCE.AIRPORTDL\u001b[0m │ \u001b[1;36m13.175133\u001b[0m │     \u001b[1;36m8\u001b[0m │       \u001b[1;36m1\u001b[0m │     \u001b[1;36m5\u001b[0m │ \u001b[1;36m0.391600\u001b[0m │\n",
       "│     \u001b[2m…\u001b[0m │               \u001b[2m…\u001b[0m │ \u001b[2m…\u001b[0m                   │                \u001b[2m…\u001b[0m │                 \u001b[2m…\u001b[0m │ \u001b[2m…\u001b[0m                   │         \u001b[2m…\u001b[0m │     \u001b[2m…\u001b[0m │       \u001b[2m…\u001b[0m │     \u001b[2m…\u001b[0m │        \u001b[2m…\u001b[0m │\n",
       "└───────┴─────────────────┴─────────────────────┴──────────────────┴───────────────────┴─────────────────────┴───────────┴───────┴─────────┴───────┴──────────┘"
      ]
     },
     "execution_count": 122,
     "metadata": {},
     "output_type": "execute_result"
    }
   ],
   "source": [
    "all_df = (\n",
    "    all_df\n",
    "    .drop_null(['unique_id'])\n",
    "    .mutate(hour = _.ds.hour())\n",
    "    .mutate(weekday = _.ds.day_of_week.index())\n",
    "    .mutate(month = _.ds.month())\n",
    "    .mutate(re_ratio = (_.Wind_Forecast_MW + _.Solar_Forecast_MW) / _.MTLF)\n",
    ")\n",
    "\n",
    "all_df"
   ]
  },
  {
   "cell_type": "code",
   "execution_count": 123,
   "id": "2b0f860f-17f3-4ded-9c24-8d464d89220b",
   "metadata": {},
   "outputs": [
    {
     "data": {
      "text/html": [
       "<div>\n",
       "<style scoped>\n",
       "    .dataframe tbody tr th:only-of-type {\n",
       "        vertical-align: middle;\n",
       "    }\n",
       "\n",
       "    .dataframe tbody tr th {\n",
       "        vertical-align: top;\n",
       "    }\n",
       "\n",
       "    .dataframe thead th {\n",
       "        text-align: right;\n",
       "    }\n",
       "</style>\n",
       "<table border=\"1\" class=\"dataframe\">\n",
       "  <thead>\n",
       "    <tr style=\"text-align: right;\">\n",
       "      <th></th>\n",
       "      <th>MTLF</th>\n",
       "      <th>Averaged_Actual</th>\n",
       "      <th>ds</th>\n",
       "      <th>Wind_Forecast_MW</th>\n",
       "      <th>Solar_Forecast_MW</th>\n",
       "      <th>unique_id</th>\n",
       "      <th>y</th>\n",
       "      <th>hour</th>\n",
       "      <th>weekday</th>\n",
       "      <th>month</th>\n",
       "      <th>re_ratio</th>\n",
       "    </tr>\n",
       "  </thead>\n",
       "  <tbody>\n",
       "    <tr>\n",
       "      <th>0</th>\n",
       "      <td>6818</td>\n",
       "      <td>6809.0</td>\n",
       "      <td>2023-05-01 23:00:00</td>\n",
       "      <td>3571.73</td>\n",
       "      <td>0.00</td>\n",
       "      <td>PSCO.BHCE.AIRPORTDL</td>\n",
       "      <td>0.900342</td>\n",
       "      <td>23</td>\n",
       "      <td>0</td>\n",
       "      <td>5</td>\n",
       "      <td>0.523868</td>\n",
       "    </tr>\n",
       "    <tr>\n",
       "      <th>1</th>\n",
       "      <td>6597</td>\n",
       "      <td>6511.0</td>\n",
       "      <td>2023-05-02 00:00:00</td>\n",
       "      <td>3339.18</td>\n",
       "      <td>0.00</td>\n",
       "      <td>PSCO.BHCE.AIRPORTDL</td>\n",
       "      <td>0.904992</td>\n",
       "      <td>0</td>\n",
       "      <td>1</td>\n",
       "      <td>5</td>\n",
       "      <td>0.506166</td>\n",
       "    </tr>\n",
       "    <tr>\n",
       "      <th>2</th>\n",
       "      <td>6507</td>\n",
       "      <td>6372.0</td>\n",
       "      <td>2023-05-02 01:00:00</td>\n",
       "      <td>3195.45</td>\n",
       "      <td>0.00</td>\n",
       "      <td>PSCO.BHCE.AIRPORTDL</td>\n",
       "      <td>2.601358</td>\n",
       "      <td>1</td>\n",
       "      <td>1</td>\n",
       "      <td>5</td>\n",
       "      <td>0.491079</td>\n",
       "    </tr>\n",
       "    <tr>\n",
       "      <th>3</th>\n",
       "      <td>6344</td>\n",
       "      <td>6334.0</td>\n",
       "      <td>2023-05-02 02:00:00</td>\n",
       "      <td>3296.07</td>\n",
       "      <td>0.00</td>\n",
       "      <td>PSCO.BHCE.AIRPORTDL</td>\n",
       "      <td>13.136867</td>\n",
       "      <td>2</td>\n",
       "      <td>1</td>\n",
       "      <td>5</td>\n",
       "      <td>0.519557</td>\n",
       "    </tr>\n",
       "    <tr>\n",
       "      <th>4</th>\n",
       "      <td>6384</td>\n",
       "      <td>6362.0</td>\n",
       "      <td>2023-05-02 03:00:00</td>\n",
       "      <td>2997.68</td>\n",
       "      <td>0.00</td>\n",
       "      <td>PSCO.BHCE.AIRPORTDL</td>\n",
       "      <td>10.744717</td>\n",
       "      <td>3</td>\n",
       "      <td>1</td>\n",
       "      <td>5</td>\n",
       "      <td>0.469561</td>\n",
       "    </tr>\n",
       "    <tr>\n",
       "      <th>...</th>\n",
       "      <td>...</td>\n",
       "      <td>...</td>\n",
       "      <td>...</td>\n",
       "      <td>...</td>\n",
       "      <td>...</td>\n",
       "      <td>...</td>\n",
       "      <td>...</td>\n",
       "      <td>...</td>\n",
       "      <td>...</td>\n",
       "      <td>...</td>\n",
       "      <td>...</td>\n",
       "    </tr>\n",
       "    <tr>\n",
       "      <th>1353378</th>\n",
       "      <td>10450</td>\n",
       "      <td>10672.0</td>\n",
       "      <td>2024-08-23 19:00:00</td>\n",
       "      <td>2119.33</td>\n",
       "      <td>45.43</td>\n",
       "      <td>PSCO_UPIP_UPI</td>\n",
       "      <td>26.209600</td>\n",
       "      <td>19</td>\n",
       "      <td>4</td>\n",
       "      <td>8</td>\n",
       "      <td>0.207154</td>\n",
       "    </tr>\n",
       "    <tr>\n",
       "      <th>1353379</th>\n",
       "      <td>10227</td>\n",
       "      <td>10320.0</td>\n",
       "      <td>2024-08-23 20:00:00</td>\n",
       "      <td>1323.80</td>\n",
       "      <td>0.00</td>\n",
       "      <td>PSCO_UPIP_UPI</td>\n",
       "      <td>19.366533</td>\n",
       "      <td>20</td>\n",
       "      <td>4</td>\n",
       "      <td>8</td>\n",
       "      <td>0.129442</td>\n",
       "    </tr>\n",
       "    <tr>\n",
       "      <th>1353380</th>\n",
       "      <td>9848</td>\n",
       "      <td>9768.0</td>\n",
       "      <td>2024-08-23 21:00:00</td>\n",
       "      <td>1528.30</td>\n",
       "      <td>0.00</td>\n",
       "      <td>PSCO_UPIP_UPI</td>\n",
       "      <td>17.024517</td>\n",
       "      <td>21</td>\n",
       "      <td>4</td>\n",
       "      <td>8</td>\n",
       "      <td>0.155189</td>\n",
       "    </tr>\n",
       "    <tr>\n",
       "      <th>1353381</th>\n",
       "      <td>9121</td>\n",
       "      <td>9064.0</td>\n",
       "      <td>2024-08-23 22:00:00</td>\n",
       "      <td>1888.73</td>\n",
       "      <td>0.00</td>\n",
       "      <td>PSCO_UPIP_UPI</td>\n",
       "      <td>13.986367</td>\n",
       "      <td>22</td>\n",
       "      <td>4</td>\n",
       "      <td>8</td>\n",
       "      <td>0.207075</td>\n",
       "    </tr>\n",
       "    <tr>\n",
       "      <th>1353382</th>\n",
       "      <td>8295</td>\n",
       "      <td>8699.0</td>\n",
       "      <td>2024-08-23 23:00:00</td>\n",
       "      <td>1862.26</td>\n",
       "      <td>0.00</td>\n",
       "      <td>PSCO_UPIP_UPI</td>\n",
       "      <td>15.157900</td>\n",
       "      <td>23</td>\n",
       "      <td>4</td>\n",
       "      <td>8</td>\n",
       "      <td>0.224504</td>\n",
       "    </tr>\n",
       "  </tbody>\n",
       "</table>\n",
       "<p>1353383 rows × 11 columns</p>\n",
       "</div>"
      ],
      "text/plain": [
       "          MTLF  Averaged_Actual                  ds  Wind_Forecast_MW  \\\n",
       "0         6818           6809.0 2023-05-01 23:00:00           3571.73   \n",
       "1         6597           6511.0 2023-05-02 00:00:00           3339.18   \n",
       "2         6507           6372.0 2023-05-02 01:00:00           3195.45   \n",
       "3         6344           6334.0 2023-05-02 02:00:00           3296.07   \n",
       "4         6384           6362.0 2023-05-02 03:00:00           2997.68   \n",
       "...        ...              ...                 ...               ...   \n",
       "1353378  10450          10672.0 2024-08-23 19:00:00           2119.33   \n",
       "1353379  10227          10320.0 2024-08-23 20:00:00           1323.80   \n",
       "1353380   9848           9768.0 2024-08-23 21:00:00           1528.30   \n",
       "1353381   9121           9064.0 2024-08-23 22:00:00           1888.73   \n",
       "1353382   8295           8699.0 2024-08-23 23:00:00           1862.26   \n",
       "\n",
       "         Solar_Forecast_MW            unique_id          y  hour  weekday  \\\n",
       "0                     0.00  PSCO.BHCE.AIRPORTDL   0.900342    23        0   \n",
       "1                     0.00  PSCO.BHCE.AIRPORTDL   0.904992     0        1   \n",
       "2                     0.00  PSCO.BHCE.AIRPORTDL   2.601358     1        1   \n",
       "3                     0.00  PSCO.BHCE.AIRPORTDL  13.136867     2        1   \n",
       "4                     0.00  PSCO.BHCE.AIRPORTDL  10.744717     3        1   \n",
       "...                    ...                  ...        ...   ...      ...   \n",
       "1353378              45.43        PSCO_UPIP_UPI  26.209600    19        4   \n",
       "1353379               0.00        PSCO_UPIP_UPI  19.366533    20        4   \n",
       "1353380               0.00        PSCO_UPIP_UPI  17.024517    21        4   \n",
       "1353381               0.00        PSCO_UPIP_UPI  13.986367    22        4   \n",
       "1353382               0.00        PSCO_UPIP_UPI  15.157900    23        4   \n",
       "\n",
       "         month  re_ratio  \n",
       "0            5  0.523868  \n",
       "1            5  0.506166  \n",
       "2            5  0.491079  \n",
       "3            5  0.519557  \n",
       "4            5  0.469561  \n",
       "...        ...       ...  \n",
       "1353378      8  0.207154  \n",
       "1353379      8  0.129442  \n",
       "1353380      8  0.155189  \n",
       "1353381      8  0.207075  \n",
       "1353382      8  0.224504  \n",
       "\n",
       "[1353383 rows x 11 columns]"
      ]
     },
     "execution_count": 123,
     "metadata": {},
     "output_type": "execute_result"
    }
   ],
   "source": [
    "all_df_pd = all_df.to_pandas()\n",
    "all_df_pd"
   ]
  },
  {
   "cell_type": "code",
   "execution_count": 124,
   "id": "f568ac6a-216f-4fc4-8dcb-8409c07e436c",
   "metadata": {},
   "outputs": [
    {
     "name": "stdout",
     "output_type": "stream",
     "text": [
      "<class 'pandas.core.frame.DataFrame'>\n",
      "RangeIndex: 1353383 entries, 0 to 1353382\n",
      "Data columns (total 11 columns):\n",
      " #   Column             Non-Null Count    Dtype         \n",
      "---  ------             --------------    -----         \n",
      " 0   MTLF               1353383 non-null  int32         \n",
      " 1   Averaged_Actual    1353383 non-null  float64       \n",
      " 2   ds                 1353383 non-null  datetime64[us]\n",
      " 3   Wind_Forecast_MW   1353383 non-null  float64       \n",
      " 4   Solar_Forecast_MW  1353383 non-null  float64       \n",
      " 5   unique_id          1353383 non-null  object        \n",
      " 6   y                  1353383 non-null  float64       \n",
      " 7   hour               1353383 non-null  int32         \n",
      " 8   weekday            1353383 non-null  int16         \n",
      " 9   month              1353383 non-null  int32         \n",
      " 10  re_ratio           1353383 non-null  float64       \n",
      "dtypes: datetime64[us](1), float64(5), int16(1), int32(3), object(1)\n",
      "memory usage: 90.3+ MB\n"
     ]
    }
   ],
   "source": [
    "all_df_pd.info()"
   ]
  },
  {
   "cell_type": "code",
   "execution_count": 167,
   "id": "2bb63f13-4ca6-4432-b0fa-6237033bad9a",
   "metadata": {},
   "outputs": [
    {
     "data": {
      "text/plain": [
       "1451268"
      ]
     },
     "execution_count": 167,
     "metadata": {},
     "output_type": "execute_result"
    }
   ],
   "source": [
    "len(all_df_pd.ds.unique()) * len(all_df_pd.unique_id.unique())"
   ]
  },
  {
   "cell_type": "code",
   "execution_count": 125,
   "id": "3a606f55-755f-479c-84df-c1bf15b57134",
   "metadata": {},
   "outputs": [
    {
     "name": "stderr",
     "output_type": "stream",
     "text": [
      "INFO:__main__:number of nodes: 126\n"
     ]
    },
    {
     "data": {
      "text/plain": [
       "array(['PSCO.BHCE.AIRPORTDL', 'PSCO.BHCE.BRWF1', 'PSCO.BHCE.BRWF2',\n",
       "       'PSCO.BHCE.PAGS1', 'PSCO.BHCE.PAGS2', 'PSCO.BHCE.PAGS4',\n",
       "       'PSCO.BHCE.PAGS5', 'PSCO.BHCE.PAGS6', 'PSCO.BHCE.PEAKVIEW',\n",
       "       'PSCO.BHCE.PPLANTDL', 'PSCO.BHCE.RFDIESEL', 'PSCO.CORE.HUNTER.SLR',\n",
       "       'PSCO.CORE.PIONEER.SLR', 'PSCO.CORE.VICTORY.SLR',\n",
       "       'PSCO.CSUM.PRPA_SCWIND', 'PSCO.CSUM.PUEBLOHYDRO',\n",
       "       'PSCO.GUZ.BRONCO', 'PSCO.HCE.BLANCAPK.SLR', 'PSCO.HCE.EAGLEVLY',\n",
       "       'PSCO.HCE.HUNTER.SLR', 'PSCO.HCE.ORCHARD', 'PSCO.HCGE.BRONCO',\n",
       "       'PSCO.PRPM_W.CRAIG1', 'PSCO.PRPM_W.CRAIG2', 'PSCO.PRPM_W.FLATS',\n",
       "       'PSCO.PRPM_W.MEDICINEBOW', 'PSCO.PRPM_W.PRAIRIE',\n",
       "       'PSCO.PRPM_W.RAWHIDE1', 'PSCO.PRPM_W.RAWHIDEA',\n",
       "       'PSCO.PRPM_W.RAWHIDEB', 'PSCO.PRPM_W.RAWHIDEC',\n",
       "       'PSCO.PRPM_W.RAWHIDED', 'PSCO.PRPM_W.RAWHIDEF',\n",
       "       'PSCO.PRPM_W.ROUNDHOUSE', 'PSCO.PSC.BCP2', 'PSCO.PSCM.ALAMOSA.SLR',\n",
       "       'PSCO.PSCM.ARAP567.CC', 'PSCO.PSCM.ATERG1', 'PSCO.PSCM.ATERG2',\n",
       "       'PSCO.PSCM.BIGHORN.SLR', 'PSCO.PSCM.BRPL.WND',\n",
       "       'PSCO.PSCM.BRUSH1_3.CC', 'PSCO.PSCM.BRUSH4.CC', 'PSCO.PSCM.BSNGG1',\n",
       "       'PSCO.PSCM.BSNGG2', 'PSCO.PSCM.CABI_A', 'PSCO.PSCM.CABI_B',\n",
       "       'PSCO.PSCM.CED2.WND', 'PSCO.PSCM.CEDC.WND', 'PSCO.PSCM.CEPT.WND',\n",
       "       'PSCO.PSCM.CHER567.CC', 'PSCO.PSCM.CHERG4', 'PSCO.PSCM.CHYE.WND',\n",
       "       'PSCO.PSCM.CHYW.WND', 'PSCO.PSCM.COLG.WND', 'PSCO.PSCM.COMAG2',\n",
       "       'PSCO.PSCM.COMAG3', 'PSCO.PSCM.COMANCHE.SLR', 'PSCO.PSCM.FLUPG1',\n",
       "       'PSCO.PSCM.FLUPG2', 'PSCO.PSCM.FRUIG1', 'PSCO.PSCM.FSVR.CC',\n",
       "       'PSCO.PSCM.FSVRG5', 'PSCO.PSCM.FSVRG6', 'PSCO.PSCM.FVNGG1',\n",
       "       'PSCO.PSCM.FVNGG2', 'PSCO.PSCM.FVNGG3', 'PSCO.PSCM.FVNGG4',\n",
       "       'PSCO.PSCM.FVNGG5', 'PSCO.PSCM.FVNGG6', 'PSCO.PSCM.GWEST.WND',\n",
       "       'PSCO.PSCM.HAYDG1', 'PSCO.PSCM.HAYDG2', 'PSCO.PSCM.HOOPER.SLR',\n",
       "       'PSCO.PSCM.LIMO12.WND', 'PSCO.PSCM.LIMO3.WND',\n",
       "       'PSCO.PSCM.LOGA.WND', 'PSCO.PSCM.MANCG11', 'PSCO.PSCM.MANCG12',\n",
       "       'PSCO.PSCM.MBRE.WND', 'PSCO.PSCM.NPTG.BAT', 'PSCO.PSCM.NPTG.SLR',\n",
       "       'PSCO.PSCM.PAWNG1', 'PSCO.PSCM.PCOGG2', 'PSCO.PSCM.PEET.WND',\n",
       "       'PSCO.PSCM.PENGG1', 'PSCO.PSCM.RCW1.WND', 'PSCO.PSCM.RCW2.WND',\n",
       "       'PSCO.PSCM.RMEC.CC', 'PSCO.PSCM.SANDHILL.SLR',\n",
       "       'PSCO.PSCM.SANLUIS.SLR', 'PSCO.PSCM.SHNGG1', 'PSCO.PSCM.SHNGG2',\n",
       "       'PSCO.PSCM.SHOS_A', 'PSCO.PSCM.SHOS_B', 'PSCO.PSCM.SPCA.WND',\n",
       "       'PSCO.PSCM.SUNMTN.SLR', 'PSCO.PSCM.TDWG.BAT', 'PSCO.PSCM.TDWG.SLR',\n",
       "       'PSCO.PSCM.TITAN.SLR', 'PSCO.PSCM.TWIB.WND', 'PSCO.PSCM.VALMG6',\n",
       "       'PSCO.PSCM.VALMG7', 'PSCO.PSCM.VALMG8', 'PSCO.TSPM.BOULDERHYDRO',\n",
       "       'PSCO.TSPM.JMSHAFER', 'PSCO.TSPM.KNUTSON1', 'PSCO.TSPM.KNUTSON2',\n",
       "       'PSCO.TSPM.SANISABEL', 'PSCO.TSPM.TWINBUTTESII',\n",
       "       'PSCO.UPIP.ALAMOSA', 'PSCO.UPIP.KNUTSON1', 'PSCO.UPIP.KNUTSON2',\n",
       "       'PSCO.UPIP.PARKWAY', 'PSCO.UPIP.PLATTEVALLEY',\n",
       "       'PSCO.UPIP.RATTLESNAKE', 'PSCO.UPIP.TESLA', 'PSCO_BHCE',\n",
       "       'PSCO_CRSP', 'PSCO_MEAN_W', 'PSCO_PRPM_PR', 'PSCO_PSCM_PSCO_PSCM',\n",
       "       'PSCO_PSCM_PSCP_ARPA', 'PSCO_PSCO_PSCO_RPSP', 'PSCO_TSPM_TS',\n",
       "       'PSCO_UPIP_UPI'], dtype=object)"
      ]
     },
     "execution_count": 125,
     "metadata": {},
     "output_type": "execute_result"
    }
   ],
   "source": [
    "node_groups = all_df_pd.unique_id.unique()\n",
    "log.info(f'number of nodes: {len(node_groups)}')\n",
    "node_groups"
   ]
  },
  {
   "cell_type": "code",
   "execution_count": 126,
   "id": "66bbe26a-45fa-4fea-9ae5-cf843c0c3685",
   "metadata": {},
   "outputs": [
    {
     "name": "stderr",
     "output_type": "stream",
     "text": [
      "INFO:__main__:number of nodes: 9\n"
     ]
    },
    {
     "data": {
      "text/plain": [
       "['PSCO_BHCE',\n",
       " 'PSCO_CRSP',\n",
       " 'PSCO_MEAN_W',\n",
       " 'PSCO_PRPM_PR',\n",
       " 'PSCO_PSCM_PSCO_PSCM',\n",
       " 'PSCO_PSCM_PSCP_ARPA',\n",
       " 'PSCO_PSCO_PSCO_RPSP',\n",
       " 'PSCO_TSPM_TS',\n",
       " 'PSCO_UPIP_UPI']"
      ]
     },
     "execution_count": 126,
     "metadata": {},
     "output_type": "execute_result"
    }
   ],
   "source": [
    "node_groups = [node for node in node_groups if 'PSCO_' in node]\n",
    "log.info(f'number of nodes: {len(node_groups)}')\n",
    "node_groups"
   ]
  },
  {
   "cell_type": "code",
   "execution_count": 169,
   "id": "fd446306-18e9-4fc5-8fb9-cda36e6ef9d5",
   "metadata": {},
   "outputs": [
    {
     "data": {
      "text/html": [
       "<div>\n",
       "<style scoped>\n",
       "    .dataframe tbody tr th:only-of-type {\n",
       "        vertical-align: middle;\n",
       "    }\n",
       "\n",
       "    .dataframe tbody tr th {\n",
       "        vertical-align: top;\n",
       "    }\n",
       "\n",
       "    .dataframe thead th {\n",
       "        text-align: right;\n",
       "    }\n",
       "</style>\n",
       "<table border=\"1\" class=\"dataframe\">\n",
       "  <thead>\n",
       "    <tr style=\"text-align: right;\">\n",
       "      <th></th>\n",
       "      <th>MTLF</th>\n",
       "      <th>Averaged_Actual</th>\n",
       "      <th>ds</th>\n",
       "      <th>Wind_Forecast_MW</th>\n",
       "      <th>Solar_Forecast_MW</th>\n",
       "      <th>unique_id</th>\n",
       "      <th>y</th>\n",
       "      <th>hour</th>\n",
       "      <th>weekday</th>\n",
       "      <th>month</th>\n",
       "      <th>re_ratio</th>\n",
       "    </tr>\n",
       "  </thead>\n",
       "  <tbody>\n",
       "    <tr>\n",
       "      <th>0</th>\n",
       "      <td>6818</td>\n",
       "      <td>6809.0</td>\n",
       "      <td>2023-05-01 23:00:00</td>\n",
       "      <td>3571.73</td>\n",
       "      <td>0.00</td>\n",
       "      <td>PSCO_BHCE</td>\n",
       "      <td>0.922608</td>\n",
       "      <td>23</td>\n",
       "      <td>0</td>\n",
       "      <td>5</td>\n",
       "      <td>0.523868</td>\n",
       "    </tr>\n",
       "    <tr>\n",
       "      <th>1</th>\n",
       "      <td>6597</td>\n",
       "      <td>6511.0</td>\n",
       "      <td>2023-05-02 00:00:00</td>\n",
       "      <td>3339.18</td>\n",
       "      <td>0.00</td>\n",
       "      <td>PSCO_BHCE</td>\n",
       "      <td>0.926283</td>\n",
       "      <td>0</td>\n",
       "      <td>1</td>\n",
       "      <td>5</td>\n",
       "      <td>0.506166</td>\n",
       "    </tr>\n",
       "    <tr>\n",
       "      <th>2</th>\n",
       "      <td>6507</td>\n",
       "      <td>6372.0</td>\n",
       "      <td>2023-05-02 01:00:00</td>\n",
       "      <td>3195.45</td>\n",
       "      <td>0.00</td>\n",
       "      <td>PSCO_BHCE</td>\n",
       "      <td>2.659375</td>\n",
       "      <td>1</td>\n",
       "      <td>1</td>\n",
       "      <td>5</td>\n",
       "      <td>0.491079</td>\n",
       "    </tr>\n",
       "    <tr>\n",
       "      <th>3</th>\n",
       "      <td>6344</td>\n",
       "      <td>6334.0</td>\n",
       "      <td>2023-05-02 02:00:00</td>\n",
       "      <td>3296.07</td>\n",
       "      <td>0.00</td>\n",
       "      <td>PSCO_BHCE</td>\n",
       "      <td>13.408308</td>\n",
       "      <td>2</td>\n",
       "      <td>1</td>\n",
       "      <td>5</td>\n",
       "      <td>0.519557</td>\n",
       "    </tr>\n",
       "    <tr>\n",
       "      <th>4</th>\n",
       "      <td>6384</td>\n",
       "      <td>6362.0</td>\n",
       "      <td>2023-05-02 03:00:00</td>\n",
       "      <td>2997.68</td>\n",
       "      <td>0.00</td>\n",
       "      <td>PSCO_BHCE</td>\n",
       "      <td>10.971367</td>\n",
       "      <td>3</td>\n",
       "      <td>1</td>\n",
       "      <td>5</td>\n",
       "      <td>0.469561</td>\n",
       "    </tr>\n",
       "    <tr>\n",
       "      <th>...</th>\n",
       "      <td>...</td>\n",
       "      <td>...</td>\n",
       "      <td>...</td>\n",
       "      <td>...</td>\n",
       "      <td>...</td>\n",
       "      <td>...</td>\n",
       "      <td>...</td>\n",
       "      <td>...</td>\n",
       "      <td>...</td>\n",
       "      <td>...</td>\n",
       "      <td>...</td>\n",
       "    </tr>\n",
       "    <tr>\n",
       "      <th>85399</th>\n",
       "      <td>10450</td>\n",
       "      <td>10672.0</td>\n",
       "      <td>2024-08-23 19:00:00</td>\n",
       "      <td>2119.33</td>\n",
       "      <td>45.43</td>\n",
       "      <td>PSCO_UPIP_UPI</td>\n",
       "      <td>26.209600</td>\n",
       "      <td>19</td>\n",
       "      <td>4</td>\n",
       "      <td>8</td>\n",
       "      <td>0.207154</td>\n",
       "    </tr>\n",
       "    <tr>\n",
       "      <th>85400</th>\n",
       "      <td>10227</td>\n",
       "      <td>10320.0</td>\n",
       "      <td>2024-08-23 20:00:00</td>\n",
       "      <td>1323.80</td>\n",
       "      <td>0.00</td>\n",
       "      <td>PSCO_UPIP_UPI</td>\n",
       "      <td>19.366533</td>\n",
       "      <td>20</td>\n",
       "      <td>4</td>\n",
       "      <td>8</td>\n",
       "      <td>0.129442</td>\n",
       "    </tr>\n",
       "    <tr>\n",
       "      <th>85401</th>\n",
       "      <td>9848</td>\n",
       "      <td>9768.0</td>\n",
       "      <td>2024-08-23 21:00:00</td>\n",
       "      <td>1528.30</td>\n",
       "      <td>0.00</td>\n",
       "      <td>PSCO_UPIP_UPI</td>\n",
       "      <td>17.024517</td>\n",
       "      <td>21</td>\n",
       "      <td>4</td>\n",
       "      <td>8</td>\n",
       "      <td>0.155189</td>\n",
       "    </tr>\n",
       "    <tr>\n",
       "      <th>85402</th>\n",
       "      <td>9121</td>\n",
       "      <td>9064.0</td>\n",
       "      <td>2024-08-23 22:00:00</td>\n",
       "      <td>1888.73</td>\n",
       "      <td>0.00</td>\n",
       "      <td>PSCO_UPIP_UPI</td>\n",
       "      <td>13.986367</td>\n",
       "      <td>22</td>\n",
       "      <td>4</td>\n",
       "      <td>8</td>\n",
       "      <td>0.207075</td>\n",
       "    </tr>\n",
       "    <tr>\n",
       "      <th>85403</th>\n",
       "      <td>8295</td>\n",
       "      <td>8699.0</td>\n",
       "      <td>2024-08-23 23:00:00</td>\n",
       "      <td>1862.26</td>\n",
       "      <td>0.00</td>\n",
       "      <td>PSCO_UPIP_UPI</td>\n",
       "      <td>15.157900</td>\n",
       "      <td>23</td>\n",
       "      <td>4</td>\n",
       "      <td>8</td>\n",
       "      <td>0.224504</td>\n",
       "    </tr>\n",
       "  </tbody>\n",
       "</table>\n",
       "<p>85404 rows × 11 columns</p>\n",
       "</div>"
      ],
      "text/plain": [
       "        MTLF  Averaged_Actual                  ds  Wind_Forecast_MW  \\\n",
       "0       6818           6809.0 2023-05-01 23:00:00           3571.73   \n",
       "1       6597           6511.0 2023-05-02 00:00:00           3339.18   \n",
       "2       6507           6372.0 2023-05-02 01:00:00           3195.45   \n",
       "3       6344           6334.0 2023-05-02 02:00:00           3296.07   \n",
       "4       6384           6362.0 2023-05-02 03:00:00           2997.68   \n",
       "...      ...              ...                 ...               ...   \n",
       "85399  10450          10672.0 2024-08-23 19:00:00           2119.33   \n",
       "85400  10227          10320.0 2024-08-23 20:00:00           1323.80   \n",
       "85401   9848           9768.0 2024-08-23 21:00:00           1528.30   \n",
       "85402   9121           9064.0 2024-08-23 22:00:00           1888.73   \n",
       "85403   8295           8699.0 2024-08-23 23:00:00           1862.26   \n",
       "\n",
       "       Solar_Forecast_MW      unique_id          y  hour  weekday  month  \\\n",
       "0                   0.00      PSCO_BHCE   0.922608    23        0      5   \n",
       "1                   0.00      PSCO_BHCE   0.926283     0        1      5   \n",
       "2                   0.00      PSCO_BHCE   2.659375     1        1      5   \n",
       "3                   0.00      PSCO_BHCE  13.408308     2        1      5   \n",
       "4                   0.00      PSCO_BHCE  10.971367     3        1      5   \n",
       "...                  ...            ...        ...   ...      ...    ...   \n",
       "85399              45.43  PSCO_UPIP_UPI  26.209600    19        4      8   \n",
       "85400               0.00  PSCO_UPIP_UPI  19.366533    20        4      8   \n",
       "85401               0.00  PSCO_UPIP_UPI  17.024517    21        4      8   \n",
       "85402               0.00  PSCO_UPIP_UPI  13.986367    22        4      8   \n",
       "85403               0.00  PSCO_UPIP_UPI  15.157900    23        4      8   \n",
       "\n",
       "       re_ratio  \n",
       "0      0.523868  \n",
       "1      0.506166  \n",
       "2      0.491079  \n",
       "3      0.519557  \n",
       "4      0.469561  \n",
       "...         ...  \n",
       "85399  0.207154  \n",
       "85400  0.129442  \n",
       "85401  0.155189  \n",
       "85402  0.207075  \n",
       "85403  0.224504  \n",
       "\n",
       "[85404 rows x 11 columns]"
      ]
     },
     "execution_count": 169,
     "metadata": {},
     "output_type": "execute_result"
    }
   ],
   "source": [
    "all_df_pd = all_df_pd[all_df_pd.unique_id.isin(node_groups)].reset_index(drop=True)\n",
    "all_df_pd"
   ]
  },
  {
   "cell_type": "code",
   "execution_count": 170,
   "id": "f8da0955-18da-4fdb-ba57-3c566496452e",
   "metadata": {},
   "outputs": [
    {
     "name": "stderr",
     "output_type": "stream",
     "text": [
      "Seed set to 1\n"
     ]
    }
   ],
   "source": [
    "horizon = 48\n",
    "input_size = 14\n",
    "futr_exog_list = ['MTLF', 'Wind_Forecast_MW', 'Solar_Forecast_MW', 're_ratio', 'hour', 'weekday', 'month']\n",
    "hist_exog_list = ['Averaged_Actual']\n",
    "n_series = len(node_groups)\n",
    "\n",
    "model = TSMixerx(\n",
    "    h = horizon,\n",
    "    input_size = input_size,\n",
    "    n_series = n_series,\n",
    "    futr_exog_list = futr_exog_list,\n",
    "    hist_exog_list = hist_exog_list,\n",
    "    scaler_type = 'robust', \n",
    "    max_steps=10_000\n",
    ")"
   ]
  },
  {
   "cell_type": "code",
   "execution_count": 171,
   "id": "65d53e76-7e84-495e-921b-24e00a0d7f77",
   "metadata": {},
   "outputs": [],
   "source": [
    "from neuralforecast.core import NeuralForecast"
   ]
  },
  {
   "cell_type": "code",
   "execution_count": 172,
   "id": "655f12ad-8645-4ab2-ab1d-14977734bf85",
   "metadata": {},
   "outputs": [],
   "source": [
    "nf = NeuralForecast(models=[model], freq='H')"
   ]
  },
  {
   "cell_type": "code",
   "execution_count": 173,
   "id": "e16a515e-f520-4efa-94cf-856bb5cc19dc",
   "metadata": {},
   "outputs": [
    {
     "name": "stderr",
     "output_type": "stream",
     "text": [
      "GPU available: True (cuda), used: True\n",
      "TPU available: False, using: 0 TPU cores\n",
      "HPU available: False, using: 0 HPUs\n",
      "LOCAL_RANK: 0 - CUDA_VISIBLE_DEVICES: [0]\n",
      "\n",
      "  | Name                | Type                     | Params | Mode \n",
      "-------------------------------------------------------------------------\n",
      "0 | loss                | MAE                      | 0      | train\n",
      "1 | padder              | ConstantPad1d            | 0      | train\n",
      "2 | scaler              | TemporalNorm             | 0      | train\n",
      "3 | norm                | ReversibleInstanceNorm1d | 18     | train\n",
      "4 | temporal_projection | Linear                   | 720    | train\n",
      "5 | feature_mixer_hist  | FeatureMixing            | 20.8 K | train\n",
      "6 | feature_mixer_futr  | FeatureMixing            | 18.5 K | train\n",
      "7 | first_mixing        | MixingLayer              | 41.5 K | train\n",
      "8 | mixing_block        | Sequential               | 45.9 K | train\n",
      "9 | out                 | Linear                   | 585    | train\n",
      "-------------------------------------------------------------------------\n",
      "127 K     Trainable params\n",
      "0         Non-trainable params\n",
      "127 K     Total params\n",
      "0.512     Total estimated model params size (MB)\n",
      "55        Modules in train mode\n",
      "0         Modules in eval mode\n"
     ]
    },
    {
     "data": {
      "application/vnd.jupyter.widget-view+json": {
       "model_id": "",
       "version_major": 2,
       "version_minor": 0
      },
      "text/plain": [
       "Sanity Checking: |                                                                                            …"
      ]
     },
     "metadata": {},
     "output_type": "display_data"
    },
    {
     "data": {
      "application/vnd.jupyter.widget-view+json": {
       "model_id": "26e7cfad13864631a1eb23bde6c245eb",
       "version_major": 2,
       "version_minor": 0
      },
      "text/plain": [
       "Training: |                                                                                                   …"
      ]
     },
     "metadata": {},
     "output_type": "display_data"
    },
    {
     "data": {
      "application/vnd.jupyter.widget-view+json": {
       "model_id": "",
       "version_major": 2,
       "version_minor": 0
      },
      "text/plain": [
       "Validation: |                                                                                                 …"
      ]
     },
     "metadata": {},
     "output_type": "display_data"
    },
    {
     "data": {
      "application/vnd.jupyter.widget-view+json": {
       "model_id": "",
       "version_major": 2,
       "version_minor": 0
      },
      "text/plain": [
       "Validation: |                                                                                                 …"
      ]
     },
     "metadata": {},
     "output_type": "display_data"
    },
    {
     "data": {
      "application/vnd.jupyter.widget-view+json": {
       "model_id": "",
       "version_major": 2,
       "version_minor": 0
      },
      "text/plain": [
       "Validation: |                                                                                                 …"
      ]
     },
     "metadata": {},
     "output_type": "display_data"
    },
    {
     "data": {
      "application/vnd.jupyter.widget-view+json": {
       "model_id": "",
       "version_major": 2,
       "version_minor": 0
      },
      "text/plain": [
       "Validation: |                                                                                                 …"
      ]
     },
     "metadata": {},
     "output_type": "display_data"
    },
    {
     "data": {
      "application/vnd.jupyter.widget-view+json": {
       "model_id": "",
       "version_major": 2,
       "version_minor": 0
      },
      "text/plain": [
       "Validation: |                                                                                                 …"
      ]
     },
     "metadata": {},
     "output_type": "display_data"
    },
    {
     "data": {
      "application/vnd.jupyter.widget-view+json": {
       "model_id": "",
       "version_major": 2,
       "version_minor": 0
      },
      "text/plain": [
       "Validation: |                                                                                                 …"
      ]
     },
     "metadata": {},
     "output_type": "display_data"
    },
    {
     "data": {
      "application/vnd.jupyter.widget-view+json": {
       "model_id": "",
       "version_major": 2,
       "version_minor": 0
      },
      "text/plain": [
       "Validation: |                                                                                                 …"
      ]
     },
     "metadata": {},
     "output_type": "display_data"
    },
    {
     "data": {
      "application/vnd.jupyter.widget-view+json": {
       "model_id": "",
       "version_major": 2,
       "version_minor": 0
      },
      "text/plain": [
       "Validation: |                                                                                                 …"
      ]
     },
     "metadata": {},
     "output_type": "display_data"
    },
    {
     "data": {
      "application/vnd.jupyter.widget-view+json": {
       "model_id": "",
       "version_major": 2,
       "version_minor": 0
      },
      "text/plain": [
       "Validation: |                                                                                                 …"
      ]
     },
     "metadata": {},
     "output_type": "display_data"
    },
    {
     "data": {
      "application/vnd.jupyter.widget-view+json": {
       "model_id": "",
       "version_major": 2,
       "version_minor": 0
      },
      "text/plain": [
       "Validation: |                                                                                                 …"
      ]
     },
     "metadata": {},
     "output_type": "display_data"
    },
    {
     "data": {
      "application/vnd.jupyter.widget-view+json": {
       "model_id": "",
       "version_major": 2,
       "version_minor": 0
      },
      "text/plain": [
       "Validation: |                                                                                                 …"
      ]
     },
     "metadata": {},
     "output_type": "display_data"
    },
    {
     "data": {
      "application/vnd.jupyter.widget-view+json": {
       "model_id": "",
       "version_major": 2,
       "version_minor": 0
      },
      "text/plain": [
       "Validation: |                                                                                                 …"
      ]
     },
     "metadata": {},
     "output_type": "display_data"
    },
    {
     "data": {
      "application/vnd.jupyter.widget-view+json": {
       "model_id": "",
       "version_major": 2,
       "version_minor": 0
      },
      "text/plain": [
       "Validation: |                                                                                                 …"
      ]
     },
     "metadata": {},
     "output_type": "display_data"
    },
    {
     "data": {
      "application/vnd.jupyter.widget-view+json": {
       "model_id": "",
       "version_major": 2,
       "version_minor": 0
      },
      "text/plain": [
       "Validation: |                                                                                                 …"
      ]
     },
     "metadata": {},
     "output_type": "display_data"
    },
    {
     "data": {
      "application/vnd.jupyter.widget-view+json": {
       "model_id": "",
       "version_major": 2,
       "version_minor": 0
      },
      "text/plain": [
       "Validation: |                                                                                                 …"
      ]
     },
     "metadata": {},
     "output_type": "display_data"
    },
    {
     "data": {
      "application/vnd.jupyter.widget-view+json": {
       "model_id": "",
       "version_major": 2,
       "version_minor": 0
      },
      "text/plain": [
       "Validation: |                                                                                                 …"
      ]
     },
     "metadata": {},
     "output_type": "display_data"
    },
    {
     "data": {
      "application/vnd.jupyter.widget-view+json": {
       "model_id": "",
       "version_major": 2,
       "version_minor": 0
      },
      "text/plain": [
       "Validation: |                                                                                                 …"
      ]
     },
     "metadata": {},
     "output_type": "display_data"
    },
    {
     "data": {
      "application/vnd.jupyter.widget-view+json": {
       "model_id": "",
       "version_major": 2,
       "version_minor": 0
      },
      "text/plain": [
       "Validation: |                                                                                                 …"
      ]
     },
     "metadata": {},
     "output_type": "display_data"
    },
    {
     "data": {
      "application/vnd.jupyter.widget-view+json": {
       "model_id": "",
       "version_major": 2,
       "version_minor": 0
      },
      "text/plain": [
       "Validation: |                                                                                                 …"
      ]
     },
     "metadata": {},
     "output_type": "display_data"
    },
    {
     "data": {
      "application/vnd.jupyter.widget-view+json": {
       "model_id": "",
       "version_major": 2,
       "version_minor": 0
      },
      "text/plain": [
       "Validation: |                                                                                                 …"
      ]
     },
     "metadata": {},
     "output_type": "display_data"
    },
    {
     "data": {
      "application/vnd.jupyter.widget-view+json": {
       "model_id": "",
       "version_major": 2,
       "version_minor": 0
      },
      "text/plain": [
       "Validation: |                                                                                                 …"
      ]
     },
     "metadata": {},
     "output_type": "display_data"
    },
    {
     "data": {
      "application/vnd.jupyter.widget-view+json": {
       "model_id": "",
       "version_major": 2,
       "version_minor": 0
      },
      "text/plain": [
       "Validation: |                                                                                                 …"
      ]
     },
     "metadata": {},
     "output_type": "display_data"
    },
    {
     "data": {
      "application/vnd.jupyter.widget-view+json": {
       "model_id": "",
       "version_major": 2,
       "version_minor": 0
      },
      "text/plain": [
       "Validation: |                                                                                                 …"
      ]
     },
     "metadata": {},
     "output_type": "display_data"
    },
    {
     "data": {
      "application/vnd.jupyter.widget-view+json": {
       "model_id": "",
       "version_major": 2,
       "version_minor": 0
      },
      "text/plain": [
       "Validation: |                                                                                                 …"
      ]
     },
     "metadata": {},
     "output_type": "display_data"
    },
    {
     "data": {
      "application/vnd.jupyter.widget-view+json": {
       "model_id": "",
       "version_major": 2,
       "version_minor": 0
      },
      "text/plain": [
       "Validation: |                                                                                                 …"
      ]
     },
     "metadata": {},
     "output_type": "display_data"
    },
    {
     "data": {
      "application/vnd.jupyter.widget-view+json": {
       "model_id": "",
       "version_major": 2,
       "version_minor": 0
      },
      "text/plain": [
       "Validation: |                                                                                                 …"
      ]
     },
     "metadata": {},
     "output_type": "display_data"
    },
    {
     "data": {
      "application/vnd.jupyter.widget-view+json": {
       "model_id": "",
       "version_major": 2,
       "version_minor": 0
      },
      "text/plain": [
       "Validation: |                                                                                                 …"
      ]
     },
     "metadata": {},
     "output_type": "display_data"
    },
    {
     "data": {
      "application/vnd.jupyter.widget-view+json": {
       "model_id": "",
       "version_major": 2,
       "version_minor": 0
      },
      "text/plain": [
       "Validation: |                                                                                                 …"
      ]
     },
     "metadata": {},
     "output_type": "display_data"
    },
    {
     "data": {
      "application/vnd.jupyter.widget-view+json": {
       "model_id": "",
       "version_major": 2,
       "version_minor": 0
      },
      "text/plain": [
       "Validation: |                                                                                                 …"
      ]
     },
     "metadata": {},
     "output_type": "display_data"
    },
    {
     "data": {
      "application/vnd.jupyter.widget-view+json": {
       "model_id": "",
       "version_major": 2,
       "version_minor": 0
      },
      "text/plain": [
       "Validation: |                                                                                                 …"
      ]
     },
     "metadata": {},
     "output_type": "display_data"
    },
    {
     "data": {
      "application/vnd.jupyter.widget-view+json": {
       "model_id": "",
       "version_major": 2,
       "version_minor": 0
      },
      "text/plain": [
       "Validation: |                                                                                                 …"
      ]
     },
     "metadata": {},
     "output_type": "display_data"
    },
    {
     "data": {
      "application/vnd.jupyter.widget-view+json": {
       "model_id": "",
       "version_major": 2,
       "version_minor": 0
      },
      "text/plain": [
       "Validation: |                                                                                                 …"
      ]
     },
     "metadata": {},
     "output_type": "display_data"
    },
    {
     "data": {
      "application/vnd.jupyter.widget-view+json": {
       "model_id": "",
       "version_major": 2,
       "version_minor": 0
      },
      "text/plain": [
       "Validation: |                                                                                                 …"
      ]
     },
     "metadata": {},
     "output_type": "display_data"
    },
    {
     "data": {
      "application/vnd.jupyter.widget-view+json": {
       "model_id": "",
       "version_major": 2,
       "version_minor": 0
      },
      "text/plain": [
       "Validation: |                                                                                                 …"
      ]
     },
     "metadata": {},
     "output_type": "display_data"
    },
    {
     "data": {
      "application/vnd.jupyter.widget-view+json": {
       "model_id": "",
       "version_major": 2,
       "version_minor": 0
      },
      "text/plain": [
       "Validation: |                                                                                                 …"
      ]
     },
     "metadata": {},
     "output_type": "display_data"
    },
    {
     "data": {
      "application/vnd.jupyter.widget-view+json": {
       "model_id": "",
       "version_major": 2,
       "version_minor": 0
      },
      "text/plain": [
       "Validation: |                                                                                                 …"
      ]
     },
     "metadata": {},
     "output_type": "display_data"
    },
    {
     "data": {
      "application/vnd.jupyter.widget-view+json": {
       "model_id": "",
       "version_major": 2,
       "version_minor": 0
      },
      "text/plain": [
       "Validation: |                                                                                                 …"
      ]
     },
     "metadata": {},
     "output_type": "display_data"
    },
    {
     "data": {
      "application/vnd.jupyter.widget-view+json": {
       "model_id": "",
       "version_major": 2,
       "version_minor": 0
      },
      "text/plain": [
       "Validation: |                                                                                                 …"
      ]
     },
     "metadata": {},
     "output_type": "display_data"
    },
    {
     "data": {
      "application/vnd.jupyter.widget-view+json": {
       "model_id": "",
       "version_major": 2,
       "version_minor": 0
      },
      "text/plain": [
       "Validation: |                                                                                                 …"
      ]
     },
     "metadata": {},
     "output_type": "display_data"
    },
    {
     "data": {
      "application/vnd.jupyter.widget-view+json": {
       "model_id": "",
       "version_major": 2,
       "version_minor": 0
      },
      "text/plain": [
       "Validation: |                                                                                                 …"
      ]
     },
     "metadata": {},
     "output_type": "display_data"
    },
    {
     "data": {
      "application/vnd.jupyter.widget-view+json": {
       "model_id": "",
       "version_major": 2,
       "version_minor": 0
      },
      "text/plain": [
       "Validation: |                                                                                                 …"
      ]
     },
     "metadata": {},
     "output_type": "display_data"
    },
    {
     "data": {
      "application/vnd.jupyter.widget-view+json": {
       "model_id": "",
       "version_major": 2,
       "version_minor": 0
      },
      "text/plain": [
       "Validation: |                                                                                                 …"
      ]
     },
     "metadata": {},
     "output_type": "display_data"
    },
    {
     "data": {
      "application/vnd.jupyter.widget-view+json": {
       "model_id": "",
       "version_major": 2,
       "version_minor": 0
      },
      "text/plain": [
       "Validation: |                                                                                                 …"
      ]
     },
     "metadata": {},
     "output_type": "display_data"
    },
    {
     "data": {
      "application/vnd.jupyter.widget-view+json": {
       "model_id": "",
       "version_major": 2,
       "version_minor": 0
      },
      "text/plain": [
       "Validation: |                                                                                                 …"
      ]
     },
     "metadata": {},
     "output_type": "display_data"
    },
    {
     "data": {
      "application/vnd.jupyter.widget-view+json": {
       "model_id": "",
       "version_major": 2,
       "version_minor": 0
      },
      "text/plain": [
       "Validation: |                                                                                                 …"
      ]
     },
     "metadata": {},
     "output_type": "display_data"
    },
    {
     "data": {
      "application/vnd.jupyter.widget-view+json": {
       "model_id": "",
       "version_major": 2,
       "version_minor": 0
      },
      "text/plain": [
       "Validation: |                                                                                                 …"
      ]
     },
     "metadata": {},
     "output_type": "display_data"
    },
    {
     "data": {
      "application/vnd.jupyter.widget-view+json": {
       "model_id": "",
       "version_major": 2,
       "version_minor": 0
      },
      "text/plain": [
       "Validation: |                                                                                                 …"
      ]
     },
     "metadata": {},
     "output_type": "display_data"
    },
    {
     "data": {
      "application/vnd.jupyter.widget-view+json": {
       "model_id": "",
       "version_major": 2,
       "version_minor": 0
      },
      "text/plain": [
       "Validation: |                                                                                                 …"
      ]
     },
     "metadata": {},
     "output_type": "display_data"
    },
    {
     "data": {
      "application/vnd.jupyter.widget-view+json": {
       "model_id": "",
       "version_major": 2,
       "version_minor": 0
      },
      "text/plain": [
       "Validation: |                                                                                                 …"
      ]
     },
     "metadata": {},
     "output_type": "display_data"
    },
    {
     "data": {
      "application/vnd.jupyter.widget-view+json": {
       "model_id": "",
       "version_major": 2,
       "version_minor": 0
      },
      "text/plain": [
       "Validation: |                                                                                                 …"
      ]
     },
     "metadata": {},
     "output_type": "display_data"
    },
    {
     "data": {
      "application/vnd.jupyter.widget-view+json": {
       "model_id": "",
       "version_major": 2,
       "version_minor": 0
      },
      "text/plain": [
       "Validation: |                                                                                                 …"
      ]
     },
     "metadata": {},
     "output_type": "display_data"
    },
    {
     "data": {
      "application/vnd.jupyter.widget-view+json": {
       "model_id": "",
       "version_major": 2,
       "version_minor": 0
      },
      "text/plain": [
       "Validation: |                                                                                                 …"
      ]
     },
     "metadata": {},
     "output_type": "display_data"
    },
    {
     "data": {
      "application/vnd.jupyter.widget-view+json": {
       "model_id": "",
       "version_major": 2,
       "version_minor": 0
      },
      "text/plain": [
       "Validation: |                                                                                                 …"
      ]
     },
     "metadata": {},
     "output_type": "display_data"
    },
    {
     "data": {
      "application/vnd.jupyter.widget-view+json": {
       "model_id": "",
       "version_major": 2,
       "version_minor": 0
      },
      "text/plain": [
       "Validation: |                                                                                                 …"
      ]
     },
     "metadata": {},
     "output_type": "display_data"
    },
    {
     "data": {
      "application/vnd.jupyter.widget-view+json": {
       "model_id": "",
       "version_major": 2,
       "version_minor": 0
      },
      "text/plain": [
       "Validation: |                                                                                                 …"
      ]
     },
     "metadata": {},
     "output_type": "display_data"
    },
    {
     "data": {
      "application/vnd.jupyter.widget-view+json": {
       "model_id": "",
       "version_major": 2,
       "version_minor": 0
      },
      "text/plain": [
       "Validation: |                                                                                                 …"
      ]
     },
     "metadata": {},
     "output_type": "display_data"
    },
    {
     "data": {
      "application/vnd.jupyter.widget-view+json": {
       "model_id": "",
       "version_major": 2,
       "version_minor": 0
      },
      "text/plain": [
       "Validation: |                                                                                                 …"
      ]
     },
     "metadata": {},
     "output_type": "display_data"
    },
    {
     "data": {
      "application/vnd.jupyter.widget-view+json": {
       "model_id": "",
       "version_major": 2,
       "version_minor": 0
      },
      "text/plain": [
       "Validation: |                                                                                                 …"
      ]
     },
     "metadata": {},
     "output_type": "display_data"
    },
    {
     "data": {
      "application/vnd.jupyter.widget-view+json": {
       "model_id": "",
       "version_major": 2,
       "version_minor": 0
      },
      "text/plain": [
       "Validation: |                                                                                                 …"
      ]
     },
     "metadata": {},
     "output_type": "display_data"
    },
    {
     "data": {
      "application/vnd.jupyter.widget-view+json": {
       "model_id": "",
       "version_major": 2,
       "version_minor": 0
      },
      "text/plain": [
       "Validation: |                                                                                                 …"
      ]
     },
     "metadata": {},
     "output_type": "display_data"
    },
    {
     "data": {
      "application/vnd.jupyter.widget-view+json": {
       "model_id": "",
       "version_major": 2,
       "version_minor": 0
      },
      "text/plain": [
       "Validation: |                                                                                                 …"
      ]
     },
     "metadata": {},
     "output_type": "display_data"
    },
    {
     "data": {
      "application/vnd.jupyter.widget-view+json": {
       "model_id": "",
       "version_major": 2,
       "version_minor": 0
      },
      "text/plain": [
       "Validation: |                                                                                                 …"
      ]
     },
     "metadata": {},
     "output_type": "display_data"
    },
    {
     "data": {
      "application/vnd.jupyter.widget-view+json": {
       "model_id": "",
       "version_major": 2,
       "version_minor": 0
      },
      "text/plain": [
       "Validation: |                                                                                                 …"
      ]
     },
     "metadata": {},
     "output_type": "display_data"
    },
    {
     "data": {
      "application/vnd.jupyter.widget-view+json": {
       "model_id": "",
       "version_major": 2,
       "version_minor": 0
      },
      "text/plain": [
       "Validation: |                                                                                                 …"
      ]
     },
     "metadata": {},
     "output_type": "display_data"
    },
    {
     "data": {
      "application/vnd.jupyter.widget-view+json": {
       "model_id": "",
       "version_major": 2,
       "version_minor": 0
      },
      "text/plain": [
       "Validation: |                                                                                                 …"
      ]
     },
     "metadata": {},
     "output_type": "display_data"
    },
    {
     "data": {
      "application/vnd.jupyter.widget-view+json": {
       "model_id": "",
       "version_major": 2,
       "version_minor": 0
      },
      "text/plain": [
       "Validation: |                                                                                                 …"
      ]
     },
     "metadata": {},
     "output_type": "display_data"
    },
    {
     "data": {
      "application/vnd.jupyter.widget-view+json": {
       "model_id": "",
       "version_major": 2,
       "version_minor": 0
      },
      "text/plain": [
       "Validation: |                                                                                                 …"
      ]
     },
     "metadata": {},
     "output_type": "display_data"
    },
    {
     "data": {
      "application/vnd.jupyter.widget-view+json": {
       "model_id": "",
       "version_major": 2,
       "version_minor": 0
      },
      "text/plain": [
       "Validation: |                                                                                                 …"
      ]
     },
     "metadata": {},
     "output_type": "display_data"
    },
    {
     "data": {
      "application/vnd.jupyter.widget-view+json": {
       "model_id": "",
       "version_major": 2,
       "version_minor": 0
      },
      "text/plain": [
       "Validation: |                                                                                                 …"
      ]
     },
     "metadata": {},
     "output_type": "display_data"
    },
    {
     "data": {
      "application/vnd.jupyter.widget-view+json": {
       "model_id": "",
       "version_major": 2,
       "version_minor": 0
      },
      "text/plain": [
       "Validation: |                                                                                                 …"
      ]
     },
     "metadata": {},
     "output_type": "display_data"
    },
    {
     "data": {
      "application/vnd.jupyter.widget-view+json": {
       "model_id": "",
       "version_major": 2,
       "version_minor": 0
      },
      "text/plain": [
       "Validation: |                                                                                                 …"
      ]
     },
     "metadata": {},
     "output_type": "display_data"
    },
    {
     "data": {
      "application/vnd.jupyter.widget-view+json": {
       "model_id": "",
       "version_major": 2,
       "version_minor": 0
      },
      "text/plain": [
       "Validation: |                                                                                                 …"
      ]
     },
     "metadata": {},
     "output_type": "display_data"
    },
    {
     "data": {
      "application/vnd.jupyter.widget-view+json": {
       "model_id": "",
       "version_major": 2,
       "version_minor": 0
      },
      "text/plain": [
       "Validation: |                                                                                                 …"
      ]
     },
     "metadata": {},
     "output_type": "display_data"
    },
    {
     "data": {
      "application/vnd.jupyter.widget-view+json": {
       "model_id": "",
       "version_major": 2,
       "version_minor": 0
      },
      "text/plain": [
       "Validation: |                                                                                                 …"
      ]
     },
     "metadata": {},
     "output_type": "display_data"
    },
    {
     "data": {
      "application/vnd.jupyter.widget-view+json": {
       "model_id": "",
       "version_major": 2,
       "version_minor": 0
      },
      "text/plain": [
       "Validation: |                                                                                                 …"
      ]
     },
     "metadata": {},
     "output_type": "display_data"
    },
    {
     "data": {
      "application/vnd.jupyter.widget-view+json": {
       "model_id": "",
       "version_major": 2,
       "version_minor": 0
      },
      "text/plain": [
       "Validation: |                                                                                                 …"
      ]
     },
     "metadata": {},
     "output_type": "display_data"
    },
    {
     "data": {
      "application/vnd.jupyter.widget-view+json": {
       "model_id": "",
       "version_major": 2,
       "version_minor": 0
      },
      "text/plain": [
       "Validation: |                                                                                                 …"
      ]
     },
     "metadata": {},
     "output_type": "display_data"
    },
    {
     "data": {
      "application/vnd.jupyter.widget-view+json": {
       "model_id": "",
       "version_major": 2,
       "version_minor": 0
      },
      "text/plain": [
       "Validation: |                                                                                                 …"
      ]
     },
     "metadata": {},
     "output_type": "display_data"
    },
    {
     "data": {
      "application/vnd.jupyter.widget-view+json": {
       "model_id": "",
       "version_major": 2,
       "version_minor": 0
      },
      "text/plain": [
       "Validation: |                                                                                                 …"
      ]
     },
     "metadata": {},
     "output_type": "display_data"
    },
    {
     "data": {
      "application/vnd.jupyter.widget-view+json": {
       "model_id": "",
       "version_major": 2,
       "version_minor": 0
      },
      "text/plain": [
       "Validation: |                                                                                                 …"
      ]
     },
     "metadata": {},
     "output_type": "display_data"
    },
    {
     "data": {
      "application/vnd.jupyter.widget-view+json": {
       "model_id": "",
       "version_major": 2,
       "version_minor": 0
      },
      "text/plain": [
       "Validation: |                                                                                                 …"
      ]
     },
     "metadata": {},
     "output_type": "display_data"
    },
    {
     "data": {
      "application/vnd.jupyter.widget-view+json": {
       "model_id": "",
       "version_major": 2,
       "version_minor": 0
      },
      "text/plain": [
       "Validation: |                                                                                                 …"
      ]
     },
     "metadata": {},
     "output_type": "display_data"
    },
    {
     "data": {
      "application/vnd.jupyter.widget-view+json": {
       "model_id": "",
       "version_major": 2,
       "version_minor": 0
      },
      "text/plain": [
       "Validation: |                                                                                                 …"
      ]
     },
     "metadata": {},
     "output_type": "display_data"
    },
    {
     "data": {
      "application/vnd.jupyter.widget-view+json": {
       "model_id": "",
       "version_major": 2,
       "version_minor": 0
      },
      "text/plain": [
       "Validation: |                                                                                                 …"
      ]
     },
     "metadata": {},
     "output_type": "display_data"
    },
    {
     "data": {
      "application/vnd.jupyter.widget-view+json": {
       "model_id": "",
       "version_major": 2,
       "version_minor": 0
      },
      "text/plain": [
       "Validation: |                                                                                                 …"
      ]
     },
     "metadata": {},
     "output_type": "display_data"
    },
    {
     "data": {
      "application/vnd.jupyter.widget-view+json": {
       "model_id": "",
       "version_major": 2,
       "version_minor": 0
      },
      "text/plain": [
       "Validation: |                                                                                                 …"
      ]
     },
     "metadata": {},
     "output_type": "display_data"
    },
    {
     "data": {
      "application/vnd.jupyter.widget-view+json": {
       "model_id": "",
       "version_major": 2,
       "version_minor": 0
      },
      "text/plain": [
       "Validation: |                                                                                                 …"
      ]
     },
     "metadata": {},
     "output_type": "display_data"
    },
    {
     "data": {
      "application/vnd.jupyter.widget-view+json": {
       "model_id": "",
       "version_major": 2,
       "version_minor": 0
      },
      "text/plain": [
       "Validation: |                                                                                                 …"
      ]
     },
     "metadata": {},
     "output_type": "display_data"
    },
    {
     "data": {
      "application/vnd.jupyter.widget-view+json": {
       "model_id": "",
       "version_major": 2,
       "version_minor": 0
      },
      "text/plain": [
       "Validation: |                                                                                                 …"
      ]
     },
     "metadata": {},
     "output_type": "display_data"
    },
    {
     "data": {
      "application/vnd.jupyter.widget-view+json": {
       "model_id": "",
       "version_major": 2,
       "version_minor": 0
      },
      "text/plain": [
       "Validation: |                                                                                                 …"
      ]
     },
     "metadata": {},
     "output_type": "display_data"
    },
    {
     "data": {
      "application/vnd.jupyter.widget-view+json": {
       "model_id": "",
       "version_major": 2,
       "version_minor": 0
      },
      "text/plain": [
       "Validation: |                                                                                                 …"
      ]
     },
     "metadata": {},
     "output_type": "display_data"
    },
    {
     "data": {
      "application/vnd.jupyter.widget-view+json": {
       "model_id": "",
       "version_major": 2,
       "version_minor": 0
      },
      "text/plain": [
       "Validation: |                                                                                                 …"
      ]
     },
     "metadata": {},
     "output_type": "display_data"
    },
    {
     "data": {
      "application/vnd.jupyter.widget-view+json": {
       "model_id": "",
       "version_major": 2,
       "version_minor": 0
      },
      "text/plain": [
       "Validation: |                                                                                                 …"
      ]
     },
     "metadata": {},
     "output_type": "display_data"
    },
    {
     "data": {
      "application/vnd.jupyter.widget-view+json": {
       "model_id": "",
       "version_major": 2,
       "version_minor": 0
      },
      "text/plain": [
       "Validation: |                                                                                                 …"
      ]
     },
     "metadata": {},
     "output_type": "display_data"
    },
    {
     "data": {
      "application/vnd.jupyter.widget-view+json": {
       "model_id": "",
       "version_major": 2,
       "version_minor": 0
      },
      "text/plain": [
       "Validation: |                                                                                                 …"
      ]
     },
     "metadata": {},
     "output_type": "display_data"
    },
    {
     "data": {
      "application/vnd.jupyter.widget-view+json": {
       "model_id": "",
       "version_major": 2,
       "version_minor": 0
      },
      "text/plain": [
       "Validation: |                                                                                                 …"
      ]
     },
     "metadata": {},
     "output_type": "display_data"
    },
    {
     "data": {
      "application/vnd.jupyter.widget-view+json": {
       "model_id": "",
       "version_major": 2,
       "version_minor": 0
      },
      "text/plain": [
       "Validation: |                                                                                                 …"
      ]
     },
     "metadata": {},
     "output_type": "display_data"
    },
    {
     "data": {
      "application/vnd.jupyter.widget-view+json": {
       "model_id": "",
       "version_major": 2,
       "version_minor": 0
      },
      "text/plain": [
       "Validation: |                                                                                                 …"
      ]
     },
     "metadata": {},
     "output_type": "display_data"
    },
    {
     "data": {
      "application/vnd.jupyter.widget-view+json": {
       "model_id": "",
       "version_major": 2,
       "version_minor": 0
      },
      "text/plain": [
       "Validation: |                                                                                                 …"
      ]
     },
     "metadata": {},
     "output_type": "display_data"
    },
    {
     "data": {
      "application/vnd.jupyter.widget-view+json": {
       "model_id": "",
       "version_major": 2,
       "version_minor": 0
      },
      "text/plain": [
       "Validation: |                                                                                                 …"
      ]
     },
     "metadata": {},
     "output_type": "display_data"
    },
    {
     "name": "stderr",
     "output_type": "stream",
     "text": [
      "`Trainer.fit` stopped: `max_steps=10000` reached.\n"
     ]
    }
   ],
   "source": [
    "nf.fit(df=all_df_pd)"
   ]
  },
  {
   "cell_type": "code",
   "execution_count": 174,
   "id": "00f74359-c108-4dc6-82aa-5ea012909092",
   "metadata": {},
   "outputs": [],
   "source": [
    "# nf.predict?"
   ]
  },
  {
   "cell_type": "code",
   "execution_count": 175,
   "id": "54f8fea9-f2b9-4e1c-9847-4782608b0041",
   "metadata": {},
   "outputs": [],
   "source": [
    "# futr_df_cols = ['unique_id', 'ds'] + futr_exog_list\n",
    "# df_cols = ['unique_id', 'ds', 'y'] + hist_exog_list"
   ]
  },
  {
   "cell_type": "code",
   "execution_count": 183,
   "id": "b85588a9-f7ab-4ab7-916f-33b9a4ef9b94",
   "metadata": {},
   "outputs": [
    {
     "data": {
      "text/plain": [
       "0         True\n",
       "1         True\n",
       "2         True\n",
       "3         True\n",
       "4         True\n",
       "         ...  \n",
       "85399    False\n",
       "85400    False\n",
       "85401    False\n",
       "85402    False\n",
       "85403    False\n",
       "Name: ds, Length: 85404, dtype: bool"
      ]
     },
     "execution_count": 183,
     "metadata": {},
     "output_type": "execute_result"
    }
   ],
   "source": [
    "# pred_idx_df = all_df_pd.ds > '2024-07-13'\n",
    "pred_idx_futr = all_df_pd.ds <= '2024-07-16'\n",
    "pred_idx_futr"
   ]
  },
  {
   "cell_type": "code",
   "execution_count": 181,
   "id": "70dd0b16-bc97-4eab-8c59-13dba396ab60",
   "metadata": {},
   "outputs": [
    {
     "data": {
      "text/plain": [
       "1235447"
      ]
     },
     "execution_count": 181,
     "metadata": {},
     "output_type": "execute_result"
    }
   ],
   "source": [
    "pred_idx_futr.sum()"
   ]
  },
  {
   "cell_type": "code",
   "execution_count": 186,
   "id": "0cc419ad-a182-46ed-ac9c-4bfeab1d316c",
   "metadata": {},
   "outputs": [
    {
     "data": {
      "text/html": [
       "<div>\n",
       "<style scoped>\n",
       "    .dataframe tbody tr th:only-of-type {\n",
       "        vertical-align: middle;\n",
       "    }\n",
       "\n",
       "    .dataframe tbody tr th {\n",
       "        vertical-align: top;\n",
       "    }\n",
       "\n",
       "    .dataframe thead th {\n",
       "        text-align: right;\n",
       "    }\n",
       "</style>\n",
       "<table border=\"1\" class=\"dataframe\">\n",
       "  <thead>\n",
       "    <tr style=\"text-align: right;\">\n",
       "      <th></th>\n",
       "      <th>MTLF</th>\n",
       "      <th>Averaged_Actual</th>\n",
       "      <th>ds</th>\n",
       "      <th>Wind_Forecast_MW</th>\n",
       "      <th>Solar_Forecast_MW</th>\n",
       "      <th>unique_id</th>\n",
       "      <th>y</th>\n",
       "      <th>hour</th>\n",
       "      <th>weekday</th>\n",
       "      <th>month</th>\n",
       "      <th>re_ratio</th>\n",
       "    </tr>\n",
       "  </thead>\n",
       "  <tbody>\n",
       "    <tr>\n",
       "      <th>0</th>\n",
       "      <td>6818</td>\n",
       "      <td>6809.0</td>\n",
       "      <td>2023-05-01 23:00:00</td>\n",
       "      <td>3571.73</td>\n",
       "      <td>0.00</td>\n",
       "      <td>PSCO_BHCE</td>\n",
       "      <td>0.922608</td>\n",
       "      <td>23</td>\n",
       "      <td>0</td>\n",
       "      <td>5</td>\n",
       "      <td>0.523868</td>\n",
       "    </tr>\n",
       "    <tr>\n",
       "      <th>1</th>\n",
       "      <td>6597</td>\n",
       "      <td>6511.0</td>\n",
       "      <td>2023-05-02 00:00:00</td>\n",
       "      <td>3339.18</td>\n",
       "      <td>0.00</td>\n",
       "      <td>PSCO_BHCE</td>\n",
       "      <td>0.926283</td>\n",
       "      <td>0</td>\n",
       "      <td>1</td>\n",
       "      <td>5</td>\n",
       "      <td>0.506166</td>\n",
       "    </tr>\n",
       "    <tr>\n",
       "      <th>2</th>\n",
       "      <td>6507</td>\n",
       "      <td>6372.0</td>\n",
       "      <td>2023-05-02 01:00:00</td>\n",
       "      <td>3195.45</td>\n",
       "      <td>0.00</td>\n",
       "      <td>PSCO_BHCE</td>\n",
       "      <td>2.659375</td>\n",
       "      <td>1</td>\n",
       "      <td>1</td>\n",
       "      <td>5</td>\n",
       "      <td>0.491079</td>\n",
       "    </tr>\n",
       "    <tr>\n",
       "      <th>3</th>\n",
       "      <td>6344</td>\n",
       "      <td>6334.0</td>\n",
       "      <td>2023-05-02 02:00:00</td>\n",
       "      <td>3296.07</td>\n",
       "      <td>0.00</td>\n",
       "      <td>PSCO_BHCE</td>\n",
       "      <td>13.408308</td>\n",
       "      <td>2</td>\n",
       "      <td>1</td>\n",
       "      <td>5</td>\n",
       "      <td>0.519557</td>\n",
       "    </tr>\n",
       "    <tr>\n",
       "      <th>4</th>\n",
       "      <td>6384</td>\n",
       "      <td>6362.0</td>\n",
       "      <td>2023-05-02 03:00:00</td>\n",
       "      <td>2997.68</td>\n",
       "      <td>0.00</td>\n",
       "      <td>PSCO_BHCE</td>\n",
       "      <td>10.971367</td>\n",
       "      <td>3</td>\n",
       "      <td>1</td>\n",
       "      <td>5</td>\n",
       "      <td>0.469561</td>\n",
       "    </tr>\n",
       "    <tr>\n",
       "      <th>...</th>\n",
       "      <td>...</td>\n",
       "      <td>...</td>\n",
       "      <td>...</td>\n",
       "      <td>...</td>\n",
       "      <td>...</td>\n",
       "      <td>...</td>\n",
       "      <td>...</td>\n",
       "      <td>...</td>\n",
       "      <td>...</td>\n",
       "      <td>...</td>\n",
       "      <td>...</td>\n",
       "    </tr>\n",
       "    <tr>\n",
       "      <th>84464</th>\n",
       "      <td>10427</td>\n",
       "      <td>10707.0</td>\n",
       "      <td>2024-07-15 20:00:00</td>\n",
       "      <td>2010.21</td>\n",
       "      <td>2.06</td>\n",
       "      <td>PSCO_UPIP_UPI</td>\n",
       "      <td>13.580283</td>\n",
       "      <td>20</td>\n",
       "      <td>0</td>\n",
       "      <td>7</td>\n",
       "      <td>0.192986</td>\n",
       "    </tr>\n",
       "    <tr>\n",
       "      <th>84465</th>\n",
       "      <td>10176</td>\n",
       "      <td>10338.0</td>\n",
       "      <td>2024-07-15 21:00:00</td>\n",
       "      <td>2573.59</td>\n",
       "      <td>0.03</td>\n",
       "      <td>PSCO_UPIP_UPI</td>\n",
       "      <td>15.464033</td>\n",
       "      <td>21</td>\n",
       "      <td>0</td>\n",
       "      <td>7</td>\n",
       "      <td>0.252911</td>\n",
       "    </tr>\n",
       "    <tr>\n",
       "      <th>84466</th>\n",
       "      <td>9471</td>\n",
       "      <td>9621.0</td>\n",
       "      <td>2024-07-15 22:00:00</td>\n",
       "      <td>2061.36</td>\n",
       "      <td>0.00</td>\n",
       "      <td>PSCO_UPIP_UPI</td>\n",
       "      <td>15.789042</td>\n",
       "      <td>22</td>\n",
       "      <td>0</td>\n",
       "      <td>7</td>\n",
       "      <td>0.217650</td>\n",
       "    </tr>\n",
       "    <tr>\n",
       "      <th>84467</th>\n",
       "      <td>8853</td>\n",
       "      <td>8893.0</td>\n",
       "      <td>2024-07-15 23:00:00</td>\n",
       "      <td>1676.70</td>\n",
       "      <td>0.00</td>\n",
       "      <td>PSCO_UPIP_UPI</td>\n",
       "      <td>27.018117</td>\n",
       "      <td>23</td>\n",
       "      <td>0</td>\n",
       "      <td>7</td>\n",
       "      <td>0.189393</td>\n",
       "    </tr>\n",
       "    <tr>\n",
       "      <th>84468</th>\n",
       "      <td>9050</td>\n",
       "      <td>8338.0</td>\n",
       "      <td>2024-07-16 00:00:00</td>\n",
       "      <td>523.89</td>\n",
       "      <td>0.00</td>\n",
       "      <td>PSCO_UPIP_UPI</td>\n",
       "      <td>21.232275</td>\n",
       "      <td>0</td>\n",
       "      <td>1</td>\n",
       "      <td>7</td>\n",
       "      <td>0.057888</td>\n",
       "    </tr>\n",
       "  </tbody>\n",
       "</table>\n",
       "<p>76989 rows × 11 columns</p>\n",
       "</div>"
      ],
      "text/plain": [
       "        MTLF  Averaged_Actual                  ds  Wind_Forecast_MW  \\\n",
       "0       6818           6809.0 2023-05-01 23:00:00           3571.73   \n",
       "1       6597           6511.0 2023-05-02 00:00:00           3339.18   \n",
       "2       6507           6372.0 2023-05-02 01:00:00           3195.45   \n",
       "3       6344           6334.0 2023-05-02 02:00:00           3296.07   \n",
       "4       6384           6362.0 2023-05-02 03:00:00           2997.68   \n",
       "...      ...              ...                 ...               ...   \n",
       "84464  10427          10707.0 2024-07-15 20:00:00           2010.21   \n",
       "84465  10176          10338.0 2024-07-15 21:00:00           2573.59   \n",
       "84466   9471           9621.0 2024-07-15 22:00:00           2061.36   \n",
       "84467   8853           8893.0 2024-07-15 23:00:00           1676.70   \n",
       "84468   9050           8338.0 2024-07-16 00:00:00            523.89   \n",
       "\n",
       "       Solar_Forecast_MW      unique_id          y  hour  weekday  month  \\\n",
       "0                   0.00      PSCO_BHCE   0.922608    23        0      5   \n",
       "1                   0.00      PSCO_BHCE   0.926283     0        1      5   \n",
       "2                   0.00      PSCO_BHCE   2.659375     1        1      5   \n",
       "3                   0.00      PSCO_BHCE  13.408308     2        1      5   \n",
       "4                   0.00      PSCO_BHCE  10.971367     3        1      5   \n",
       "...                  ...            ...        ...   ...      ...    ...   \n",
       "84464               2.06  PSCO_UPIP_UPI  13.580283    20        0      7   \n",
       "84465               0.03  PSCO_UPIP_UPI  15.464033    21        0      7   \n",
       "84466               0.00  PSCO_UPIP_UPI  15.789042    22        0      7   \n",
       "84467               0.00  PSCO_UPIP_UPI  27.018117    23        0      7   \n",
       "84468               0.00  PSCO_UPIP_UPI  21.232275     0        1      7   \n",
       "\n",
       "       re_ratio  \n",
       "0      0.523868  \n",
       "1      0.506166  \n",
       "2      0.491079  \n",
       "3      0.519557  \n",
       "4      0.469561  \n",
       "...         ...  \n",
       "84464  0.192986  \n",
       "84465  0.252911  \n",
       "84466  0.217650  \n",
       "84467  0.189393  \n",
       "84468  0.057888  \n",
       "\n",
       "[76989 rows x 11 columns]"
      ]
     },
     "execution_count": 186,
     "metadata": {},
     "output_type": "execute_result"
    }
   ],
   "source": [
    "import numpy as np\n",
    "fcast_ids = ['PSCO_PRPM_PR']\n",
    "futr_df = all_df_pd.loc[pred_idx_futr].copy()\n",
    "futr_df "
   ]
  },
  {
   "cell_type": "code",
   "execution_count": 187,
   "id": "dba43599-342a-4e14-b9ea-61507bb82148",
   "metadata": {},
   "outputs": [
    {
     "data": {
      "text/html": [
       "<div>\n",
       "<style scoped>\n",
       "    .dataframe tbody tr th:only-of-type {\n",
       "        vertical-align: middle;\n",
       "    }\n",
       "\n",
       "    .dataframe tbody tr th {\n",
       "        vertical-align: top;\n",
       "    }\n",
       "\n",
       "    .dataframe thead th {\n",
       "        text-align: right;\n",
       "    }\n",
       "</style>\n",
       "<table border=\"1\" class=\"dataframe\">\n",
       "  <thead>\n",
       "    <tr style=\"text-align: right;\">\n",
       "      <th></th>\n",
       "      <th>MTLF</th>\n",
       "      <th>Averaged_Actual</th>\n",
       "      <th>ds</th>\n",
       "      <th>Wind_Forecast_MW</th>\n",
       "      <th>Solar_Forecast_MW</th>\n",
       "      <th>unique_id</th>\n",
       "      <th>y</th>\n",
       "      <th>hour</th>\n",
       "      <th>weekday</th>\n",
       "      <th>month</th>\n",
       "      <th>re_ratio</th>\n",
       "    </tr>\n",
       "  </thead>\n",
       "  <tbody>\n",
       "    <tr>\n",
       "      <th>0</th>\n",
       "      <td>6818</td>\n",
       "      <td>6809.0</td>\n",
       "      <td>2023-05-01 23:00:00</td>\n",
       "      <td>3571.73</td>\n",
       "      <td>0.00</td>\n",
       "      <td>PSCO_BHCE</td>\n",
       "      <td>0.922608</td>\n",
       "      <td>23</td>\n",
       "      <td>0</td>\n",
       "      <td>5</td>\n",
       "      <td>0.523868</td>\n",
       "    </tr>\n",
       "    <tr>\n",
       "      <th>1</th>\n",
       "      <td>6597</td>\n",
       "      <td>6511.0</td>\n",
       "      <td>2023-05-02 00:00:00</td>\n",
       "      <td>3339.18</td>\n",
       "      <td>0.00</td>\n",
       "      <td>PSCO_BHCE</td>\n",
       "      <td>0.926283</td>\n",
       "      <td>0</td>\n",
       "      <td>1</td>\n",
       "      <td>5</td>\n",
       "      <td>0.506166</td>\n",
       "    </tr>\n",
       "    <tr>\n",
       "      <th>2</th>\n",
       "      <td>6507</td>\n",
       "      <td>6372.0</td>\n",
       "      <td>2023-05-02 01:00:00</td>\n",
       "      <td>3195.45</td>\n",
       "      <td>0.00</td>\n",
       "      <td>PSCO_BHCE</td>\n",
       "      <td>2.659375</td>\n",
       "      <td>1</td>\n",
       "      <td>1</td>\n",
       "      <td>5</td>\n",
       "      <td>0.491079</td>\n",
       "    </tr>\n",
       "    <tr>\n",
       "      <th>3</th>\n",
       "      <td>6344</td>\n",
       "      <td>6334.0</td>\n",
       "      <td>2023-05-02 02:00:00</td>\n",
       "      <td>3296.07</td>\n",
       "      <td>0.00</td>\n",
       "      <td>PSCO_BHCE</td>\n",
       "      <td>13.408308</td>\n",
       "      <td>2</td>\n",
       "      <td>1</td>\n",
       "      <td>5</td>\n",
       "      <td>0.519557</td>\n",
       "    </tr>\n",
       "    <tr>\n",
       "      <th>4</th>\n",
       "      <td>6384</td>\n",
       "      <td>6362.0</td>\n",
       "      <td>2023-05-02 03:00:00</td>\n",
       "      <td>2997.68</td>\n",
       "      <td>0.00</td>\n",
       "      <td>PSCO_BHCE</td>\n",
       "      <td>10.971367</td>\n",
       "      <td>3</td>\n",
       "      <td>1</td>\n",
       "      <td>5</td>\n",
       "      <td>0.469561</td>\n",
       "    </tr>\n",
       "    <tr>\n",
       "      <th>...</th>\n",
       "      <td>...</td>\n",
       "      <td>...</td>\n",
       "      <td>...</td>\n",
       "      <td>...</td>\n",
       "      <td>...</td>\n",
       "      <td>...</td>\n",
       "      <td>...</td>\n",
       "      <td>...</td>\n",
       "      <td>...</td>\n",
       "      <td>...</td>\n",
       "      <td>...</td>\n",
       "    </tr>\n",
       "    <tr>\n",
       "      <th>84464</th>\n",
       "      <td>10427</td>\n",
       "      <td>NaN</td>\n",
       "      <td>2024-07-15 20:00:00</td>\n",
       "      <td>2010.21</td>\n",
       "      <td>2.06</td>\n",
       "      <td>PSCO_UPIP_UPI</td>\n",
       "      <td>NaN</td>\n",
       "      <td>20</td>\n",
       "      <td>0</td>\n",
       "      <td>7</td>\n",
       "      <td>0.192986</td>\n",
       "    </tr>\n",
       "    <tr>\n",
       "      <th>84465</th>\n",
       "      <td>10176</td>\n",
       "      <td>NaN</td>\n",
       "      <td>2024-07-15 21:00:00</td>\n",
       "      <td>2573.59</td>\n",
       "      <td>0.03</td>\n",
       "      <td>PSCO_UPIP_UPI</td>\n",
       "      <td>NaN</td>\n",
       "      <td>21</td>\n",
       "      <td>0</td>\n",
       "      <td>7</td>\n",
       "      <td>0.252911</td>\n",
       "    </tr>\n",
       "    <tr>\n",
       "      <th>84466</th>\n",
       "      <td>9471</td>\n",
       "      <td>NaN</td>\n",
       "      <td>2024-07-15 22:00:00</td>\n",
       "      <td>2061.36</td>\n",
       "      <td>0.00</td>\n",
       "      <td>PSCO_UPIP_UPI</td>\n",
       "      <td>NaN</td>\n",
       "      <td>22</td>\n",
       "      <td>0</td>\n",
       "      <td>7</td>\n",
       "      <td>0.217650</td>\n",
       "    </tr>\n",
       "    <tr>\n",
       "      <th>84467</th>\n",
       "      <td>8853</td>\n",
       "      <td>NaN</td>\n",
       "      <td>2024-07-15 23:00:00</td>\n",
       "      <td>1676.70</td>\n",
       "      <td>0.00</td>\n",
       "      <td>PSCO_UPIP_UPI</td>\n",
       "      <td>NaN</td>\n",
       "      <td>23</td>\n",
       "      <td>0</td>\n",
       "      <td>7</td>\n",
       "      <td>0.189393</td>\n",
       "    </tr>\n",
       "    <tr>\n",
       "      <th>84468</th>\n",
       "      <td>9050</td>\n",
       "      <td>NaN</td>\n",
       "      <td>2024-07-16 00:00:00</td>\n",
       "      <td>523.89</td>\n",
       "      <td>0.00</td>\n",
       "      <td>PSCO_UPIP_UPI</td>\n",
       "      <td>NaN</td>\n",
       "      <td>0</td>\n",
       "      <td>1</td>\n",
       "      <td>7</td>\n",
       "      <td>0.057888</td>\n",
       "    </tr>\n",
       "  </tbody>\n",
       "</table>\n",
       "<p>76989 rows × 11 columns</p>\n",
       "</div>"
      ],
      "text/plain": [
       "        MTLF  Averaged_Actual                  ds  Wind_Forecast_MW  \\\n",
       "0       6818           6809.0 2023-05-01 23:00:00           3571.73   \n",
       "1       6597           6511.0 2023-05-02 00:00:00           3339.18   \n",
       "2       6507           6372.0 2023-05-02 01:00:00           3195.45   \n",
       "3       6344           6334.0 2023-05-02 02:00:00           3296.07   \n",
       "4       6384           6362.0 2023-05-02 03:00:00           2997.68   \n",
       "...      ...              ...                 ...               ...   \n",
       "84464  10427              NaN 2024-07-15 20:00:00           2010.21   \n",
       "84465  10176              NaN 2024-07-15 21:00:00           2573.59   \n",
       "84466   9471              NaN 2024-07-15 22:00:00           2061.36   \n",
       "84467   8853              NaN 2024-07-15 23:00:00           1676.70   \n",
       "84468   9050              NaN 2024-07-16 00:00:00            523.89   \n",
       "\n",
       "       Solar_Forecast_MW      unique_id          y  hour  weekday  month  \\\n",
       "0                   0.00      PSCO_BHCE   0.922608    23        0      5   \n",
       "1                   0.00      PSCO_BHCE   0.926283     0        1      5   \n",
       "2                   0.00      PSCO_BHCE   2.659375     1        1      5   \n",
       "3                   0.00      PSCO_BHCE  13.408308     2        1      5   \n",
       "4                   0.00      PSCO_BHCE  10.971367     3        1      5   \n",
       "...                  ...            ...        ...   ...      ...    ...   \n",
       "84464               2.06  PSCO_UPIP_UPI        NaN    20        0      7   \n",
       "84465               0.03  PSCO_UPIP_UPI        NaN    21        0      7   \n",
       "84466               0.00  PSCO_UPIP_UPI        NaN    22        0      7   \n",
       "84467               0.00  PSCO_UPIP_UPI        NaN    23        0      7   \n",
       "84468               0.00  PSCO_UPIP_UPI        NaN     0        1      7   \n",
       "\n",
       "       re_ratio  \n",
       "0      0.523868  \n",
       "1      0.506166  \n",
       "2      0.491079  \n",
       "3      0.519557  \n",
       "4      0.469561  \n",
       "...         ...  \n",
       "84464  0.192986  \n",
       "84465  0.252911  \n",
       "84466  0.217650  \n",
       "84467  0.189393  \n",
       "84468  0.057888  \n",
       "\n",
       "[76989 rows x 11 columns]"
      ]
     },
     "execution_count": 187,
     "metadata": {},
     "output_type": "execute_result"
    }
   ],
   "source": [
    "pred_idx_df = futr_df.ds > '2024-07-13'\n",
    "futr_df.loc[pred_idx_df, ['y'] + hist_exog_list] = np.nan\n",
    "futr_df"
   ]
  },
  {
   "cell_type": "code",
   "execution_count": 188,
   "id": "8ec3495b-93c2-46da-beef-e9de4fbaf248",
   "metadata": {},
   "outputs": [
    {
     "data": {
      "text/html": [
       "<div>\n",
       "<style scoped>\n",
       "    .dataframe tbody tr th:only-of-type {\n",
       "        vertical-align: middle;\n",
       "    }\n",
       "\n",
       "    .dataframe tbody tr th {\n",
       "        vertical-align: top;\n",
       "    }\n",
       "\n",
       "    .dataframe thead th {\n",
       "        text-align: right;\n",
       "    }\n",
       "</style>\n",
       "<table border=\"1\" class=\"dataframe\">\n",
       "  <thead>\n",
       "    <tr style=\"text-align: right;\">\n",
       "      <th></th>\n",
       "      <th>MTLF</th>\n",
       "      <th>Averaged_Actual</th>\n",
       "      <th>ds</th>\n",
       "      <th>Wind_Forecast_MW</th>\n",
       "      <th>Solar_Forecast_MW</th>\n",
       "      <th>unique_id</th>\n",
       "      <th>y</th>\n",
       "      <th>hour</th>\n",
       "      <th>weekday</th>\n",
       "      <th>month</th>\n",
       "      <th>re_ratio</th>\n",
       "    </tr>\n",
       "  </thead>\n",
       "  <tbody>\n",
       "    <tr>\n",
       "      <th>0</th>\n",
       "      <td>6818</td>\n",
       "      <td>6809.0</td>\n",
       "      <td>2023-05-01 23:00:00</td>\n",
       "      <td>3571.73</td>\n",
       "      <td>0.00</td>\n",
       "      <td>PSCO_PRPM_PR</td>\n",
       "      <td>0.940458</td>\n",
       "      <td>23</td>\n",
       "      <td>0</td>\n",
       "      <td>5</td>\n",
       "      <td>0.523868</td>\n",
       "    </tr>\n",
       "    <tr>\n",
       "      <th>1</th>\n",
       "      <td>6597</td>\n",
       "      <td>6511.0</td>\n",
       "      <td>2023-05-02 00:00:00</td>\n",
       "      <td>3339.18</td>\n",
       "      <td>0.00</td>\n",
       "      <td>PSCO_PRPM_PR</td>\n",
       "      <td>0.941750</td>\n",
       "      <td>0</td>\n",
       "      <td>1</td>\n",
       "      <td>5</td>\n",
       "      <td>0.506166</td>\n",
       "    </tr>\n",
       "    <tr>\n",
       "      <th>2</th>\n",
       "      <td>6507</td>\n",
       "      <td>6372.0</td>\n",
       "      <td>2023-05-02 01:00:00</td>\n",
       "      <td>3195.45</td>\n",
       "      <td>0.00</td>\n",
       "      <td>PSCO_PRPM_PR</td>\n",
       "      <td>2.699692</td>\n",
       "      <td>1</td>\n",
       "      <td>1</td>\n",
       "      <td>5</td>\n",
       "      <td>0.491079</td>\n",
       "    </tr>\n",
       "    <tr>\n",
       "      <th>3</th>\n",
       "      <td>6344</td>\n",
       "      <td>6334.0</td>\n",
       "      <td>2023-05-02 02:00:00</td>\n",
       "      <td>3296.07</td>\n",
       "      <td>0.00</td>\n",
       "      <td>PSCO_PRPM_PR</td>\n",
       "      <td>13.471892</td>\n",
       "      <td>2</td>\n",
       "      <td>1</td>\n",
       "      <td>5</td>\n",
       "      <td>0.519557</td>\n",
       "    </tr>\n",
       "    <tr>\n",
       "      <th>4</th>\n",
       "      <td>6384</td>\n",
       "      <td>6362.0</td>\n",
       "      <td>2023-05-02 03:00:00</td>\n",
       "      <td>2997.68</td>\n",
       "      <td>0.00</td>\n",
       "      <td>PSCO_PRPM_PR</td>\n",
       "      <td>11.063158</td>\n",
       "      <td>3</td>\n",
       "      <td>1</td>\n",
       "      <td>5</td>\n",
       "      <td>0.469561</td>\n",
       "    </tr>\n",
       "    <tr>\n",
       "      <th>...</th>\n",
       "      <td>...</td>\n",
       "      <td>...</td>\n",
       "      <td>...</td>\n",
       "      <td>...</td>\n",
       "      <td>...</td>\n",
       "      <td>...</td>\n",
       "      <td>...</td>\n",
       "      <td>...</td>\n",
       "      <td>...</td>\n",
       "      <td>...</td>\n",
       "      <td>...</td>\n",
       "    </tr>\n",
       "    <tr>\n",
       "      <th>10578</th>\n",
       "      <td>10427</td>\n",
       "      <td>NaN</td>\n",
       "      <td>2024-07-15 20:00:00</td>\n",
       "      <td>2010.21</td>\n",
       "      <td>2.06</td>\n",
       "      <td>PSCO_PRPM_PR</td>\n",
       "      <td>NaN</td>\n",
       "      <td>20</td>\n",
       "      <td>0</td>\n",
       "      <td>7</td>\n",
       "      <td>0.192986</td>\n",
       "    </tr>\n",
       "    <tr>\n",
       "      <th>10579</th>\n",
       "      <td>10176</td>\n",
       "      <td>NaN</td>\n",
       "      <td>2024-07-15 21:00:00</td>\n",
       "      <td>2573.59</td>\n",
       "      <td>0.03</td>\n",
       "      <td>PSCO_PRPM_PR</td>\n",
       "      <td>NaN</td>\n",
       "      <td>21</td>\n",
       "      <td>0</td>\n",
       "      <td>7</td>\n",
       "      <td>0.252911</td>\n",
       "    </tr>\n",
       "    <tr>\n",
       "      <th>10580</th>\n",
       "      <td>9471</td>\n",
       "      <td>NaN</td>\n",
       "      <td>2024-07-15 22:00:00</td>\n",
       "      <td>2061.36</td>\n",
       "      <td>0.00</td>\n",
       "      <td>PSCO_PRPM_PR</td>\n",
       "      <td>NaN</td>\n",
       "      <td>22</td>\n",
       "      <td>0</td>\n",
       "      <td>7</td>\n",
       "      <td>0.217650</td>\n",
       "    </tr>\n",
       "    <tr>\n",
       "      <th>10581</th>\n",
       "      <td>8853</td>\n",
       "      <td>NaN</td>\n",
       "      <td>2024-07-15 23:00:00</td>\n",
       "      <td>1676.70</td>\n",
       "      <td>0.00</td>\n",
       "      <td>PSCO_PRPM_PR</td>\n",
       "      <td>NaN</td>\n",
       "      <td>23</td>\n",
       "      <td>0</td>\n",
       "      <td>7</td>\n",
       "      <td>0.189393</td>\n",
       "    </tr>\n",
       "    <tr>\n",
       "      <th>10582</th>\n",
       "      <td>9050</td>\n",
       "      <td>NaN</td>\n",
       "      <td>2024-07-16 00:00:00</td>\n",
       "      <td>523.89</td>\n",
       "      <td>0.00</td>\n",
       "      <td>PSCO_PRPM_PR</td>\n",
       "      <td>NaN</td>\n",
       "      <td>0</td>\n",
       "      <td>1</td>\n",
       "      <td>7</td>\n",
       "      <td>0.057888</td>\n",
       "    </tr>\n",
       "  </tbody>\n",
       "</table>\n",
       "<p>10583 rows × 11 columns</p>\n",
       "</div>"
      ],
      "text/plain": [
       "        MTLF  Averaged_Actual                  ds  Wind_Forecast_MW  \\\n",
       "0       6818           6809.0 2023-05-01 23:00:00           3571.73   \n",
       "1       6597           6511.0 2023-05-02 00:00:00           3339.18   \n",
       "2       6507           6372.0 2023-05-02 01:00:00           3195.45   \n",
       "3       6344           6334.0 2023-05-02 02:00:00           3296.07   \n",
       "4       6384           6362.0 2023-05-02 03:00:00           2997.68   \n",
       "...      ...              ...                 ...               ...   \n",
       "10578  10427              NaN 2024-07-15 20:00:00           2010.21   \n",
       "10579  10176              NaN 2024-07-15 21:00:00           2573.59   \n",
       "10580   9471              NaN 2024-07-15 22:00:00           2061.36   \n",
       "10581   8853              NaN 2024-07-15 23:00:00           1676.70   \n",
       "10582   9050              NaN 2024-07-16 00:00:00            523.89   \n",
       "\n",
       "       Solar_Forecast_MW     unique_id          y  hour  weekday  month  \\\n",
       "0                   0.00  PSCO_PRPM_PR   0.940458    23        0      5   \n",
       "1                   0.00  PSCO_PRPM_PR   0.941750     0        1      5   \n",
       "2                   0.00  PSCO_PRPM_PR   2.699692     1        1      5   \n",
       "3                   0.00  PSCO_PRPM_PR  13.471892     2        1      5   \n",
       "4                   0.00  PSCO_PRPM_PR  11.063158     3        1      5   \n",
       "...                  ...           ...        ...   ...      ...    ...   \n",
       "10578               2.06  PSCO_PRPM_PR        NaN    20        0      7   \n",
       "10579               0.03  PSCO_PRPM_PR        NaN    21        0      7   \n",
       "10580               0.00  PSCO_PRPM_PR        NaN    22        0      7   \n",
       "10581               0.00  PSCO_PRPM_PR        NaN    23        0      7   \n",
       "10582               0.00  PSCO_PRPM_PR        NaN     0        1      7   \n",
       "\n",
       "       re_ratio  \n",
       "0      0.523868  \n",
       "1      0.506166  \n",
       "2      0.491079  \n",
       "3      0.519557  \n",
       "4      0.469561  \n",
       "...         ...  \n",
       "10578  0.192986  \n",
       "10579  0.252911  \n",
       "10580  0.217650  \n",
       "10581  0.189393  \n",
       "10582  0.057888  \n",
       "\n",
       "[10583 rows x 11 columns]"
      ]
     },
     "execution_count": 188,
     "metadata": {},
     "output_type": "execute_result"
    }
   ],
   "source": [
    "futr_df = futr_df.loc[futr_df.unique_id.isin(fcast_ids)].reset_index(drop=True)\n",
    "futr_df.sort_values(['ds'])"
   ]
  },
  {
   "cell_type": "code",
   "execution_count": 189,
   "id": "2d8740e0-6904-4ff5-ac34-d0ecaa0135ea",
   "metadata": {},
   "outputs": [
    {
     "data": {
      "text/plain": [
       "0"
      ]
     },
     "execution_count": 189,
     "metadata": {},
     "output_type": "execute_result"
    }
   ],
   "source": [
    "futr_df.ds.duplicated().sum()"
   ]
  },
  {
   "cell_type": "code",
   "execution_count": 190,
   "id": "08fda754-0fed-485b-a07b-c28da5c2b4f3",
   "metadata": {},
   "outputs": [
    {
     "name": "stderr",
     "output_type": "stream",
     "text": [
      "/home/justinfields/Documents/spp_weis_price_forecast/venv/lib/python3.11/site-packages/utilsforecast/processing.py:384: FutureWarning: 'H' is deprecated and will be removed in a future version, please use 'h' instead.\n",
      "  freq = pd.tseries.frequencies.to_offset(freq)\n",
      "/home/justinfields/Documents/spp_weis_price_forecast/venv/lib/python3.11/site-packages/utilsforecast/processing.py:438: FutureWarning: 'H' is deprecated and will be removed in a future version, please use 'h' instead.\n",
      "  freq = pd.tseries.frequencies.to_offset(freq)\n"
     ]
    },
    {
     "ename": "ValueError",
     "evalue": "There are missing combinations of ids and times in `futr_df`.\nYou can run the `make_future_dataframe()` method to get the expected combinations or the `get_missing_future(futr_df)` method to get the missing combinations.",
     "output_type": "error",
     "traceback": [
      "\u001b[0;31m---------------------------------------------------------------------------\u001b[0m",
      "\u001b[0;31mValueError\u001b[0m                                Traceback (most recent call last)",
      "Cell \u001b[0;32mIn[190], line 1\u001b[0m\n\u001b[0;32m----> 1\u001b[0m \u001b[43mnf\u001b[49m\u001b[38;5;241;43m.\u001b[39;49m\u001b[43mpredict\u001b[49m\u001b[43m(\u001b[49m\n\u001b[1;32m      2\u001b[0m \u001b[43m    \u001b[49m\u001b[43mfutr_df\u001b[49m\u001b[38;5;241;43m=\u001b[39;49m\u001b[43mfutr_df\u001b[49m\u001b[43m,\u001b[49m\n\u001b[1;32m      3\u001b[0m \u001b[43m)\u001b[49m\n",
      "File \u001b[0;32m~/Documents/spp_weis_price_forecast/venv/lib/python3.11/site-packages/neuralforecast/core.py:858\u001b[0m, in \u001b[0;36mNeuralForecast.predict\u001b[0;34m(self, df, static_df, futr_df, sort_df, verbose, engine, **data_kwargs)\u001b[0m\n\u001b[1;32m    856\u001b[0m         expected_cmd \u001b[38;5;241m=\u001b[39m \u001b[38;5;124m\"\u001b[39m\u001b[38;5;124mmake_future_dataframe(df)\u001b[39m\u001b[38;5;124m\"\u001b[39m\n\u001b[1;32m    857\u001b[0m         missing_cmd \u001b[38;5;241m=\u001b[39m \u001b[38;5;124m\"\u001b[39m\u001b[38;5;124mget_missing_future(futr_df, df)\u001b[39m\u001b[38;5;124m\"\u001b[39m\n\u001b[0;32m--> 858\u001b[0m     \u001b[38;5;28;01mraise\u001b[39;00m \u001b[38;5;167;01mValueError\u001b[39;00m(\n\u001b[1;32m    859\u001b[0m         \u001b[38;5;124m\"\u001b[39m\u001b[38;5;124mThere are missing combinations of ids and times in `futr_df`.\u001b[39m\u001b[38;5;130;01m\\n\u001b[39;00m\u001b[38;5;124m\"\u001b[39m\n\u001b[1;32m    860\u001b[0m         \u001b[38;5;124mf\u001b[39m\u001b[38;5;124m\"\u001b[39m\u001b[38;5;124mYou can run the `\u001b[39m\u001b[38;5;132;01m{\u001b[39;00mexpected_cmd\u001b[38;5;132;01m}\u001b[39;00m\u001b[38;5;124m` method to get the expected combinations or \u001b[39m\u001b[38;5;124m\"\u001b[39m\n\u001b[1;32m    861\u001b[0m         \u001b[38;5;124mf\u001b[39m\u001b[38;5;124m\"\u001b[39m\u001b[38;5;124mthe `\u001b[39m\u001b[38;5;132;01m{\u001b[39;00mmissing_cmd\u001b[38;5;132;01m}\u001b[39;00m\u001b[38;5;124m` method to get the missing combinations.\u001b[39m\u001b[38;5;124m\"\u001b[39m\n\u001b[1;32m    862\u001b[0m     )\n\u001b[1;32m    863\u001b[0m \u001b[38;5;28;01mif\u001b[39;00m futr_orig_rows \u001b[38;5;241m>\u001b[39m futr_df\u001b[38;5;241m.\u001b[39mshape[\u001b[38;5;241m0\u001b[39m]:\n\u001b[1;32m    864\u001b[0m     dropped_rows \u001b[38;5;241m=\u001b[39m futr_orig_rows \u001b[38;5;241m-\u001b[39m futr_df\u001b[38;5;241m.\u001b[39mshape[\u001b[38;5;241m0\u001b[39m]\n",
      "\u001b[0;31mValueError\u001b[0m: There are missing combinations of ids and times in `futr_df`.\nYou can run the `make_future_dataframe()` method to get the expected combinations or the `get_missing_future(futr_df)` method to get the missing combinations."
     ]
    }
   ],
   "source": [
    "nf.predict(\n",
    "    futr_df=futr_df,\n",
    ")"
   ]
  },
  {
   "cell_type": "code",
   "execution_count": 192,
   "id": "91f35a78-2b0c-47d3-ad8c-2aac11222b64",
   "metadata": {},
   "outputs": [
    {
     "name": "stderr",
     "output_type": "stream",
     "text": [
      "/home/justinfields/Documents/spp_weis_price_forecast/venv/lib/python3.11/site-packages/utilsforecast/processing.py:384: FutureWarning: 'H' is deprecated and will be removed in a future version, please use 'h' instead.\n",
      "  freq = pd.tseries.frequencies.to_offset(freq)\n",
      "/home/justinfields/Documents/spp_weis_price_forecast/venv/lib/python3.11/site-packages/utilsforecast/processing.py:438: FutureWarning: 'H' is deprecated and will be removed in a future version, please use 'h' instead.\n",
      "  freq = pd.tseries.frequencies.to_offset(freq)\n"
     ]
    },
    {
     "data": {
      "text/html": [
       "<div>\n",
       "<style scoped>\n",
       "    .dataframe tbody tr th:only-of-type {\n",
       "        vertical-align: middle;\n",
       "    }\n",
       "\n",
       "    .dataframe tbody tr th {\n",
       "        vertical-align: top;\n",
       "    }\n",
       "\n",
       "    .dataframe thead th {\n",
       "        text-align: right;\n",
       "    }\n",
       "</style>\n",
       "<table border=\"1\" class=\"dataframe\">\n",
       "  <thead>\n",
       "    <tr style=\"text-align: right;\">\n",
       "      <th></th>\n",
       "      <th>unique_id</th>\n",
       "      <th>ds</th>\n",
       "    </tr>\n",
       "  </thead>\n",
       "  <tbody>\n",
       "    <tr>\n",
       "      <th>0</th>\n",
       "      <td>PSCO_BHCE</td>\n",
       "      <td>2024-08-24 00:00:00</td>\n",
       "    </tr>\n",
       "    <tr>\n",
       "      <th>1</th>\n",
       "      <td>PSCO_BHCE</td>\n",
       "      <td>2024-08-24 01:00:00</td>\n",
       "    </tr>\n",
       "    <tr>\n",
       "      <th>2</th>\n",
       "      <td>PSCO_BHCE</td>\n",
       "      <td>2024-08-24 02:00:00</td>\n",
       "    </tr>\n",
       "    <tr>\n",
       "      <th>3</th>\n",
       "      <td>PSCO_BHCE</td>\n",
       "      <td>2024-08-24 03:00:00</td>\n",
       "    </tr>\n",
       "    <tr>\n",
       "      <th>4</th>\n",
       "      <td>PSCO_BHCE</td>\n",
       "      <td>2024-08-24 04:00:00</td>\n",
       "    </tr>\n",
       "    <tr>\n",
       "      <th>...</th>\n",
       "      <td>...</td>\n",
       "      <td>...</td>\n",
       "    </tr>\n",
       "    <tr>\n",
       "      <th>427</th>\n",
       "      <td>PSCO_UPIP_UPI</td>\n",
       "      <td>2024-08-25 19:00:00</td>\n",
       "    </tr>\n",
       "    <tr>\n",
       "      <th>428</th>\n",
       "      <td>PSCO_UPIP_UPI</td>\n",
       "      <td>2024-08-25 20:00:00</td>\n",
       "    </tr>\n",
       "    <tr>\n",
       "      <th>429</th>\n",
       "      <td>PSCO_UPIP_UPI</td>\n",
       "      <td>2024-08-25 21:00:00</td>\n",
       "    </tr>\n",
       "    <tr>\n",
       "      <th>430</th>\n",
       "      <td>PSCO_UPIP_UPI</td>\n",
       "      <td>2024-08-25 22:00:00</td>\n",
       "    </tr>\n",
       "    <tr>\n",
       "      <th>431</th>\n",
       "      <td>PSCO_UPIP_UPI</td>\n",
       "      <td>2024-08-25 23:00:00</td>\n",
       "    </tr>\n",
       "  </tbody>\n",
       "</table>\n",
       "<p>432 rows × 2 columns</p>\n",
       "</div>"
      ],
      "text/plain": [
       "         unique_id                  ds\n",
       "0        PSCO_BHCE 2024-08-24 00:00:00\n",
       "1        PSCO_BHCE 2024-08-24 01:00:00\n",
       "2        PSCO_BHCE 2024-08-24 02:00:00\n",
       "3        PSCO_BHCE 2024-08-24 03:00:00\n",
       "4        PSCO_BHCE 2024-08-24 04:00:00\n",
       "..             ...                 ...\n",
       "427  PSCO_UPIP_UPI 2024-08-25 19:00:00\n",
       "428  PSCO_UPIP_UPI 2024-08-25 20:00:00\n",
       "429  PSCO_UPIP_UPI 2024-08-25 21:00:00\n",
       "430  PSCO_UPIP_UPI 2024-08-25 22:00:00\n",
       "431  PSCO_UPIP_UPI 2024-08-25 23:00:00\n",
       "\n",
       "[432 rows x 2 columns]"
      ]
     },
     "execution_count": 192,
     "metadata": {},
     "output_type": "execute_result"
    }
   ],
   "source": [
    "nf.get_missing_future(futr_df)"
   ]
  },
  {
   "cell_type": "code",
   "execution_count": 193,
   "id": "d26cdef1-5984-4dd1-8904-c24d365d6661",
   "metadata": {},
   "outputs": [
    {
     "name": "stderr",
     "output_type": "stream",
     "text": [
      "/home/justinfields/Documents/spp_weis_price_forecast/venv/lib/python3.11/site-packages/utilsforecast/processing.py:384: FutureWarning: 'H' is deprecated and will be removed in a future version, please use 'h' instead.\n",
      "  freq = pd.tseries.frequencies.to_offset(freq)\n",
      "/home/justinfields/Documents/spp_weis_price_forecast/venv/lib/python3.11/site-packages/utilsforecast/processing.py:438: FutureWarning: 'H' is deprecated and will be removed in a future version, please use 'h' instead.\n",
      "  freq = pd.tseries.frequencies.to_offset(freq)\n"
     ]
    },
    {
     "data": {
      "text/html": [
       "<div>\n",
       "<style scoped>\n",
       "    .dataframe tbody tr th:only-of-type {\n",
       "        vertical-align: middle;\n",
       "    }\n",
       "\n",
       "    .dataframe tbody tr th {\n",
       "        vertical-align: top;\n",
       "    }\n",
       "\n",
       "    .dataframe thead th {\n",
       "        text-align: right;\n",
       "    }\n",
       "</style>\n",
       "<table border=\"1\" class=\"dataframe\">\n",
       "  <thead>\n",
       "    <tr style=\"text-align: right;\">\n",
       "      <th></th>\n",
       "      <th>unique_id</th>\n",
       "      <th>ds</th>\n",
       "    </tr>\n",
       "  </thead>\n",
       "  <tbody>\n",
       "    <tr>\n",
       "      <th>0</th>\n",
       "      <td>PSCO_BHCE</td>\n",
       "      <td>2024-08-24 00:00:00</td>\n",
       "    </tr>\n",
       "    <tr>\n",
       "      <th>1</th>\n",
       "      <td>PSCO_BHCE</td>\n",
       "      <td>2024-08-24 01:00:00</td>\n",
       "    </tr>\n",
       "    <tr>\n",
       "      <th>2</th>\n",
       "      <td>PSCO_BHCE</td>\n",
       "      <td>2024-08-24 02:00:00</td>\n",
       "    </tr>\n",
       "    <tr>\n",
       "      <th>3</th>\n",
       "      <td>PSCO_BHCE</td>\n",
       "      <td>2024-08-24 03:00:00</td>\n",
       "    </tr>\n",
       "    <tr>\n",
       "      <th>4</th>\n",
       "      <td>PSCO_BHCE</td>\n",
       "      <td>2024-08-24 04:00:00</td>\n",
       "    </tr>\n",
       "    <tr>\n",
       "      <th>...</th>\n",
       "      <td>...</td>\n",
       "      <td>...</td>\n",
       "    </tr>\n",
       "    <tr>\n",
       "      <th>427</th>\n",
       "      <td>PSCO_UPIP_UPI</td>\n",
       "      <td>2024-08-25 19:00:00</td>\n",
       "    </tr>\n",
       "    <tr>\n",
       "      <th>428</th>\n",
       "      <td>PSCO_UPIP_UPI</td>\n",
       "      <td>2024-08-25 20:00:00</td>\n",
       "    </tr>\n",
       "    <tr>\n",
       "      <th>429</th>\n",
       "      <td>PSCO_UPIP_UPI</td>\n",
       "      <td>2024-08-25 21:00:00</td>\n",
       "    </tr>\n",
       "    <tr>\n",
       "      <th>430</th>\n",
       "      <td>PSCO_UPIP_UPI</td>\n",
       "      <td>2024-08-25 22:00:00</td>\n",
       "    </tr>\n",
       "    <tr>\n",
       "      <th>431</th>\n",
       "      <td>PSCO_UPIP_UPI</td>\n",
       "      <td>2024-08-25 23:00:00</td>\n",
       "    </tr>\n",
       "  </tbody>\n",
       "</table>\n",
       "<p>432 rows × 2 columns</p>\n",
       "</div>"
      ],
      "text/plain": [
       "         unique_id                  ds\n",
       "0        PSCO_BHCE 2024-08-24 00:00:00\n",
       "1        PSCO_BHCE 2024-08-24 01:00:00\n",
       "2        PSCO_BHCE 2024-08-24 02:00:00\n",
       "3        PSCO_BHCE 2024-08-24 03:00:00\n",
       "4        PSCO_BHCE 2024-08-24 04:00:00\n",
       "..             ...                 ...\n",
       "427  PSCO_UPIP_UPI 2024-08-25 19:00:00\n",
       "428  PSCO_UPIP_UPI 2024-08-25 20:00:00\n",
       "429  PSCO_UPIP_UPI 2024-08-25 21:00:00\n",
       "430  PSCO_UPIP_UPI 2024-08-25 22:00:00\n",
       "431  PSCO_UPIP_UPI 2024-08-25 23:00:00\n",
       "\n",
       "[432 rows x 2 columns]"
      ]
     },
     "execution_count": 193,
     "metadata": {},
     "output_type": "execute_result"
    }
   ],
   "source": [
    "nf.make_future_dataframe()"
   ]
  },
  {
   "cell_type": "code",
   "execution_count": null,
   "id": "98b81a27-f5a8-4a6f-b62d-375a2648022b",
   "metadata": {},
   "outputs": [],
   "source": []
  },
  {
   "cell_type": "code",
   "execution_count": null,
   "id": "3afa8689-bf1b-4406-85f6-091c7ca7015e",
   "metadata": {},
   "outputs": [],
   "source": []
  }
 ],
 "metadata": {
  "kernelspec": {
   "display_name": "spp_weis",
   "language": "python",
   "name": "spp_weis"
  },
  "language_info": {
   "codemirror_mode": {
    "name": "ipython",
    "version": 3
   },
   "file_extension": ".py",
   "mimetype": "text/x-python",
   "name": "python",
   "nbconvert_exporter": "python",
   "pygments_lexer": "ipython3",
   "version": "3.11.9"
  }
 },
 "nbformat": 4,
 "nbformat_minor": 5
}
